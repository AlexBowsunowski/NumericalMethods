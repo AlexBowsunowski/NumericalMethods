{
 "cells": [
  {
   "cell_type": "code",
   "execution_count": 1,
   "id": "cc920d48",
   "metadata": {},
   "outputs": [],
   "source": [
    "import numpy as np\n",
    "import matplotlib.pyplot as plt\n",
    "from mpl_toolkits.mplot3d.axes3d import Axes3D\n",
    "import pandas as pd\n",
    "import functools\n",
    "from typing import Optional, Callable"
   ]
  },
  {
   "cell_type": "markdown",
   "id": "1e1a4223",
   "metadata": {},
   "source": [
    "## СКФ Гаусса"
   ]
  },
  {
   "cell_type": "markdown",
   "id": "e78eac34",
   "metadata": {},
   "source": [
    "## Полином Лежандра"
   ]
  },
  {
   "cell_type": "code",
   "execution_count": 2,
   "id": "f931f5da",
   "metadata": {},
   "outputs": [],
   "source": [
    "@functools.lru_cache(maxsize=None)\n",
    "def legendre_polynom(\n",
    "    arg: float,\n",
    "    n: int\n",
    "    ) -> float:\n",
    "    \n",
    "    if n == 0:\n",
    "        return 1\n",
    "    if n == 1:\n",
    "        return arg\n",
    "    \n",
    "    return (2*n-1)/n * legendre_polynom(arg, n-1)*arg - (n-1)/n * legendre_polynom(arg, n-2)"
   ]
  },
  {
   "cell_type": "code",
   "execution_count": 3,
   "id": "5dd4e847",
   "metadata": {},
   "outputs": [],
   "source": [
    "def firstderiv_legendre_polynom(\n",
    "    arg: float,\n",
    "    n: int\n",
    "    ) -> float:\n",
    "    \n",
    "    if n == 0:\n",
    "        return 0\n",
    "    if n == 1:\n",
    "        return 1\n",
    "    \n",
    "    return n / (1 - arg*arg) * (legendre_polynom(arg, n - 1) - arg * legendre_polynom(arg, n))"
   ]
  },
  {
   "cell_type": "code",
   "execution_count": 4,
   "id": "fd4be94b",
   "metadata": {},
   "outputs": [],
   "source": [
    "def secondderiv_legendre_polynom(\n",
    "    arg: float,\n",
    "    n: int\n",
    "    ) -> float:\n",
    "    \n",
    "    if n == 0 and n == 1:\n",
    "        return 0\n",
    "    \n",
    "    return 2*n*arg/((1 -arg*arg)*(1-arg*arg)) \\\n",
    "         *(legendre_polynom(arg, n - 1) \\\n",
    "         -arg * legendre_polynom(arg, n)) \\\n",
    "         +n / (1 - arg*arg) * (firstderiv_legendre_polynom(arg, n-1) \\\n",
    "         -legendre_polynom(arg, n) - arg*firstderiv_legendre_polynom(arg, n))"
   ]
  },
  {
   "cell_type": "code",
   "execution_count": 5,
   "id": "ec602fce",
   "metadata": {},
   "outputs": [],
   "source": [
    "def gauss_coefficient(\n",
    "    nodes: np.ndarray,\n",
    "    legendre_polynom: Optional[Callable],\n",
    "    n: int\n",
    "    ) -> np.ndarray:\n",
    "    \n",
    "    A = []\n",
    "    \n",
    "    for node in nodes:\n",
    "        P = legendre_polynom(node, n-1)\n",
    "        coef = 2*(1-node*node) / (n*n*P*P)\n",
    "        A.append((node, coef))\n",
    "    return np.array(A)"
   ]
  },
  {
   "cell_type": "code",
   "execution_count": 6,
   "id": "779978ce",
   "metadata": {},
   "outputs": [],
   "source": [
    "def separation_method(\n",
    "    getFunc: Optional[Callable],\n",
    "    N_nodes: int,\n",
    "    left: float,\n",
    "    right: float,\n",
    "    N=1000\n",
    "    ) -> np.ndarray:\n",
    "\n",
    "    ans = []\n",
    "    \n",
    "    t = (right - left) / N\n",
    "    x1 = left\n",
    "    x2 = left + t \n",
    "    y1 = 0\n",
    "    y2 = 0\n",
    "    counter = 0\n",
    "    while (x2 <= right):\n",
    "        y1 = getFunc(x1, N_nodes)\n",
    "        y2 = getFunc(x2, N_nodes)\n",
    "        if (y1 * y2 <= 0):\n",
    "            pair = (x1, x2)\n",
    "            ans.append(pair)\n",
    "            counter+=1\n",
    "        x1 = x2\n",
    "        x2 += t\n",
    "    \n",
    "    return ans"
   ]
  },
  {
   "cell_type": "code",
   "execution_count": 7,
   "id": "01928a23",
   "metadata": {},
   "outputs": [],
   "source": [
    "def secant_method(\n",
    "    getFunc: Optional[Callable],\n",
    "    N: int,\n",
    "    lBound: float,\n",
    "    rBound: float,\n",
    "    epsilon: float\n",
    "    ):\n",
    "    if (getFunc(lBound, N) < epsilon):\n",
    "        return lBound\n",
    "    if (getFunc(rBound, N) < epsilon):\n",
    "        return rBound\n",
    "    \n",
    "    prevSol = lBound + np.random.rand() * (rBound - lBound)\n",
    "    while (secondderiv_legendre_polynom(prevSol, N) * getFunc(prevSol, N) <= 0):\n",
    "         prevSol = lBound + np.random.rand() * (rBound - lBound)\n",
    "    \n",
    "    currSol = lBound + np.random.rand() * (rBound - lBound)\n",
    "    nextSol = currSol - (getFunc(currSol, N) * (currSol - prevSol)\n",
    "                         / (getFunc(currSol, N) - getFunc(prevSol, N)))\n",
    "    \n",
    "    step = 0\n",
    "    while(np.abs(currSol - prevSol) >= epsilon):\n",
    "        prevSol = currSol\n",
    "        currSol = nextSol\n",
    "        nextSol = currSol - (getFunc(currSol, N) * (currSol - prevSol)\n",
    "                         / (getFunc(currSol, N) - getFunc(prevSol, N)))\n",
    "        step += 1\n",
    "    return currSol"
   ]
  },
  {
   "cell_type": "code",
   "execution_count": 8,
   "id": "eb50f47c",
   "metadata": {},
   "outputs": [],
   "source": [
    "def get_coefficient(\n",
    "    N: int,\n",
    "    left: float,\n",
    "    right: float,\n",
    "    epsilon=1e-12\n",
    "    ) -> np.ndarray:\n",
    "    segments = separation_method(legendre_polynom, N, left, right)\n",
    "    nodes = []\n",
    "    for l, r in segments:\n",
    "        nodes.append(secant_method(legendre_polynom, N, l, r, epsilon))\n",
    "    nodes = np.array(nodes)\n",
    "    return gauss_coefficient(nodes, legendre_polynom, N)"
   ]
  },
  {
   "cell_type": "code",
   "execution_count": 9,
   "id": "20e764a0",
   "metadata": {},
   "outputs": [],
   "source": [
    "def partition(left: float,\n",
    "              right: float,\n",
    "              m: int) -> np.array:\n",
    "    h = (right - left) / m\n",
    "    segments = [] \n",
    "    for n in range(m):\n",
    "        segments.append((left + n*h, left + (n + 1)*h))\n",
    "    return np.array(segments)"
   ]
  },
  {
   "cell_type": "code",
   "execution_count": 10,
   "id": "8ed888c5",
   "metadata": {},
   "outputs": [],
   "source": [
    "def compute_integral(\n",
    "    nodes_cf: np.array,\n",
    "    left: float,\n",
    "    right: float,\n",
    "    func: Callable,\n",
    "    p: Callable\n",
    "    ) -> float:\n",
    "    integral = 0\n",
    "    for node, cf in nodes_cf:\n",
    "        arg = (left + right)/2 + (right - left)/2 * node\n",
    "        integral += cf*p(arg)*func(arg)\n",
    "    integral *= (right - left)/2\n",
    "    return integral"
   ]
  },
  {
   "cell_type": "code",
   "execution_count": 11,
   "id": "9585fd2e",
   "metadata": {},
   "outputs": [],
   "source": [
    "def compoud(func: Callable,\n",
    "            p: Callable,\n",
    "            left: float,\n",
    "            right: float,\n",
    "            m: int,\n",
    "            N: int) -> float:\n",
    "    segments = partition(left, right, m)\n",
    "    integral = 0\n",
    "    nodes_cf = get_coefficient(N, -1, 1)\n",
    "    for l, r in segments:\n",
    "        int_lr = compute_integral(nodes_cf, l, r, func, p)\n",
    "        integral += int_lr\n",
    "    return integral"
   ]
  },
  {
   "cell_type": "markdown",
   "id": "f94d1994",
   "metadata": {},
   "source": [
    "### Вариант 2"
   ]
  },
  {
   "cell_type": "markdown",
   "id": "a8d7a7c7",
   "metadata": {},
   "source": [
    "### $p(x) = x^{1/4}$"
   ]
  },
  {
   "cell_type": "code",
   "execution_count": 12,
   "id": "9522f01f",
   "metadata": {},
   "outputs": [],
   "source": [
    "def p(arg: float) -> float:\n",
    "    return np.sqrt(np.sqrt(arg))"
   ]
  },
  {
   "cell_type": "markdown",
   "id": "ddd6130c",
   "metadata": {},
   "source": [
    "### $f(x) = sin(x)$"
   ]
  },
  {
   "cell_type": "code",
   "execution_count": 13,
   "id": "251897e5",
   "metadata": {},
   "outputs": [],
   "source": [
    "def func(arg: float) -> float:\n",
    "    return np.sin(arg)"
   ]
  },
  {
   "cell_type": "markdown",
   "id": "3460f7d4",
   "metadata": {},
   "source": [
    "### $\\int\\limits_0^1 x^{1/4}sin(x)dx = 0.406538308297265$"
   ]
  },
  {
   "cell_type": "code",
   "execution_count": 14,
   "id": "1449017a",
   "metadata": {},
   "outputs": [],
   "source": [
    "I = 0.406_538_308_297_265"
   ]
  },
  {
   "cell_type": "code",
   "execution_count": 15,
   "id": "ba5df67f",
   "metadata": {},
   "outputs": [
    {
     "name": "stdout",
     "output_type": "stream",
     "text": [
      "8 \n",
      "10000\n",
      "0 1\n"
     ]
    }
   ],
   "source": [
    "N = int(input())\n",
    "m = int(input())\n",
    "left, right = map(int, input().split())"
   ]
  },
  {
   "cell_type": "code",
   "execution_count": 16,
   "id": "81b016af",
   "metadata": {},
   "outputs": [
    {
     "name": "stdout",
     "output_type": "stream",
     "text": [
      "value = 0.40707700338390546\n",
      "true value = 0.406538308297265\n",
      "error = 0.0005386950866404505\n"
     ]
    }
   ],
   "source": [
    "value = compoud(func, p, left, right, m, N)\n",
    "error = np.abs(value - I)\n",
    "print(f\"value = {value}\")\n",
    "print(f\"true value = {I}\")\n",
    "print(f\"error = {error}\")"
   ]
  },
  {
   "cell_type": "code",
   "execution_count": 17,
   "id": "a1e09ca3",
   "metadata": {},
   "outputs": [
    {
     "data": {
      "image/png": "[encoded data removed]",
      "text/plain": [
       "<Figure size 576x576 with 1 Axes>"
      ]
     },
     "metadata": {
      "needs_background": "light"
     },
     "output_type": "display_data"
    }
   ],
   "source": [
    "fig, ax = plt.subplots(figsize=(8, 8))\n",
    "x = np.linspace(left, right, 10000)\n",
    "ax.plot(x, p(x)*func(x), lw=2)\n",
    "ax.fill_between(x, p(x)*func(x), color='green', alpha=0.5)\n",
    "ax.set_xlabel(\"x\", fontsize=18)\n",
    "ax.set_ylabel(\" p(x)f(x)\", fontsize=18)\n",
    "ax.set_ylim(0, 5)\n",
    "plt.show()"
   ]
  },
  {
   "cell_type": "code",
   "execution_count": 18,
   "id": "1441370d",
   "metadata": {},
   "outputs": [],
   "source": [
    "N = np.array([2, 4, 5, 6, 7, 8, 9, 10])\n",
    "m = np.array([5, 10, 100, 1000, 10000])\n",
    "array_values = []\n",
    "array_errors = []\n",
    "for N_ in N:\n",
    "    array = []\n",
    "    array1 = []\n",
    "    for m_ in m:\n",
    "        value = compoud(func, p, left, right, m_, N_)\n",
    "        error = np.abs(value - I)\n",
    "        array.append(value)\n",
    "        array1.append(error)\n",
    "    array_values.append(array)\n",
    "    array_errors.append(array1)"
   ]
  },
  {
   "cell_type": "code",
   "execution_count": 19,
   "id": "c7514722",
   "metadata": {},
   "outputs": [],
   "source": [
    "df1 = pd.DataFrame(np.array(array_values),\n",
    "                  columns=m,\n",
    "                  index=N)\n",
    "df1.name = \"Values\""
   ]
  },
  {
   "cell_type": "code",
   "execution_count": 20,
   "id": "e0971692",
   "metadata": {},
   "outputs": [],
   "source": [
    "df2 = pd.DataFrame(np.array(array_errors),\n",
    "                  columns=m,\n",
    "                  index=N)\n",
    "df2.name = \"Errors\""
   ]
  },
  {
   "cell_type": "code",
   "execution_count": 21,
   "id": "43284240",
   "metadata": {},
   "outputs": [
    {
     "name": "stdout",
     "output_type": "stream",
     "text": [
      "Values\n"
     ]
    },
    {
     "data": {
      "text/html": [
       "<div>\n",
       "<style scoped>\n",
       "    .dataframe tbody tr th:only-of-type {\n",
       "        vertical-align: middle;\n",
       "    }\n",
       "\n",
       "    .dataframe tbody tr th {\n",
       "        vertical-align: top;\n",
       "    }\n",
       "\n",
       "    .dataframe thead th {\n",
       "        text-align: right;\n",
       "    }\n",
       "</style>\n",
       "<table border=\"1\" class=\"dataframe\">\n",
       "  <thead>\n",
       "    <tr style=\"text-align: right;\">\n",
       "      <th></th>\n",
       "      <th>5</th>\n",
       "      <th>10</th>\n",
       "      <th>100</th>\n",
       "      <th>1000</th>\n",
       "      <th>10000</th>\n",
       "    </tr>\n",
       "  </thead>\n",
       "  <tbody>\n",
       "    <tr>\n",
       "      <th>2</th>\n",
       "      <td>0.409365</td>\n",
       "      <td>0.409393</td>\n",
       "      <td>0.409401</td>\n",
       "      <td>0.409401</td>\n",
       "      <td>0.409401</td>\n",
       "    </tr>\n",
       "    <tr>\n",
       "      <th>4</th>\n",
       "      <td>0.412002</td>\n",
       "      <td>0.411999</td>\n",
       "      <td>0.411997</td>\n",
       "      <td>0.411997</td>\n",
       "      <td>0.411997</td>\n",
       "    </tr>\n",
       "    <tr>\n",
       "      <th>5</th>\n",
       "      <td>0.401978</td>\n",
       "      <td>0.401576</td>\n",
       "      <td>0.401212</td>\n",
       "      <td>0.401176</td>\n",
       "      <td>0.401172</td>\n",
       "    </tr>\n",
       "    <tr>\n",
       "      <th>6</th>\n",
       "      <td>0.408448</td>\n",
       "      <td>0.408444</td>\n",
       "      <td>0.408442</td>\n",
       "      <td>0.408442</td>\n",
       "      <td>0.408442</td>\n",
       "    </tr>\n",
       "    <tr>\n",
       "      <th>7</th>\n",
       "      <td>0.412206</td>\n",
       "      <td>0.411580</td>\n",
       "      <td>0.411019</td>\n",
       "      <td>0.410963</td>\n",
       "      <td>0.410957</td>\n",
       "    </tr>\n",
       "    <tr>\n",
       "      <th>8</th>\n",
       "      <td>0.407078</td>\n",
       "      <td>0.407077</td>\n",
       "      <td>0.407077</td>\n",
       "      <td>0.407077</td>\n",
       "      <td>0.407077</td>\n",
       "    </tr>\n",
       "    <tr>\n",
       "      <th>9</th>\n",
       "      <td>0.398217</td>\n",
       "      <td>0.397702</td>\n",
       "      <td>0.397232</td>\n",
       "      <td>0.397185</td>\n",
       "      <td>0.397180</td>\n",
       "    </tr>\n",
       "    <tr>\n",
       "      <th>10</th>\n",
       "      <td>0.447582</td>\n",
       "      <td>0.447510</td>\n",
       "      <td>0.447480</td>\n",
       "      <td>0.447479</td>\n",
       "      <td>0.447479</td>\n",
       "    </tr>\n",
       "  </tbody>\n",
       "</table>\n",
       "</div>"
      ],
      "text/plain": [
       "       5         10        100       1000      10000\n",
       "2   0.409365  0.409393  0.409401  0.409401  0.409401\n",
       "4   0.412002  0.411999  0.411997  0.411997  0.411997\n",
       "5   0.401978  0.401576  0.401212  0.401176  0.401172\n",
       "6   0.408448  0.408444  0.408442  0.408442  0.408442\n",
       "7   0.412206  0.411580  0.411019  0.410963  0.410957\n",
       "8   0.407078  0.407077  0.407077  0.407077  0.407077\n",
       "9   0.398217  0.397702  0.397232  0.397185  0.397180\n",
       "10  0.447582  0.447510  0.447480  0.447479  0.447479"
      ]
     },
     "execution_count": 21,
     "metadata": {},
     "output_type": "execute_result"
    }
   ],
   "source": [
    "print(df1.name)\n",
    "df1"
   ]
  },
  {
   "cell_type": "code",
   "execution_count": 22,
   "id": "9351a2bb",
   "metadata": {},
   "outputs": [
    {
     "name": "stdout",
     "output_type": "stream",
     "text": [
      "Errors\n"
     ]
    },
    {
     "data": {
      "text/html": [
       "<div>\n",
       "<style scoped>\n",
       "    .dataframe tbody tr th:only-of-type {\n",
       "        vertical-align: middle;\n",
       "    }\n",
       "\n",
       "    .dataframe tbody tr th {\n",
       "        vertical-align: top;\n",
       "    }\n",
       "\n",
       "    .dataframe thead th {\n",
       "        text-align: right;\n",
       "    }\n",
       "</style>\n",
       "<table border=\"1\" class=\"dataframe\">\n",
       "  <thead>\n",
       "    <tr style=\"text-align: right;\">\n",
       "      <th></th>\n",
       "      <th>5</th>\n",
       "      <th>10</th>\n",
       "      <th>100</th>\n",
       "      <th>1000</th>\n",
       "      <th>10000</th>\n",
       "    </tr>\n",
       "  </thead>\n",
       "  <tbody>\n",
       "    <tr>\n",
       "      <th>2</th>\n",
       "      <td>0.002827</td>\n",
       "      <td>0.002855</td>\n",
       "      <td>0.002862</td>\n",
       "      <td>0.002862</td>\n",
       "      <td>0.002862</td>\n",
       "    </tr>\n",
       "    <tr>\n",
       "      <th>4</th>\n",
       "      <td>0.005464</td>\n",
       "      <td>0.005460</td>\n",
       "      <td>0.005459</td>\n",
       "      <td>0.005459</td>\n",
       "      <td>0.005459</td>\n",
       "    </tr>\n",
       "    <tr>\n",
       "      <th>5</th>\n",
       "      <td>0.004561</td>\n",
       "      <td>0.004962</td>\n",
       "      <td>0.005326</td>\n",
       "      <td>0.005363</td>\n",
       "      <td>0.005366</td>\n",
       "    </tr>\n",
       "    <tr>\n",
       "      <th>6</th>\n",
       "      <td>0.001910</td>\n",
       "      <td>0.001906</td>\n",
       "      <td>0.001904</td>\n",
       "      <td>0.001904</td>\n",
       "      <td>0.001904</td>\n",
       "    </tr>\n",
       "    <tr>\n",
       "      <th>7</th>\n",
       "      <td>0.005667</td>\n",
       "      <td>0.005042</td>\n",
       "      <td>0.004481</td>\n",
       "      <td>0.004425</td>\n",
       "      <td>0.004419</td>\n",
       "    </tr>\n",
       "    <tr>\n",
       "      <th>8</th>\n",
       "      <td>0.000540</td>\n",
       "      <td>0.000539</td>\n",
       "      <td>0.000539</td>\n",
       "      <td>0.000539</td>\n",
       "      <td>0.000539</td>\n",
       "    </tr>\n",
       "    <tr>\n",
       "      <th>9</th>\n",
       "      <td>0.008321</td>\n",
       "      <td>0.008836</td>\n",
       "      <td>0.009306</td>\n",
       "      <td>0.009354</td>\n",
       "      <td>0.009358</td>\n",
       "    </tr>\n",
       "    <tr>\n",
       "      <th>10</th>\n",
       "      <td>0.041043</td>\n",
       "      <td>0.040972</td>\n",
       "      <td>0.040942</td>\n",
       "      <td>0.040941</td>\n",
       "      <td>0.040941</td>\n",
       "    </tr>\n",
       "  </tbody>\n",
       "</table>\n",
       "</div>"
      ],
      "text/plain": [
       "       5         10        100       1000      10000\n",
       "2   0.002827  0.002855  0.002862  0.002862  0.002862\n",
       "4   0.005464  0.005460  0.005459  0.005459  0.005459\n",
       "5   0.004561  0.004962  0.005326  0.005363  0.005366\n",
       "6   0.001910  0.001906  0.001904  0.001904  0.001904\n",
       "7   0.005667  0.005042  0.004481  0.004425  0.004419\n",
       "8   0.000540  0.000539  0.000539  0.000539  0.000539\n",
       "9   0.008321  0.008836  0.009306  0.009354  0.009358\n",
       "10  0.041043  0.040972  0.040942  0.040941  0.040941"
      ]
     },
     "execution_count": 22,
     "metadata": {},
     "output_type": "execute_result"
    }
   ],
   "source": [
    "print(df2.name)\n",
    "df2"
   ]
  },
  {
   "cell_type": "code",
   "execution_count": 23,
   "id": "8fc4fb3f",
   "metadata": {},
   "outputs": [
    {
     "data": {
      "text/plain": [
       "<AxesSubplot:title={'center':'Error by N'}, xlabel='N', ylabel='Error'>"
      ]
     },
     "execution_count": 23,
     "metadata": {},
     "output_type": "execute_result"
    },
    {
     "data": {
      "image/png": "[encoded data removed]",
      "text/plain": [
       "<Figure size 720x720 with 1 Axes>"
      ]
     },
     "metadata": {
      "needs_background": "light"
     },
     "output_type": "display_data"
    }
   ],
   "source": [
    "df2.plot(title=\"Error by N\", xlabel=\"N\", ylabel=\"Error\", figsize=(10,10))"
   ]
  },
  {
   "cell_type": "code",
   "execution_count": 24,
   "id": "84bacd54",
   "metadata": {},
   "outputs": [
    {
     "data": {
      "text/plain": [
       "10000"
      ]
     },
     "execution_count": 24,
     "metadata": {},
     "output_type": "execute_result"
    }
   ],
   "source": [
    "minindex = np.argmin(np.array(df2[5:6]))\n",
    "m[minindex]"
   ]
  },
  {
   "cell_type": "markdown",
   "id": "5dfdf1d4",
   "metadata": {},
   "source": [
    "## КФНАСТ"
   ]
  },
  {
   "cell_type": "markdown",
   "id": "993ab56c",
   "metadata": {},
   "source": [
    "### $p(x) = x^{1/4}$"
   ]
  },
  {
   "cell_type": "markdown",
   "id": "ee3285e3",
   "metadata": {},
   "source": [
    "### $f(x) = sin(x)$"
   ]
  },
  {
   "cell_type": "code",
   "execution_count": 25,
   "id": "e0470216",
   "metadata": {},
   "outputs": [
    {
     "name": "stdout",
     "output_type": "stream",
     "text": [
      "8\n"
     ]
    }
   ],
   "source": [
    "N1 = int(input())"
   ]
  },
  {
   "cell_type": "markdown",
   "id": "e65eaebc",
   "metadata": {},
   "source": [
    "### Найдем моменты"
   ]
  },
  {
   "cell_type": "code",
   "execution_count": 26,
   "id": "10cdf8bf",
   "metadata": {},
   "outputs": [],
   "source": [
    "def moment(p: Callable,\n",
    "           k: int,\n",
    "           left: float,\n",
    "           right: float) -> float:\n",
    "    s = 1/4 + k\n",
    "    I = lambda x: x**(s+1)/(s+1)\n",
    "    return I(right) - I(left)"
   ]
  },
  {
   "cell_type": "code",
   "execution_count": 27,
   "id": "e4c4c42c",
   "metadata": {},
   "outputs": [],
   "source": [
    "mu = []\n",
    "for k in range(2*N1):\n",
    "    mu.append(moment(p, k, left, right))"
   ]
  },
  {
   "cell_type": "code",
   "execution_count": 28,
   "id": "71dd3962",
   "metadata": {},
   "outputs": [
    {
     "data": {
      "text/plain": [
       "[0.8,\n",
       " 0.4444444444444444,\n",
       " 0.3076923076923077,\n",
       " 0.23529411764705882,\n",
       " 0.19047619047619047,\n",
       " 0.16,\n",
       " 0.13793103448275862,\n",
       " 0.12121212121212122,\n",
       " 0.10810810810810811,\n",
       " 0.0975609756097561,\n",
       " 0.08888888888888889,\n",
       " 0.08163265306122448,\n",
       " 0.07547169811320754,\n",
       " 0.07017543859649122,\n",
       " 0.06557377049180328,\n",
       " 0.06153846153846154]"
      ]
     },
     "execution_count": 28,
     "metadata": {},
     "output_type": "execute_result"
    }
   ],
   "source": [
    "mu"
   ]
  },
  {
   "cell_type": "code",
   "execution_count": 29,
   "id": "741c2bbd",
   "metadata": {},
   "outputs": [],
   "source": [
    "from scipy.linalg import solve"
   ]
  },
  {
   "cell_type": "code",
   "execution_count": 30,
   "id": "d47a5db0",
   "metadata": {},
   "outputs": [],
   "source": [
    "A = []\n",
    "for n in range(N1-1, 2*N1 - 1):\n",
    "    a = mu[n - N1 + 1:n + 1]\n",
    "    a.reverse()\n",
    "    A.append(a)"
   ]
  },
  {
   "cell_type": "code",
   "execution_count": 31,
   "id": "eb53e864",
   "metadata": {},
   "outputs": [],
   "source": [
    "A = np.array(A)"
   ]
  },
  {
   "cell_type": "markdown",
   "id": "105ed499",
   "metadata": {},
   "source": [
    "### Решаем алгебраическое уравнение вида Ax=b"
   ]
  },
  {
   "cell_type": "markdown",
   "id": "0a80e5c9",
   "metadata": {},
   "source": [
    "### где $A \\in R^{N\\times N}$ и $b \\in R^{N}$"
   ]
  },
  {
   "cell_type": "code",
   "execution_count": 32,
   "id": "bf718018",
   "metadata": {},
   "outputs": [
    {
     "data": {
      "text/plain": [
       "array([[0.12121212, 0.13793103, 0.16      , 0.19047619, 0.23529412,\n",
       "        0.30769231, 0.44444444, 0.8       ],\n",
       "       [0.10810811, 0.12121212, 0.13793103, 0.16      , 0.19047619,\n",
       "        0.23529412, 0.30769231, 0.44444444],\n",
       "       [0.09756098, 0.10810811, 0.12121212, 0.13793103, 0.16      ,\n",
       "        0.19047619, 0.23529412, 0.30769231],\n",
       "       [0.08888889, 0.09756098, 0.10810811, 0.12121212, 0.13793103,\n",
       "        0.16      , 0.19047619, 0.23529412],\n",
       "       [0.08163265, 0.08888889, 0.09756098, 0.10810811, 0.12121212,\n",
       "        0.13793103, 0.16      , 0.19047619],\n",
       "       [0.0754717 , 0.08163265, 0.08888889, 0.09756098, 0.10810811,\n",
       "        0.12121212, 0.13793103, 0.16      ],\n",
       "       [0.07017544, 0.0754717 , 0.08163265, 0.08888889, 0.09756098,\n",
       "        0.10810811, 0.12121212, 0.13793103],\n",
       "       [0.06557377, 0.07017544, 0.0754717 , 0.08163265, 0.08888889,\n",
       "        0.09756098, 0.10810811, 0.12121212]])"
      ]
     },
     "execution_count": 32,
     "metadata": {},
     "output_type": "execute_result"
    }
   ],
   "source": [
    "A"
   ]
  },
  {
   "cell_type": "code",
   "execution_count": 33,
   "id": "f4bbb2d9",
   "metadata": {},
   "outputs": [],
   "source": [
    "b = []\n",
    "for i in range(N1, 2*N1):\n",
    "    b.append(-mu[i])"
   ]
  },
  {
   "cell_type": "code",
   "execution_count": 34,
   "id": "2167315d",
   "metadata": {},
   "outputs": [],
   "source": [
    "b = np.array(b)"
   ]
  },
  {
   "cell_type": "code",
   "execution_count": 35,
   "id": "03720a99",
   "metadata": {},
   "outputs": [],
   "source": [
    "b = b.reshape((N1,1))"
   ]
  },
  {
   "cell_type": "code",
   "execution_count": 36,
   "id": "2abb5207",
   "metadata": {},
   "outputs": [
    {
     "data": {
      "text/plain": [
       "array([[-0.10810811],\n",
       "       [-0.09756098],\n",
       "       [-0.08888889],\n",
       "       [-0.08163265],\n",
       "       [-0.0754717 ],\n",
       "       [-0.07017544],\n",
       "       [-0.06557377],\n",
       "       [-0.06153846]])"
      ]
     },
     "execution_count": 36,
     "metadata": {},
     "output_type": "execute_result"
    }
   ],
   "source": [
    "b"
   ]
  },
  {
   "cell_type": "markdown",
   "id": "c6c3555e",
   "metadata": {},
   "source": [
    "### Решаем уравнение"
   ]
  },
  {
   "cell_type": "code",
   "execution_count": 37,
   "id": "aafbff91",
   "metadata": {},
   "outputs": [],
   "source": [
    "a = solve(A, b)"
   ]
  },
  {
   "cell_type": "markdown",
   "id": "7536731c",
   "metadata": {},
   "source": [
    "### И получаем"
   ]
  },
  {
   "cell_type": "code",
   "execution_count": 38,
   "id": "2e0cd030",
   "metadata": {},
   "outputs": [
    {
     "data": {
      "text/plain": [
       "array([[-4.06153840e+00],\n",
       "       [ 6.75813346e+00],\n",
       "       [-5.92818713e+00],\n",
       "       [ 2.93613035e+00],\n",
       "       [-8.14925952e-01],\n",
       "       [ 1.17711522e-01],\n",
       "       [-7.38260388e-03],\n",
       "       [ 1.24706140e-04]])"
      ]
     },
     "execution_count": 38,
     "metadata": {},
     "output_type": "execute_result"
    }
   ],
   "source": [
    "a"
   ]
  },
  {
   "cell_type": "markdown",
   "id": "58551c89",
   "metadata": {},
   "source": [
    "### Транспонируем"
   ]
  },
  {
   "cell_type": "code",
   "execution_count": 39,
   "id": "e57f8c87",
   "metadata": {},
   "outputs": [],
   "source": [
    "a = a.reshape((1, N1))"
   ]
  },
  {
   "cell_type": "code",
   "execution_count": 40,
   "id": "58245136",
   "metadata": {},
   "outputs": [
    {
     "data": {
      "text/plain": [
       "array([[-4.06153840e+00,  6.75813346e+00, -5.92818713e+00,\n",
       "         2.93613035e+00, -8.14925952e-01,  1.17711522e-01,\n",
       "        -7.38260388e-03,  1.24706140e-04]])"
      ]
     },
     "execution_count": 40,
     "metadata": {},
     "output_type": "execute_result"
    }
   ],
   "source": [
    "a"
   ]
  },
  {
   "cell_type": "markdown",
   "id": "855853cf",
   "metadata": {},
   "source": [
    "### Найдем корни многочлена вида $x^N + a_1x^{N-1} + ... + a_{N-1}$"
   ]
  },
  {
   "cell_type": "code",
   "execution_count": 41,
   "id": "31941480",
   "metadata": {},
   "outputs": [],
   "source": [
    "a = np.append([1], a)"
   ]
  },
  {
   "cell_type": "code",
   "execution_count": 42,
   "id": "d842c208",
   "metadata": {},
   "outputs": [],
   "source": [
    "x = np.roots(a)"
   ]
  },
  {
   "cell_type": "markdown",
   "id": "5fde7855",
   "metadata": {},
   "source": [
    "### И получили корни"
   ]
  },
  {
   "cell_type": "code",
   "execution_count": 43,
   "id": "ffa08efc",
   "metadata": {},
   "outputs": [
    {
     "data": {
      "text/plain": [
       "array([0.98070789, 0.90113422, 0.76895363, 0.60147534, 0.42066988,\n",
       "       0.2502593 , 0.11260051, 0.02573764])"
      ]
     },
     "execution_count": 43,
     "metadata": {},
     "output_type": "execute_result"
    }
   ],
   "source": [
    "x"
   ]
  },
  {
   "cell_type": "code",
   "execution_count": 44,
   "id": "b2be4293",
   "metadata": {},
   "outputs": [],
   "source": [
    "def polynom(arg: float, coefs: np.array, N: int) -> float:\n",
    "    pol = 0\n",
    "    for (st, coef) in enumerate(coefs):\n",
    "        pol += coef * arg**(N-st)\n",
    "    return pol"
   ]
  },
  {
   "cell_type": "markdown",
   "id": "7933e6f7",
   "metadata": {},
   "source": [
    "### Посмотрим на максимальную погрешность корня"
   ]
  },
  {
   "cell_type": "code",
   "execution_count": 45,
   "id": "af5edc5a",
   "metadata": {},
   "outputs": [],
   "source": [
    "max_error = np.abs(polynom(x[0], a, N1))\n",
    "for i in x:\n",
    "    max_error = max(max_error, np.abs(polynom(i, a, N1)))"
   ]
  },
  {
   "cell_type": "code",
   "execution_count": 46,
   "id": "61b2c7f3",
   "metadata": {},
   "outputs": [
    {
     "data": {
      "text/plain": [
       "2.5495014085996637e-16"
      ]
     },
     "execution_count": 46,
     "metadata": {},
     "output_type": "execute_result"
    }
   ],
   "source": [
    "max_error"
   ]
  },
  {
   "cell_type": "markdown",
   "id": "6a3b4f52",
   "metadata": {},
   "source": [
    "### Найдем коэффициенты, решив алгебраическое уравнение вида $Ax=b$"
   ]
  },
  {
   "cell_type": "markdown",
   "id": "cb2e4f5e",
   "metadata": {},
   "source": [
    "### Составим матрицу A"
   ]
  },
  {
   "cell_type": "code",
   "execution_count": 47,
   "id": "50dfaf8f",
   "metadata": {},
   "outputs": [],
   "source": [
    "A1 = []\n",
    "for s in range(N1):\n",
    "    A1.append(x**s)\n",
    "A1 = np.array(A1)"
   ]
  },
  {
   "cell_type": "code",
   "execution_count": 48,
   "id": "fca4f6ed",
   "metadata": {},
   "outputs": [
    {
     "data": {
      "text/plain": [
       "array([[1.00000000e+00, 1.00000000e+00, 1.00000000e+00, 1.00000000e+00,\n",
       "        1.00000000e+00, 1.00000000e+00, 1.00000000e+00, 1.00000000e+00],\n",
       "       [9.80707886e-01, 9.01134225e-01, 7.68953627e-01, 6.01475343e-01,\n",
       "        4.20669880e-01, 2.50259296e-01, 1.12600506e-01, 2.57376403e-02],\n",
       "       [9.61787958e-01, 8.12042891e-01, 5.91289680e-01, 3.61772588e-01,\n",
       "        1.76963148e-01, 6.26297155e-02, 1.26788739e-02, 6.62426130e-04],\n",
       "       [9.43233035e-01, 7.31759641e-01, 4.54674344e-01, 2.17597292e-01,\n",
       "        7.44430665e-02, 1.56736685e-02, 1.42764761e-03, 1.70492855e-05],\n",
       "       [9.25036076e-01, 6.59413656e-01, 3.49623486e-01, 1.30879406e-01,\n",
       "        3.13159559e-02, 3.92248126e-03, 1.60753843e-04, 4.38808377e-07],\n",
       "       [9.07190174e-01, 5.94220214e-01, 2.68844247e-01, 7.87207355e-02,\n",
       "        1.31736794e-02, 9.81637400e-04, 1.81009640e-05, 1.12938922e-08],\n",
       "       [8.89688558e-01, 5.35472172e-01, 2.06728759e-01, 4.73485814e-02,\n",
       "        5.54177014e-03, 2.45663885e-04, 2.03817770e-06, 2.90678135e-10],\n",
       "       [8.72524585e-01, 4.82532300e-01, 1.58964829e-01, 2.84790042e-02,\n",
       "        2.33125578e-03, 6.14796710e-05, 2.29499839e-07, 7.48136929e-12]])"
      ]
     },
     "execution_count": 48,
     "metadata": {},
     "output_type": "execute_result"
    }
   ],
   "source": [
    "A1"
   ]
  },
  {
   "cell_type": "code",
   "execution_count": 49,
   "id": "65c7c9c4",
   "metadata": {},
   "outputs": [],
   "source": [
    "b1 = []\n",
    "for i in range(N1):\n",
    "    b1.append(mu[i])\n",
    "b1 = np.array(b1)"
   ]
  },
  {
   "cell_type": "code",
   "execution_count": 50,
   "id": "51bdc68d",
   "metadata": {},
   "outputs": [
    {
     "data": {
      "text/plain": [
       "array([0.8       , 0.44444444, 0.30769231, 0.23529412, 0.19047619,\n",
       "       0.16      , 0.13793103, 0.12121212])"
      ]
     },
     "execution_count": 50,
     "metadata": {},
     "output_type": "execute_result"
    }
   ],
   "source": [
    "b1"
   ]
  },
  {
   "cell_type": "code",
   "execution_count": 51,
   "id": "d8aa74f4",
   "metadata": {},
   "outputs": [],
   "source": [
    "a1 = solve(A1, b1)"
   ]
  },
  {
   "cell_type": "code",
   "execution_count": 52,
   "id": "d4594098",
   "metadata": {},
   "outputs": [],
   "source": [
    "coef = a1"
   ]
  },
  {
   "cell_type": "code",
   "execution_count": 53,
   "id": "29890353",
   "metadata": {},
   "outputs": [
    {
     "data": {
      "text/plain": [
       "array([0.04894973, 0.10546136, 0.1434545 , 0.15680241, 0.14460223,\n",
       "       0.11139347, 0.06648656, 0.02284973])"
      ]
     },
     "execution_count": 53,
     "metadata": {},
     "output_type": "execute_result"
    }
   ],
   "source": [
    "coef"
   ]
  },
  {
   "cell_type": "markdown",
   "id": "f874b66e",
   "metadata": {},
   "source": [
    "### Сделаем проверку на многочлене $f(x) = x^{N + 1}$"
   ]
  },
  {
   "cell_type": "code",
   "execution_count": 54,
   "id": "564e2755",
   "metadata": {},
   "outputs": [],
   "source": [
    "def checkf(arg: float) -> float:\n",
    "    global N1\n",
    "    return arg**(2 * N1 - 1)"
   ]
  },
  {
   "cell_type": "code",
   "execution_count": 55,
   "id": "56b840cc",
   "metadata": {},
   "outputs": [],
   "source": [
    "def cfnast(func: Callable,\n",
    "           a: np.array,\n",
    "           x: np.array,\n",
    "           N: int\n",
    "           ) -> float:\n",
    "    res = 0\n",
    "    for k in range(N):\n",
    "        res += a[k]*func(x[k])\n",
    "    return res"
   ]
  },
  {
   "cell_type": "code",
   "execution_count": 56,
   "id": "7e42ad4d",
   "metadata": {},
   "outputs": [
    {
     "name": "stdout",
     "output_type": "stream",
     "text": [
      "value = 0.06153846153849282\n",
      "mu_2N-1 = 0.06153846153846154\n",
      "Error = 3.1280533718813786e-14\n"
     ]
    }
   ],
   "source": [
    "print(f\"value = {cfnast(checkf, coef, x, N1)}\")\n",
    "print(f\"mu_2N-1 = {mu[2*N1-1]}\")\n",
    "print(f\"Error = {np.abs(mu[2*N1-1] - cfnast(checkf, coef, x, N1))}\")"
   ]
  },
  {
   "cell_type": "markdown",
   "id": "ea5e21c2",
   "metadata": {},
   "source": [
    "### Теперь посчитаем для функции из варианта"
   ]
  },
  {
   "cell_type": "code",
   "execution_count": 57,
   "id": "85dedbad",
   "metadata": {},
   "outputs": [
    {
     "name": "stdout",
     "output_type": "stream",
     "text": [
      "value = 0.40653830829726545\n",
      "true_value = 0.406538308297265\n",
      "Error = 4.440892098500626e-16\n"
     ]
    }
   ],
   "source": [
    "print(f\"value = {cfnast(func, coef, x, N1)}\")\n",
    "print(f\"true_value = {I}\")\n",
    "print(f\"Error = {np.abs(I - cfnast(func, coef, x, N1))}\")"
   ]
  }
 ],
 "metadata": {
  "kernelspec": {
   "display_name": "Python 3 (ipykernel)",
   "language": "python",
   "name": "python3"
  },
  "language_info": {
   "codemirror_mode": {
    "name": "ipython",
    "version": 3
   },
   "file_extension": ".py",
   "mimetype": "text/x-python",
   "name": "python",
   "nbconvert_exporter": "python",
   "pygments_lexer": "ipython3",
   "version": "3.10.4"
  }
 },
 "nbformat": 4,
 "nbformat_minor": 5
}
