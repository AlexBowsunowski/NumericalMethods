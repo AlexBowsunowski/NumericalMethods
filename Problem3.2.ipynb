{
 "cells": [
  {
   "cell_type": "code",
   "execution_count": 1,
   "id": "379d5b6b",
   "metadata": {},
   "outputs": [],
   "source": [
    "import numpy as np\n",
    "import pandas as pd\n",
    "np.random.seed(1)\n",
    "pd.set_option('display.max_rows', None)"
   ]
  },
  {
   "cell_type": "markdown",
   "id": "1ef534d3",
   "metadata": {},
   "source": [
    "## Задание 3.2"
   ]
  },
  {
   "cell_type": "markdown",
   "id": "cbb79c8a",
   "metadata": {},
   "source": [
    "Функция $f(x) = e^{4.5x}$"
   ]
  },
  {
   "cell_type": "markdown",
   "id": "50794cf6",
   "metadata": {},
   "source": [
    "Первая производная $f(x) = 4.5e^{4.5x}$"
   ]
  },
  {
   "cell_type": "markdown",
   "id": "ffa64278",
   "metadata": {},
   "source": [
    "Вторая производная $f(x) = 20.25e^{4.5x}$"
   ]
  },
  {
   "cell_type": "code",
   "execution_count": 2,
   "id": "daacf065",
   "metadata": {},
   "outputs": [],
   "source": [
    "def getFunc(arg: float) -> float:\n",
    "    return np.exp(4.5 * arg)"
   ]
  },
  {
   "cell_type": "code",
   "execution_count": 3,
   "id": "b1766359",
   "metadata": {},
   "outputs": [],
   "source": [
    "def getDerivFunc(arg: float) -> float:\n",
    "    return 4.5 *np.exp(4.5 * arg)"
   ]
  },
  {
   "cell_type": "code",
   "execution_count": 4,
   "id": "601d6381",
   "metadata": {},
   "outputs": [],
   "source": [
    "def getSecondDerivFunc(arg: float) -> float:\n",
    "    return 20.25 *np.exp(4.5 * arg)"
   ]
  },
  {
   "cell_type": "code",
   "execution_count": 13,
   "id": "7adc3011",
   "metadata": {},
   "outputs": [
    {
     "name": "stdout",
     "output_type": "stream",
     "text": [
      "10\n"
     ]
    }
   ],
   "source": [
    "m = int(input())"
   ]
  },
  {
   "cell_type": "code",
   "execution_count": 30,
   "id": "df4ca186",
   "metadata": {},
   "outputs": [
    {
     "name": "stdout",
     "output_type": "stream",
     "text": [
      "0.01\n",
      "0.0000001\n"
     ]
    }
   ],
   "source": [
    "a = float(input())\n",
    "h = float(input())"
   ]
  },
  {
   "cell_type": "code",
   "execution_count": 31,
   "id": "76747d87",
   "metadata": {},
   "outputs": [
    {
     "data": {
      "text/html": [
       "<div>\n",
       "<style scoped>\n",
       "    .dataframe tbody tr th:only-of-type {\n",
       "        vertical-align: middle;\n",
       "    }\n",
       "\n",
       "    .dataframe tbody tr th {\n",
       "        vertical-align: top;\n",
       "    }\n",
       "\n",
       "    .dataframe thead th {\n",
       "        text-align: right;\n",
       "    }\n",
       "</style>\n",
       "<table border=\"1\" class=\"dataframe\">\n",
       "  <thead>\n",
       "    <tr style=\"text-align: right;\">\n",
       "      <th></th>\n",
       "      <th>x</th>\n",
       "      <th>f(x)</th>\n",
       "    </tr>\n",
       "  </thead>\n",
       "  <tbody>\n",
       "    <tr>\n",
       "      <th>1</th>\n",
       "      <td>0.010000</td>\n",
       "      <td>1.046028</td>\n",
       "    </tr>\n",
       "    <tr>\n",
       "      <th>2</th>\n",
       "      <td>0.010000</td>\n",
       "      <td>1.046028</td>\n",
       "    </tr>\n",
       "    <tr>\n",
       "      <th>3</th>\n",
       "      <td>0.010000</td>\n",
       "      <td>1.046029</td>\n",
       "    </tr>\n",
       "    <tr>\n",
       "      <th>4</th>\n",
       "      <td>0.010000</td>\n",
       "      <td>1.046029</td>\n",
       "    </tr>\n",
       "    <tr>\n",
       "      <th>5</th>\n",
       "      <td>0.010000</td>\n",
       "      <td>1.046030</td>\n",
       "    </tr>\n",
       "    <tr>\n",
       "      <th>6</th>\n",
       "      <td>0.010001</td>\n",
       "      <td>1.046030</td>\n",
       "    </tr>\n",
       "    <tr>\n",
       "      <th>7</th>\n",
       "      <td>0.010001</td>\n",
       "      <td>1.046031</td>\n",
       "    </tr>\n",
       "    <tr>\n",
       "      <th>8</th>\n",
       "      <td>0.010001</td>\n",
       "      <td>1.046031</td>\n",
       "    </tr>\n",
       "    <tr>\n",
       "      <th>9</th>\n",
       "      <td>0.010001</td>\n",
       "      <td>1.046032</td>\n",
       "    </tr>\n",
       "    <tr>\n",
       "      <th>10</th>\n",
       "      <td>0.010001</td>\n",
       "      <td>1.046032</td>\n",
       "    </tr>\n",
       "  </tbody>\n",
       "</table>\n",
       "</div>"
      ],
      "text/plain": [
       "           x      f(x)\n",
       "1   0.010000  1.046028\n",
       "2   0.010000  1.046028\n",
       "3   0.010000  1.046029\n",
       "4   0.010000  1.046029\n",
       "5   0.010000  1.046030\n",
       "6   0.010001  1.046030\n",
       "7   0.010001  1.046031\n",
       "8   0.010001  1.046031\n",
       "9   0.010001  1.046032\n",
       "10  0.010001  1.046032"
      ]
     },
     "execution_count": 31,
     "metadata": {},
     "output_type": "execute_result"
    }
   ],
   "source": [
    "funcVal = []\n",
    "for i in range(m):\n",
    "    funcVal.append([a + i * h, getFunc(a + i * h)])\n",
    "funcVal = sorted(funcVal, key = lambda x: x[0])\n",
    "funcVal = np.array(funcVal)\n",
    "d = {\"x\": funcVal[:, 0], \"f(x)\": funcVal[:, 1]}\n",
    "df = pd.DataFrame(data = d, index=np.arange(1, m + 1))\n",
    "df"
   ]
  },
  {
   "cell_type": "markdown",
   "id": "fe01d31d",
   "metadata": {},
   "source": [
    "Первую производную посчитаем 1 способом с погрешностью $O(h^2)$"
   ]
  },
  {
   "cell_type": "markdown",
   "id": "573ff8db",
   "metadata": {},
   "source": [
    "(6) $f'(x) = \\frac{f(x + h) - f(x - h)}{2h}$ "
   ]
  },
  {
   "cell_type": "markdown",
   "id": "fd1b6b73",
   "metadata": {},
   "source": [
    "(7) $f'(x) = \\frac{-3f(x) + 4f(x + h) - f(x + 2h)}{2h}$\n"
   ]
  },
  {
   "cell_type": "markdown",
   "id": "84ad044f",
   "metadata": {},
   "source": [
    "(8) $f'(x) = \\frac{3f(x) - 4f(x - h) + f(x - 2h)}{2h}$"
   ]
  },
  {
   "cell_type": "code",
   "execution_count": 32,
   "id": "ebb8de90",
   "metadata": {},
   "outputs": [],
   "source": [
    "def firstDeriv(t):\n",
    "    global h\n",
    "    deriv = []\n",
    "    deriv.append((-3*t[0] + 4 * t[1] - t[2])/(2 * h))\n",
    "    for i in range(1, len(t) - 1):\n",
    "        deriv.append((t[i + 1] - t[i - 1])/(2*h))\n",
    "    deriv.append((3*t[len(t) - 1] - 4 * t[len(t) - 2] + t[len(t) - 3])/(2 * h))\n",
    "    return deriv"
   ]
  },
  {
   "cell_type": "code",
   "execution_count": 33,
   "id": "ca54961e",
   "metadata": {},
   "outputs": [],
   "source": [
    "deriv = firstDeriv(funcVal[:,1])\n",
    "derivErr = [np.abs(deriv[i] - getDerivFunc(funcVal[i,0])) for i in range(m)]"
   ]
  },
  {
   "cell_type": "code",
   "execution_count": 34,
   "id": "a052b3f0",
   "metadata": {},
   "outputs": [],
   "source": [
    "df[\"f'(x) O(h^2)\"] = deriv\n",
    "df[\"Error f' O(h^2)\"] = derivErr"
   ]
  },
  {
   "cell_type": "code",
   "execution_count": 35,
   "id": "f37c81f9",
   "metadata": {},
   "outputs": [
    {
     "data": {
      "text/html": [
       "<div>\n",
       "<style scoped>\n",
       "    .dataframe tbody tr th:only-of-type {\n",
       "        vertical-align: middle;\n",
       "    }\n",
       "\n",
       "    .dataframe tbody tr th {\n",
       "        vertical-align: top;\n",
       "    }\n",
       "\n",
       "    .dataframe thead th {\n",
       "        text-align: right;\n",
       "    }\n",
       "</style>\n",
       "<table border=\"1\" class=\"dataframe\">\n",
       "  <thead>\n",
       "    <tr style=\"text-align: right;\">\n",
       "      <th></th>\n",
       "      <th>x</th>\n",
       "      <th>f(x)</th>\n",
       "      <th>f'(x) O(h^2)</th>\n",
       "      <th>Error f' O(h^2)</th>\n",
       "    </tr>\n",
       "  </thead>\n",
       "  <tbody>\n",
       "    <tr>\n",
       "      <th>1</th>\n",
       "      <td>0.010000</td>\n",
       "      <td>1.046028</td>\n",
       "      <td>4.707125</td>\n",
       "      <td>1.006251e-09</td>\n",
       "    </tr>\n",
       "    <tr>\n",
       "      <th>2</th>\n",
       "      <td>0.010000</td>\n",
       "      <td>1.046028</td>\n",
       "      <td>4.707127</td>\n",
       "      <td>5.333511e-12</td>\n",
       "    </tr>\n",
       "    <tr>\n",
       "      <th>3</th>\n",
       "      <td>0.010000</td>\n",
       "      <td>1.046029</td>\n",
       "      <td>4.707130</td>\n",
       "      <td>9.235102e-11</td>\n",
       "    </tr>\n",
       "    <tr>\n",
       "      <th>4</th>\n",
       "      <td>0.010000</td>\n",
       "      <td>1.046029</td>\n",
       "      <td>4.707132</td>\n",
       "      <td>1.890825e-10</td>\n",
       "    </tr>\n",
       "    <tr>\n",
       "      <th>5</th>\n",
       "      <td>0.010000</td>\n",
       "      <td>1.046030</td>\n",
       "      <td>4.707134</td>\n",
       "      <td>2.848610e-10</td>\n",
       "    </tr>\n",
       "    <tr>\n",
       "      <th>6</th>\n",
       "      <td>0.010001</td>\n",
       "      <td>1.046030</td>\n",
       "      <td>4.707136</td>\n",
       "      <td>3.796865e-10</td>\n",
       "    </tr>\n",
       "    <tr>\n",
       "      <th>7</th>\n",
       "      <td>0.010001</td>\n",
       "      <td>1.046031</td>\n",
       "      <td>4.707138</td>\n",
       "      <td>6.366649e-10</td>\n",
       "    </tr>\n",
       "    <tr>\n",
       "      <th>8</th>\n",
       "      <td>0.010001</td>\n",
       "      <td>1.046031</td>\n",
       "      <td>4.707140</td>\n",
       "      <td>5.437455e-10</td>\n",
       "    </tr>\n",
       "    <tr>\n",
       "      <th>9</th>\n",
       "      <td>0.010001</td>\n",
       "      <td>1.046032</td>\n",
       "      <td>4.707142</td>\n",
       "      <td>6.584431e-10</td>\n",
       "    </tr>\n",
       "    <tr>\n",
       "      <th>10</th>\n",
       "      <td>0.010001</td>\n",
       "      <td>1.046032</td>\n",
       "      <td>4.707144</td>\n",
       "      <td>1.859679e-09</td>\n",
       "    </tr>\n",
       "  </tbody>\n",
       "</table>\n",
       "</div>"
      ],
      "text/plain": [
       "           x      f(x)  f'(x) O(h^2)  Error f' O(h^2)\n",
       "1   0.010000  1.046028      4.707125     1.006251e-09\n",
       "2   0.010000  1.046028      4.707127     5.333511e-12\n",
       "3   0.010000  1.046029      4.707130     9.235102e-11\n",
       "4   0.010000  1.046029      4.707132     1.890825e-10\n",
       "5   0.010000  1.046030      4.707134     2.848610e-10\n",
       "6   0.010001  1.046030      4.707136     3.796865e-10\n",
       "7   0.010001  1.046031      4.707138     6.366649e-10\n",
       "8   0.010001  1.046031      4.707140     5.437455e-10\n",
       "9   0.010001  1.046032      4.707142     6.584431e-10\n",
       "10  0.010001  1.046032      4.707144     1.859679e-09"
      ]
     },
     "execution_count": 35,
     "metadata": {},
     "output_type": "execute_result"
    }
   ],
   "source": [
    "df"
   ]
  },
  {
   "cell_type": "markdown",
   "id": "f5e8f98b",
   "metadata": {},
   "source": [
    "Вторую производную посчитаем 2 способом с погрешностью $O(h^4)$"
   ]
  },
  {
   "cell_type": "markdown",
   "id": "24082ab6",
   "metadata": {},
   "source": [
    "(6') $f'(x) = \\frac{f(x - 2h) - 8f(x - h) + 8f(x + h) - f(x + 2h)}{12h}$"
   ]
  },
  {
   "cell_type": "markdown",
   "id": "2fdf42e0",
   "metadata": {},
   "source": [
    "(7') $f'(x) = \\frac{-25f(x) + 48f(x + h) - 36f(x + 2h) + 16f(x + 3h) - 3f(x + 4h)}{6h}$"
   ]
  },
  {
   "cell_type": "markdown",
   "id": "350d7be0",
   "metadata": {},
   "source": [
    "(8') $f'(x) = \\frac{-25f(x) + 48f(x - h) - 36f(x - 2h) + 16f(x - 3h) - 3f(x - 4h)}{-6h}$"
   ]
  },
  {
   "cell_type": "code",
   "execution_count": 36,
   "id": "9f627cf2",
   "metadata": {},
   "outputs": [],
   "source": [
    "def firstDerivModif(t):\n",
    "    global h\n",
    "    deriv = []\n",
    "    deriv.append((-25 * t[0] + 48 * t[1] - 36 *t[2] + 16 * t[3] - 3 * t[4])/(12*h))\n",
    "    deriv.append((-25 * t[1] + 48 * t[2] - 36 *t[3] + 16 * t[4] - 3 * t[5])/(12*h))\n",
    "    for i in range(2, len(t) - 2):\n",
    "        deriv.append((t[i - 2] - 8* t[i - 1] + 8 * t[i + 1] - t[i + 2])/(12*h))\n",
    "    deriv.append((-25 * t[len(t) - 2] + 48 * t[len(t) - 3] - 36 *t[len(t) - 4] + 16 * t[len(t) - 5] - 3 * t[len(t) - 6])/(-12*h))    \n",
    "    deriv.append((-25 * t[len(t) - 1] + 48 * t[len(t) - 2] - 36 *t[len(t) - 3] + 16 * t[len(t) - 4] - 3 * t[len(t) - 5])/(-12*h))\n",
    "    return deriv"
   ]
  },
  {
   "cell_type": "code",
   "execution_count": 37,
   "id": "f83bd189",
   "metadata": {},
   "outputs": [],
   "source": [
    "deriv1 = firstDerivModif(funcVal[:,1])\n",
    "derivErr1 = [np.abs(deriv1[i] - getDerivFunc(funcVal[i,0])) for i in range(m)]"
   ]
  },
  {
   "cell_type": "code",
   "execution_count": 38,
   "id": "2218056a",
   "metadata": {},
   "outputs": [],
   "source": [
    "df[\"f'(x) O(h^4)\"] = deriv1\n",
    "df[\"Error f' O(h^4)\"] = derivErr1"
   ]
  },
  {
   "cell_type": "code",
   "execution_count": 39,
   "id": "c7a2b7bf",
   "metadata": {},
   "outputs": [
    {
     "data": {
      "text/html": [
       "<div>\n",
       "<style scoped>\n",
       "    .dataframe tbody tr th:only-of-type {\n",
       "        vertical-align: middle;\n",
       "    }\n",
       "\n",
       "    .dataframe tbody tr th {\n",
       "        vertical-align: top;\n",
       "    }\n",
       "\n",
       "    .dataframe thead th {\n",
       "        text-align: right;\n",
       "    }\n",
       "</style>\n",
       "<table border=\"1\" class=\"dataframe\">\n",
       "  <thead>\n",
       "    <tr style=\"text-align: right;\">\n",
       "      <th></th>\n",
       "      <th>x</th>\n",
       "      <th>f(x)</th>\n",
       "      <th>f'(x) O(h^2)</th>\n",
       "      <th>Error f' O(h^2)</th>\n",
       "      <th>f'(x) O(h^4)</th>\n",
       "      <th>Error f' O(h^4)</th>\n",
       "    </tr>\n",
       "  </thead>\n",
       "  <tbody>\n",
       "    <tr>\n",
       "      <th>1</th>\n",
       "      <td>0.010000</td>\n",
       "      <td>1.046028</td>\n",
       "      <td>4.707125</td>\n",
       "      <td>1.006251e-09</td>\n",
       "      <td>4.707125</td>\n",
       "      <td>8.441203e-10</td>\n",
       "    </tr>\n",
       "    <tr>\n",
       "      <th>2</th>\n",
       "      <td>0.010000</td>\n",
       "      <td>1.046028</td>\n",
       "      <td>4.707127</td>\n",
       "      <td>5.333511e-12</td>\n",
       "      <td>4.707127</td>\n",
       "      <td>5.556449e-09</td>\n",
       "    </tr>\n",
       "    <tr>\n",
       "      <th>3</th>\n",
       "      <td>0.010000</td>\n",
       "      <td>1.046029</td>\n",
       "      <td>4.707130</td>\n",
       "      <td>9.235102e-11</td>\n",
       "      <td>4.707130</td>\n",
       "      <td>2.773888e-10</td>\n",
       "    </tr>\n",
       "    <tr>\n",
       "      <th>4</th>\n",
       "      <td>0.010000</td>\n",
       "      <td>1.046029</td>\n",
       "      <td>4.707132</td>\n",
       "      <td>1.890825e-10</td>\n",
       "      <td>4.707132</td>\n",
       "      <td>1.809912e-10</td>\n",
       "    </tr>\n",
       "    <tr>\n",
       "      <th>5</th>\n",
       "      <td>0.010000</td>\n",
       "      <td>1.046030</td>\n",
       "      <td>4.707134</td>\n",
       "      <td>2.848610e-10</td>\n",
       "      <td>4.707134</td>\n",
       "      <td>4.698988e-10</td>\n",
       "    </tr>\n",
       "    <tr>\n",
       "      <th>6</th>\n",
       "      <td>0.010001</td>\n",
       "      <td>1.046030</td>\n",
       "      <td>4.707136</td>\n",
       "      <td>3.796865e-10</td>\n",
       "      <td>4.707136</td>\n",
       "      <td>9.347980e-10</td>\n",
       "    </tr>\n",
       "    <tr>\n",
       "      <th>7</th>\n",
       "      <td>0.010001</td>\n",
       "      <td>1.046031</td>\n",
       "      <td>4.707138</td>\n",
       "      <td>6.366649e-10</td>\n",
       "      <td>4.707138</td>\n",
       "      <td>6.366649e-10</td>\n",
       "    </tr>\n",
       "    <tr>\n",
       "      <th>8</th>\n",
       "      <td>0.010001</td>\n",
       "      <td>1.046031</td>\n",
       "      <td>4.707140</td>\n",
       "      <td>5.437455e-10</td>\n",
       "      <td>4.707140</td>\n",
       "      <td>1.098857e-09</td>\n",
       "    </tr>\n",
       "    <tr>\n",
       "      <th>9</th>\n",
       "      <td>0.010001</td>\n",
       "      <td>1.046032</td>\n",
       "      <td>4.707142</td>\n",
       "      <td>6.584431e-10</td>\n",
       "      <td>4.707142</td>\n",
       "      <td>1.398592e-09</td>\n",
       "    </tr>\n",
       "    <tr>\n",
       "      <th>10</th>\n",
       "      <td>0.010001</td>\n",
       "      <td>1.046032</td>\n",
       "      <td>4.707144</td>\n",
       "      <td>1.859679e-09</td>\n",
       "      <td>4.707144</td>\n",
       "      <td>3.793819e-10</td>\n",
       "    </tr>\n",
       "  </tbody>\n",
       "</table>\n",
       "</div>"
      ],
      "text/plain": [
       "           x      f(x)  f'(x) O(h^2)  Error f' O(h^2)  f'(x) O(h^4)  \\\n",
       "1   0.010000  1.046028      4.707125     1.006251e-09      4.707125   \n",
       "2   0.010000  1.046028      4.707127     5.333511e-12      4.707127   \n",
       "3   0.010000  1.046029      4.707130     9.235102e-11      4.707130   \n",
       "4   0.010000  1.046029      4.707132     1.890825e-10      4.707132   \n",
       "5   0.010000  1.046030      4.707134     2.848610e-10      4.707134   \n",
       "6   0.010001  1.046030      4.707136     3.796865e-10      4.707136   \n",
       "7   0.010001  1.046031      4.707138     6.366649e-10      4.707138   \n",
       "8   0.010001  1.046031      4.707140     5.437455e-10      4.707140   \n",
       "9   0.010001  1.046032      4.707142     6.584431e-10      4.707142   \n",
       "10  0.010001  1.046032      4.707144     1.859679e-09      4.707144   \n",
       "\n",
       "    Error f' O(h^4)  \n",
       "1      8.441203e-10  \n",
       "2      5.556449e-09  \n",
       "3      2.773888e-10  \n",
       "4      1.809912e-10  \n",
       "5      4.698988e-10  \n",
       "6      9.347980e-10  \n",
       "7      6.366649e-10  \n",
       "8      1.098857e-09  \n",
       "9      1.398592e-09  \n",
       "10     3.793819e-10  "
      ]
     },
     "execution_count": 39,
     "metadata": {},
     "output_type": "execute_result"
    }
   ],
   "source": [
    "df"
   ]
  },
  {
   "cell_type": "markdown",
   "id": "977ab4f4",
   "metadata": {},
   "source": [
    "(9) $f''(x) = \\frac{f(x + h) - 2f(x) + f(x - h)}{h^2}$"
   ]
  },
  {
   "cell_type": "code",
   "execution_count": 40,
   "id": "30cbec3d",
   "metadata": {},
   "outputs": [],
   "source": [
    "def secondDeriv(t):\n",
    "    global h\n",
    "    deriv = []\n",
    "    deriv.append(None)\n",
    "    for i in range(1, len(t) - 1):\n",
    "        deriv.append((t[i + 1] - 2 * t[i] + t[i - 1])/(h*h))\n",
    "    deriv.append(None)    \n",
    "    return deriv"
   ]
  },
  {
   "cell_type": "code",
   "execution_count": 41,
   "id": "31d5ce56",
   "metadata": {},
   "outputs": [],
   "source": [
    "secDeriv = secondDeriv(funcVal[:,1])\n",
    "secDeriveErr = [None] + [np.abs(secDeriv[i] - getSecondDerivFunc(funcVal[i,0])) for i in range(1, m - 1)] + [None]"
   ]
  },
  {
   "cell_type": "code",
   "execution_count": 42,
   "id": "a69559ef",
   "metadata": {},
   "outputs": [],
   "source": [
    "df[\"f''(x) O(h^2)\"] = secDeriv\n",
    "df[\"Error f'' O(h^2)\"] = secDeriveErr"
   ]
  },
  {
   "cell_type": "code",
   "execution_count": 43,
   "id": "86ac9aa1",
   "metadata": {},
   "outputs": [
    {
     "data": {
      "text/html": [
       "<div>\n",
       "<style scoped>\n",
       "    .dataframe tbody tr th:only-of-type {\n",
       "        vertical-align: middle;\n",
       "    }\n",
       "\n",
       "    .dataframe tbody tr th {\n",
       "        vertical-align: top;\n",
       "    }\n",
       "\n",
       "    .dataframe thead th {\n",
       "        text-align: right;\n",
       "    }\n",
       "</style>\n",
       "<table border=\"1\" class=\"dataframe\">\n",
       "  <thead>\n",
       "    <tr style=\"text-align: right;\">\n",
       "      <th></th>\n",
       "      <th>x</th>\n",
       "      <th>f(x)</th>\n",
       "      <th>f'(x) O(h^2)</th>\n",
       "      <th>Error f' O(h^2)</th>\n",
       "      <th>f'(x) O(h^4)</th>\n",
       "      <th>Error f' O(h^4)</th>\n",
       "      <th>f''(x) O(h^2)</th>\n",
       "      <th>Error f'' O(h^2)</th>\n",
       "    </tr>\n",
       "  </thead>\n",
       "  <tbody>\n",
       "    <tr>\n",
       "      <th>1</th>\n",
       "      <td>0.010000</td>\n",
       "      <td>1.046028</td>\n",
       "      <td>4.707125</td>\n",
       "      <td>1.006251e-09</td>\n",
       "      <td>4.707125</td>\n",
       "      <td>8.441203e-10</td>\n",
       "      <td>NaN</td>\n",
       "      <td>NaN</td>\n",
       "    </tr>\n",
       "    <tr>\n",
       "      <th>2</th>\n",
       "      <td>0.010000</td>\n",
       "      <td>1.046028</td>\n",
       "      <td>4.707127</td>\n",
       "      <td>5.333511e-12</td>\n",
       "      <td>4.707127</td>\n",
       "      <td>5.556449e-09</td>\n",
       "      <td>21.183055</td>\n",
       "      <td>0.000982</td>\n",
       "    </tr>\n",
       "    <tr>\n",
       "      <th>3</th>\n",
       "      <td>0.010000</td>\n",
       "      <td>1.046029</td>\n",
       "      <td>4.707130</td>\n",
       "      <td>9.235102e-11</td>\n",
       "      <td>4.707130</td>\n",
       "      <td>2.773888e-10</td>\n",
       "      <td>21.183055</td>\n",
       "      <td>0.000972</td>\n",
       "    </tr>\n",
       "    <tr>\n",
       "      <th>4</th>\n",
       "      <td>0.010000</td>\n",
       "      <td>1.046029</td>\n",
       "      <td>4.707132</td>\n",
       "      <td>1.890825e-10</td>\n",
       "      <td>4.707132</td>\n",
       "      <td>1.809912e-10</td>\n",
       "      <td>21.183055</td>\n",
       "      <td>0.000963</td>\n",
       "    </tr>\n",
       "    <tr>\n",
       "      <th>5</th>\n",
       "      <td>0.010000</td>\n",
       "      <td>1.046030</td>\n",
       "      <td>4.707134</td>\n",
       "      <td>2.848610e-10</td>\n",
       "      <td>4.707134</td>\n",
       "      <td>4.698988e-10</td>\n",
       "      <td>21.183055</td>\n",
       "      <td>0.000953</td>\n",
       "    </tr>\n",
       "    <tr>\n",
       "      <th>6</th>\n",
       "      <td>0.010001</td>\n",
       "      <td>1.046030</td>\n",
       "      <td>4.707136</td>\n",
       "      <td>3.796865e-10</td>\n",
       "      <td>4.707136</td>\n",
       "      <td>9.347980e-10</td>\n",
       "      <td>21.183055</td>\n",
       "      <td>0.000943</td>\n",
       "    </tr>\n",
       "    <tr>\n",
       "      <th>7</th>\n",
       "      <td>0.010001</td>\n",
       "      <td>1.046031</td>\n",
       "      <td>4.707138</td>\n",
       "      <td>6.366649e-10</td>\n",
       "      <td>4.707138</td>\n",
       "      <td>6.366649e-10</td>\n",
       "      <td>21.160851</td>\n",
       "      <td>0.021271</td>\n",
       "    </tr>\n",
       "    <tr>\n",
       "      <th>8</th>\n",
       "      <td>0.010001</td>\n",
       "      <td>1.046031</td>\n",
       "      <td>4.707140</td>\n",
       "      <td>5.437455e-10</td>\n",
       "      <td>4.707140</td>\n",
       "      <td>1.098857e-09</td>\n",
       "      <td>21.205260</td>\n",
       "      <td>0.023129</td>\n",
       "    </tr>\n",
       "    <tr>\n",
       "      <th>9</th>\n",
       "      <td>0.010001</td>\n",
       "      <td>1.046032</td>\n",
       "      <td>4.707142</td>\n",
       "      <td>6.584431e-10</td>\n",
       "      <td>4.707142</td>\n",
       "      <td>1.398592e-09</td>\n",
       "      <td>21.183055</td>\n",
       "      <td>0.000915</td>\n",
       "    </tr>\n",
       "    <tr>\n",
       "      <th>10</th>\n",
       "      <td>0.010001</td>\n",
       "      <td>1.046032</td>\n",
       "      <td>4.707144</td>\n",
       "      <td>1.859679e-09</td>\n",
       "      <td>4.707144</td>\n",
       "      <td>3.793819e-10</td>\n",
       "      <td>NaN</td>\n",
       "      <td>NaN</td>\n",
       "    </tr>\n",
       "  </tbody>\n",
       "</table>\n",
       "</div>"
      ],
      "text/plain": [
       "           x      f(x)  f'(x) O(h^2)  Error f' O(h^2)  f'(x) O(h^4)  \\\n",
       "1   0.010000  1.046028      4.707125     1.006251e-09      4.707125   \n",
       "2   0.010000  1.046028      4.707127     5.333511e-12      4.707127   \n",
       "3   0.010000  1.046029      4.707130     9.235102e-11      4.707130   \n",
       "4   0.010000  1.046029      4.707132     1.890825e-10      4.707132   \n",
       "5   0.010000  1.046030      4.707134     2.848610e-10      4.707134   \n",
       "6   0.010001  1.046030      4.707136     3.796865e-10      4.707136   \n",
       "7   0.010001  1.046031      4.707138     6.366649e-10      4.707138   \n",
       "8   0.010001  1.046031      4.707140     5.437455e-10      4.707140   \n",
       "9   0.010001  1.046032      4.707142     6.584431e-10      4.707142   \n",
       "10  0.010001  1.046032      4.707144     1.859679e-09      4.707144   \n",
       "\n",
       "    Error f' O(h^4)  f''(x) O(h^2)  Error f'' O(h^2)  \n",
       "1      8.441203e-10            NaN               NaN  \n",
       "2      5.556449e-09      21.183055          0.000982  \n",
       "3      2.773888e-10      21.183055          0.000972  \n",
       "4      1.809912e-10      21.183055          0.000963  \n",
       "5      4.698988e-10      21.183055          0.000953  \n",
       "6      9.347980e-10      21.183055          0.000943  \n",
       "7      6.366649e-10      21.160851          0.021271  \n",
       "8      1.098857e-09      21.205260          0.023129  \n",
       "9      1.398592e-09      21.183055          0.000915  \n",
       "10     3.793819e-10            NaN               NaN  "
      ]
     },
     "execution_count": 43,
     "metadata": {},
     "output_type": "execute_result"
    }
   ],
   "source": [
    "df"
   ]
  },
  {
   "cell_type": "code",
   "execution_count": null,
   "id": "e3a657dc",
   "metadata": {},
   "outputs": [],
   "source": []
  }
 ],
 "metadata": {
  "kernelspec": {
   "display_name": "Python 3",
   "language": "python",
   "name": "python3"
  },
  "language_info": {
   "codemirror_mode": {
    "name": "ipython",
    "version": 3
   },
   "file_extension": ".py",
   "mimetype": "text/x-python",
   "name": "python",
   "nbconvert_exporter": "python",
   "pygments_lexer": "ipython3",
   "version": "3.7.6"
  }
 },
 "nbformat": 4,
 "nbformat_minor": 5
}
