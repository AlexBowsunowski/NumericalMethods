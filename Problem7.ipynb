{
 "cells": [
  {
   "cell_type": "code",
   "execution_count": 1,
   "id": "4761fa09",
   "metadata": {},
   "outputs": [],
   "source": [
    "import numpy as np\n",
    "import pandas as pd\n",
    "from typing import Callable, List"
   ]
  },
  {
   "cell_type": "markdown",
   "id": "24eac727",
   "metadata": {},
   "source": [
    "## Задание № 7"
   ]
  },
  {
   "cell_type": "markdown",
   "id": "2da1f587",
   "metadata": {},
   "source": [
    "## Вариант 2"
   ]
  },
  {
   "cell_type": "markdown",
   "id": "7e6c0ae2",
   "metadata": {},
   "source": [
    "## Найти решение Задачи Коши для уравнения $y'(x) = f(x,y)$ с начальными условиями $y(x_0) = y_0$"
   ]
  },
  {
   "cell_type": "markdown",
   "id": "12f084f6",
   "metadata": {},
   "source": [
    "## $y'(x) = -y(x) + x$, $y(0) = 1$, $h=0.1$, $N = 10$"
   ]
  },
  {
   "cell_type": "code",
   "execution_count": 2,
   "id": "e7d8588e",
   "metadata": {},
   "outputs": [],
   "source": [
    "def func(x: float, y: float) -> float:\n",
    "    return -y + x"
   ]
  },
  {
   "cell_type": "markdown",
   "id": "42f4b950",
   "metadata": {},
   "source": [
    "## Общее решение  $y = \\frac{2}{e^x} + x - 1$"
   ]
  },
  {
   "cell_type": "code",
   "execution_count": 3,
   "id": "a1e84e4d",
   "metadata": {},
   "outputs": [],
   "source": [
    "def solve(x: float) -> float:\n",
    "    return 2 / np.exp(x) + x - 1"
   ]
  },
  {
   "cell_type": "code",
   "execution_count": 4,
   "id": "b9d79287",
   "metadata": {},
   "outputs": [],
   "source": [
    "x_0 = 0\n",
    "y_0 = 1"
   ]
  },
  {
   "cell_type": "code",
   "execution_count": 5,
   "id": "38f46a10",
   "metadata": {},
   "outputs": [
    {
     "name": "stdout",
     "output_type": "stream",
     "text": [
      "10\n",
      "0.1\n"
     ]
    }
   ],
   "source": [
    "N = int(input())\n",
    "h = float(input())"
   ]
  },
  {
   "cell_type": "code",
   "execution_count": 6,
   "id": "e52f321f",
   "metadata": {},
   "outputs": [
    {
     "data": {
      "text/plain": [
       "array([-0.2, -0.1,  0. ,  0.1,  0.2,  0.3,  0.4,  0.5,  0.6,  0.7,  0.8,\n",
       "        0.9,  1. ])"
      ]
     },
     "execution_count": 6,
     "metadata": {},
     "output_type": "execute_result"
    }
   ],
   "source": [
    "node = np.array([x_0 + h * i for i in range(-2, N + 1)])\n",
    "node"
   ]
  },
  {
   "cell_type": "markdown",
   "id": "9f782a55",
   "metadata": {},
   "source": [
    "### Разложим в ряд Тейлора до 5 ненулевых членов"
   ]
  },
  {
   "cell_type": "markdown",
   "id": "7e993f6f",
   "metadata": {},
   "source": [
    "### $y(0) = 1$"
   ]
  },
  {
   "cell_type": "markdown",
   "id": "b8758d1c",
   "metadata": {},
   "source": [
    "### $y'(0) = -y(0) + 0 = -1$    "
   ]
  },
  {
   "cell_type": "markdown",
   "id": "5ab30f10",
   "metadata": {},
   "source": [
    "### $y''(0) = -y'(0) = 1$"
   ]
  },
  {
   "cell_type": "markdown",
   "id": "bcc6599a",
   "metadata": {},
   "source": [
    "### $y^{(3)}(0) =  -y''(0) = -1$"
   ]
  },
  {
   "cell_type": "markdown",
   "id": "e14acc35",
   "metadata": {},
   "source": [
    "### $y^{(4)}(0) = 1$"
   ]
  },
  {
   "cell_type": "markdown",
   "id": "6076a156",
   "metadata": {},
   "source": [
    "### $y^{(5)}(0) = -1$"
   ]
  },
  {
   "cell_type": "markdown",
   "id": "5f2a5fa7",
   "metadata": {},
   "source": [
    "### $y_M(x) = 1 - x + x^2 - \\frac{1}{3}x^3 + \\frac{1}{12}x^4 - \\frac{1}{60}x^5$"
   ]
  },
  {
   "cell_type": "code",
   "execution_count": 7,
   "id": "05fa0735",
   "metadata": {},
   "outputs": [],
   "source": [
    "def taylor(arg: float) -> float:\n",
    "    return 1 - arg + arg**2 - 1/3 * arg**3 + 1/12 * arg**4 - 1/60 * arg**5"
   ]
  },
  {
   "cell_type": "markdown",
   "id": "31a96656",
   "metadata": {},
   "source": [
    "## Найдем решение методом разложения в ряд Тейлора"
   ]
  },
  {
   "cell_type": "code",
   "execution_count": 8,
   "id": "ea561ae4",
   "metadata": {},
   "outputs": [],
   "source": [
    "def method_taylor(taylor: Callable, nodes: np.array):\n",
    "    values = []\n",
    "    for node in nodes:\n",
    "        values.append(taylor(node))\n",
    "    nodes_values = np.array([nodes, np.array(values)])\n",
    "    return nodes_values"
   ]
  },
  {
   "cell_type": "code",
   "execution_count": 9,
   "id": "0d262e43",
   "metadata": {},
   "outputs": [],
   "source": [
    "node_value0 = method_taylor(taylor, node)"
   ]
  },
  {
   "cell_type": "code",
   "execution_count": 10,
   "id": "5c420c0a",
   "metadata": {},
   "outputs": [],
   "source": [
    "correct_value0 = solve(node_value0[0])"
   ]
  },
  {
   "cell_type": "code",
   "execution_count": 11,
   "id": "88680dea",
   "metadata": {},
   "outputs": [],
   "source": [
    "df = pd.DataFrame(np.array([node_value0[0],\n",
    "                           node_value0[1],\n",
    "                           correct_value0,\n",
    "                           correct_value0 - node_value0[1]]),\n",
    "                  index = ['Node', \n",
    "                           'Value',\n",
    "                           'Correct value',\n",
    "                           'Error'])"
   ]
  },
  {
   "cell_type": "code",
   "execution_count": 12,
   "id": "2cf794a9",
   "metadata": {},
   "outputs": [
    {
     "data": {
      "text/html": [
       "<div>\n",
       "<style scoped>\n",
       "    .dataframe tbody tr th:only-of-type {\n",
       "        vertical-align: middle;\n",
       "    }\n",
       "\n",
       "    .dataframe tbody tr th {\n",
       "        vertical-align: top;\n",
       "    }\n",
       "\n",
       "    .dataframe thead th {\n",
       "        text-align: right;\n",
       "    }\n",
       "</style>\n",
       "<table border=\"1\" class=\"dataframe\">\n",
       "  <thead>\n",
       "    <tr style=\"text-align: right;\">\n",
       "      <th></th>\n",
       "      <th>0</th>\n",
       "      <th>1</th>\n",
       "      <th>2</th>\n",
       "      <th>3</th>\n",
       "      <th>4</th>\n",
       "      <th>5</th>\n",
       "      <th>6</th>\n",
       "      <th>7</th>\n",
       "      <th>8</th>\n",
       "      <th>9</th>\n",
       "      <th>10</th>\n",
       "      <th>11</th>\n",
       "      <th>12</th>\n",
       "    </tr>\n",
       "  </thead>\n",
       "  <tbody>\n",
       "    <tr>\n",
       "      <th>Node</th>\n",
       "      <td>-2.000000e-01</td>\n",
       "      <td>-1.000000e-01</td>\n",
       "      <td>0.0</td>\n",
       "      <td>1.000000e-01</td>\n",
       "      <td>2.000000e-01</td>\n",
       "      <td>0.300000</td>\n",
       "      <td>0.400000</td>\n",
       "      <td>0.500000</td>\n",
       "      <td>0.600000</td>\n",
       "      <td>0.700000</td>\n",
       "      <td>0.800000</td>\n",
       "      <td>0.900000</td>\n",
       "      <td>1.000000</td>\n",
       "    </tr>\n",
       "    <tr>\n",
       "      <th>Value</th>\n",
       "      <td>1.242805e+00</td>\n",
       "      <td>1.110342e+00</td>\n",
       "      <td>1.0</td>\n",
       "      <td>9.096748e-01</td>\n",
       "      <td>8.374613e-01</td>\n",
       "      <td>0.781635</td>\n",
       "      <td>0.740629</td>\n",
       "      <td>0.713021</td>\n",
       "      <td>0.697504</td>\n",
       "      <td>0.692874</td>\n",
       "      <td>0.698005</td>\n",
       "      <td>0.711834</td>\n",
       "      <td>0.733333</td>\n",
       "    </tr>\n",
       "    <tr>\n",
       "      <th>Correct value</th>\n",
       "      <td>1.242806e+00</td>\n",
       "      <td>1.110342e+00</td>\n",
       "      <td>1.0</td>\n",
       "      <td>9.096748e-01</td>\n",
       "      <td>8.374615e-01</td>\n",
       "      <td>0.781636</td>\n",
       "      <td>0.740640</td>\n",
       "      <td>0.713061</td>\n",
       "      <td>0.697623</td>\n",
       "      <td>0.693171</td>\n",
       "      <td>0.698658</td>\n",
       "      <td>0.713139</td>\n",
       "      <td>0.735759</td>\n",
       "    </tr>\n",
       "    <tr>\n",
       "      <th>Error</th>\n",
       "      <td>1.829870e-07</td>\n",
       "      <td>2.817962e-09</td>\n",
       "      <td>0.0</td>\n",
       "      <td>2.738586e-09</td>\n",
       "      <td>1.728226e-07</td>\n",
       "      <td>0.000002</td>\n",
       "      <td>0.000011</td>\n",
       "      <td>0.000040</td>\n",
       "      <td>0.000119</td>\n",
       "      <td>0.000297</td>\n",
       "      <td>0.000653</td>\n",
       "      <td>0.001306</td>\n",
       "      <td>0.002426</td>\n",
       "    </tr>\n",
       "  </tbody>\n",
       "</table>\n",
       "</div>"
      ],
      "text/plain": [
       "                         0             1    2             3             4   \\\n",
       "Node          -2.000000e-01 -1.000000e-01  0.0  1.000000e-01  2.000000e-01   \n",
       "Value          1.242805e+00  1.110342e+00  1.0  9.096748e-01  8.374613e-01   \n",
       "Correct value  1.242806e+00  1.110342e+00  1.0  9.096748e-01  8.374615e-01   \n",
       "Error          1.829870e-07  2.817962e-09  0.0  2.738586e-09  1.728226e-07   \n",
       "\n",
       "                     5         6         7         8         9         10  \\\n",
       "Node           0.300000  0.400000  0.500000  0.600000  0.700000  0.800000   \n",
       "Value          0.781635  0.740629  0.713021  0.697504  0.692874  0.698005   \n",
       "Correct value  0.781636  0.740640  0.713061  0.697623  0.693171  0.698658   \n",
       "Error          0.000002  0.000011  0.000040  0.000119  0.000297  0.000653   \n",
       "\n",
       "                     11        12  \n",
       "Node           0.900000  1.000000  \n",
       "Value          0.711834  0.733333  \n",
       "Correct value  0.713139  0.735759  \n",
       "Error          0.001306  0.002426  "
      ]
     },
     "execution_count": 12,
     "metadata": {},
     "output_type": "execute_result"
    }
   ],
   "source": [
    "df"
   ]
  },
  {
   "cell_type": "markdown",
   "id": "825ab091",
   "metadata": {},
   "source": [
    "## Метод Адамса решения задачи Коши для ОДУ"
   ]
  },
  {
   "cell_type": "code",
   "execution_count": 13,
   "id": "a2ef020b",
   "metadata": {},
   "outputs": [],
   "source": [
    "def get_dd_table(lst: List[float]) -> np.ndarray:\n",
    "    \n",
    "    result = []\n",
    "    result.append(lst)\n",
    "    for i in range(1, 5):\n",
    "        current_lst = [result[i-1][j+1] - result[i-1][j] for j in range(0, len(result[i-1])-1)]\n",
    "        result.append(current_lst)\n",
    "    return result"
   ]
  },
  {
   "cell_type": "code",
   "execution_count": 14,
   "id": "38d6a229",
   "metadata": {},
   "outputs": [],
   "source": [
    "def get_ext_adams_table(func: Callable, N: int, h: float, x0: float, y0: float, first_node, first_value) -> pd.DataFrame:\n",
    "    \n",
    "    nodes = list(first_node)\n",
    "    values = list(first_value)\n",
    "    eta_lst = [h * func(nodes[i], values[i]) for i in range(len(nodes))]\n",
    "    \n",
    "    dd_table = get_dd_table(eta_lst)\n",
    "\n",
    "    coeffs = [1., 1 / 2, 5 / 12, 3 / 8, 251 / 720]\n",
    "    new_value = values[-1] + sum([dd_table[i][-1] * coeffs[i] for i in range(0, 5)])\n",
    "\n",
    "    \n",
    "    values.append(new_value)\n",
    "    nodes.append(nodes[-1] + h)\n",
    "    \n",
    "    for i in range(6, N + 3):\n",
    "        temp = h * func(nodes[-1], values[-1])\n",
    "        dd_table[0].append(temp)\n",
    "        for j in range(1, 5):\n",
    "            dd_table[j].append(dd_table[j-1][-1] - dd_table[j-1][-2])\n",
    "        \n",
    "        new_value = values[-1] + sum([dd_table[i][-1] * coeffs[i] for i in range(0, 5)])\n",
    "\n",
    "        \n",
    "        values.append(new_value)\n",
    "        nodes.append(nodes[-1] + h)\n",
    "\n",
    "    return [nodes, values]\n",
    "      "
   ]
  },
  {
   "cell_type": "code",
   "execution_count": 15,
   "id": "a412d2b5",
   "metadata": {},
   "outputs": [],
   "source": [
    "node_value1 = get_ext_adams_table(func, N, h, x_0, y_0, node_value0[0][:5], node_value0[1][:5])"
   ]
  },
  {
   "cell_type": "code",
   "execution_count": 16,
   "id": "e17144c2",
   "metadata": {},
   "outputs": [],
   "source": [
    "df = pd.DataFrame(np.array([node_value1[0],\n",
    "                           node_value1[1],\n",
    "                           correct_value0,\n",
    "                           correct_value0 - node_value1[1]]),\n",
    "                  index = ['Node', \n",
    "                           'Value',\n",
    "                           'Correct value',\n",
    "                           'Error'])"
   ]
  },
  {
   "cell_type": "code",
   "execution_count": 17,
   "id": "8b801d81",
   "metadata": {},
   "outputs": [
    {
     "data": {
      "text/html": [
       "<div>\n",
       "<style scoped>\n",
       "    .dataframe tbody tr th:only-of-type {\n",
       "        vertical-align: middle;\n",
       "    }\n",
       "\n",
       "    .dataframe tbody tr th {\n",
       "        vertical-align: top;\n",
       "    }\n",
       "\n",
       "    .dataframe thead th {\n",
       "        text-align: right;\n",
       "    }\n",
       "</style>\n",
       "<table border=\"1\" class=\"dataframe\">\n",
       "  <thead>\n",
       "    <tr style=\"text-align: right;\">\n",
       "      <th></th>\n",
       "      <th>0</th>\n",
       "      <th>1</th>\n",
       "      <th>2</th>\n",
       "      <th>3</th>\n",
       "      <th>4</th>\n",
       "      <th>5</th>\n",
       "      <th>6</th>\n",
       "      <th>7</th>\n",
       "      <th>8</th>\n",
       "      <th>9</th>\n",
       "      <th>10</th>\n",
       "      <th>11</th>\n",
       "      <th>12</th>\n",
       "    </tr>\n",
       "  </thead>\n",
       "  <tbody>\n",
       "    <tr>\n",
       "      <th>Node</th>\n",
       "      <td>-2.000000e-01</td>\n",
       "      <td>-1.000000e-01</td>\n",
       "      <td>0.0</td>\n",
       "      <td>1.000000e-01</td>\n",
       "      <td>2.000000e-01</td>\n",
       "      <td>3.000000e-01</td>\n",
       "      <td>0.400000</td>\n",
       "      <td>0.500000</td>\n",
       "      <td>0.600000</td>\n",
       "      <td>0.700000</td>\n",
       "      <td>0.800000</td>\n",
       "      <td>0.900000</td>\n",
       "      <td>1.000000</td>\n",
       "    </tr>\n",
       "    <tr>\n",
       "      <th>Value</th>\n",
       "      <td>1.242805e+00</td>\n",
       "      <td>1.110342e+00</td>\n",
       "      <td>1.0</td>\n",
       "      <td>9.096748e-01</td>\n",
       "      <td>8.374613e-01</td>\n",
       "      <td>7.816357e-01</td>\n",
       "      <td>0.740639</td>\n",
       "      <td>0.713060</td>\n",
       "      <td>0.697621</td>\n",
       "      <td>0.693168</td>\n",
       "      <td>0.698656</td>\n",
       "      <td>0.713137</td>\n",
       "      <td>0.735756</td>\n",
       "    </tr>\n",
       "    <tr>\n",
       "      <th>Correct value</th>\n",
       "      <td>1.242806e+00</td>\n",
       "      <td>1.110342e+00</td>\n",
       "      <td>1.0</td>\n",
       "      <td>9.096748e-01</td>\n",
       "      <td>8.374615e-01</td>\n",
       "      <td>7.816364e-01</td>\n",
       "      <td>0.740640</td>\n",
       "      <td>0.713061</td>\n",
       "      <td>0.697623</td>\n",
       "      <td>0.693171</td>\n",
       "      <td>0.698658</td>\n",
       "      <td>0.713139</td>\n",
       "      <td>0.735759</td>\n",
       "    </tr>\n",
       "    <tr>\n",
       "      <th>Error</th>\n",
       "      <td>1.829870e-07</td>\n",
       "      <td>2.817962e-09</td>\n",
       "      <td>0.0</td>\n",
       "      <td>2.738586e-09</td>\n",
       "      <td>1.728226e-07</td>\n",
       "      <td>7.538634e-07</td>\n",
       "      <td>0.000001</td>\n",
       "      <td>0.000002</td>\n",
       "      <td>0.000002</td>\n",
       "      <td>0.000002</td>\n",
       "      <td>0.000002</td>\n",
       "      <td>0.000002</td>\n",
       "      <td>0.000002</td>\n",
       "    </tr>\n",
       "  </tbody>\n",
       "</table>\n",
       "</div>"
      ],
      "text/plain": [
       "                         0             1    2             3             4   \\\n",
       "Node          -2.000000e-01 -1.000000e-01  0.0  1.000000e-01  2.000000e-01   \n",
       "Value          1.242805e+00  1.110342e+00  1.0  9.096748e-01  8.374613e-01   \n",
       "Correct value  1.242806e+00  1.110342e+00  1.0  9.096748e-01  8.374615e-01   \n",
       "Error          1.829870e-07  2.817962e-09  0.0  2.738586e-09  1.728226e-07   \n",
       "\n",
       "                         5         6         7         8         9         10  \\\n",
       "Node           3.000000e-01  0.400000  0.500000  0.600000  0.700000  0.800000   \n",
       "Value          7.816357e-01  0.740639  0.713060  0.697621  0.693168  0.698656   \n",
       "Correct value  7.816364e-01  0.740640  0.713061  0.697623  0.693171  0.698658   \n",
       "Error          7.538634e-07  0.000001  0.000002  0.000002  0.000002  0.000002   \n",
       "\n",
       "                     11        12  \n",
       "Node           0.900000  1.000000  \n",
       "Value          0.713137  0.735756  \n",
       "Correct value  0.713139  0.735759  \n",
       "Error          0.000002  0.000002  "
      ]
     },
     "execution_count": 17,
     "metadata": {},
     "output_type": "execute_result"
    }
   ],
   "source": [
    "df"
   ]
  },
  {
   "cell_type": "markdown",
   "id": "7bffc4d3",
   "metadata": {},
   "source": [
    "## Метод Эйлера"
   ]
  },
  {
   "cell_type": "markdown",
   "id": "259f94bc",
   "metadata": {},
   "source": [
    "### $y_{k+1} = y_k + hf(x_k, y_k)$"
   ]
  },
  {
   "cell_type": "code",
   "execution_count": 18,
   "id": "78b32722",
   "metadata": {},
   "outputs": [],
   "source": [
    "def method_euler(\n",
    "    func: Callable,\n",
    "    x_0: float,\n",
    "    y_0: float,\n",
    "    h: float,\n",
    "    N: int\n",
    "    ):\n",
    "    \n",
    "    node_value = [[x_0], [y_0]]\n",
    "    x = x_0\n",
    "    y = y_0\n",
    "    for _ in range(N):\n",
    "        y = y + h * func(x, y)\n",
    "        x += h\n",
    "        node_value[0].append(x)\n",
    "        node_value[1].append(y)\n",
    "    node_value = np.array([np.array(node_value[0]), np.array(node_value[1])])\n",
    "    return node_value"
   ]
  },
  {
   "cell_type": "code",
   "execution_count": 19,
   "id": "c4de593d",
   "metadata": {},
   "outputs": [],
   "source": [
    "node_value = method_euler(func,x_0, y_0, h, N)"
   ]
  },
  {
   "cell_type": "code",
   "execution_count": 20,
   "id": "5687824a",
   "metadata": {},
   "outputs": [],
   "source": [
    "correct_value = solve(node_value[0])"
   ]
  },
  {
   "cell_type": "code",
   "execution_count": 21,
   "id": "813867a1",
   "metadata": {},
   "outputs": [],
   "source": [
    "df = pd.DataFrame(np.array([node_value[0],\n",
    "                           node_value[1],\n",
    "                           correct_value,\n",
    "                           correct_value - node_value[1]]),\n",
    "                  index = ['Node', \n",
    "                           'Value',\n",
    "                           'Correct value',\n",
    "                           'Error'])"
   ]
  },
  {
   "cell_type": "code",
   "execution_count": 22,
   "id": "453dfc04",
   "metadata": {},
   "outputs": [
    {
     "data": {
      "text/html": [
       "<div>\n",
       "<style scoped>\n",
       "    .dataframe tbody tr th:only-of-type {\n",
       "        vertical-align: middle;\n",
       "    }\n",
       "\n",
       "    .dataframe tbody tr th {\n",
       "        vertical-align: top;\n",
       "    }\n",
       "\n",
       "    .dataframe thead th {\n",
       "        text-align: right;\n",
       "    }\n",
       "</style>\n",
       "<table border=\"1\" class=\"dataframe\">\n",
       "  <thead>\n",
       "    <tr style=\"text-align: right;\">\n",
       "      <th></th>\n",
       "      <th>0</th>\n",
       "      <th>1</th>\n",
       "      <th>2</th>\n",
       "      <th>3</th>\n",
       "      <th>4</th>\n",
       "      <th>5</th>\n",
       "      <th>6</th>\n",
       "      <th>7</th>\n",
       "      <th>8</th>\n",
       "      <th>9</th>\n",
       "      <th>10</th>\n",
       "    </tr>\n",
       "  </thead>\n",
       "  <tbody>\n",
       "    <tr>\n",
       "      <th>Node</th>\n",
       "      <td>0.0</td>\n",
       "      <td>0.100000</td>\n",
       "      <td>0.200000</td>\n",
       "      <td>0.300000</td>\n",
       "      <td>0.40000</td>\n",
       "      <td>0.500000</td>\n",
       "      <td>0.600000</td>\n",
       "      <td>0.700000</td>\n",
       "      <td>0.800000</td>\n",
       "      <td>0.900000</td>\n",
       "      <td>1.000000</td>\n",
       "    </tr>\n",
       "    <tr>\n",
       "      <th>Value</th>\n",
       "      <td>1.0</td>\n",
       "      <td>0.900000</td>\n",
       "      <td>0.820000</td>\n",
       "      <td>0.758000</td>\n",
       "      <td>0.71220</td>\n",
       "      <td>0.680980</td>\n",
       "      <td>0.662882</td>\n",
       "      <td>0.656594</td>\n",
       "      <td>0.660934</td>\n",
       "      <td>0.674841</td>\n",
       "      <td>0.697357</td>\n",
       "    </tr>\n",
       "    <tr>\n",
       "      <th>Correct value</th>\n",
       "      <td>1.0</td>\n",
       "      <td>0.909675</td>\n",
       "      <td>0.837462</td>\n",
       "      <td>0.781636</td>\n",
       "      <td>0.74064</td>\n",
       "      <td>0.713061</td>\n",
       "      <td>0.697623</td>\n",
       "      <td>0.693171</td>\n",
       "      <td>0.698658</td>\n",
       "      <td>0.713139</td>\n",
       "      <td>0.735759</td>\n",
       "    </tr>\n",
       "    <tr>\n",
       "      <th>Error</th>\n",
       "      <td>0.0</td>\n",
       "      <td>0.009675</td>\n",
       "      <td>0.017462</td>\n",
       "      <td>0.023636</td>\n",
       "      <td>0.02844</td>\n",
       "      <td>0.032081</td>\n",
       "      <td>0.034741</td>\n",
       "      <td>0.036577</td>\n",
       "      <td>0.037724</td>\n",
       "      <td>0.038298</td>\n",
       "      <td>0.038402</td>\n",
       "    </tr>\n",
       "  </tbody>\n",
       "</table>\n",
       "</div>"
      ],
      "text/plain": [
       "                0         1         2         3        4         5         6   \\\n",
       "Node           0.0  0.100000  0.200000  0.300000  0.40000  0.500000  0.600000   \n",
       "Value          1.0  0.900000  0.820000  0.758000  0.71220  0.680980  0.662882   \n",
       "Correct value  1.0  0.909675  0.837462  0.781636  0.74064  0.713061  0.697623   \n",
       "Error          0.0  0.009675  0.017462  0.023636  0.02844  0.032081  0.034741   \n",
       "\n",
       "                     7         8         9         10  \n",
       "Node           0.700000  0.800000  0.900000  1.000000  \n",
       "Value          0.656594  0.660934  0.674841  0.697357  \n",
       "Correct value  0.693171  0.698658  0.713139  0.735759  \n",
       "Error          0.036577  0.037724  0.038298  0.038402  "
      ]
     },
     "execution_count": 22,
     "metadata": {},
     "output_type": "execute_result"
    }
   ],
   "source": [
    "df"
   ]
  },
  {
   "cell_type": "markdown",
   "id": "e0e322d6",
   "metadata": {},
   "source": [
    "## Метод Эйлера. Модификация 1"
   ]
  },
  {
   "cell_type": "markdown",
   "id": "140ea3ca",
   "metadata": {},
   "source": [
    "   ### I) $y_{k+1/2} = y_k + \\frac{h}{2}f(x_k, y_k)$"
   ]
  },
  {
   "cell_type": "markdown",
   "id": "0dd294d5",
   "metadata": {},
   "source": [
    "### II) $y_{k+1} = y_k + hf(x_k + \\frac{h}{2}, y_{k + 1/2})$"
   ]
  },
  {
   "cell_type": "code",
   "execution_count": 23,
   "id": "b56eb2ee",
   "metadata": {},
   "outputs": [],
   "source": [
    "def method_euler_mod1(\n",
    "    func: Callable,\n",
    "    x_0: float,\n",
    "    y_0: float,\n",
    "    h: float,\n",
    "    N: int\n",
    "    ):\n",
    "    \n",
    "    node_value = [[x_0], [y_0]]\n",
    "    x = x_0\n",
    "    y = y_0\n",
    "    for _ in range(N):\n",
    "        y_  = y + h/2 * func(x, y)\n",
    "        y = y + h * func(x + h/2, y_)\n",
    "        x += h\n",
    "        node_value[0].append(x)\n",
    "        node_value[1].append(y)\n",
    "    node_value = np.array([np.array(node_value[0]), np.array(node_value[1])])\n",
    "    return node_value"
   ]
  },
  {
   "cell_type": "code",
   "execution_count": 24,
   "id": "a117b0a5",
   "metadata": {},
   "outputs": [],
   "source": [
    "node_value1 = method_euler_mod1(func,x_0, y_0, h, N)"
   ]
  },
  {
   "cell_type": "code",
   "execution_count": 25,
   "id": "73a50293",
   "metadata": {},
   "outputs": [],
   "source": [
    "correct_value1 = solve(node_value1[0])"
   ]
  },
  {
   "cell_type": "code",
   "execution_count": 26,
   "id": "d5cf6af5",
   "metadata": {},
   "outputs": [],
   "source": [
    "df = pd.DataFrame(np.array([node_value1[0],\n",
    "                           node_value1[1],\n",
    "                           correct_value1,\n",
    "                           correct_value1 - node_value1[1]]),\n",
    "                  index = ['Node', \n",
    "                           'Value',\n",
    "                           'Correct value',\n",
    "                           'Error'])"
   ]
  },
  {
   "cell_type": "code",
   "execution_count": 27,
   "id": "a3f6ad20",
   "metadata": {},
   "outputs": [
    {
     "data": {
      "text/html": [
       "<div>\n",
       "<style scoped>\n",
       "    .dataframe tbody tr th:only-of-type {\n",
       "        vertical-align: middle;\n",
       "    }\n",
       "\n",
       "    .dataframe tbody tr th {\n",
       "        vertical-align: top;\n",
       "    }\n",
       "\n",
       "    .dataframe thead th {\n",
       "        text-align: right;\n",
       "    }\n",
       "</style>\n",
       "<table border=\"1\" class=\"dataframe\">\n",
       "  <thead>\n",
       "    <tr style=\"text-align: right;\">\n",
       "      <th></th>\n",
       "      <th>0</th>\n",
       "      <th>1</th>\n",
       "      <th>2</th>\n",
       "      <th>3</th>\n",
       "      <th>4</th>\n",
       "      <th>5</th>\n",
       "      <th>6</th>\n",
       "      <th>7</th>\n",
       "      <th>8</th>\n",
       "      <th>9</th>\n",
       "      <th>10</th>\n",
       "    </tr>\n",
       "  </thead>\n",
       "  <tbody>\n",
       "    <tr>\n",
       "      <th>Node</th>\n",
       "      <td>0.0</td>\n",
       "      <td>0.100000</td>\n",
       "      <td>0.200000</td>\n",
       "      <td>0.300000</td>\n",
       "      <td>0.400000</td>\n",
       "      <td>0.500000</td>\n",
       "      <td>0.600000</td>\n",
       "      <td>0.700000</td>\n",
       "      <td>0.800000</td>\n",
       "      <td>0.900000</td>\n",
       "      <td>1.000000</td>\n",
       "    </tr>\n",
       "    <tr>\n",
       "      <th>Value</th>\n",
       "      <td>1.0</td>\n",
       "      <td>0.910000</td>\n",
       "      <td>0.838050</td>\n",
       "      <td>0.782435</td>\n",
       "      <td>0.741604</td>\n",
       "      <td>0.714152</td>\n",
       "      <td>0.698807</td>\n",
       "      <td>0.694420</td>\n",
       "      <td>0.699951</td>\n",
       "      <td>0.714455</td>\n",
       "      <td>0.737082</td>\n",
       "    </tr>\n",
       "    <tr>\n",
       "      <th>Correct value</th>\n",
       "      <td>1.0</td>\n",
       "      <td>0.909675</td>\n",
       "      <td>0.837462</td>\n",
       "      <td>0.781636</td>\n",
       "      <td>0.740640</td>\n",
       "      <td>0.713061</td>\n",
       "      <td>0.697623</td>\n",
       "      <td>0.693171</td>\n",
       "      <td>0.698658</td>\n",
       "      <td>0.713139</td>\n",
       "      <td>0.735759</td>\n",
       "    </tr>\n",
       "    <tr>\n",
       "      <th>Error</th>\n",
       "      <td>0.0</td>\n",
       "      <td>-0.000325</td>\n",
       "      <td>-0.000588</td>\n",
       "      <td>-0.000799</td>\n",
       "      <td>-0.000964</td>\n",
       "      <td>-0.001090</td>\n",
       "      <td>-0.001184</td>\n",
       "      <td>-0.001250</td>\n",
       "      <td>-0.001293</td>\n",
       "      <td>-0.001316</td>\n",
       "      <td>-0.001323</td>\n",
       "    </tr>\n",
       "  </tbody>\n",
       "</table>\n",
       "</div>"
      ],
      "text/plain": [
       "                0         1         2         3         4         5   \\\n",
       "Node           0.0  0.100000  0.200000  0.300000  0.400000  0.500000   \n",
       "Value          1.0  0.910000  0.838050  0.782435  0.741604  0.714152   \n",
       "Correct value  1.0  0.909675  0.837462  0.781636  0.740640  0.713061   \n",
       "Error          0.0 -0.000325 -0.000588 -0.000799 -0.000964 -0.001090   \n",
       "\n",
       "                     6         7         8         9         10  \n",
       "Node           0.600000  0.700000  0.800000  0.900000  1.000000  \n",
       "Value          0.698807  0.694420  0.699951  0.714455  0.737082  \n",
       "Correct value  0.697623  0.693171  0.698658  0.713139  0.735759  \n",
       "Error         -0.001184 -0.001250 -0.001293 -0.001316 -0.001323  "
      ]
     },
     "execution_count": 27,
     "metadata": {},
     "output_type": "execute_result"
    }
   ],
   "source": [
    "df"
   ]
  },
  {
   "cell_type": "markdown",
   "id": "589d2099",
   "metadata": {},
   "source": [
    "## Метод Эйлера. Модификация 2"
   ]
  },
  {
   "cell_type": "markdown",
   "id": "7e2f2969",
   "metadata": {},
   "source": [
    "### $Y_{k+1} = y_k + h f(x_k, y_k)$"
   ]
  },
  {
   "cell_type": "markdown",
   "id": "42ccd5e1",
   "metadata": {},
   "source": [
    "### $y_{k+1} = y_k + \\frac{h}{2} [f(x_k, y_k) + f(x_{k+1}, Y_{k+1})]$"
   ]
  },
  {
   "cell_type": "code",
   "execution_count": 28,
   "id": "b1c8d51e",
   "metadata": {},
   "outputs": [],
   "source": [
    "def method_second(\n",
    "    func: Callable,\n",
    "    x_0: float,\n",
    "    y_0: float,\n",
    "    h: float,\n",
    "    N: int\n",
    "    ):\n",
    "    \n",
    "    node_value = [[x_0], [y_0]]\n",
    "    x = x_0\n",
    "    y = y_0\n",
    "    for _ in range(N):\n",
    "        # 1 \n",
    "        Y = y + h * func(x, y)\n",
    "        # 2\n",
    "        x = x + h\n",
    "        y = y + h/2 * (func(x - h, y) + func(x, Y))\n",
    "        node_value[0].append(x)\n",
    "        node_value[1].append(y)\n",
    "    node_value = np.array([np.array(node_value[0]), np.array(node_value[1])])\n",
    "    return node_value"
   ]
  },
  {
   "cell_type": "code",
   "execution_count": 29,
   "id": "b86be167",
   "metadata": {},
   "outputs": [],
   "source": [
    "node_value2 = method_second(func,x_0, y_0, h, N)"
   ]
  },
  {
   "cell_type": "code",
   "execution_count": 30,
   "id": "3a0eda61",
   "metadata": {},
   "outputs": [],
   "source": [
    "df = pd.DataFrame(np.array([node_value2[0],\n",
    "                           node_value2[1],\n",
    "                           correct_value1,\n",
    "                           correct_value1 - node_value2[1]]),\n",
    "                  index = ['Node', \n",
    "                           'Value',\n",
    "                           'Correct value',\n",
    "                           'Error'])"
   ]
  },
  {
   "cell_type": "code",
   "execution_count": 31,
   "id": "ead603a4",
   "metadata": {},
   "outputs": [
    {
     "data": {
      "text/html": [
       "<div>\n",
       "<style scoped>\n",
       "    .dataframe tbody tr th:only-of-type {\n",
       "        vertical-align: middle;\n",
       "    }\n",
       "\n",
       "    .dataframe tbody tr th {\n",
       "        vertical-align: top;\n",
       "    }\n",
       "\n",
       "    .dataframe thead th {\n",
       "        text-align: right;\n",
       "    }\n",
       "</style>\n",
       "<table border=\"1\" class=\"dataframe\">\n",
       "  <thead>\n",
       "    <tr style=\"text-align: right;\">\n",
       "      <th></th>\n",
       "      <th>0</th>\n",
       "      <th>1</th>\n",
       "      <th>2</th>\n",
       "      <th>3</th>\n",
       "      <th>4</th>\n",
       "      <th>5</th>\n",
       "      <th>6</th>\n",
       "      <th>7</th>\n",
       "      <th>8</th>\n",
       "      <th>9</th>\n",
       "      <th>10</th>\n",
       "    </tr>\n",
       "  </thead>\n",
       "  <tbody>\n",
       "    <tr>\n",
       "      <th>Node</th>\n",
       "      <td>0.0</td>\n",
       "      <td>0.100000</td>\n",
       "      <td>0.200000</td>\n",
       "      <td>0.300000</td>\n",
       "      <td>0.400000</td>\n",
       "      <td>0.500000</td>\n",
       "      <td>0.600000</td>\n",
       "      <td>0.700000</td>\n",
       "      <td>0.800000</td>\n",
       "      <td>0.900000</td>\n",
       "      <td>1.000000</td>\n",
       "    </tr>\n",
       "    <tr>\n",
       "      <th>Value</th>\n",
       "      <td>1.0</td>\n",
       "      <td>0.910000</td>\n",
       "      <td>0.838050</td>\n",
       "      <td>0.782435</td>\n",
       "      <td>0.741604</td>\n",
       "      <td>0.714152</td>\n",
       "      <td>0.698807</td>\n",
       "      <td>0.694420</td>\n",
       "      <td>0.699951</td>\n",
       "      <td>0.714455</td>\n",
       "      <td>0.737082</td>\n",
       "    </tr>\n",
       "    <tr>\n",
       "      <th>Correct value</th>\n",
       "      <td>1.0</td>\n",
       "      <td>0.909675</td>\n",
       "      <td>0.837462</td>\n",
       "      <td>0.781636</td>\n",
       "      <td>0.740640</td>\n",
       "      <td>0.713061</td>\n",
       "      <td>0.697623</td>\n",
       "      <td>0.693171</td>\n",
       "      <td>0.698658</td>\n",
       "      <td>0.713139</td>\n",
       "      <td>0.735759</td>\n",
       "    </tr>\n",
       "    <tr>\n",
       "      <th>Error</th>\n",
       "      <td>0.0</td>\n",
       "      <td>-0.000325</td>\n",
       "      <td>-0.000588</td>\n",
       "      <td>-0.000799</td>\n",
       "      <td>-0.000964</td>\n",
       "      <td>-0.001090</td>\n",
       "      <td>-0.001184</td>\n",
       "      <td>-0.001250</td>\n",
       "      <td>-0.001293</td>\n",
       "      <td>-0.001316</td>\n",
       "      <td>-0.001323</td>\n",
       "    </tr>\n",
       "  </tbody>\n",
       "</table>\n",
       "</div>"
      ],
      "text/plain": [
       "                0         1         2         3         4         5   \\\n",
       "Node           0.0  0.100000  0.200000  0.300000  0.400000  0.500000   \n",
       "Value          1.0  0.910000  0.838050  0.782435  0.741604  0.714152   \n",
       "Correct value  1.0  0.909675  0.837462  0.781636  0.740640  0.713061   \n",
       "Error          0.0 -0.000325 -0.000588 -0.000799 -0.000964 -0.001090   \n",
       "\n",
       "                     6         7         8         9         10  \n",
       "Node           0.600000  0.700000  0.800000  0.900000  1.000000  \n",
       "Value          0.698807  0.694420  0.699951  0.714455  0.737082  \n",
       "Correct value  0.697623  0.693171  0.698658  0.713139  0.735759  \n",
       "Error         -0.001184 -0.001250 -0.001293 -0.001316 -0.001323  "
      ]
     },
     "execution_count": 31,
     "metadata": {},
     "output_type": "execute_result"
    }
   ],
   "source": [
    "df"
   ]
  },
  {
   "cell_type": "markdown",
   "id": "2cb8f606",
   "metadata": {},
   "source": [
    "## Метод Рунге-Кутта"
   ]
  },
  {
   "cell_type": "code",
   "execution_count": 32,
   "id": "e8d81834",
   "metadata": {},
   "outputs": [],
   "source": [
    "def method_runge_kutta(\n",
    "    func: Callable,\n",
    "    x_0: float,\n",
    "    y_0: float,\n",
    "    h: float,\n",
    "    N: int\n",
    "    ):\n",
    "    \n",
    "    node_value = [[x_0], [y_0]]\n",
    "    x = x_0\n",
    "    y = y_0\n",
    "    for _ in range(N):\n",
    "        # 4 constant\n",
    "        \n",
    "        k_1 = h * func(x,y)\n",
    "        k_2 = h * func(x + h/2,y + k_1/2)\n",
    "        k_3 = h * func(x + h/2,y + k_2/2)\n",
    "        k_4 = h * func(x + h,y + k_3)\n",
    "        \n",
    "        # increment\n",
    "        \n",
    "        x += h\n",
    "        y += 1/6*(k_1 + 2 * k_2 + 2 *k_3 + k_4)\n",
    "        node_value[0].append(x)\n",
    "        node_value[1].append(y)\n",
    "    node_value = np.array([np.array(node_value[0]), np.array(node_value[1])])\n",
    "    return node_value"
   ]
  },
  {
   "cell_type": "code",
   "execution_count": 33,
   "id": "29e8027a",
   "metadata": {},
   "outputs": [],
   "source": [
    "node_value3 = method_runge_kutta(func,x_0, y_0, h, N)"
   ]
  },
  {
   "cell_type": "code",
   "execution_count": 34,
   "id": "f32188ff",
   "metadata": {},
   "outputs": [],
   "source": [
    "df = pd.DataFrame(np.array([node_value3[0],\n",
    "                           node_value3[1],\n",
    "                           correct_value1,\n",
    "                           correct_value1 - node_value3[1]]),\n",
    "                  index = ['Node', \n",
    "                           'Value',\n",
    "                           'Correct value',\n",
    "                           'Error'])"
   ]
  },
  {
   "cell_type": "code",
   "execution_count": 35,
   "id": "513c47e1",
   "metadata": {},
   "outputs": [
    {
     "data": {
      "text/html": [
       "<div>\n",
       "<style scoped>\n",
       "    .dataframe tbody tr th:only-of-type {\n",
       "        vertical-align: middle;\n",
       "    }\n",
       "\n",
       "    .dataframe tbody tr th {\n",
       "        vertical-align: top;\n",
       "    }\n",
       "\n",
       "    .dataframe thead th {\n",
       "        text-align: right;\n",
       "    }\n",
       "</style>\n",
       "<table border=\"1\" class=\"dataframe\">\n",
       "  <thead>\n",
       "    <tr style=\"text-align: right;\">\n",
       "      <th></th>\n",
       "      <th>0</th>\n",
       "      <th>1</th>\n",
       "      <th>2</th>\n",
       "      <th>3</th>\n",
       "      <th>4</th>\n",
       "      <th>5</th>\n",
       "      <th>6</th>\n",
       "      <th>7</th>\n",
       "      <th>8</th>\n",
       "      <th>9</th>\n",
       "      <th>10</th>\n",
       "    </tr>\n",
       "  </thead>\n",
       "  <tbody>\n",
       "    <tr>\n",
       "      <th>Node</th>\n",
       "      <td>0.0</td>\n",
       "      <td>1.000000e-01</td>\n",
       "      <td>2.000000e-01</td>\n",
       "      <td>3.000000e-01</td>\n",
       "      <td>4.000000e-01</td>\n",
       "      <td>5.000000e-01</td>\n",
       "      <td>6.000000e-01</td>\n",
       "      <td>7.000000e-01</td>\n",
       "      <td>8.000000e-01</td>\n",
       "      <td>9.000000e-01</td>\n",
       "      <td>1.000000e+00</td>\n",
       "    </tr>\n",
       "    <tr>\n",
       "      <th>Value</th>\n",
       "      <td>1.0</td>\n",
       "      <td>9.096750e-01</td>\n",
       "      <td>8.374618e-01</td>\n",
       "      <td>7.816368e-01</td>\n",
       "      <td>7.406406e-01</td>\n",
       "      <td>7.130619e-01</td>\n",
       "      <td>6.976239e-01</td>\n",
       "      <td>6.931712e-01</td>\n",
       "      <td>6.986586e-01</td>\n",
       "      <td>7.131400e-01</td>\n",
       "      <td>7.357595e-01</td>\n",
       "    </tr>\n",
       "    <tr>\n",
       "      <th>Correct value</th>\n",
       "      <td>1.0</td>\n",
       "      <td>9.096748e-01</td>\n",
       "      <td>8.374615e-01</td>\n",
       "      <td>7.816364e-01</td>\n",
       "      <td>7.406401e-01</td>\n",
       "      <td>7.130613e-01</td>\n",
       "      <td>6.976233e-01</td>\n",
       "      <td>6.931706e-01</td>\n",
       "      <td>6.986579e-01</td>\n",
       "      <td>7.131393e-01</td>\n",
       "      <td>7.357589e-01</td>\n",
       "    </tr>\n",
       "    <tr>\n",
       "      <th>Error</th>\n",
       "      <td>0.0</td>\n",
       "      <td>-1.639281e-07</td>\n",
       "      <td>-2.966565e-07</td>\n",
       "      <td>-4.026389e-07</td>\n",
       "      <td>-4.857637e-07</td>\n",
       "      <td>-5.494215e-07</td>\n",
       "      <td>-5.965646e-07</td>\n",
       "      <td>-6.297596e-07</td>\n",
       "      <td>-6.512344e-07</td>\n",
       "      <td>-6.629190e-07</td>\n",
       "      <td>-6.664821e-07</td>\n",
       "    </tr>\n",
       "  </tbody>\n",
       "</table>\n",
       "</div>"
      ],
      "text/plain": [
       "                0             1             2             3             4   \\\n",
       "Node           0.0  1.000000e-01  2.000000e-01  3.000000e-01  4.000000e-01   \n",
       "Value          1.0  9.096750e-01  8.374618e-01  7.816368e-01  7.406406e-01   \n",
       "Correct value  1.0  9.096748e-01  8.374615e-01  7.816364e-01  7.406401e-01   \n",
       "Error          0.0 -1.639281e-07 -2.966565e-07 -4.026389e-07 -4.857637e-07   \n",
       "\n",
       "                         5             6             7             8   \\\n",
       "Node           5.000000e-01  6.000000e-01  7.000000e-01  8.000000e-01   \n",
       "Value          7.130619e-01  6.976239e-01  6.931712e-01  6.986586e-01   \n",
       "Correct value  7.130613e-01  6.976233e-01  6.931706e-01  6.986579e-01   \n",
       "Error         -5.494215e-07 -5.965646e-07 -6.297596e-07 -6.512344e-07   \n",
       "\n",
       "                         9             10  \n",
       "Node           9.000000e-01  1.000000e+00  \n",
       "Value          7.131400e-01  7.357595e-01  \n",
       "Correct value  7.131393e-01  7.357589e-01  \n",
       "Error         -6.629190e-07 -6.664821e-07  "
      ]
     },
     "execution_count": 35,
     "metadata": {},
     "output_type": "execute_result"
    }
   ],
   "source": [
    "df"
   ]
  },
  {
   "cell_type": "code",
   "execution_count": null,
   "id": "fa95af20",
   "metadata": {},
   "outputs": [],
   "source": []
  },
  {
   "cell_type": "code",
   "execution_count": null,
   "id": "6880446f",
   "metadata": {},
   "outputs": [],
   "source": []
  },
  {
   "cell_type": "code",
   "execution_count": null,
   "id": "08f421fd",
   "metadata": {},
   "outputs": [],
   "source": []
  },
  {
   "cell_type": "code",
   "execution_count": null,
   "id": "d38abc9f",
   "metadata": {},
   "outputs": [],
   "source": []
  },
  {
   "cell_type": "code",
   "execution_count": null,
   "id": "3820b097",
   "metadata": {},
   "outputs": [],
   "source": []
  },
  {
   "cell_type": "code",
   "execution_count": null,
   "id": "b49f00d0",
   "metadata": {},
   "outputs": [],
   "source": []
  },
  {
   "cell_type": "code",
   "execution_count": null,
   "id": "cd01f036",
   "metadata": {},
   "outputs": [],
   "source": []
  },
  {
   "cell_type": "code",
   "execution_count": null,
   "id": "5cae9cb1",
   "metadata": {},
   "outputs": [],
   "source": []
  }
 ],
 "metadata": {
  "kernelspec": {
   "display_name": "Python 3 (ipykernel)",
   "language": "python",
   "name": "python3"
  },
  "language_info": {
   "codemirror_mode": {
    "name": "ipython",
    "version": 3
   },
   "file_extension": ".py",
   "mimetype": "text/x-python",
   "name": "python",
   "nbconvert_exporter": "python",
   "pygments_lexer": "ipython3",
   "version": "3.10.4"
  }
 },
 "nbformat": 4,
 "nbformat_minor": 5
}
