{
 "cells": [
  {
   "cell_type": "code",
   "execution_count": 1,
   "id": "comparable-rolling",
   "metadata": {},
   "outputs": [],
   "source": [
    "import numpy as np\n",
    "import pandas as pd\n",
    "np.random.seed(1)"
   ]
  },
  {
   "cell_type": "markdown",
   "id": "indie-orchestra",
   "metadata": {},
   "source": [
    "## Задание 2\n",
    "### Вариант 2\n",
    "Задача алгебраического интерполирования"
   ]
  },
  {
   "cell_type": "markdown",
   "id": "educational-material",
   "metadata": {},
   "source": [
    "Введем число значений в таблице(в нашем варианте $m + 1 = 16$):"
   ]
  },
  {
   "cell_type": "code",
   "execution_count": 2,
   "id": "ready-accessory",
   "metadata": {},
   "outputs": [
    {
     "name": "stdout",
     "output_type": "stream",
     "text": [
      "16\n"
     ]
    }
   ],
   "source": [
    "m = int(input())"
   ]
  },
  {
   "cell_type": "markdown",
   "id": "elder-appeal",
   "metadata": {},
   "source": [
    "Концы отрезка(в нашем варианте $a = 0$ и $b = 1.5$):"
   ]
  },
  {
   "cell_type": "code",
   "execution_count": 3,
   "id": "moderate-collar",
   "metadata": {},
   "outputs": [],
   "source": [
    "(left, right) = (0, 1.5)"
   ]
  },
  {
   "cell_type": "markdown",
   "id": "caring-hello",
   "metadata": {},
   "source": [
    "Зададим функцию. В варианте 2 это функция $f(x) = ln(1 + x)$"
   ]
  },
  {
   "cell_type": "code",
   "execution_count": 13,
   "id": "animated-complement",
   "metadata": {},
   "outputs": [],
   "source": [
    "def getFunc(arg: float) -> float:\n",
    "    return np.log(1 + arg)"
   ]
  },
  {
   "cell_type": "markdown",
   "id": "according-pottery",
   "metadata": {},
   "source": [
    "Случайным образом составим таблицу узлов интерполяции:"
   ]
  },
  {
   "cell_type": "code",
   "execution_count": 1,
   "id": "answering-edition",
   "metadata": {},
   "outputs": [
    {
     "ename": "NameError",
     "evalue": "name 'm' is not defined",
     "output_type": "error",
     "traceback": [
      "\u001b[0;31m---------------------------------------------------------------------------\u001b[0m",
      "\u001b[0;31mNameError\u001b[0m                                 Traceback (most recent call last)",
      "\u001b[0;32m<ipython-input-1-420abc52e128>\u001b[0m in \u001b[0;36m<module>\u001b[0;34m\u001b[0m\n\u001b[1;32m      1\u001b[0m \u001b[0mintPoints\u001b[0m \u001b[0;34m=\u001b[0m \u001b[0;34m[\u001b[0m\u001b[0;34m]\u001b[0m\u001b[0;34m\u001b[0m\u001b[0;34m\u001b[0m\u001b[0m\n\u001b[0;32m----> 2\u001b[0;31m \u001b[0;32mfor\u001b[0m \u001b[0mi\u001b[0m \u001b[0;32min\u001b[0m \u001b[0mrange\u001b[0m\u001b[0;34m(\u001b[0m\u001b[0mm\u001b[0m\u001b[0;34m)\u001b[0m\u001b[0;34m:\u001b[0m\u001b[0;34m\u001b[0m\u001b[0;34m\u001b[0m\u001b[0m\n\u001b[0m\u001b[1;32m      3\u001b[0m     \u001b[0mintPoints\u001b[0m\u001b[0;34m.\u001b[0m\u001b[0mappend\u001b[0m\u001b[0;34m(\u001b[0m\u001b[0mnp\u001b[0m\u001b[0;34m.\u001b[0m\u001b[0mrandom\u001b[0m\u001b[0;34m.\u001b[0m\u001b[0muniform\u001b[0m\u001b[0;34m(\u001b[0m\u001b[0mleft\u001b[0m\u001b[0;34m,\u001b[0m \u001b[0mright\u001b[0m\u001b[0;34m)\u001b[0m\u001b[0;34m)\u001b[0m\u001b[0;34m\u001b[0m\u001b[0;34m\u001b[0m\u001b[0m\n\u001b[1;32m      4\u001b[0m \u001b[0mintPoints\u001b[0m\u001b[0;34m.\u001b[0m\u001b[0msort\u001b[0m\u001b[0;34m(\u001b[0m\u001b[0;34m)\u001b[0m\u001b[0;34m\u001b[0m\u001b[0;34m\u001b[0m\u001b[0m\n\u001b[1;32m      5\u001b[0m \u001b[0md\u001b[0m \u001b[0;34m=\u001b[0m \u001b[0;34m{\u001b[0m\u001b[0;34m\"value\"\u001b[0m\u001b[0;34m:\u001b[0m \u001b[0mintPoints\u001b[0m\u001b[0;34m}\u001b[0m\u001b[0;34m\u001b[0m\u001b[0;34m\u001b[0m\u001b[0m\n",
      "\u001b[0;31mNameError\u001b[0m: name 'm' is not defined"
     ]
    }
   ],
   "source": [
    "intPoints = []\n",
    "for i in range(m):\n",
    "    intPoints.append(np.random.uniform(left, right))\n",
    "intPoints.sort()\n",
    "d = {\"value\": intPoints}\n",
    "df = pd.DataFrame(data = d, index=np.arange(1, m + 2))\n",
    "df"
   ]
  },
  {
   "cell_type": "markdown",
   "id": "funny-average",
   "metadata": {},
   "source": [
    "Точка интерполирования:"
   ]
  },
  {
   "cell_type": "code",
   "execution_count": 8,
   "id": "resident-noise",
   "metadata": {},
   "outputs": [
    {
     "name": "stdout",
     "output_type": "stream",
     "text": [
      "2\n"
     ]
    }
   ],
   "source": [
    "x = float(input())"
   ]
  },
  {
   "cell_type": "markdown",
   "id": "spare-ticket",
   "metadata": {},
   "source": [
    "Степень интерполяционного многочлена(По условию $n \\leq m$): "
   ]
  },
  {
   "cell_type": "code",
   "execution_count": 9,
   "id": "constitutional-gardening",
   "metadata": {},
   "outputs": [
    {
     "name": "stdout",
     "output_type": "stream",
     "text": [
      "15\n"
     ]
    }
   ],
   "source": [
    "n = int(input())\n",
    "while (n > m):\n",
    "    print(\"Please, enter n <= m\")\n",
    "    n = int(input())"
   ]
  },
  {
   "cell_type": "markdown",
   "id": "broke-sharing",
   "metadata": {},
   "source": [
    "### Решение задачи алгебраического интерполирования:"
   ]
  },
  {
   "cell_type": "markdown",
   "id": "fundamental-debate",
   "metadata": {},
   "source": [
    "Выберем $n + 1$ аргумент из таблицы, которые являются самыми ближайшими к точке интерполирования $x$. И после этого отсортируем получившийся массив:"
   ]
  },
  {
   "cell_type": "code",
   "execution_count": 10,
   "id": "miniature-project",
   "metadata": {},
   "outputs": [
    {
     "data": {
      "text/html": [
       "<div>\n",
       "<style scoped>\n",
       "    .dataframe tbody tr th:only-of-type {\n",
       "        vertical-align: middle;\n",
       "    }\n",
       "\n",
       "    .dataframe tbody tr th {\n",
       "        vertical-align: top;\n",
       "    }\n",
       "\n",
       "    .dataframe thead th {\n",
       "        text-align: right;\n",
       "    }\n",
       "</style>\n",
       "<table border=\"1\" class=\"dataframe\">\n",
       "  <thead>\n",
       "    <tr style=\"text-align: right;\">\n",
       "      <th></th>\n",
       "      <th>value</th>\n",
       "    </tr>\n",
       "  </thead>\n",
       "  <tbody>\n",
       "    <tr>\n",
       "      <th>1</th>\n",
       "      <td>0.127566</td>\n",
       "    </tr>\n",
       "    <tr>\n",
       "      <th>2</th>\n",
       "      <td>0.147520</td>\n",
       "    </tr>\n",
       "    <tr>\n",
       "      <th>3</th>\n",
       "      <td>0.210580</td>\n",
       "    </tr>\n",
       "    <tr>\n",
       "      <th>4</th>\n",
       "      <td>0.254746</td>\n",
       "    </tr>\n",
       "    <tr>\n",
       "      <th>5</th>\n",
       "      <td>0.297152</td>\n",
       "    </tr>\n",
       "    <tr>\n",
       "      <th>6</th>\n",
       "      <td>0.470136</td>\n",
       "    </tr>\n",
       "    <tr>\n",
       "      <th>7</th>\n",
       "      <td>0.625957</td>\n",
       "    </tr>\n",
       "    <tr>\n",
       "      <th>8</th>\n",
       "      <td>0.631661</td>\n",
       "    </tr>\n",
       "    <tr>\n",
       "      <th>9</th>\n",
       "      <td>0.838035</td>\n",
       "    </tr>\n",
       "    <tr>\n",
       "      <th>10</th>\n",
       "      <td>1.038484</td>\n",
       "    </tr>\n",
       "    <tr>\n",
       "      <th>11</th>\n",
       "      <td>1.201117</td>\n",
       "    </tr>\n",
       "    <tr>\n",
       "      <th>12</th>\n",
       "      <td>1.314584</td>\n",
       "    </tr>\n",
       "    <tr>\n",
       "      <th>13</th>\n",
       "      <td>1.317214</td>\n",
       "    </tr>\n",
       "    <tr>\n",
       "      <th>14</th>\n",
       "      <td>1.341910</td>\n",
       "    </tr>\n",
       "    <tr>\n",
       "      <th>15</th>\n",
       "      <td>1.452392</td>\n",
       "    </tr>\n",
       "  </tbody>\n",
       "</table>\n",
       "</div>"
      ],
      "text/plain": [
       "       value\n",
       "1   0.127566\n",
       "2   0.147520\n",
       "3   0.210580\n",
       "4   0.254746\n",
       "5   0.297152\n",
       "6   0.470136\n",
       "7   0.625957\n",
       "8   0.631661\n",
       "9   0.838035\n",
       "10  1.038484\n",
       "11  1.201117\n",
       "12  1.314584\n",
       "13  1.317214\n",
       "14  1.341910\n",
       "15  1.452392"
      ]
     },
     "execution_count": 10,
     "metadata": {},
     "output_type": "execute_result"
    }
   ],
   "source": [
    "intPoints.sort(key = lambda i: np.abs(i - x))\n",
    "intPoints = intPoints[:n]\n",
    "intPoints.sort()\n",
    "d = {\"value\": intPoints}\n",
    "df = pd.DataFrame(data = d, index=np.arange(1, n + 1))\n",
    "df"
   ]
  },
  {
   "cell_type": "markdown",
   "id": "preceding-kinase",
   "metadata": {},
   "source": [
    "#### Метод Лагранжа:"
   ]
  },
  {
   "cell_type": "code",
   "execution_count": 11,
   "id": "czech-discharge",
   "metadata": {},
   "outputs": [],
   "source": [
    "def lagrange(xp: float, x, func) -> float:\n",
    "    global n\n",
    "    yp = 0\n",
    "    for i in range(n):\n",
    "        p = 1\n",
    "        for j in range(n):\n",
    "            if i != j:\n",
    "                p = p * (xp - x[j])/(x[i] - x[j])\n",
    "    \n",
    "        yp = yp + p * func(x[i]) \n",
    "    return yp"
   ]
  },
  {
   "cell_type": "code",
   "execution_count": 14,
   "id": "worse-conspiracy",
   "metadata": {},
   "outputs": [
    {
     "name": "stdout",
     "output_type": "stream",
     "text": [
      "Value:  1.0984942625655094\n",
      "Disperency module:  0.00011802610260036595\n"
     ]
    }
   ],
   "source": [
    "value = lagrange(x, intPoints, getFunc)\n",
    "dsvalue = np.abs(value - getFunc(x))\n",
    "print('Value: ', value)\n",
    "print('Disperency module: ', dsvalue)"
   ]
  },
  {
   "cell_type": "markdown",
   "id": "fluid-republican",
   "metadata": {},
   "source": [
    "#### Метод Ньютона:"
   ]
  },
  {
   "cell_type": "markdown",
   "id": "rational-carpet",
   "metadata": {},
   "source": [
    "Найдем матрицу разделенную разность:"
   ]
  },
  {
   "cell_type": "code",
   "execution_count": 15,
   "id": "offshore-receiver",
   "metadata": {},
   "outputs": [],
   "source": [
    "def dividedDiff(x, func):\n",
    "    global n, m\n",
    "    A = np.zeros((n,n+1))\n",
    "    A[:,0]= x[:]\n",
    "    for i in range(n):\n",
    "        A[i, 1] = func(x[i])\n",
    "    for j in range(2,n+1):\n",
    "        for i in range(j-1,n):\n",
    "            A[i,j] = (A[i,j-1]-A[i-1,j-1]) / (A[i,0]-A[i-j+1,0])\n",
    "    p = np.zeros(n)\n",
    "    for k in range(0,n):\n",
    "        p[k] = A[k,k+1]\n",
    "    return p"
   ]
  },
  {
   "cell_type": "code",
   "execution_count": 16,
   "id": "elect-dublin",
   "metadata": {},
   "outputs": [],
   "source": [
    "def newton(xp: float, x, func):\n",
    "    global n\n",
    "    p = dividedDiff(x, func)\n",
    "    print('A = ',p)\n",
    "    prev = p[n - 1]\n",
    "    for i in range(n-2, -1, -1):\n",
    "        prev = prev*(xp - x[i]) + p[i]\n",
    "    return prev"
   ]
  },
  {
   "cell_type": "code",
   "execution_count": 17,
   "id": "naval-terminology",
   "metadata": {},
   "outputs": [
    {
     "name": "stdout",
     "output_type": "stream",
     "text": [
      "A =  [ 1.20061608e-01  8.79109970e-01 -3.70629744e-01  2.00703432e-01\n",
      " -1.18136464e-01  6.63241157e-02 -3.52060239e-02  1.90038184e-02\n",
      " -9.34433491e-03  4.21710114e-03 -1.78367466e-03  7.23232983e-04\n",
      " -2.94118020e-04  1.18829085e-04 -4.60874043e-05]\n",
      "Value:  1.0984943242790022\n",
      "Disperency module:  0.00011796438910760543\n"
     ]
    }
   ],
   "source": [
    "value = newton(x, intPoints, getFunc)\n",
    "dsvalue = np.abs(value - getFunc(x))\n",
    "print('Value: ', value)\n",
    "print('Disperency module: ', dsvalue)"
   ]
  }
 ],
 "metadata": {
  "kernelspec": {
   "display_name": "Python 3",
   "language": "python",
   "name": "python3"
  },
  "language_info": {
   "codemirror_mode": {
    "name": "ipython",
    "version": 3
   },
   "file_extension": ".py",
   "mimetype": "text/x-python",
   "name": "python",
   "nbconvert_exporter": "python",
   "pygments_lexer": "ipython3",
   "version": "3.7.6"
  }
 },
 "nbformat": 4,
 "nbformat_minor": 5
}
