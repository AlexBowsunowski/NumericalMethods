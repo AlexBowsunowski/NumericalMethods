{
 "cells": [
  {
   "cell_type": "code",
   "execution_count": 30,
   "id": "comparable-rolling",
   "metadata": {},
   "outputs": [],
   "source": [
    "import numpy as np\n",
    "import pandas as pd\n",
    "np.random.seed(1)"
   ]
  },
  {
   "cell_type": "markdown",
   "id": "indie-orchestra",
   "metadata": {},
   "source": [
    "## Задание 2\n",
    "### Вариант 2\n",
    "Задача алгебраического интерполирования"
   ]
  },
  {
   "cell_type": "markdown",
   "id": "educational-material",
   "metadata": {},
   "source": [
    "Введем число значений в таблице(в нашем варианте $m + 1 = 16$):"
   ]
  },
  {
   "cell_type": "code",
   "execution_count": 31,
   "id": "ready-accessory",
   "metadata": {},
   "outputs": [
    {
     "name": "stdout",
     "output_type": "stream",
     "text": [
      "16\n"
     ]
    }
   ],
   "source": [
    "m = int(input())"
   ]
  },
  {
   "cell_type": "markdown",
   "id": "elder-appeal",
   "metadata": {},
   "source": [
    "Концы отрезка(в нашем варианте $a = 0$ и $b = 1.5$):"
   ]
  },
  {
   "cell_type": "code",
   "execution_count": 32,
   "id": "moderate-collar",
   "metadata": {},
   "outputs": [],
   "source": [
    "(left, right) = (0, 1.5)"
   ]
  },
  {
   "cell_type": "markdown",
   "id": "caring-hello",
   "metadata": {},
   "source": [
    "Зададим функцию. В варианте 2 это функция $f(x) = ln(1 + x)$"
   ]
  },
  {
   "cell_type": "code",
   "execution_count": 33,
   "id": "animated-complement",
   "metadata": {},
   "outputs": [],
   "source": [
    "def getFunc(arg: float) -> float:\n",
    "    global left, right\n",
    "    if (arg >= left and arg <= right):\n",
    "        return np.log(1 + arg)\n",
    "    else:\n",
    "        raise Exception('Out of search exception')"
   ]
  },
  {
   "cell_type": "markdown",
   "id": "spare-ticket",
   "metadata": {},
   "source": [
    "Степень интерполяционного многочлена(По условию $n \\leq m$): "
   ]
  },
  {
   "cell_type": "code",
   "execution_count": 34,
   "id": "constitutional-gardening",
   "metadata": {},
   "outputs": [
    {
     "name": "stdout",
     "output_type": "stream",
     "text": [
      "14\n"
     ]
    }
   ],
   "source": [
    "n = int(input())\n",
    "while (n > m):\n",
    "    print(\"Please, enter n <= m\")\n",
    "    n = int(input())"
   ]
  },
  {
   "cell_type": "markdown",
   "id": "funny-average",
   "metadata": {},
   "source": [
    "Точка интерполирования:"
   ]
  },
  {
   "cell_type": "code",
   "execution_count": 35,
   "id": "resident-noise",
   "metadata": {},
   "outputs": [
    {
     "name": "stdout",
     "output_type": "stream",
     "text": [
      "0.7\n"
     ]
    }
   ],
   "source": [
    "x = float(input())"
   ]
  },
  {
   "cell_type": "markdown",
   "id": "upper-surgeon",
   "metadata": {},
   "source": [
    "### Подготовительный этап:"
   ]
  },
  {
   "cell_type": "markdown",
   "id": "according-pottery",
   "metadata": {},
   "source": [
    "Случайным образом составим таблицу узлов интерполяции:"
   ]
  },
  {
   "cell_type": "code",
   "execution_count": 36,
   "id": "answering-edition",
   "metadata": {},
   "outputs": [
    {
     "data": {
      "text/html": [
       "<div>\n",
       "<style scoped>\n",
       "    .dataframe tbody tr th:only-of-type {\n",
       "        vertical-align: middle;\n",
       "    }\n",
       "\n",
       "    .dataframe tbody tr th {\n",
       "        vertical-align: top;\n",
       "    }\n",
       "\n",
       "    .dataframe thead th {\n",
       "        text-align: right;\n",
       "    }\n",
       "</style>\n",
       "<table border=\"1\" class=\"dataframe\">\n",
       "  <thead>\n",
       "    <tr style=\"text-align: right;\">\n",
       "      <th></th>\n",
       "      <th>value</th>\n",
       "    </tr>\n",
       "  </thead>\n",
       "  <tbody>\n",
       "    <tr>\n",
       "      <th>1</th>\n",
       "      <td>0.625533</td>\n",
       "    </tr>\n",
       "    <tr>\n",
       "      <th>2</th>\n",
       "      <td>1.080487</td>\n",
       "    </tr>\n",
       "    <tr>\n",
       "      <th>3</th>\n",
       "      <td>0.000172</td>\n",
       "    </tr>\n",
       "    <tr>\n",
       "      <th>4</th>\n",
       "      <td>0.453499</td>\n",
       "    </tr>\n",
       "    <tr>\n",
       "      <th>5</th>\n",
       "      <td>0.220134</td>\n",
       "    </tr>\n",
       "    <tr>\n",
       "      <th>6</th>\n",
       "      <td>0.138508</td>\n",
       "    </tr>\n",
       "    <tr>\n",
       "      <th>7</th>\n",
       "      <td>0.279390</td>\n",
       "    </tr>\n",
       "    <tr>\n",
       "      <th>8</th>\n",
       "      <td>0.518341</td>\n",
       "    </tr>\n",
       "    <tr>\n",
       "      <th>9</th>\n",
       "      <td>0.595151</td>\n",
       "    </tr>\n",
       "    <tr>\n",
       "      <th>10</th>\n",
       "      <td>0.808225</td>\n",
       "    </tr>\n",
       "    <tr>\n",
       "      <th>11</th>\n",
       "      <td>0.628792</td>\n",
       "    </tr>\n",
       "    <tr>\n",
       "      <th>12</th>\n",
       "      <td>1.027829</td>\n",
       "    </tr>\n",
       "    <tr>\n",
       "      <th>13</th>\n",
       "      <td>0.306678</td>\n",
       "    </tr>\n",
       "    <tr>\n",
       "      <th>14</th>\n",
       "      <td>1.317176</td>\n",
       "    </tr>\n",
       "    <tr>\n",
       "      <th>15</th>\n",
       "      <td>0.041081</td>\n",
       "    </tr>\n",
       "    <tr>\n",
       "      <th>16</th>\n",
       "      <td>1.005701</td>\n",
       "    </tr>\n",
       "  </tbody>\n",
       "</table>\n",
       "</div>"
      ],
      "text/plain": [
       "       value\n",
       "1   0.625533\n",
       "2   1.080487\n",
       "3   0.000172\n",
       "4   0.453499\n",
       "5   0.220134\n",
       "6   0.138508\n",
       "7   0.279390\n",
       "8   0.518341\n",
       "9   0.595151\n",
       "10  0.808225\n",
       "11  0.628792\n",
       "12  1.027829\n",
       "13  0.306678\n",
       "14  1.317176\n",
       "15  0.041081\n",
       "16  1.005701"
      ]
     },
     "execution_count": 36,
     "metadata": {},
     "output_type": "execute_result"
    }
   ],
   "source": [
    "intPoints = []\n",
    "for i in range(m):\n",
    "    intPoints.append(np.random.uniform(left, right))\n",
    "d = {\"value\": intPoints}\n",
    "df = pd.DataFrame(data = d, index=np.arange(1, m + 1))\n",
    "df"
   ]
  },
  {
   "cell_type": "markdown",
   "id": "broke-sharing",
   "metadata": {},
   "source": [
    "### Решение задачи алгебраического интерполирования:"
   ]
  },
  {
   "cell_type": "markdown",
   "id": "fundamental-debate",
   "metadata": {},
   "source": [
    "Выберем $n + 1$ аргумент из таблицы, которые являются самыми ближайшими к точке интерполирования $x$. И после этого отсортируем получившийся массив:"
   ]
  },
  {
   "cell_type": "code",
   "execution_count": 38,
   "id": "miniature-project",
   "metadata": {},
   "outputs": [
    {
     "data": {
      "text/html": [
       "<div>\n",
       "<style scoped>\n",
       "    .dataframe tbody tr th:only-of-type {\n",
       "        vertical-align: middle;\n",
       "    }\n",
       "\n",
       "    .dataframe tbody tr th {\n",
       "        vertical-align: top;\n",
       "    }\n",
       "\n",
       "    .dataframe thead th {\n",
       "        text-align: right;\n",
       "    }\n",
       "</style>\n",
       "<table border=\"1\" class=\"dataframe\">\n",
       "  <thead>\n",
       "    <tr style=\"text-align: right;\">\n",
       "      <th></th>\n",
       "      <th>value</th>\n",
       "    </tr>\n",
       "  </thead>\n",
       "  <tbody>\n",
       "    <tr>\n",
       "      <th>1</th>\n",
       "      <td>0.138508</td>\n",
       "    </tr>\n",
       "    <tr>\n",
       "      <th>2</th>\n",
       "      <td>0.220134</td>\n",
       "    </tr>\n",
       "    <tr>\n",
       "      <th>3</th>\n",
       "      <td>0.279390</td>\n",
       "    </tr>\n",
       "    <tr>\n",
       "      <th>4</th>\n",
       "      <td>0.306678</td>\n",
       "    </tr>\n",
       "    <tr>\n",
       "      <th>5</th>\n",
       "      <td>0.453499</td>\n",
       "    </tr>\n",
       "    <tr>\n",
       "      <th>6</th>\n",
       "      <td>0.518341</td>\n",
       "    </tr>\n",
       "    <tr>\n",
       "      <th>7</th>\n",
       "      <td>0.595151</td>\n",
       "    </tr>\n",
       "    <tr>\n",
       "      <th>8</th>\n",
       "      <td>0.625533</td>\n",
       "    </tr>\n",
       "    <tr>\n",
       "      <th>9</th>\n",
       "      <td>0.628792</td>\n",
       "    </tr>\n",
       "    <tr>\n",
       "      <th>10</th>\n",
       "      <td>0.808225</td>\n",
       "    </tr>\n",
       "    <tr>\n",
       "      <th>11</th>\n",
       "      <td>1.005701</td>\n",
       "    </tr>\n",
       "    <tr>\n",
       "      <th>12</th>\n",
       "      <td>1.027829</td>\n",
       "    </tr>\n",
       "    <tr>\n",
       "      <th>13</th>\n",
       "      <td>1.080487</td>\n",
       "    </tr>\n",
       "    <tr>\n",
       "      <th>14</th>\n",
       "      <td>1.317176</td>\n",
       "    </tr>\n",
       "  </tbody>\n",
       "</table>\n",
       "</div>"
      ],
      "text/plain": [
       "       value\n",
       "1   0.138508\n",
       "2   0.220134\n",
       "3   0.279390\n",
       "4   0.306678\n",
       "5   0.453499\n",
       "6   0.518341\n",
       "7   0.595151\n",
       "8   0.625533\n",
       "9   0.628792\n",
       "10  0.808225\n",
       "11  1.005701\n",
       "12  1.027829\n",
       "13  1.080487\n",
       "14  1.317176"
      ]
     },
     "execution_count": 38,
     "metadata": {},
     "output_type": "execute_result"
    }
   ],
   "source": [
    "intPoints.sort(key = lambda i: np.abs(i - x))\n",
    "intPoints = intPoints[:n]\n",
    "intPoints.sort()\n",
    "d = {\"value\": intPoints}\n",
    "df = pd.DataFrame(data = d, index=np.arange(1, n + 1))\n",
    "df"
   ]
  },
  {
   "cell_type": "markdown",
   "id": "preceding-kinase",
   "metadata": {},
   "source": [
    "#### Метод Лагранжа:"
   ]
  },
  {
   "cell_type": "code",
   "execution_count": 9,
   "id": "czech-discharge",
   "metadata": {},
   "outputs": [],
   "source": [
    "def lagrange(xp: float, x, func) -> float:\n",
    "    global n\n",
    "    yp = 0\n",
    "    for i in range(n):\n",
    "        p = 1\n",
    "        for j in range(n):\n",
    "            if i != j:\n",
    "                p = p * (xp - x[j])/(x[i] - x[j])\n",
    "    \n",
    "        yp = yp + p * func(x[i]) \n",
    "    return yp"
   ]
  },
  {
   "cell_type": "code",
   "execution_count": 39,
   "id": "worse-conspiracy",
   "metadata": {},
   "outputs": [
    {
     "name": "stdout",
     "output_type": "stream",
     "text": [
      "Value:  0.5306282510619262\n",
      "Disperency module:  2.441380431150719e-13\n"
     ]
    }
   ],
   "source": [
    "value = lagrange(x, intPoints, getFunc)\n",
    "dsvalue = np.abs(value - getFunc(x))\n",
    "print('Value: ', value)\n",
    "print('Disperency module: ', dsvalue)"
   ]
  },
  {
   "cell_type": "markdown",
   "id": "fluid-republican",
   "metadata": {},
   "source": [
    "#### Метод Ньютона:"
   ]
  },
  {
   "cell_type": "markdown",
   "id": "rational-carpet",
   "metadata": {},
   "source": [
    "Найдем матрицу разделенную разность:"
   ]
  },
  {
   "cell_type": "code",
   "execution_count": 40,
   "id": "offshore-receiver",
   "metadata": {},
   "outputs": [],
   "source": [
    "def dividedDiff(x, func):\n",
    "    global n, m\n",
    "    A = np.zeros((n,n+1))\n",
    "    A[:,0]= x[:]\n",
    "    for i in range(n):\n",
    "        A[i, 1] = func(x[i])\n",
    "    for j in range(2,n+1):\n",
    "        for i in range(j-1,n):\n",
    "            A[i,j] = (A[i,j-1]-A[i-1,j-1]) / (A[i,0]-A[i-j+1,0])\n",
    "    p = np.zeros(n)\n",
    "    for k in range(0,n):\n",
    "        p[k] = A[k,k+1]\n",
    "    return p"
   ]
  },
  {
   "cell_type": "code",
   "execution_count": 41,
   "id": "elect-dublin",
   "metadata": {},
   "outputs": [],
   "source": [
    "def newton(xp: float, x, func):\n",
    "    global n\n",
    "    p = dividedDiff(x, func)\n",
    "    print('A = ',p)\n",
    "    prev = p[n - 1]\n",
    "    for i in range(n-2, -1, -1):\n",
    "        prev = prev*(xp - x[i]) + p[i]\n",
    "    return prev"
   ]
  },
  {
   "cell_type": "code",
   "execution_count": 42,
   "id": "naval-terminology",
   "metadata": {},
   "outputs": [
    {
     "name": "stdout",
     "output_type": "stream",
     "text": [
      "A =  [ 1.29718539e-01  8.48284412e-01 -3.40583003e-01  1.77042137e-01\n",
      " -9.42621359e-02  5.10649238e-02 -2.73909837e-02  1.47670836e-02\n",
      " -8.07447044e-03  4.06273392e-03 -1.87272745e-03  8.59547856e-04\n",
      " -3.87046103e-04  1.58025021e-04]\n",
      "Value:  0.5306282510619261\n",
      "Disperency module:  2.4424906541753444e-13\n"
     ]
    }
   ],
   "source": [
    "value = newton(x, intPoints, getFunc)\n",
    "dsvalue = np.abs(value - getFunc(x))\n",
    "print('Value: ', value)\n",
    "print('Disperency module: ', dsvalue)"
   ]
  },
  {
   "cell_type": "code",
   "execution_count": null,
   "id": "patent-chile",
   "metadata": {},
   "outputs": [],
   "source": []
  }
 ],
 "metadata": {
  "kernelspec": {
   "display_name": "Python 3",
   "language": "python",
   "name": "python3"
  },
  "language_info": {
   "codemirror_mode": {
    "name": "ipython",
    "version": 3
   },
   "file_extension": ".py",
   "mimetype": "text/x-python",
   "name": "python",
   "nbconvert_exporter": "python",
   "pygments_lexer": "ipython3",
   "version": "3.7.6"
  }
 },
 "nbformat": 4,
 "nbformat_minor": 5
}
