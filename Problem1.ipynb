{
 "cells": [
  {
   "cell_type": "code",
   "execution_count": null,
   "id": "2b41c1e0",
   "metadata": {},
   "outputs": [
    {
     "ename": "",
     "evalue": "",
     "output_type": "error",
     "traceback": [
      "\u001b[1;31mFailed to start Jupyter in the environment 'Python 3.9.5 64-bit (/bin/python3.9)'. \n",
      "View Jupyter <a href='command:jupyter.viewOutput'>log</a> for further details."
     ]
    }
   ],
   "source": [
    "import numpy as np\n",
    "np.random.seed(3)"
   ]
  },
  {
   "cell_type": "markdown",
   "id": "2b83f101",
   "metadata": {},
   "source": [
    "## Задание 1\n",
    "Пусть дано алгебраическое или трансцендентное уравнение вида $f(x) = 0$, причем, известно, что все интересующие вычислителя корни находятся на отрезке $[a, b]$, на котором функция $f(x)$  определена и непрерывна. Требуется найти все корни уравнения на $[a, b]$ нечетной кратности"
   ]
  },
  {
   "cell_type": "code",
   "execution_count": null,
   "id": "04648a4c",
   "metadata": {},
   "outputs": [
    {
     "ename": "",
     "evalue": "",
     "output_type": "error",
     "traceback": [
      "\u001b[1;31mFailed to start Jupyter in the environment 'Python 3.9.5 64-bit (/bin/python3.9)'. \n",
      "View Jupyter <a href='command:jupyter.viewOutput'>log</a> for further details."
     ]
    }
   ],
   "source": [
    "left = -0\n",
    "right = 0\n",
    "epsilon = 1/np.power(10,6)"
   ]
  },
  {
   "cell_type": "markdown",
   "id": "e91fce2b",
   "metadata": {},
   "source": [
    "Вариант 2. Рассматриваем функцию $f(x) = 2^{-x} - \\sin(x)$ на промежутке $[-5, 10]$ с точностью $\\varepsilon = 10^{-6}$"
   ]
  },
  {
   "cell_type": "code",
   "execution_count": null,
   "id": "eec76d1b",
   "metadata": {},
   "outputs": [],
   "source": [
    "def getFunc(arg: float) -> float:\n",
    "    global left,right\n",
    "    if (arg >= left and arg <= right):\n",
    "        if (np.sign(arg) == -1):\n",
    "            return np.power(2, np.abs(arg)) - np.sin(arg)\n",
    "        else:\n",
    "            return 1/np.power(2, np.abs(arg)) - np.sin(arg)\n",
    "    else:\n",
    "        raise Exception(\"Out of search exception\")"
   ]
  },
  {
   "cell_type": "markdown",
   "id": "73695f22",
   "metadata": {},
   "source": [
    "$f'(x) = -2^{-x}*log(2) - cos(x)$"
   ]
  },
  {
   "cell_type": "code",
   "execution_count": 4,
   "id": "3b4d55b9",
   "metadata": {},
   "outputs": [],
   "source": [
    "def getDerivFunc(arg: float) -> float:\n",
    "    global left,right\n",
    "    if (arg >= left and arg <= right):\n",
    "        if (np.sign(arg) == -1):\n",
    "            return -np.power(2, np.abs(arg)) * np.log(2) - np.cos(arg)\n",
    "        else:\n",
    "            return -1/np.power(2, np.abs(arg)) * np.log(2) - np.cos(arg)\n",
    "    else:\n",
    "        raise Exception(\"Out of search exception\")"
   ]
  },
  {
   "cell_type": "markdown",
   "id": "7180a0ed",
   "metadata": {},
   "source": [
    "$f''(x) = 2^{-x}*log^2(2) + sin(x)$"
   ]
  },
  {
   "cell_type": "code",
   "execution_count": 5,
   "id": "de05f19b",
   "metadata": {},
   "outputs": [],
   "source": [
    "def getSecondDerivFunc(arg: float) -> float:\n",
    "    global left, right\n",
    "    if (arg >= left and arg <= right):\n",
    "        if (np.sign(arg) == -1):\n",
    "            return np.power(2, np.abs(arg)) * np.log(2) * np.log(2) + np.sin(arg)\n",
    "        else:\n",
    "            return 1/np.power(2, np.abs(arg)) * np.log(2) * np.log(2) + np.sin(arg)\n",
    "    else:\n",
    "        raise Exception(\"Out of search exception\")"
   ]
  },
  {
   "cell_type": "markdown",
   "id": "ca567662",
   "metadata": {},
   "source": [
    "1. Процедура отделения корней уравнения $f(x) = 0$ на отрезке $[a, b]$"
   ]
  },
  {
   "cell_type": "code",
   "execution_count": 6,
   "id": "687ceee9",
   "metadata": {},
   "outputs": [],
   "source": [
    "def separationMethod() -> list:\n",
    "    global left, right\n",
    "    ans = []\n",
    "    N = int(input(\"N: \"))\n",
    "    while(N < 2):\n",
    "        N = int(input(\"Incorrect number, N: \"))\n",
    "    t = (right - left) / N\n",
    "    x1 = left\n",
    "    x2 = left + t \n",
    "    y1 = 0\n",
    "    y2 = 0\n",
    "    counter = 0\n",
    "    while (x2 <= right):\n",
    "        y1 = getFunc(x1)\n",
    "        y2 = getFunc(x2)\n",
    "        if (y1 * y2 <= 0):\n",
    "            pair = (x1, x2)\n",
    "            ans.append(pair)\n",
    "            counter+=1\n",
    "            print(counter, \": [\", x1, \", \", x2, \"]\\n\")\n",
    "        x1 = x2\n",
    "        x2 += t\n",
    "    print(\"Counter: \", counter, \"\\n\")\n",
    "    return ans"
   ]
  },
  {
   "cell_type": "code",
   "execution_count": null,
   "id": "7d5efb97",
   "metadata": {},
   "outputs": [
    {
     "name": "stdout",
     "output_type": "stream",
     "text": [
      "N: 20\n"
     ]
    }
   ],
   "source": [
    "a = separationMethod()"
   ]
  },
  {
   "cell_type": "markdown",
   "id": "a43a57e7",
   "metadata": {},
   "source": [
    "2. Уточнение корней уравнения $f(x) = 0$ на отрезках перемены знака вида $[a_i, b_i]$"
   ]
  },
  {
   "cell_type": "markdown",
   "id": "e23c14bc",
   "metadata": {},
   "source": [
    "### a. Метод бисекции "
   ]
  },
  {
   "cell_type": "code",
   "execution_count": null,
   "id": "428568a1",
   "metadata": {},
   "outputs": [],
   "source": [
    "def bisectionMethod(lBound: float, rBound: float):\n",
    "    global epsilon\n",
    "    step = 0\n",
    "    print(\"---------------------------------------\\n\")\n",
    "    print(\"Initial approximation x = \", (lBound + rBound) / 2, \"\\n\")\n",
    "    while (rBound - lBound >= 2 * epsilon):\n",
    "        pivot = (rBound + lBound) / 2\n",
    "        if (getFunc(pivot) * getFunc(rBound) <= 0):\n",
    "            lBound = pivot\n",
    "        else:\n",
    "            rBound = pivot\n",
    "        step += 1\n",
    "    sol = (lBound + rBound) / 2\n",
    "    delta = (rBound - lBound) \n",
    "    \n",
    "    print(\"x = \", sol, \"\\n\")\n",
    "    print(\"Count step = \", step, \"\\n\")\n",
    "    print(\"delta = \", delta, \"\\n\")\n",
    "    print(\"Discrepancy module: \",np.abs(getFunc(sol) - 0), \"\\n\")"
   ]
  },
  {
   "cell_type": "code",
   "execution_count": null,
   "id": "0178b422",
   "metadata": {},
   "outputs": [],
   "source": [
    "for p in a:\n",
    "    bisectionMethod(p[0], p[1])"
   ]
  },
  {
   "cell_type": "markdown",
   "id": "65eeaf2f",
   "metadata": {},
   "source": [
    "### b. Метод Ньютона"
   ]
  },
  {
   "cell_type": "code",
   "execution_count": null,
   "id": "a13fc23a",
   "metadata": {},
   "outputs": [],
   "source": [
    "def newtonMethod(lBound: float, rBound: float):\n",
    "    global epsilon\n",
    "    print(\"---------------------------------------\\n\")\n",
    "    if (getDerivFunc(lBound) * getDerivFunc(rBound) < 0 or\n",
    "       getSecondDerivFunc(lBound) * getSecondDerivFunc(rBound) < 0):\n",
    "        print(\"Derivative's sign change\\n\")\n",
    "        \n",
    "    prevSol = lBound + np.random.rand() * (rBound - lBound)\n",
    "    \n",
    "    while (getSecondDerivFunc(prevSol) * getFunc(prevSol) <= 0):\n",
    "        prevSol = lBound + np.random.rand() * (rBound - lBound)\n",
    "    currSol = prevSol - (getFunc(prevSol) / getDerivFunc(prevSol))\n",
    "    \n",
    "    print(\"Initial approximation x = \", prevSol, \"\\n\")\n",
    "    step = 0\n",
    "    while(np.abs(currSol - prevSol) >= epsilon):\n",
    "        prevSol = currSol\n",
    "        currSol = prevSol - (getFunc(prevSol) / getDerivFunc(prevSol))\n",
    "        step += 1\n",
    "    \n",
    "    print(\"x = \", currSol, \"\\n\")\n",
    "    print(\"Count step = \", step, \"\\n\")\n",
    "    print(\"Discrepancy module: \", np.abs(getFunc(currSol) - 0), \"\\n\")"
   ]
  },
  {
   "cell_type": "code",
   "execution_count": null,
   "id": "a2ef39e6",
   "metadata": {},
   "outputs": [],
   "source": [
    "for p in a:\n",
    "    newtonMethod(p[0], p[1])"
   ]
  },
  {
   "cell_type": "markdown",
   "id": "a8210833",
   "metadata": {},
   "source": [
    "### c. Модифицированный метод Ньютона"
   ]
  },
  {
   "cell_type": "code",
   "execution_count": null,
   "id": "bc80e93c",
   "metadata": {},
   "outputs": [],
   "source": [
    "def newtonMethodModified(lBound: float, rBound: float):\n",
    "    global epsilon\n",
    "    print(\"---------------------------------------\\n\")\n",
    "    if (getDerivFunc(lBound) * getDerivFunc(rBound) < 0 or\n",
    "       getSecondDerivFunc(lBound) * getSecondDerivFunc(rBound) < 0):\n",
    "        print(\"Derivative's sign change\\n\")\n",
    "        \n",
    "    prevSol = lBound + np.random.rand() * (rBound - lBound)\n",
    "    \n",
    "    while (getSecondDerivFunc(prevSol) * getFunc(prevSol) <= 0):\n",
    "        prevSol = lBound + np.random.rand() * (rBound - lBound)\n",
    "    deriv = getDerivFunc(prevSol)\n",
    "    currSol = prevSol - (getFunc(prevSol) / deriv)\n",
    "    \n",
    "    print(\"Initial approximation x = \", prevSol, \"\\n\")\n",
    "    step = 0\n",
    "    while(np.abs(currSol - prevSol) >= epsilon):\n",
    "        prevSol = currSol\n",
    "        currSol = prevSol - (getFunc(prevSol) / deriv)\n",
    "        step += 1\n",
    "    print(\"x = \", currSol, \"\\n\")\n",
    "    print(\"Count step = \", step, \"\\n\")\n",
    "    print(\"Discrepancy module: \", np.abs(getFunc(currSol) - 0), \"\\n\")"
   ]
  },
  {
   "cell_type": "code",
   "execution_count": null,
   "id": "ac6ae5a0",
   "metadata": {},
   "outputs": [],
   "source": [
    "for p in a:\n",
    "    newtonMethodModified(p[0], p[1])"
   ]
  },
  {
   "cell_type": "markdown",
   "id": "e04b28c0",
   "metadata": {},
   "source": [
    "### d. Метод секущих"
   ]
  },
  {
   "cell_type": "code",
   "execution_count": null,
   "id": "8bf5680e",
   "metadata": {},
   "outputs": [],
   "source": [
    "def secantMethod(lBound: float, rBound: float):\n",
    "    global epsilon\n",
    "    print(\"---------------------------------------\\n\")\n",
    "    if (getDerivFunc(lBound) * getDerivFunc(rBound) < 0 or\n",
    "       getSecondDerivFunc(lBound) * getSecondDerivFunc(rBound) < 0):\n",
    "        print(\"Derivative's sign change\\n\")\n",
    "    prevSol = lBound + np.random.rand() * (rBound - lBound)\n",
    "    while (getSecondDerivFunc(prevSol) * getFunc(prevSol) <= 0):\n",
    "        prevSol = lBound + np.random.rand() * (rBound - lBound)\n",
    "    \n",
    "    currSol = lBound + np.random.rand() * (rBound - lBound)\n",
    "    nextSol = currSol - (getFunc(currSol) * (currSol - prevSol)\n",
    "                         / (getFunc(currSol) - getFunc(prevSol)))\n",
    "    \n",
    "    print(\"Initial approximation x = \", currSol, \"\\n\")\n",
    "    step = 0\n",
    "    while(np.abs(currSol - prevSol) >= epsilon):\n",
    "        prevSol = currSol\n",
    "        currSol = nextSol\n",
    "        nextSol = currSol - (getFunc(currSol) * (currSol - prevSol)\n",
    "                         / (getFunc(currSol) - getFunc(prevSol)))\n",
    "        step += 1\n",
    "    print(\"x = \", currSol, \"\\n\")\n",
    "    print(\"Count step = \", step, \"\\n\")\n",
    "    print(\"Discrepancy module: \", np.abs(getFunc(currSol) - 0), \"\\n\")"
   ]
  },
  {
   "cell_type": "code",
   "execution_count": null,
   "id": "771e43f5",
   "metadata": {},
   "outputs": [],
   "source": [
    "for p in a:\n",
    "    secantMethod(p[0], p[1])"
   ]
  },
  {
   "cell_type": "code",
   "execution_count": null,
   "id": "6e49659f",
   "metadata": {},
   "outputs": [],
   "source": []
  }
 ],
 "metadata": {
  "kernelspec": {
   "display_name": "Python 3 (ipykernel)",
   "language": "python",
   "name": "python3"
  },
  "language_info": {
   "codemirror_mode": {
    "name": "ipython",
    "version": 3
   },
   "file_extension": ".py",
   "mimetype": "text/x-python",
   "name": "python",
   "nbconvert_exporter": "python",
   "pygments_lexer": "ipython3",
   "version": "3.10.4"
  }
 },
 "nbformat": 4,
 "nbformat_minor": 5
}
