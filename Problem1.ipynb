{
 "cells": [
  {
   "cell_type": "code",
   "execution_count": 97,
   "id": "consistent-carrier",
   "metadata": {},
   "outputs": [],
   "source": [
    "import numpy as np"
   ]
  },
  {
   "cell_type": "markdown",
   "id": "civil-mandate",
   "metadata": {},
   "source": [
    "## Задание 1\n",
    "Пусть дано алгебраическое или трансцендентное уравнение вида $f(x) = 0$, причем, известно, что все интересующие вычислителя корни находятся на отрезке $[a, b]$, на котором функция $f(x)$  определена и непрерывна. Требуется найти все корни уравнения на $[a, b]$ нечетной кратности"
   ]
  },
  {
   "cell_type": "code",
   "execution_count": 112,
   "id": "chief-awareness",
   "metadata": {},
   "outputs": [],
   "source": [
    "left = -5\n",
    "right = 10\n",
    "epsilon = 1/np.power(10,6)"
   ]
  },
  {
   "cell_type": "markdown",
   "id": "starting-inspector",
   "metadata": {},
   "source": [
    "Рассматриваем функцию $f(x) = 2^{-x} - \\sin(x)$ на промежутке $[-5, 10]$ с точностью $\\varepsilon = 10^{-6}$"
   ]
  },
  {
   "cell_type": "code",
   "execution_count": 113,
   "id": "unlike-contents",
   "metadata": {},
   "outputs": [],
   "source": [
    "def getFunc(arg: float) -> float:\n",
    "    global left,right\n",
    "    if (arg >= left and arg <= right):\n",
    "        if (np.sign(arg) == -1):\n",
    "            return np.power(2, np.abs(arg)) - np.sin(arg)\n",
    "        else:\n",
    "            return 1/np.power(2, np.abs(arg)) - np.sin(arg)\n",
    "    else:\n",
    "        raise Exception(\"Out of search exception\")"
   ]
  },
  {
   "cell_type": "markdown",
   "id": "meaningful-export",
   "metadata": {},
   "source": [
    "$f'(x) = -2^{-x}*log(2) - cos(x)$"
   ]
  },
  {
   "cell_type": "code",
   "execution_count": 100,
   "id": "silent-blast",
   "metadata": {},
   "outputs": [],
   "source": [
    "def getDerivFunc(arg: float) -> float:\n",
    "    global left,right\n",
    "    if (arg >= left and arg <= right):\n",
    "        if (np.sign(arg) == -1):\n",
    "            return -np.power(2, np.abs(arg)) * np.log(2) - np.cos(arg)\n",
    "        else:\n",
    "            return -1/np.power(2, np.abs(arg)) * np.log(2) - np.cos(arg)\n",
    "    else:\n",
    "        raise Exception(\"Out of search exception\")"
   ]
  },
  {
   "cell_type": "markdown",
   "id": "essential-contents",
   "metadata": {},
   "source": [
    "$f''(x) = 2^{-x}*log^2(2) + sin(x)$"
   ]
  },
  {
   "cell_type": "code",
   "execution_count": 101,
   "id": "tested-thong",
   "metadata": {},
   "outputs": [],
   "source": [
    "def getSecondDerivFunc(arg: float) -> float:\n",
    "    global left, right\n",
    "    if (arg >= left and arg <= right):\n",
    "        if (np.sign(arg) == -1):\n",
    "            return np.power(2, np.abs(arg)) * np.log(2) * np.log(2) + np.sin(arg)\n",
    "        else:\n",
    "            return 1/np.power(2, np.abs(arg)) * np.log(2) * np.log(2) + np.sin(arg)\n",
    "    else:\n",
    "        raise Exception(\"Out of search exception\")"
   ]
  },
  {
   "cell_type": "markdown",
   "id": "tribal-assistant",
   "metadata": {},
   "source": [
    "1. Процедура отделения корней уравнения $f(x) = 0$ на отрезке $[a, b]$"
   ]
  },
  {
   "cell_type": "code",
   "execution_count": 114,
   "id": "korean-relationship",
   "metadata": {},
   "outputs": [],
   "source": [
    "def separationMethod() -> list:\n",
    "    global left, right\n",
    "    ans = []\n",
    "    N = int(input(\"N: \"))\n",
    "    while(N < 2):\n",
    "        N = int(input(\"Incorrect number, N: \"))\n",
    "    t = (right - left) / N\n",
    "    x1 = left\n",
    "    x2 = left + t \n",
    "    y1 = 0\n",
    "    y2 = 0\n",
    "    counter = 0\n",
    "    while (x2 <= right):\n",
    "        y1 = getFunc(x1)\n",
    "        y2 = getFunc(x2)\n",
    "        if (y1 * y2 <= 0):\n",
    "            pair = (x1, x2)\n",
    "            ans.append(pair)\n",
    "            counter+=1\n",
    "            print(counter, \": [\", x1, \", \", x2, \"]\\n\")\n",
    "        x1 = x2\n",
    "        x2 += t\n",
    "    print(\"Counter: \", counter, \"\\n\")\n",
    "    return ans"
   ]
  },
  {
   "cell_type": "code",
   "execution_count": 115,
   "id": "mineral-fancy",
   "metadata": {},
   "outputs": [
    {
     "name": "stdout",
     "output_type": "stream",
     "text": [
      "N: 10\n",
      "1 : [ -0.5 ,  1.0 ]\n",
      "\n",
      "2 : [ 2.5 ,  4.0 ]\n",
      "\n",
      "3 : [ 5.5 ,  7.0 ]\n",
      "\n",
      "4 : [ 8.5 ,  10.0 ]\n",
      "\n",
      "Counter:  4 \n",
      "\n"
     ]
    }
   ],
   "source": [
    "a = separationMethod()"
   ]
  },
  {
   "cell_type": "markdown",
   "id": "viral-rescue",
   "metadata": {},
   "source": [
    "2. Уточнение корней уравнения $f(x) = 0$ на отрезках перемены знака вида $[a_i, b_i]$"
   ]
  },
  {
   "cell_type": "markdown",
   "id": "unlike-hearing",
   "metadata": {},
   "source": [
    "### a. Метод бисекции "
   ]
  },
  {
   "cell_type": "code",
   "execution_count": 116,
   "id": "interested-wilderness",
   "metadata": {},
   "outputs": [],
   "source": [
    "def bisectionMethod(lBound: float, rBound: float):\n",
    "    global epsilon\n",
    "    step = 0\n",
    "    print(\"---------------------------------------\\n\")\n",
    "    print(\"Initial approximation x = \", (lBound + rBound) / 2, \"\\n\")\n",
    "    while (rBound - lBound >= 2 * epsilon):\n",
    "        pivot = (rBound + lBound) / 2\n",
    "        if (getFunc(pivot) * getFunc(rBound) <= 0):\n",
    "            lBound = pivot\n",
    "        else:\n",
    "            rBound = pivot\n",
    "        step += 1\n",
    "    sol = (lBound + rBound) / 2\n",
    "    delta = (rBound - lBound) \n",
    "    \n",
    "    print(\"x = \", sol, \"\\n\")\n",
    "    print(\"Count step = \", step, \"\\n\")\n",
    "    print(\"delta = \", delta, \"\\n\")\n",
    "    print(\"Discrepancy module: \",getFunc(sol) - 0, \"\\n\")"
   ]
  },
  {
   "cell_type": "code",
   "execution_count": 117,
   "id": "egyptian-housing",
   "metadata": {},
   "outputs": [
    {
     "name": "stdout",
     "output_type": "stream",
     "text": [
      "---------------------------------------\n",
      "\n",
      "Initial approximation x =  0.25 \n",
      "\n",
      "x =  0.6761815547943115 \n",
      "\n",
      "Count step =  20 \n",
      "\n",
      "delta =  1.430511474609375e-06 \n",
      "\n",
      "Discrepancy module:  1.4027138295347186e-07 \n",
      "\n",
      "---------------------------------------\n",
      "\n",
      "Initial approximation x =  3.25 \n",
      "\n",
      "x =  3.017810106277466 \n",
      "\n",
      "Count step =  20 \n",
      "\n",
      "delta =  1.430511474609375e-06 \n",
      "\n",
      "Discrepancy module:  -3.297871737223401e-07 \n",
      "\n",
      "---------------------------------------\n",
      "\n",
      "Initial approximation x =  6.25 \n",
      "\n",
      "x =  6.295912981033325 \n",
      "\n",
      "Count step =  20 \n",
      "\n",
      "delta =  1.430511474609375e-06 \n",
      "\n",
      "Discrepancy module:  1.1810797217667868e-07 \n",
      "\n",
      "---------------------------------------\n",
      "\n",
      "Initial approximation x =  9.25 \n",
      "\n",
      "x =  9.42332148551941 \n",
      "\n",
      "Count step =  20 \n",
      "\n",
      "delta =  1.430511474609375e-06 \n",
      "\n",
      "Discrepancy module:  -1.804724725933994e-08 \n",
      "\n"
     ]
    }
   ],
   "source": [
    "for p in a:\n",
    "    bisectionMethod(p[0], p[1])"
   ]
  },
  {
   "cell_type": "markdown",
   "id": "surface-imperial",
   "metadata": {},
   "source": [
    "### b. Метод Ньютона"
   ]
  },
  {
   "cell_type": "code",
   "execution_count": 118,
   "id": "directed-florist",
   "metadata": {},
   "outputs": [],
   "source": [
    "def newtonMethod(lBound: float, rBound: float):\n",
    "    global epsilon\n",
    "    print(\"---------------------------------------\\n\")\n",
    "    if (getDerivFunc(lBound) * getDerivFunc(rBound) < 0 or\n",
    "       getSecondDerivFunc(lBound) * getSecondDerivFunc(rBound) < 0):\n",
    "        print(\"Derivative's sign change\\n\")\n",
    "        \n",
    "    prevSol = lBound + np.random.rand() * (rBound - lBound)\n",
    "    \n",
    "    while (getSecondDerivFunc(prevSol) * getFunc(prevSol) <= 0):\n",
    "        prevSol = lBound + np.random.rand() * (rBound - lBound)\n",
    "    currSol = prevSol - (getFunc(prevSol) / getDerivFunc(prevSol))\n",
    "    \n",
    "    print(\"Initial approximation x = \", prevSol, \"\\n\")\n",
    "    step = 0\n",
    "    while(np.abs(currSol - prevSol) >= epsilon):\n",
    "        prevSol = currSol\n",
    "        currSol = prevSol - (getFunc(prevSol) / getDerivFunc(prevSol))\n",
    "        step += 1\n",
    "    \n",
    "    print(\"x = \", currSol, \"\\n\")\n",
    "    print(\"Count step = \", step, \"\\n\")\n",
    "    print(\"Discrepancy module: \", getFunc(currSol) - 0, \"\\n\")"
   ]
  },
  {
   "cell_type": "code",
   "execution_count": 119,
   "id": "arranged-identifier",
   "metadata": {},
   "outputs": [
    {
     "name": "stdout",
     "output_type": "stream",
     "text": [
      "---------------------------------------\n",
      "\n",
      "Initial approximation x =  0.6380008883895845 \n",
      "\n",
      "x =  0.6761816703626168 \n",
      "\n",
      "Count step =  2 \n",
      "\n",
      "Discrepancy module:  5.329070518200751e-15 \n",
      "\n",
      "---------------------------------------\n",
      "\n",
      "Derivative's sign change\n",
      "\n",
      "Initial approximation x =  3.1105748194367924 \n",
      "\n",
      "x =  3.0178104699725132 \n",
      "\n",
      "Count step =  2 \n",
      "\n",
      "Discrepancy module:  -6.938893903907228e-17 \n",
      "\n",
      "---------------------------------------\n",
      "\n",
      "Derivative's sign change\n",
      "\n",
      "Initial approximation x =  6.293478229921852 \n",
      "\n",
      "x =  6.295913098117862 \n",
      "\n",
      "Count step =  1 \n",
      "\n",
      "Discrepancy module:  -2.654126918244515e-16 \n",
      "\n",
      "---------------------------------------\n",
      "\n",
      "Derivative's sign change\n",
      "\n",
      "Initial approximation x =  9.424735588627165 \n",
      "\n",
      "x =  9.423321503584914 \n",
      "\n",
      "Count step =  1 \n",
      "\n",
      "Discrepancy module:  3.9876955904016853e-16 \n",
      "\n"
     ]
    }
   ],
   "source": [
    "for p in a:\n",
    "    newtonMethod(p[0], p[1])"
   ]
  },
  {
   "cell_type": "markdown",
   "id": "deadly-humor",
   "metadata": {},
   "source": [
    "### c. Модифицированный метод Ньютона"
   ]
  },
  {
   "cell_type": "code",
   "execution_count": 120,
   "id": "weekly-aerospace",
   "metadata": {},
   "outputs": [],
   "source": [
    "def newtonMethodModified(lBound: float, rBound: float):\n",
    "    global epsilon\n",
    "    print(\"---------------------------------------\\n\")\n",
    "    if (getDerivFunc(lBound) * getDerivFunc(rBound) < 0 or\n",
    "       getSecondDerivFunc(lBound) * getSecondDerivFunc(rBound) < 0):\n",
    "        print(\"Derivative's sign change\\n\")\n",
    "        \n",
    "    prevSol = lBound + np.random.rand() * (rBound - lBound)\n",
    "    \n",
    "    while (getSecondDerivFunc(prevSol) * getFunc(prevSol) <= 0):\n",
    "        prevSol = lBound + np.random.rand() * (rBound - lBound)\n",
    "    deriv = getDerivFunc(prevSol)\n",
    "    currSol = prevSol - (getFunc(prevSol) / deriv)\n",
    "    \n",
    "    print(\"Initial approximation x = \", prevSol, \"\\n\")\n",
    "    step = 0\n",
    "    while(np.abs(currSol - prevSol) >= epsilon):\n",
    "        prevSol = currSol\n",
    "        currSol = prevSol - (getFunc(prevSol) / deriv)\n",
    "        step += 1\n",
    "    print(\"x = \", currSol, \"\\n\")\n",
    "    print(\"Count step = \", step, \"\\n\")\n",
    "    print(\"Discrepancy module: \", getFunc(currSol) - 0, \"\\n\")"
   ]
  },
  {
   "cell_type": "code",
   "execution_count": 121,
   "id": "fabulous-browser",
   "metadata": {},
   "outputs": [
    {
     "name": "stdout",
     "output_type": "stream",
     "text": [
      "---------------------------------------\n",
      "\n",
      "Initial approximation x =  0.23099961345655173 \n",
      "\n",
      "x =  0.6761813969881483 \n",
      "\n",
      "Count step =  8 \n",
      "\n",
      "Discrepancy module:  3.318091073012397e-07 \n",
      "\n",
      "---------------------------------------\n",
      "\n",
      "Derivative's sign change\n",
      "\n",
      "Initial approximation x =  3.089227327932136 \n",
      "\n",
      "x =  3.0178104705139783 \n",
      "\n",
      "Count step =  3 \n",
      "\n",
      "Discrepancy module:  4.909834067090557e-10 \n",
      "\n",
      "---------------------------------------\n",
      "\n",
      "Derivative's sign change\n",
      "\n",
      "Initial approximation x =  6.28267289308638 \n",
      "\n",
      "x =  6.295913097977448 \n",
      "\n",
      "Count step =  1 \n",
      "\n",
      "Discrepancy module:  1.416409958071574e-10 \n",
      "\n",
      "---------------------------------------\n",
      "\n",
      "Derivative's sign change\n",
      "\n",
      "Initial approximation x =  9.42447861055666 \n",
      "\n",
      "x =  9.423321503584916 \n",
      "\n",
      "Count step =  1 \n",
      "\n",
      "Discrepancy module:  2.173391674964442e-15 \n",
      "\n"
     ]
    }
   ],
   "source": [
    "for p in a:\n",
    "    newtonMethodModified(p[0], p[1])"
   ]
  },
  {
   "cell_type": "markdown",
   "id": "empirical-longer",
   "metadata": {},
   "source": [
    "### d. Метод секущих"
   ]
  },
  {
   "cell_type": "code",
   "execution_count": 122,
   "id": "documentary-beverage",
   "metadata": {},
   "outputs": [],
   "source": [
    "def secantMethod(lBound: float, rBound: float):\n",
    "    global epsilon\n",
    "    print(\"---------------------------------------\\n\")\n",
    "    if (getDerivFunc(lBound) * getDerivFunc(rBound) < 0 or\n",
    "       getSecondDerivFunc(lBound) * getSecondDerivFunc(rBound) < 0):\n",
    "        print(\"Derivative's sign change\\n\")\n",
    "    prevSol = lBound + np.random.rand() * (rBound - lBound)\n",
    "    while (getSecondDerivFunc(prevSol) * getFunc(prevSol) <= 0):\n",
    "        prevSol = lBound + np.random.rand() * (rBound - lBound)\n",
    "    \n",
    "    currSol = lBound + np.random.rand() * (rBound - lBound)\n",
    "    nextSol = currSol - (getFunc(currSol) * (currSol - prevSol)\n",
    "                         / (getFunc(currSol) - getFunc(prevSol)))\n",
    "    \n",
    "    print(\"Initial approximation x = \", currSol, \"\\n\")\n",
    "    step = 0\n",
    "    while(np.abs(currSol - prevSol) >= epsilon):\n",
    "        prevSol = currSol\n",
    "        currSol = nextSol\n",
    "        nextSol = currSol - (getFunc(currSol) * (currSol - prevSol)\n",
    "                         / (getFunc(currSol) - getFunc(prevSol)))\n",
    "        step += 1\n",
    "    print(\"x = \", currSol, \"\\n\")\n",
    "    print(\"Count step = \", step, \"\\n\")\n",
    "    print(\"Discrepancy module: \", getFunc(currSol) - 0, \"\\n\")"
   ]
  },
  {
   "cell_type": "code",
   "execution_count": 123,
   "id": "banned-cancer",
   "metadata": {},
   "outputs": [
    {
     "name": "stdout",
     "output_type": "stream",
     "text": [
      "---------------------------------------\n",
      "\n",
      "Initial approximation x =  0.0750950897486915 \n",
      "\n",
      "x =  0.6761816703626203 \n",
      "\n",
      "Count step =  6 \n",
      "\n",
      "Discrepancy module:  1.1102230246251565e-15 \n",
      "\n",
      "---------------------------------------\n",
      "\n",
      "Derivative's sign change\n",
      "\n",
      "Initial approximation x =  3.690252685240346 \n",
      "\n",
      "x =  3.017810469972161 \n",
      "\n",
      "Count step =  4 \n",
      "\n",
      "Discrepancy module:  -3.193972863968497e-13 \n",
      "\n",
      "---------------------------------------\n",
      "\n",
      "Derivative's sign change\n",
      "\n",
      "Initial approximation x =  6.1303315151106865 \n",
      "\n",
      "x =  6.295913098117965 \n",
      "\n",
      "Count step =  3 \n",
      "\n",
      "Discrepancy module:  -1.0419269613759496e-13 \n",
      "\n",
      "---------------------------------------\n",
      "\n",
      "Derivative's sign change\n",
      "\n",
      "Initial approximation x =  9.786393958223057 \n",
      "\n",
      "x =  9.423321503584914 \n",
      "\n",
      "Count step =  3 \n",
      "\n",
      "Discrepancy module:  3.9876955904016853e-16 \n",
      "\n"
     ]
    }
   ],
   "source": [
    "for p in a:\n",
    "    secantMethod(p[0], p[1])"
   ]
  }
 ],
 "metadata": {
  "kernelspec": {
   "display_name": "Python 3",
   "language": "python",
   "name": "python3"
  },
  "language_info": {
   "codemirror_mode": {
    "name": "ipython",
    "version": 3
   },
   "file_extension": ".py",
   "mimetype": "text/x-python",
   "name": "python",
   "nbconvert_exporter": "python",
   "pygments_lexer": "ipython3",
   "version": "3.7.6"
  }
 },
 "nbformat": 4,
 "nbformat_minor": 5
}
