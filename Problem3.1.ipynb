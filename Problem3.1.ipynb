{
 "cells": [
  {
   "cell_type": "code",
   "execution_count": 1,
   "id": "e111466f",
   "metadata": {},
   "outputs": [],
   "source": [
    "import numpy as np\n",
    "import pandas as pd\n",
    "np.random.seed(1)"
   ]
  },
  {
   "cell_type": "markdown",
   "id": "d7e5fc92",
   "metadata": {},
   "source": [
    "## Задание 3.1"
   ]
  },
  {
   "cell_type": "markdown",
   "id": "4464d034",
   "metadata": {},
   "source": [
    "Задача обратного интерполирования"
   ]
  },
  {
   "cell_type": "markdown",
   "id": "449b772b",
   "metadata": {},
   "source": [
    "Функция $f(x) = ln(1 + x)$ при $\\varepsilon = 10 ^{-6}$"
   ]
  },
  {
   "cell_type": "code",
   "execution_count": 2,
   "id": "97785a9c",
   "metadata": {},
   "outputs": [],
   "source": [
    "epsilon = 1/np.power(10,6)"
   ]
  },
  {
   "cell_type": "code",
   "execution_count": 3,
   "id": "0d602a97",
   "metadata": {},
   "outputs": [],
   "source": [
    "def getFunc(arg: float) -> float:\n",
    "    return np.log(1 + arg)"
   ]
  },
  {
   "cell_type": "code",
   "execution_count": 19,
   "id": "3c42568b",
   "metadata": {},
   "outputs": [
    {
     "name": "stdout",
     "output_type": "stream",
     "text": [
      "16\n"
     ]
    }
   ],
   "source": [
    "m = int(input())"
   ]
  },
  {
   "cell_type": "code",
   "execution_count": 20,
   "id": "56b68c2f",
   "metadata": {},
   "outputs": [
    {
     "name": "stdout",
     "output_type": "stream",
     "text": [
      "0.5\n",
      "0.5\n"
     ]
    }
   ],
   "source": [
    "a = float(input())\n",
    "h = float(input())"
   ]
  },
  {
   "cell_type": "code",
   "execution_count": 21,
   "id": "d4caf220",
   "metadata": {},
   "outputs": [],
   "source": [
    "funcVal = []\n",
    "for i in range(m + 1):\n",
    "    funcVal.append([getFunc(a + i * h), a + i * h])\n",
    "funcVal = sorted(funcVal, key = lambda x: x[0])\n",
    "funcVal = np.array(funcVal)"
   ]
  },
  {
   "cell_type": "code",
   "execution_count": 22,
   "id": "967ab520",
   "metadata": {},
   "outputs": [
    {
     "data": {
      "text/html": [
       "<div>\n",
       "<style scoped>\n",
       "    .dataframe tbody tr th:only-of-type {\n",
       "        vertical-align: middle;\n",
       "    }\n",
       "\n",
       "    .dataframe tbody tr th {\n",
       "        vertical-align: top;\n",
       "    }\n",
       "\n",
       "    .dataframe thead th {\n",
       "        text-align: right;\n",
       "    }\n",
       "</style>\n",
       "<table border=\"1\" class=\"dataframe\">\n",
       "  <thead>\n",
       "    <tr style=\"text-align: right;\">\n",
       "      <th></th>\n",
       "      <th>function</th>\n",
       "      <th>value</th>\n",
       "    </tr>\n",
       "  </thead>\n",
       "  <tbody>\n",
       "    <tr>\n",
       "      <th>1</th>\n",
       "      <td>0.405465</td>\n",
       "      <td>0.5</td>\n",
       "    </tr>\n",
       "    <tr>\n",
       "      <th>2</th>\n",
       "      <td>0.693147</td>\n",
       "      <td>1.0</td>\n",
       "    </tr>\n",
       "    <tr>\n",
       "      <th>3</th>\n",
       "      <td>0.916291</td>\n",
       "      <td>1.5</td>\n",
       "    </tr>\n",
       "    <tr>\n",
       "      <th>4</th>\n",
       "      <td>1.098612</td>\n",
       "      <td>2.0</td>\n",
       "    </tr>\n",
       "    <tr>\n",
       "      <th>5</th>\n",
       "      <td>1.252763</td>\n",
       "      <td>2.5</td>\n",
       "    </tr>\n",
       "    <tr>\n",
       "      <th>6</th>\n",
       "      <td>1.386294</td>\n",
       "      <td>3.0</td>\n",
       "    </tr>\n",
       "    <tr>\n",
       "      <th>7</th>\n",
       "      <td>1.504077</td>\n",
       "      <td>3.5</td>\n",
       "    </tr>\n",
       "    <tr>\n",
       "      <th>8</th>\n",
       "      <td>1.609438</td>\n",
       "      <td>4.0</td>\n",
       "    </tr>\n",
       "    <tr>\n",
       "      <th>9</th>\n",
       "      <td>1.704748</td>\n",
       "      <td>4.5</td>\n",
       "    </tr>\n",
       "    <tr>\n",
       "      <th>10</th>\n",
       "      <td>1.791759</td>\n",
       "      <td>5.0</td>\n",
       "    </tr>\n",
       "    <tr>\n",
       "      <th>11</th>\n",
       "      <td>1.871802</td>\n",
       "      <td>5.5</td>\n",
       "    </tr>\n",
       "    <tr>\n",
       "      <th>12</th>\n",
       "      <td>1.945910</td>\n",
       "      <td>6.0</td>\n",
       "    </tr>\n",
       "    <tr>\n",
       "      <th>13</th>\n",
       "      <td>2.014903</td>\n",
       "      <td>6.5</td>\n",
       "    </tr>\n",
       "    <tr>\n",
       "      <th>14</th>\n",
       "      <td>2.079442</td>\n",
       "      <td>7.0</td>\n",
       "    </tr>\n",
       "    <tr>\n",
       "      <th>15</th>\n",
       "      <td>2.140066</td>\n",
       "      <td>7.5</td>\n",
       "    </tr>\n",
       "    <tr>\n",
       "      <th>16</th>\n",
       "      <td>2.197225</td>\n",
       "      <td>8.0</td>\n",
       "    </tr>\n",
       "    <tr>\n",
       "      <th>17</th>\n",
       "      <td>2.251292</td>\n",
       "      <td>8.5</td>\n",
       "    </tr>\n",
       "  </tbody>\n",
       "</table>\n",
       "</div>"
      ],
      "text/plain": [
       "    function  value\n",
       "1   0.405465    0.5\n",
       "2   0.693147    1.0\n",
       "3   0.916291    1.5\n",
       "4   1.098612    2.0\n",
       "5   1.252763    2.5\n",
       "6   1.386294    3.0\n",
       "7   1.504077    3.5\n",
       "8   1.609438    4.0\n",
       "9   1.704748    4.5\n",
       "10  1.791759    5.0\n",
       "11  1.871802    5.5\n",
       "12  1.945910    6.0\n",
       "13  2.014903    6.5\n",
       "14  2.079442    7.0\n",
       "15  2.140066    7.5\n",
       "16  2.197225    8.0\n",
       "17  2.251292    8.5"
      ]
     },
     "execution_count": 22,
     "metadata": {},
     "output_type": "execute_result"
    }
   ],
   "source": [
    "d = {\"function\": funcVal[:, 0], \"value\": funcVal[:, 1]}\n",
    "df = pd.DataFrame(data = d, index=np.arange(1, m + 2))\n",
    "df"
   ]
  },
  {
   "cell_type": "code",
   "execution_count": 23,
   "id": "8d9b5d9b",
   "metadata": {},
   "outputs": [],
   "source": [
    "(left, right) = (a, funcVal[-1,1])"
   ]
  },
  {
   "cell_type": "markdown",
   "id": "08a0fd27",
   "metadata": {},
   "source": [
    "Точка интерполирования"
   ]
  },
  {
   "cell_type": "code",
   "execution_count": 24,
   "id": "0bf6f10f",
   "metadata": {},
   "outputs": [
    {
     "name": "stdout",
     "output_type": "stream",
     "text": [
      "1.7\n"
     ]
    }
   ],
   "source": [
    "F = float(input())"
   ]
  },
  {
   "cell_type": "markdown",
   "id": "25fc7cb9",
   "metadata": {},
   "source": [
    "Степень интерполяционного многочлена:"
   ]
  },
  {
   "cell_type": "code",
   "execution_count": 25,
   "id": "9669ead7",
   "metadata": {},
   "outputs": [
    {
     "name": "stdout",
     "output_type": "stream",
     "text": [
      "16\n"
     ]
    }
   ],
   "source": [
    "n = int(input())\n",
    "while (n > m):\n",
    "    print(\"Please, enter n <= m\")\n",
    "    n = int(input())"
   ]
  },
  {
   "cell_type": "code",
   "execution_count": 26,
   "id": "0752d522",
   "metadata": {},
   "outputs": [
    {
     "data": {
      "text/html": [
       "<div>\n",
       "<style scoped>\n",
       "    .dataframe tbody tr th:only-of-type {\n",
       "        vertical-align: middle;\n",
       "    }\n",
       "\n",
       "    .dataframe tbody tr th {\n",
       "        vertical-align: top;\n",
       "    }\n",
       "\n",
       "    .dataframe thead th {\n",
       "        text-align: right;\n",
       "    }\n",
       "</style>\n",
       "<table border=\"1\" class=\"dataframe\">\n",
       "  <thead>\n",
       "    <tr style=\"text-align: right;\">\n",
       "      <th></th>\n",
       "      <th>function</th>\n",
       "      <th>value</th>\n",
       "    </tr>\n",
       "  </thead>\n",
       "  <tbody>\n",
       "    <tr>\n",
       "      <th>1</th>\n",
       "      <td>0.405465</td>\n",
       "      <td>0.5</td>\n",
       "    </tr>\n",
       "    <tr>\n",
       "      <th>2</th>\n",
       "      <td>0.693147</td>\n",
       "      <td>1.0</td>\n",
       "    </tr>\n",
       "    <tr>\n",
       "      <th>3</th>\n",
       "      <td>0.916291</td>\n",
       "      <td>1.5</td>\n",
       "    </tr>\n",
       "    <tr>\n",
       "      <th>4</th>\n",
       "      <td>1.098612</td>\n",
       "      <td>2.0</td>\n",
       "    </tr>\n",
       "    <tr>\n",
       "      <th>5</th>\n",
       "      <td>1.252763</td>\n",
       "      <td>2.5</td>\n",
       "    </tr>\n",
       "    <tr>\n",
       "      <th>6</th>\n",
       "      <td>1.386294</td>\n",
       "      <td>3.0</td>\n",
       "    </tr>\n",
       "    <tr>\n",
       "      <th>7</th>\n",
       "      <td>1.504077</td>\n",
       "      <td>3.5</td>\n",
       "    </tr>\n",
       "    <tr>\n",
       "      <th>8</th>\n",
       "      <td>1.609438</td>\n",
       "      <td>4.0</td>\n",
       "    </tr>\n",
       "    <tr>\n",
       "      <th>9</th>\n",
       "      <td>1.704748</td>\n",
       "      <td>4.5</td>\n",
       "    </tr>\n",
       "    <tr>\n",
       "      <th>10</th>\n",
       "      <td>1.791759</td>\n",
       "      <td>5.0</td>\n",
       "    </tr>\n",
       "    <tr>\n",
       "      <th>11</th>\n",
       "      <td>1.871802</td>\n",
       "      <td>5.5</td>\n",
       "    </tr>\n",
       "    <tr>\n",
       "      <th>12</th>\n",
       "      <td>1.945910</td>\n",
       "      <td>6.0</td>\n",
       "    </tr>\n",
       "    <tr>\n",
       "      <th>13</th>\n",
       "      <td>2.014903</td>\n",
       "      <td>6.5</td>\n",
       "    </tr>\n",
       "    <tr>\n",
       "      <th>14</th>\n",
       "      <td>2.079442</td>\n",
       "      <td>7.0</td>\n",
       "    </tr>\n",
       "    <tr>\n",
       "      <th>15</th>\n",
       "      <td>2.140066</td>\n",
       "      <td>7.5</td>\n",
       "    </tr>\n",
       "    <tr>\n",
       "      <th>16</th>\n",
       "      <td>2.197225</td>\n",
       "      <td>8.0</td>\n",
       "    </tr>\n",
       "    <tr>\n",
       "      <th>17</th>\n",
       "      <td>2.251292</td>\n",
       "      <td>8.5</td>\n",
       "    </tr>\n",
       "  </tbody>\n",
       "</table>\n",
       "</div>"
      ],
      "text/plain": [
       "    function  value\n",
       "1   0.405465    0.5\n",
       "2   0.693147    1.0\n",
       "3   0.916291    1.5\n",
       "4   1.098612    2.0\n",
       "5   1.252763    2.5\n",
       "6   1.386294    3.0\n",
       "7   1.504077    3.5\n",
       "8   1.609438    4.0\n",
       "9   1.704748    4.5\n",
       "10  1.791759    5.0\n",
       "11  1.871802    5.5\n",
       "12  1.945910    6.0\n",
       "13  2.014903    6.5\n",
       "14  2.079442    7.0\n",
       "15  2.140066    7.5\n",
       "16  2.197225    8.0\n",
       "17  2.251292    8.5"
      ]
     },
     "execution_count": 26,
     "metadata": {},
     "output_type": "execute_result"
    }
   ],
   "source": [
    "funcVal1 = sorted(funcVal, key = lambda x: np.abs(x[0] - F))\n",
    "funcVal1 = np.array(funcVal[:n + 1])\n",
    "d = {\"function\": funcVal1[:, 0], \"value\": funcVal1[:, 1]}\n",
    "df = pd.DataFrame(data = d, index=np.arange(1, n + 2))\n",
    "df"
   ]
  },
  {
   "cell_type": "markdown",
   "id": "ebbafbf1",
   "metadata": {},
   "source": [
    "### Способ 1"
   ]
  },
  {
   "cell_type": "code",
   "execution_count": 27,
   "id": "7d9d9c9b",
   "metadata": {},
   "outputs": [],
   "source": [
    "def lagrange(xp: float, x, f) -> float:\n",
    "    global n\n",
    "    yp = 0\n",
    "    for i in range(n):\n",
    "        p = 1\n",
    "        for j in range(n):\n",
    "            if i != j:\n",
    "                p = p * (xp - x[j])/(x[i] - x[j])\n",
    "    \n",
    "        yp = yp + p * f[i] \n",
    "    return yp"
   ]
  },
  {
   "cell_type": "code",
   "execution_count": 28,
   "id": "d76c9361",
   "metadata": {},
   "outputs": [
    {
     "name": "stdout",
     "output_type": "stream",
     "text": [
      "Argument:  4.4739473917272\n",
      "Function Value:  1.7\n",
      "Disperency module:  0.0\n"
     ]
    }
   ],
   "source": [
    "value = lagrange(F, funcVal1[:, 0], funcVal1[:, 1])\n",
    "dsvalue = np.abs(getFunc(value) - F)\n",
    "print('Argument: ', value)\n",
    "print('Function Value: ', getFunc(value))\n",
    "print('Disperency module: ', dsvalue)"
   ]
  },
  {
   "cell_type": "markdown",
   "id": "16952c04",
   "metadata": {},
   "source": [
    "### Способ 2"
   ]
  },
  {
   "cell_type": "code",
   "execution_count": 29,
   "id": "d28d557e",
   "metadata": {},
   "outputs": [],
   "source": [
    "def dividedDiff(x, func):\n",
    "    global n, m\n",
    "    A = np.zeros((n + 1,n + 2))\n",
    "    A[:,0]= x[:]\n",
    "    \n",
    "    for i in range(n):\n",
    "        A[i, 1] = func[i]\n",
    "    for j in range(2,n+1):\n",
    "        for i in range(j-1,n):\n",
    "            A[i,j] = (A[i,j-1]-A[i-1,j-1]) / (A[i,0]-A[i-j+1,0])\n",
    "    p = np.zeros(n)\n",
    "    for k in range(0,n):\n",
    "        p[k] = A[k,k+1]\n",
    "    return p"
   ]
  },
  {
   "cell_type": "code",
   "execution_count": 30,
   "id": "0d4e17fb",
   "metadata": {},
   "outputs": [],
   "source": [
    "def newton(xp: float, x, func):\n",
    "    global n\n",
    "    p = dividedDiff(x, func)\n",
    "    prev = p[n - 1]\n",
    "    for i in range(n-2, -1, -1):\n",
    "        prev = prev*(xp - x[i]) + p[i]\n",
    "    return prev"
   ]
  },
  {
   "cell_type": "code",
   "execution_count": 31,
   "id": "17cdbe24",
   "metadata": {},
   "outputs": [],
   "source": [
    "def bisectionMethod(F, x, func, lBound: float, rBound: float):\n",
    "    global epsilon\n",
    "    step = 0\n",
    "    print(\"---------------------------------------\\n\")\n",
    "    print(\"Initial approximation x = \", (lBound + rBound) / 2, \"\\n\")\n",
    "    while (rBound - lBound >= 2 * epsilon):\n",
    "        pivot = (rBound + lBound) / 2\n",
    "        if ((newton(pivot, x, func) - F) * (newton(rBound, x, func) - F) <= 0):\n",
    "            lBound = pivot\n",
    "        else:\n",
    "            rBound = pivot\n",
    "        step += 1\n",
    "    sol = (lBound + rBound) / 2\n",
    "    delta = (rBound - lBound) \n",
    "    \n",
    "    print(\"Argument = \", sol, \"\\n\")\n",
    "    print(\"Function value = \", getFunc(sol), \"\\n\")\n",
    "    print(\"Discrepancy module: \",np.abs(getFunc(sol) - F), \"\\n\")"
   ]
  },
  {
   "cell_type": "code",
   "execution_count": 33,
   "id": "0d7a28ab",
   "metadata": {},
   "outputs": [
    {
     "name": "stdout",
     "output_type": "stream",
     "text": [
      "---------------------------------------\n",
      "\n",
      "Initial approximation x =  4.5 \n",
      "\n",
      "Argument =  4.473946571350098 \n",
      "\n",
      "Function value =  1.6999998501306086 \n",
      "\n",
      "Discrepancy module:  1.4986939134153943e-07 \n",
      "\n"
     ]
    }
   ],
   "source": [
    "bisectionMethod(F, funcVal1[:, 1], funcVal1[:, 0],  4, 5)"
   ]
  },
  {
   "cell_type": "code",
   "execution_count": null,
   "id": "aad0d629",
   "metadata": {},
   "outputs": [],
   "source": []
  }
 ],
 "metadata": {
  "kernelspec": {
   "display_name": "Python 3",
   "language": "python",
   "name": "python3"
  },
  "language_info": {
   "codemirror_mode": {
    "name": "ipython",
    "version": 3
   },
   "file_extension": ".py",
   "mimetype": "text/x-python",
   "name": "python",
   "nbconvert_exporter": "python",
   "pygments_lexer": "ipython3",
   "version": "3.7.6"
  }
 },
 "nbformat": 4,
 "nbformat_minor": 5
}
