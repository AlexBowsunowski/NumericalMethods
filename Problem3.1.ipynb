{
 "cells": [
  {
   "cell_type": "code",
   "execution_count": 85,
   "id": "e111466f",
   "metadata": {},
   "outputs": [],
   "source": [
    "import numpy as np\n",
    "import pandas as pd\n",
    "np.random.seed(3)"
   ]
  },
  {
   "cell_type": "markdown",
   "id": "d7e5fc92",
   "metadata": {},
   "source": [
    "## Задание 3.1"
   ]
  },
  {
   "cell_type": "markdown",
   "id": "4464d034",
   "metadata": {},
   "source": [
    "Задача обратного интерполирования"
   ]
  },
  {
   "cell_type": "markdown",
   "id": "449b772b",
   "metadata": {},
   "source": [
    "Функция $f(x) = ln(1 + x)$ при $\\varepsilon = 10 ^{-6}$"
   ]
  },
  {
   "cell_type": "code",
   "execution_count": 86,
   "id": "0d602a97",
   "metadata": {},
   "outputs": [],
   "source": [
    "def getFunc(arg: float) -> float:\n",
    "    return np.log(1 + arg)"
   ]
  },
  {
   "cell_type": "code",
   "execution_count": 87,
   "id": "3c42568b",
   "metadata": {},
   "outputs": [
    {
     "name": "stdout",
     "output_type": "stream",
     "text": [
      "30\n"
     ]
    }
   ],
   "source": [
    "m = int(input())"
   ]
  },
  {
   "cell_type": "code",
   "execution_count": 88,
   "id": "56b68c2f",
   "metadata": {},
   "outputs": [
    {
     "name": "stdout",
     "output_type": "stream",
     "text": [
      "0.1\n",
      "0.1\n"
     ]
    }
   ],
   "source": [
    "a = float(input())\n",
    "h = float(input())"
   ]
  },
  {
   "cell_type": "code",
   "execution_count": 89,
   "id": "d4caf220",
   "metadata": {},
   "outputs": [],
   "source": [
    "funcVal = []\n",
    "for i in range(m + 1):\n",
    "    funcVal.append([getFunc(a + i * h), a + i * h])\n",
    "funcVal = sorted(funcVal, key = lambda x: x[0])\n",
    "funcVal = np.array(funcVal)"
   ]
  },
  {
   "cell_type": "code",
   "execution_count": 90,
   "id": "967ab520",
   "metadata": {},
   "outputs": [
    {
     "data": {
      "text/html": [
       "<div>\n",
       "<style scoped>\n",
       "    .dataframe tbody tr th:only-of-type {\n",
       "        vertical-align: middle;\n",
       "    }\n",
       "\n",
       "    .dataframe tbody tr th {\n",
       "        vertical-align: top;\n",
       "    }\n",
       "\n",
       "    .dataframe thead th {\n",
       "        text-align: right;\n",
       "    }\n",
       "</style>\n",
       "<table border=\"1\" class=\"dataframe\">\n",
       "  <thead>\n",
       "    <tr style=\"text-align: right;\">\n",
       "      <th></th>\n",
       "      <th>function</th>\n",
       "      <th>argument</th>\n",
       "    </tr>\n",
       "  </thead>\n",
       "  <tbody>\n",
       "    <tr>\n",
       "      <th>1</th>\n",
       "      <td>0.095310</td>\n",
       "      <td>0.1</td>\n",
       "    </tr>\n",
       "    <tr>\n",
       "      <th>2</th>\n",
       "      <td>0.182322</td>\n",
       "      <td>0.2</td>\n",
       "    </tr>\n",
       "    <tr>\n",
       "      <th>3</th>\n",
       "      <td>0.262364</td>\n",
       "      <td>0.3</td>\n",
       "    </tr>\n",
       "    <tr>\n",
       "      <th>4</th>\n",
       "      <td>0.336472</td>\n",
       "      <td>0.4</td>\n",
       "    </tr>\n",
       "    <tr>\n",
       "      <th>5</th>\n",
       "      <td>0.405465</td>\n",
       "      <td>0.5</td>\n",
       "    </tr>\n",
       "    <tr>\n",
       "      <th>6</th>\n",
       "      <td>0.470004</td>\n",
       "      <td>0.6</td>\n",
       "    </tr>\n",
       "    <tr>\n",
       "      <th>7</th>\n",
       "      <td>0.530628</td>\n",
       "      <td>0.7</td>\n",
       "    </tr>\n",
       "    <tr>\n",
       "      <th>8</th>\n",
       "      <td>0.587787</td>\n",
       "      <td>0.8</td>\n",
       "    </tr>\n",
       "    <tr>\n",
       "      <th>9</th>\n",
       "      <td>0.641854</td>\n",
       "      <td>0.9</td>\n",
       "    </tr>\n",
       "    <tr>\n",
       "      <th>10</th>\n",
       "      <td>0.693147</td>\n",
       "      <td>1.0</td>\n",
       "    </tr>\n",
       "    <tr>\n",
       "      <th>11</th>\n",
       "      <td>0.741937</td>\n",
       "      <td>1.1</td>\n",
       "    </tr>\n",
       "    <tr>\n",
       "      <th>12</th>\n",
       "      <td>0.788457</td>\n",
       "      <td>1.2</td>\n",
       "    </tr>\n",
       "    <tr>\n",
       "      <th>13</th>\n",
       "      <td>0.832909</td>\n",
       "      <td>1.3</td>\n",
       "    </tr>\n",
       "    <tr>\n",
       "      <th>14</th>\n",
       "      <td>0.875469</td>\n",
       "      <td>1.4</td>\n",
       "    </tr>\n",
       "    <tr>\n",
       "      <th>15</th>\n",
       "      <td>0.916291</td>\n",
       "      <td>1.5</td>\n",
       "    </tr>\n",
       "    <tr>\n",
       "      <th>16</th>\n",
       "      <td>0.955511</td>\n",
       "      <td>1.6</td>\n",
       "    </tr>\n",
       "    <tr>\n",
       "      <th>17</th>\n",
       "      <td>0.993252</td>\n",
       "      <td>1.7</td>\n",
       "    </tr>\n",
       "    <tr>\n",
       "      <th>18</th>\n",
       "      <td>1.029619</td>\n",
       "      <td>1.8</td>\n",
       "    </tr>\n",
       "    <tr>\n",
       "      <th>19</th>\n",
       "      <td>1.064711</td>\n",
       "      <td>1.9</td>\n",
       "    </tr>\n",
       "    <tr>\n",
       "      <th>20</th>\n",
       "      <td>1.098612</td>\n",
       "      <td>2.0</td>\n",
       "    </tr>\n",
       "    <tr>\n",
       "      <th>21</th>\n",
       "      <td>1.131402</td>\n",
       "      <td>2.1</td>\n",
       "    </tr>\n",
       "    <tr>\n",
       "      <th>22</th>\n",
       "      <td>1.163151</td>\n",
       "      <td>2.2</td>\n",
       "    </tr>\n",
       "    <tr>\n",
       "      <th>23</th>\n",
       "      <td>1.193922</td>\n",
       "      <td>2.3</td>\n",
       "    </tr>\n",
       "    <tr>\n",
       "      <th>24</th>\n",
       "      <td>1.223775</td>\n",
       "      <td>2.4</td>\n",
       "    </tr>\n",
       "    <tr>\n",
       "      <th>25</th>\n",
       "      <td>1.252763</td>\n",
       "      <td>2.5</td>\n",
       "    </tr>\n",
       "    <tr>\n",
       "      <th>26</th>\n",
       "      <td>1.280934</td>\n",
       "      <td>2.6</td>\n",
       "    </tr>\n",
       "    <tr>\n",
       "      <th>27</th>\n",
       "      <td>1.308333</td>\n",
       "      <td>2.7</td>\n",
       "    </tr>\n",
       "    <tr>\n",
       "      <th>28</th>\n",
       "      <td>1.335001</td>\n",
       "      <td>2.8</td>\n",
       "    </tr>\n",
       "    <tr>\n",
       "      <th>29</th>\n",
       "      <td>1.360977</td>\n",
       "      <td>2.9</td>\n",
       "    </tr>\n",
       "    <tr>\n",
       "      <th>30</th>\n",
       "      <td>1.386294</td>\n",
       "      <td>3.0</td>\n",
       "    </tr>\n",
       "    <tr>\n",
       "      <th>31</th>\n",
       "      <td>1.410987</td>\n",
       "      <td>3.1</td>\n",
       "    </tr>\n",
       "  </tbody>\n",
       "</table>\n",
       "</div>"
      ],
      "text/plain": [
       "    function  argument\n",
       "1   0.095310       0.1\n",
       "2   0.182322       0.2\n",
       "3   0.262364       0.3\n",
       "4   0.336472       0.4\n",
       "5   0.405465       0.5\n",
       "6   0.470004       0.6\n",
       "7   0.530628       0.7\n",
       "8   0.587787       0.8\n",
       "9   0.641854       0.9\n",
       "10  0.693147       1.0\n",
       "11  0.741937       1.1\n",
       "12  0.788457       1.2\n",
       "13  0.832909       1.3\n",
       "14  0.875469       1.4\n",
       "15  0.916291       1.5\n",
       "16  0.955511       1.6\n",
       "17  0.993252       1.7\n",
       "18  1.029619       1.8\n",
       "19  1.064711       1.9\n",
       "20  1.098612       2.0\n",
       "21  1.131402       2.1\n",
       "22  1.163151       2.2\n",
       "23  1.193922       2.3\n",
       "24  1.223775       2.4\n",
       "25  1.252763       2.5\n",
       "26  1.280934       2.6\n",
       "27  1.308333       2.7\n",
       "28  1.335001       2.8\n",
       "29  1.360977       2.9\n",
       "30  1.386294       3.0\n",
       "31  1.410987       3.1"
      ]
     },
     "execution_count": 90,
     "metadata": {},
     "output_type": "execute_result"
    }
   ],
   "source": [
    "d = {\"function\": funcVal[:, 0], \"argument\": funcVal[:, 1]}\n",
    "df = pd.DataFrame(data = d, index=np.arange(1, m + 2))\n",
    "df"
   ]
  },
  {
   "cell_type": "code",
   "execution_count": 91,
   "id": "8d9b5d9b",
   "metadata": {},
   "outputs": [],
   "source": [
    "(left, right) = (a, funcVal[-1,1])"
   ]
  },
  {
   "cell_type": "markdown",
   "id": "08a0fd27",
   "metadata": {},
   "source": [
    "Точка интерполирования"
   ]
  },
  {
   "cell_type": "code",
   "execution_count": 92,
   "id": "0bf6f10f",
   "metadata": {},
   "outputs": [
    {
     "name": "stdout",
     "output_type": "stream",
     "text": [
      "1\n"
     ]
    }
   ],
   "source": [
    "F = float(input())"
   ]
  },
  {
   "cell_type": "markdown",
   "id": "25fc7cb9",
   "metadata": {},
   "source": [
    "Степень интерполяционного многочлена:"
   ]
  },
  {
   "cell_type": "code",
   "execution_count": 95,
   "id": "9669ead7",
   "metadata": {},
   "outputs": [
    {
     "name": "stdout",
     "output_type": "stream",
     "text": [
      "10\n"
     ]
    }
   ],
   "source": [
    "n = int(input())\n",
    "while (n > m):\n",
    "    print(\"Please, enter n <= m\")\n",
    "    n = int(input())"
   ]
  },
  {
   "cell_type": "code",
   "execution_count": 99,
   "id": "0752d522",
   "metadata": {},
   "outputs": [
    {
     "data": {
      "text/html": [
       "<div>\n",
       "<style scoped>\n",
       "    .dataframe tbody tr th:only-of-type {\n",
       "        vertical-align: middle;\n",
       "    }\n",
       "\n",
       "    .dataframe tbody tr th {\n",
       "        vertical-align: top;\n",
       "    }\n",
       "\n",
       "    .dataframe thead th {\n",
       "        text-align: right;\n",
       "    }\n",
       "</style>\n",
       "<table border=\"1\" class=\"dataframe\">\n",
       "  <thead>\n",
       "    <tr style=\"text-align: right;\">\n",
       "      <th></th>\n",
       "      <th>function</th>\n",
       "      <th>argument</th>\n",
       "    </tr>\n",
       "  </thead>\n",
       "  <tbody>\n",
       "    <tr>\n",
       "      <th>1</th>\n",
       "      <td>0.993252</td>\n",
       "      <td>1.7</td>\n",
       "    </tr>\n",
       "    <tr>\n",
       "      <th>2</th>\n",
       "      <td>1.029619</td>\n",
       "      <td>1.8</td>\n",
       "    </tr>\n",
       "    <tr>\n",
       "      <th>3</th>\n",
       "      <td>0.955511</td>\n",
       "      <td>1.6</td>\n",
       "    </tr>\n",
       "    <tr>\n",
       "      <th>4</th>\n",
       "      <td>1.064711</td>\n",
       "      <td>1.9</td>\n",
       "    </tr>\n",
       "    <tr>\n",
       "      <th>5</th>\n",
       "      <td>0.916291</td>\n",
       "      <td>1.5</td>\n",
       "    </tr>\n",
       "    <tr>\n",
       "      <th>6</th>\n",
       "      <td>1.098612</td>\n",
       "      <td>2.0</td>\n",
       "    </tr>\n",
       "    <tr>\n",
       "      <th>7</th>\n",
       "      <td>0.875469</td>\n",
       "      <td>1.4</td>\n",
       "    </tr>\n",
       "    <tr>\n",
       "      <th>8</th>\n",
       "      <td>1.131402</td>\n",
       "      <td>2.1</td>\n",
       "    </tr>\n",
       "    <tr>\n",
       "      <th>9</th>\n",
       "      <td>1.163151</td>\n",
       "      <td>2.2</td>\n",
       "    </tr>\n",
       "    <tr>\n",
       "      <th>10</th>\n",
       "      <td>0.832909</td>\n",
       "      <td>1.3</td>\n",
       "    </tr>\n",
       "    <tr>\n",
       "      <th>11</th>\n",
       "      <td>1.193922</td>\n",
       "      <td>2.3</td>\n",
       "    </tr>\n",
       "  </tbody>\n",
       "</table>\n",
       "</div>"
      ],
      "text/plain": [
       "    function  argument\n",
       "1   0.993252       1.7\n",
       "2   1.029619       1.8\n",
       "3   0.955511       1.6\n",
       "4   1.064711       1.9\n",
       "5   0.916291       1.5\n",
       "6   1.098612       2.0\n",
       "7   0.875469       1.4\n",
       "8   1.131402       2.1\n",
       "9   1.163151       2.2\n",
       "10  0.832909       1.3\n",
       "11  1.193922       2.3"
      ]
     },
     "execution_count": 99,
     "metadata": {},
     "output_type": "execute_result"
    }
   ],
   "source": [
    "funcVal1 = sorted(funcVal, key = lambda x: np.abs(x[0] - F))\n",
    "funcVal1 = np.array(funcVal1[:n + 1])\n",
    "d = {\"function\": funcVal1[:, 0], \"argument\": funcVal1[:, 1]}\n",
    "df = pd.DataFrame(data = d, index=np.arange(1, n + 2))\n",
    "df"
   ]
  },
  {
   "cell_type": "markdown",
   "id": "ebbafbf1",
   "metadata": {},
   "source": [
    "### Способ 1"
   ]
  },
  {
   "cell_type": "code",
   "execution_count": 100,
   "id": "7d9d9c9b",
   "metadata": {},
   "outputs": [],
   "source": [
    "def lagrange(xp: float, x, f) -> float:\n",
    "    global n\n",
    "    yp = 0\n",
    "    for i in range(n):\n",
    "        p = 1\n",
    "        for j in range(n):\n",
    "            if i != j:\n",
    "                p = p * (xp - x[j])/(x[i] - x[j])\n",
    "    \n",
    "        yp = yp + p * f[i] \n",
    "    return yp"
   ]
  },
  {
   "cell_type": "code",
   "execution_count": 101,
   "id": "d76c9361",
   "metadata": {},
   "outputs": [
    {
     "name": "stdout",
     "output_type": "stream",
     "text": [
      "Argument:  1.7182818284590449\n",
      "Function Value:  0.9999999999999998\n",
      "Disperency module:  2.220446049250313e-16\n"
     ]
    }
   ],
   "source": [
    "value = lagrange(F, funcVal1[:, 0], funcVal1[:, 1])\n",
    "dsvalue = np.abs(getFunc(value) - F)\n",
    "print('Argument: ', value)\n",
    "print('Function Value: ', getFunc(value))\n",
    "print('Disperency module: ', dsvalue)"
   ]
  },
  {
   "cell_type": "markdown",
   "id": "16952c04",
   "metadata": {},
   "source": [
    "### Способ 2"
   ]
  },
  {
   "cell_type": "code",
   "execution_count": 112,
   "id": "731e4bdf",
   "metadata": {},
   "outputs": [
    {
     "name": "stdout",
     "output_type": "stream",
     "text": [
      "12\n"
     ]
    }
   ],
   "source": [
    "k = int(input())"
   ]
  },
  {
   "cell_type": "code",
   "execution_count": 113,
   "id": "97785a9c",
   "metadata": {},
   "outputs": [],
   "source": [
    "epsilon = 1/np.power(10,k)"
   ]
  },
  {
   "cell_type": "code",
   "execution_count": 114,
   "id": "4a397355",
   "metadata": {},
   "outputs": [],
   "source": [
    "def separationMethod(left, right, F) -> list:\n",
    "    ans = []\n",
    "    N = 100\n",
    "    t = (right - left) / N\n",
    "    x1 = left\n",
    "    x2 = left + t \n",
    "    y1 = 0\n",
    "    y2 = 0\n",
    "    counter = 0\n",
    "    while (x2 <= right):\n",
    "        y1 = getFunc(x1)\n",
    "        y2 = getFunc(x2)\n",
    "        if ((y1 - F) * (y2 - F) <= 0):\n",
    "            pair = (x1, x2)\n",
    "            ans.append(pair)\n",
    "            counter+=1\n",
    "            print(counter, \": [\", x1, \", \", x2, \"]\\n\")\n",
    "        x1 = x2\n",
    "        x2 += t\n",
    "    return ans"
   ]
  },
  {
   "cell_type": "code",
   "execution_count": 115,
   "id": "4f4ec3f0",
   "metadata": {},
   "outputs": [
    {
     "name": "stdout",
     "output_type": "stream",
     "text": [
      "1 : [ 1.6900000000000013 ,  1.7200000000000013 ]\n",
      "\n"
     ]
    }
   ],
   "source": [
    "a = separationMethod(left, right, F)"
   ]
  },
  {
   "cell_type": "code",
   "execution_count": 116,
   "id": "d28d557e",
   "metadata": {},
   "outputs": [],
   "source": [
    "def dividedDiff(x, func):\n",
    "    global n, m\n",
    "    A = np.zeros((n + 1,n + 2))\n",
    "    A[:,0]= x[:]\n",
    "    \n",
    "    for i in range(n):\n",
    "        A[i, 1] = func[i]\n",
    "    for j in range(2,n+1):\n",
    "        for i in range(j-1,n):\n",
    "            A[i,j] = (A[i,j-1]-A[i-1,j-1]) / (A[i,0]-A[i-j+1,0])\n",
    "    p = np.zeros(n)\n",
    "    for k in range(0,n):\n",
    "        p[k] = A[k,k+1]\n",
    "    return p"
   ]
  },
  {
   "cell_type": "code",
   "execution_count": 117,
   "id": "0d4e17fb",
   "metadata": {},
   "outputs": [],
   "source": [
    "def newton(xp: float, x, func):\n",
    "    global n\n",
    "    p = dividedDiff(x, func)\n",
    "    prev = p[n - 1]\n",
    "    for i in range(n-2, -1, -1):\n",
    "        prev = prev*(xp - x[i]) + p[i]\n",
    "    return prev"
   ]
  },
  {
   "cell_type": "code",
   "execution_count": 118,
   "id": "17cdbe24",
   "metadata": {},
   "outputs": [],
   "source": [
    "def bisectionMethod(F, x, func, lBound: float, rBound: float):\n",
    "    global epsilon\n",
    "    step = 0\n",
    "    print(\"---------------------------------------\\n\")\n",
    "    print(\"Initial approximation x = \", (lBound + rBound) / 2, \"\\n\")\n",
    "    while (rBound - lBound >= 2 * epsilon):\n",
    "        pivot = (rBound + lBound) / 2\n",
    "        if ((newton(pivot, x, func) - F) * (newton(rBound, x, func) - F) <= 0):\n",
    "            lBound = pivot\n",
    "        else:\n",
    "            rBound = pivot\n",
    "        step += 1\n",
    "    sol = (lBound + rBound) / 2\n",
    "    delta = (rBound - lBound) \n",
    "    \n",
    "    print(\"Argument = \", sol, \"\\n\")\n",
    "    print(\"Function value = \", getFunc(sol), \"\\n\")\n",
    "    print(\"|P(x) - F| = \",  np.abs(newton(sol, x, func) - F))\n",
    "    print(\"Discrepancy module: \",np.abs(getFunc(sol) - F), \"\\n\")"
   ]
  },
  {
   "cell_type": "code",
   "execution_count": 119,
   "id": "0d7a28ab",
   "metadata": {},
   "outputs": [
    {
     "name": "stdout",
     "output_type": "stream",
     "text": [
      "---------------------------------------\n",
      "\n",
      "Initial approximation x =  1.7050000000000014 \n",
      "\n",
      "Argument =  1.7182818284598769 \n",
      "\n",
      "Function value =  1.000000000000306 \n",
      "\n",
      "|P(x) - F| =  9.9253938401489e-14\n",
      "Discrepancy module:  3.0597746558669314e-13 \n",
      "\n"
     ]
    }
   ],
   "source": [
    "bisectionMethod(F, funcVal1[:, 1], funcVal1[:, 0],  a[0][0], a[0][1])"
   ]
  },
  {
   "cell_type": "code",
   "execution_count": null,
   "id": "dbbc9d0a",
   "metadata": {},
   "outputs": [],
   "source": []
  }
 ],
 "metadata": {
  "kernelspec": {
   "display_name": "Python 3",
   "language": "python",
   "name": "python3"
  },
  "language_info": {
   "codemirror_mode": {
    "name": "ipython",
    "version": 3
   },
   "file_extension": ".py",
   "mimetype": "text/x-python",
   "name": "python",
   "nbconvert_exporter": "python",
   "pygments_lexer": "ipython3",
   "version": "3.7.6"
  }
 },
 "nbformat": 4,
 "nbformat_minor": 5
}
