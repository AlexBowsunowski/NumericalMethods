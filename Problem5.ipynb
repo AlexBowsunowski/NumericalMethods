{
 "cells": [
  {
   "cell_type": "code",
   "execution_count": 1,
   "id": "bafda996",
   "metadata": {},
   "outputs": [],
   "source": [
    "import numpy as np\n",
    "import pandas as pd\n",
    "import functools\n",
    "from typing import Optional, Callable\n",
    "np.random.seed(1)"
   ]
  },
  {
   "cell_type": "markdown",
   "id": "284eaa20",
   "metadata": {},
   "source": [
    "## Задание 5 "
   ]
  },
  {
   "cell_type": "markdown",
   "id": "07660919",
   "metadata": {},
   "source": [
    "### Вариант 2"
   ]
  },
  {
   "cell_type": "markdown",
   "id": "40430eef",
   "metadata": {},
   "source": [
    "## КФ Гаусса"
   ]
  },
  {
   "cell_type": "code",
   "execution_count": 2,
   "id": "2a99bddb",
   "metadata": {},
   "outputs": [],
   "source": [
    "N = np.array([4, 6, 7, 8])"
   ]
  },
  {
   "cell_type": "code",
   "execution_count": 3,
   "id": "83f03c06",
   "metadata": {},
   "outputs": [],
   "source": [
    "left, right = 1, 10"
   ]
  },
  {
   "cell_type": "markdown",
   "id": "4342c643",
   "metadata": {},
   "source": [
    "### $f(x) = \\frac{1}{(1 + x^2)(4 + 3x^2)}$"
   ]
  },
  {
   "cell_type": "code",
   "execution_count": 4,
   "id": "453da085",
   "metadata": {},
   "outputs": [],
   "source": [
    "def func1(\n",
    "    arg: float\n",
    "    ) -> float:\n",
    "    return 1 / ((1+arg*arg)*(4+3*arg*arg))"
   ]
  },
  {
   "cell_type": "markdown",
   "id": "e5722a02",
   "metadata": {},
   "source": [
    "### Интеграл от заданной функции"
   ]
  },
  {
   "cell_type": "markdown",
   "id": "f2610315",
   "metadata": {},
   "source": [
    "### $\\int f(x)dx = ctg(x) - \\frac{\\sqrt3}{2}ctg(\\frac{\\sqrt3x}{2})$"
   ]
  },
  {
   "cell_type": "code",
   "execution_count": 5,
   "id": "b2cf875b",
   "metadata": {},
   "outputs": [],
   "source": [
    "I1 = ((np.arctan(right)) - np.sqrt(3)/2 * np.arctan(np.sqrt(3)/2 * right))"
   ]
  },
  {
   "cell_type": "code",
   "execution_count": 6,
   "id": "6bd96f07",
   "metadata": {},
   "outputs": [],
   "source": [
    "I2 = ((np.arctan(left)) - np.sqrt(3)/2 * (np.arctan(np.sqrt(3)/2 * left)))"
   ]
  },
  {
   "cell_type": "code",
   "execution_count": 7,
   "id": "432ff429",
   "metadata": {},
   "outputs": [
    {
     "data": {
      "text/plain": [
       "0.16729471993100997"
      ]
     },
     "execution_count": 7,
     "metadata": {},
     "output_type": "execute_result"
    }
   ],
   "source": [
    "I2"
   ]
  },
  {
   "cell_type": "code",
   "execution_count": 8,
   "id": "3ce8455a",
   "metadata": {},
   "outputs": [
    {
     "data": {
      "text/plain": [
       "0.04304250879311655"
      ]
     },
     "execution_count": 8,
     "metadata": {},
     "output_type": "execute_result"
    }
   ],
   "source": [
    "I = I1 - I2\n",
    "I"
   ]
  },
  {
   "cell_type": "markdown",
   "id": "439f9812",
   "metadata": {},
   "source": [
    "###  Полином Лежандра"
   ]
  },
  {
   "cell_type": "code",
   "execution_count": 9,
   "id": "7a776059",
   "metadata": {},
   "outputs": [],
   "source": [
    "@functools.lru_cache(maxsize=None)\n",
    "def legendre_polynom(\n",
    "    arg: float,\n",
    "    n: int\n",
    "    ) -> float:\n",
    "    \n",
    "    if n == 0:\n",
    "        return 1\n",
    "    if n == 1:\n",
    "        return arg\n",
    "    \n",
    "    return (2*n-1)/n * legendre_polynom(arg, n-1)*arg - (n-1)/n * legendre_polynom(arg, n-2)"
   ]
  },
  {
   "cell_type": "code",
   "execution_count": 10,
   "id": "c5c7d284",
   "metadata": {},
   "outputs": [],
   "source": [
    "def firstderiv_legendre_polynom(\n",
    "    arg: float,\n",
    "    n: int\n",
    "    ) -> float:\n",
    "    \n",
    "    if n == 0:\n",
    "        return 0\n",
    "    if n == 1:\n",
    "        return 1\n",
    "    \n",
    "    return n / (1 - arg*arg) * (legendre_polynom(arg, n - 1) - arg * legendre_polynom(arg, n))"
   ]
  },
  {
   "cell_type": "code",
   "execution_count": 11,
   "id": "5b71ce02",
   "metadata": {},
   "outputs": [],
   "source": [
    "def secondderiv_legendre_polynom(\n",
    "    arg: float,\n",
    "    n: int\n",
    "    ) -> float:\n",
    "    \n",
    "    if n == 0 and n == 1:\n",
    "        return 0\n",
    "    \n",
    "    return 2*n*arg/((1 -arg*arg)*(1-arg*arg)) \\\n",
    "         *(legendre_polynom(arg, n - 1) \\\n",
    "         -arg * legendre_polynom(arg, n)) \\\n",
    "         +n / (1 - arg*arg) * (firstderiv_legendre_polynom(arg, n-1) \\\n",
    "         -legendre_polynom(arg, n) - arg*firstderiv_legendre_polynom(arg, n))\n",
    "        \n",
    "        \n",
    "                "
   ]
  },
  {
   "cell_type": "markdown",
   "id": "87b781ba",
   "metadata": {},
   "source": [
    "### Коэффициенты Гаусса"
   ]
  },
  {
   "cell_type": "code",
   "execution_count": 12,
   "id": "6eb36cfd",
   "metadata": {},
   "outputs": [],
   "source": [
    "def gauss_coefficient(\n",
    "    nodes: np.ndarray,\n",
    "    legendre_polynom: Optional[Callable],\n",
    "    n: int\n",
    "    ) -> np.ndarray:\n",
    "    \n",
    "    A = []\n",
    "    \n",
    "    for node in nodes:\n",
    "        P = legendre_polynom(node, n-1)\n",
    "        coef = 2*(1-node*node) / (n*n*P*P)\n",
    "        A.append((node, coef))\n",
    "    return np.array(A)"
   ]
  },
  {
   "cell_type": "markdown",
   "id": "c92c6467",
   "metadata": {},
   "source": [
    "### Найдем корни многочлена Лежандра"
   ]
  },
  {
   "cell_type": "code",
   "execution_count": 13,
   "id": "8d5c6297",
   "metadata": {},
   "outputs": [],
   "source": [
    "def separation_method(\n",
    "    getFunc: Optional[Callable],\n",
    "    N_nodes: int,\n",
    "    left: float,\n",
    "    right: float,\n",
    "    N=1000\n",
    "    ) -> np.ndarray:\n",
    "\n",
    "    ans = []\n",
    "    \n",
    "    t = (right - left) / N\n",
    "    x1 = left\n",
    "    x2 = left + t \n",
    "    y1 = 0\n",
    "    y2 = 0\n",
    "    counter = 0\n",
    "    while (x2 <= right):\n",
    "        y1 = getFunc(x1, N_nodes)\n",
    "        y2 = getFunc(x2, N_nodes)\n",
    "        if (y1 * y2 <= 0):\n",
    "            pair = (x1, x2)\n",
    "            ans.append(pair)\n",
    "            counter+=1\n",
    "        x1 = x2\n",
    "        x2 += t\n",
    "    \n",
    "    return ans"
   ]
  },
  {
   "cell_type": "code",
   "execution_count": 14,
   "id": "57ed092c",
   "metadata": {},
   "outputs": [],
   "source": [
    "def secant_method(\n",
    "    getFunc: Optional[Callable],\n",
    "    N: int,\n",
    "    lBound: float,\n",
    "    rBound: float,\n",
    "    epsilon: float\n",
    "    ):\n",
    "    if (getFunc(lBound, N) < epsilon):\n",
    "        return lBound\n",
    "    if (getFunc(rBound, N) < epsilon):\n",
    "        return rBound\n",
    "    \n",
    "    prevSol = lBound + np.random.rand() * (rBound - lBound)\n",
    "    while (secondderiv_legendre_polynom(prevSol, N) * getFunc(prevSol, N) <= 0):\n",
    "         prevSol = lBound + np.random.rand() * (rBound - lBound)\n",
    "    \n",
    "    currSol = lBound + np.random.rand() * (rBound - lBound)\n",
    "    nextSol = currSol - (getFunc(currSol, N) * (currSol - prevSol)\n",
    "                         / (getFunc(currSol, N) - getFunc(prevSol, N)))\n",
    "    \n",
    "    step = 0\n",
    "    while(np.abs(currSol - prevSol) >= epsilon):\n",
    "        prevSol = currSol\n",
    "        currSol = nextSol\n",
    "        nextSol = currSol - (getFunc(currSol, N) * (currSol - prevSol)\n",
    "                         / (getFunc(currSol, N) - getFunc(prevSol, N)))\n",
    "        step += 1\n",
    "    return currSol"
   ]
  },
  {
   "cell_type": "code",
   "execution_count": 15,
   "id": "20beaa78",
   "metadata": {},
   "outputs": [],
   "source": [
    "def get_coefficient(\n",
    "    N: int,\n",
    "    left: float,\n",
    "    right: float,\n",
    "    epsilon=1e-12\n",
    "    ) -> np.ndarray:\n",
    "    segments = separation_method(legendre_polynom, N, left, right)\n",
    "    nodes = []\n",
    "    for l, r in segments:\n",
    "        nodes.append(secant_method(legendre_polynom, N, l, r, epsilon))\n",
    "    nodes = np.array(nodes)\n",
    "    return gauss_coefficient(nodes, legendre_polynom, N)"
   ]
  },
  {
   "cell_type": "markdown",
   "id": "28c7bf33",
   "metadata": {},
   "source": [
    "## Узлы <-> Коэффициенты при $N=\\overline{1,8}$"
   ]
  },
  {
   "cell_type": "code",
   "execution_count": 16,
   "id": "3e720006",
   "metadata": {},
   "outputs": [],
   "source": [
    "data = {}\n",
    "for n in range(1, 9):\n",
    "    \n",
    "    nodes_cf = get_coefficient(n, -1, 1)\n",
    "    df = pd.DataFrame(np.array([nodes_cf[:,0], nodes_cf[:,1]]),\n",
    "                     columns=np.arange(1, n + 1),\n",
    "                     index=['Node', 'CF'])\n",
    "    data[n] = df"
   ]
  },
  {
   "cell_type": "markdown",
   "id": "f7f0f89d",
   "metadata": {},
   "source": [
    "## N=1"
   ]
  },
  {
   "cell_type": "code",
   "execution_count": 17,
   "id": "8422a1e1",
   "metadata": {},
   "outputs": [
    {
     "data": {
      "text/html": [
       "<div>\n",
       "<style scoped>\n",
       "    .dataframe tbody tr th:only-of-type {\n",
       "        vertical-align: middle;\n",
       "    }\n",
       "\n",
       "    .dataframe tbody tr th {\n",
       "        vertical-align: top;\n",
       "    }\n",
       "\n",
       "    .dataframe thead th {\n",
       "        text-align: right;\n",
       "    }\n",
       "</style>\n",
       "<table border=\"1\" class=\"dataframe\">\n",
       "  <thead>\n",
       "    <tr style=\"text-align: right;\">\n",
       "      <th></th>\n",
       "      <th>1</th>\n",
       "    </tr>\n",
       "  </thead>\n",
       "  <tbody>\n",
       "    <tr>\n",
       "      <th>Node</th>\n",
       "      <td>-0.002000</td>\n",
       "    </tr>\n",
       "    <tr>\n",
       "      <th>CF</th>\n",
       "      <td>1.999992</td>\n",
       "    </tr>\n",
       "  </tbody>\n",
       "</table>\n",
       "</div>"
      ],
      "text/plain": [
       "             1\n",
       "Node -0.002000\n",
       "CF    1.999992"
      ]
     },
     "execution_count": 17,
     "metadata": {},
     "output_type": "execute_result"
    }
   ],
   "source": [
    "data[1]"
   ]
  },
  {
   "cell_type": "markdown",
   "id": "44286128",
   "metadata": {},
   "source": [
    "## N=2"
   ]
  },
  {
   "cell_type": "code",
   "execution_count": 18,
   "id": "bcc2bd17",
   "metadata": {},
   "outputs": [
    {
     "data": {
      "text/html": [
       "<div>\n",
       "<style scoped>\n",
       "    .dataframe tbody tr th:only-of-type {\n",
       "        vertical-align: middle;\n",
       "    }\n",
       "\n",
       "    .dataframe tbody tr th {\n",
       "        vertical-align: top;\n",
       "    }\n",
       "\n",
       "    .dataframe thead th {\n",
       "        text-align: right;\n",
       "    }\n",
       "</style>\n",
       "<table border=\"1\" class=\"dataframe\">\n",
       "  <thead>\n",
       "    <tr style=\"text-align: right;\">\n",
       "      <th></th>\n",
       "      <th>1</th>\n",
       "      <th>2</th>\n",
       "    </tr>\n",
       "  </thead>\n",
       "  <tbody>\n",
       "    <tr>\n",
       "      <th>Node</th>\n",
       "      <td>-0.576000</td>\n",
       "      <td>0.576000</td>\n",
       "    </tr>\n",
       "    <tr>\n",
       "      <th>CF</th>\n",
       "      <td>1.007041</td>\n",
       "      <td>1.007041</td>\n",
       "    </tr>\n",
       "  </tbody>\n",
       "</table>\n",
       "</div>"
      ],
      "text/plain": [
       "             1         2\n",
       "Node -0.576000  0.576000\n",
       "CF    1.007041  1.007041"
      ]
     },
     "execution_count": 18,
     "metadata": {},
     "output_type": "execute_result"
    }
   ],
   "source": [
    "data[2]"
   ]
  },
  {
   "cell_type": "markdown",
   "id": "7ce3b126",
   "metadata": {},
   "source": [
    "## N=3"
   ]
  },
  {
   "cell_type": "code",
   "execution_count": 19,
   "id": "4206419b",
   "metadata": {},
   "outputs": [
    {
     "data": {
      "text/html": [
       "<div>\n",
       "<style scoped>\n",
       "    .dataframe tbody tr th:only-of-type {\n",
       "        vertical-align: middle;\n",
       "    }\n",
       "\n",
       "    .dataframe tbody tr th {\n",
       "        vertical-align: top;\n",
       "    }\n",
       "\n",
       "    .dataframe thead th {\n",
       "        text-align: right;\n",
       "    }\n",
       "</style>\n",
       "<table border=\"1\" class=\"dataframe\">\n",
       "  <thead>\n",
       "    <tr style=\"text-align: right;\">\n",
       "      <th></th>\n",
       "      <th>1</th>\n",
       "      <th>2</th>\n",
       "      <th>3</th>\n",
       "    </tr>\n",
       "  </thead>\n",
       "  <tbody>\n",
       "    <tr>\n",
       "      <th>Node</th>\n",
       "      <td>-0.776000</td>\n",
       "      <td>8.743006e-16</td>\n",
       "      <td>0.774000</td>\n",
       "    </tr>\n",
       "    <tr>\n",
       "      <th>CF</th>\n",
       "      <td>0.543625</td>\n",
       "      <td>8.888889e-01</td>\n",
       "      <td>0.560718</td>\n",
       "    </tr>\n",
       "  </tbody>\n",
       "</table>\n",
       "</div>"
      ],
      "text/plain": [
       "             1             2         3\n",
       "Node -0.776000  8.743006e-16  0.774000\n",
       "CF    0.543625  8.888889e-01  0.560718"
      ]
     },
     "execution_count": 19,
     "metadata": {},
     "output_type": "execute_result"
    }
   ],
   "source": [
    "data[3]"
   ]
  },
  {
   "cell_type": "markdown",
   "id": "1ccf96a0",
   "metadata": {},
   "source": [
    "## N=4"
   ]
  },
  {
   "cell_type": "code",
   "execution_count": 20,
   "id": "0161c305",
   "metadata": {},
   "outputs": [
    {
     "data": {
      "text/html": [
       "<div>\n",
       "<style scoped>\n",
       "    .dataframe tbody tr th:only-of-type {\n",
       "        vertical-align: middle;\n",
       "    }\n",
       "\n",
       "    .dataframe tbody tr th {\n",
       "        vertical-align: top;\n",
       "    }\n",
       "\n",
       "    .dataframe thead th {\n",
       "        text-align: right;\n",
       "    }\n",
       "</style>\n",
       "<table border=\"1\" class=\"dataframe\">\n",
       "  <thead>\n",
       "    <tr style=\"text-align: right;\">\n",
       "      <th></th>\n",
       "      <th>1</th>\n",
       "      <th>2</th>\n",
       "      <th>3</th>\n",
       "      <th>4</th>\n",
       "    </tr>\n",
       "  </thead>\n",
       "  <tbody>\n",
       "    <tr>\n",
       "      <th>Node</th>\n",
       "      <td>-0.860000</td>\n",
       "      <td>-0.340000</td>\n",
       "      <td>0.340000</td>\n",
       "      <td>0.860000</td>\n",
       "    </tr>\n",
       "    <tr>\n",
       "      <th>CF</th>\n",
       "      <td>0.361329</td>\n",
       "      <td>0.652098</td>\n",
       "      <td>0.652098</td>\n",
       "      <td>0.361329</td>\n",
       "    </tr>\n",
       "  </tbody>\n",
       "</table>\n",
       "</div>"
      ],
      "text/plain": [
       "             1         2         3         4\n",
       "Node -0.860000 -0.340000  0.340000  0.860000\n",
       "CF    0.361329  0.652098  0.652098  0.361329"
      ]
     },
     "execution_count": 20,
     "metadata": {},
     "output_type": "execute_result"
    }
   ],
   "source": [
    "data[4]"
   ]
  },
  {
   "cell_type": "markdown",
   "id": "5d12e18b",
   "metadata": {},
   "source": [
    "## N=5"
   ]
  },
  {
   "cell_type": "code",
   "execution_count": 21,
   "id": "7406aecb",
   "metadata": {},
   "outputs": [
    {
     "data": {
      "text/html": [
       "<div>\n",
       "<style scoped>\n",
       "    .dataframe tbody tr th:only-of-type {\n",
       "        vertical-align: middle;\n",
       "    }\n",
       "\n",
       "    .dataframe tbody tr th {\n",
       "        vertical-align: top;\n",
       "    }\n",
       "\n",
       "    .dataframe thead th {\n",
       "        text-align: right;\n",
       "    }\n",
       "</style>\n",
       "<table border=\"1\" class=\"dataframe\">\n",
       "  <thead>\n",
       "    <tr style=\"text-align: right;\">\n",
       "      <th></th>\n",
       "      <th>1</th>\n",
       "      <th>2</th>\n",
       "      <th>3</th>\n",
       "      <th>4</th>\n",
       "      <th>5</th>\n",
       "    </tr>\n",
       "  </thead>\n",
       "  <tbody>\n",
       "    <tr>\n",
       "      <th>Node</th>\n",
       "      <td>-0.908000</td>\n",
       "      <td>-0.538000</td>\n",
       "      <td>-0.002000</td>\n",
       "      <td>0.540000</td>\n",
       "      <td>0.906000</td>\n",
       "    </tr>\n",
       "    <tr>\n",
       "      <th>CF</th>\n",
       "      <td>0.212404</td>\n",
       "      <td>0.480681</td>\n",
       "      <td>0.568932</td>\n",
       "      <td>0.472046</td>\n",
       "      <td>0.239535</td>\n",
       "    </tr>\n",
       "  </tbody>\n",
       "</table>\n",
       "</div>"
      ],
      "text/plain": [
       "             1         2         3         4         5\n",
       "Node -0.908000 -0.538000 -0.002000  0.540000  0.906000\n",
       "CF    0.212404  0.480681  0.568932  0.472046  0.239535"
      ]
     },
     "execution_count": 21,
     "metadata": {},
     "output_type": "execute_result"
    }
   ],
   "source": [
    "data[5]"
   ]
  },
  {
   "cell_type": "markdown",
   "id": "a320c0b5",
   "metadata": {},
   "source": [
    "## N=6"
   ]
  },
  {
   "cell_type": "code",
   "execution_count": 22,
   "id": "4dd19927",
   "metadata": {},
   "outputs": [
    {
     "data": {
      "text/html": [
       "<div>\n",
       "<style scoped>\n",
       "    .dataframe tbody tr th:only-of-type {\n",
       "        vertical-align: middle;\n",
       "    }\n",
       "\n",
       "    .dataframe tbody tr th {\n",
       "        vertical-align: top;\n",
       "    }\n",
       "\n",
       "    .dataframe thead th {\n",
       "        text-align: right;\n",
       "    }\n",
       "</style>\n",
       "<table border=\"1\" class=\"dataframe\">\n",
       "  <thead>\n",
       "    <tr style=\"text-align: right;\">\n",
       "      <th></th>\n",
       "      <th>1</th>\n",
       "      <th>2</th>\n",
       "      <th>3</th>\n",
       "      <th>4</th>\n",
       "      <th>5</th>\n",
       "      <th>6</th>\n",
       "    </tr>\n",
       "  </thead>\n",
       "  <tbody>\n",
       "    <tr>\n",
       "      <th>Node</th>\n",
       "      <td>-0.932000</td>\n",
       "      <td>-0.662000</td>\n",
       "      <td>-0.238000</td>\n",
       "      <td>0.238000</td>\n",
       "      <td>0.662000</td>\n",
       "      <td>0.932000</td>\n",
       "    </tr>\n",
       "    <tr>\n",
       "      <th>CF</th>\n",
       "      <td>0.179617</td>\n",
       "      <td>0.356119</td>\n",
       "      <td>0.468947</td>\n",
       "      <td>0.468947</td>\n",
       "      <td>0.356119</td>\n",
       "      <td>0.179617</td>\n",
       "    </tr>\n",
       "  </tbody>\n",
       "</table>\n",
       "</div>"
      ],
      "text/plain": [
       "             1         2         3         4         5         6\n",
       "Node -0.932000 -0.662000 -0.238000  0.238000  0.662000  0.932000\n",
       "CF    0.179617  0.356119  0.468947  0.468947  0.356119  0.179617"
      ]
     },
     "execution_count": 22,
     "metadata": {},
     "output_type": "execute_result"
    }
   ],
   "source": [
    "data[6]"
   ]
  },
  {
   "cell_type": "markdown",
   "id": "6e0e23de",
   "metadata": {},
   "source": [
    "## N=7"
   ]
  },
  {
   "cell_type": "code",
   "execution_count": 23,
   "id": "cf4f113c",
   "metadata": {},
   "outputs": [
    {
     "data": {
      "text/html": [
       "<div>\n",
       "<style scoped>\n",
       "    .dataframe tbody tr th:only-of-type {\n",
       "        vertical-align: middle;\n",
       "    }\n",
       "\n",
       "    .dataframe tbody tr th {\n",
       "        vertical-align: top;\n",
       "    }\n",
       "\n",
       "    .dataframe thead th {\n",
       "        text-align: right;\n",
       "    }\n",
       "</style>\n",
       "<table border=\"1\" class=\"dataframe\">\n",
       "  <thead>\n",
       "    <tr style=\"text-align: right;\">\n",
       "      <th></th>\n",
       "      <th>1</th>\n",
       "      <th>2</th>\n",
       "      <th>3</th>\n",
       "      <th>4</th>\n",
       "      <th>5</th>\n",
       "      <th>6</th>\n",
       "      <th>7</th>\n",
       "    </tr>\n",
       "  </thead>\n",
       "  <tbody>\n",
       "    <tr>\n",
       "      <th>Node</th>\n",
       "      <td>-0.950000</td>\n",
       "      <td>-0.74000</td>\n",
       "      <td>-0.406000</td>\n",
       "      <td>8.743006e-16</td>\n",
       "      <td>0.404000</td>\n",
       "      <td>0.742000</td>\n",
       "      <td>0.9480</td>\n",
       "    </tr>\n",
       "    <tr>\n",
       "      <th>CF</th>\n",
       "      <td>0.113253</td>\n",
       "      <td>0.29135</td>\n",
       "      <td>0.381371</td>\n",
       "      <td>4.179592e-01</td>\n",
       "      <td>0.387422</td>\n",
       "      <td>0.276281</td>\n",
       "      <td>0.1541</td>\n",
       "    </tr>\n",
       "  </tbody>\n",
       "</table>\n",
       "</div>"
      ],
      "text/plain": [
       "             1        2         3             4         5         6       7\n",
       "Node -0.950000 -0.74000 -0.406000  8.743006e-16  0.404000  0.742000  0.9480\n",
       "CF    0.113253  0.29135  0.381371  4.179592e-01  0.387422  0.276281  0.1541"
      ]
     },
     "execution_count": 23,
     "metadata": {},
     "output_type": "execute_result"
    }
   ],
   "source": [
    "data[7]"
   ]
  },
  {
   "cell_type": "markdown",
   "id": "a05fa0e6",
   "metadata": {},
   "source": [
    "## N=8"
   ]
  },
  {
   "cell_type": "code",
   "execution_count": 24,
   "id": "ffe91da8",
   "metadata": {},
   "outputs": [
    {
     "data": {
      "text/html": [
       "<div>\n",
       "<style scoped>\n",
       "    .dataframe tbody tr th:only-of-type {\n",
       "        vertical-align: middle;\n",
       "    }\n",
       "\n",
       "    .dataframe tbody tr th {\n",
       "        vertical-align: top;\n",
       "    }\n",
       "\n",
       "    .dataframe thead th {\n",
       "        text-align: right;\n",
       "    }\n",
       "</style>\n",
       "<table border=\"1\" class=\"dataframe\">\n",
       "  <thead>\n",
       "    <tr style=\"text-align: right;\">\n",
       "      <th></th>\n",
       "      <th>1</th>\n",
       "      <th>2</th>\n",
       "      <th>3</th>\n",
       "      <th>4</th>\n",
       "      <th>5</th>\n",
       "      <th>6</th>\n",
       "      <th>7</th>\n",
       "      <th>8</th>\n",
       "    </tr>\n",
       "  </thead>\n",
       "  <tbody>\n",
       "    <tr>\n",
       "      <th>Node</th>\n",
       "      <td>-0.960000</td>\n",
       "      <td>-0.798000</td>\n",
       "      <td>-0.524000</td>\n",
       "      <td>-0.184000</td>\n",
       "      <td>0.184000</td>\n",
       "      <td>0.524000</td>\n",
       "      <td>0.798000</td>\n",
       "      <td>0.960000</td>\n",
       "    </tr>\n",
       "    <tr>\n",
       "      <th>CF</th>\n",
       "      <td>0.108029</td>\n",
       "      <td>0.211177</td>\n",
       "      <td>0.320128</td>\n",
       "      <td>0.361991</td>\n",
       "      <td>0.361991</td>\n",
       "      <td>0.320128</td>\n",
       "      <td>0.211177</td>\n",
       "      <td>0.108029</td>\n",
       "    </tr>\n",
       "  </tbody>\n",
       "</table>\n",
       "</div>"
      ],
      "text/plain": [
       "             1         2         3         4         5         6         7  \\\n",
       "Node -0.960000 -0.798000 -0.524000 -0.184000  0.184000  0.524000  0.798000   \n",
       "CF    0.108029  0.211177  0.320128  0.361991  0.361991  0.320128  0.211177   \n",
       "\n",
       "             8  \n",
       "Node  0.960000  \n",
       "CF    0.108029  "
      ]
     },
     "execution_count": 24,
     "metadata": {},
     "output_type": "execute_result"
    }
   ],
   "source": [
    "data[8]"
   ]
  },
  {
   "cell_type": "code",
   "execution_count": 25,
   "id": "ab44fe23",
   "metadata": {},
   "outputs": [],
   "source": [
    "comp_int = []"
   ]
  },
  {
   "cell_type": "code",
   "execution_count": 26,
   "id": "a9614fac",
   "metadata": {},
   "outputs": [],
   "source": [
    "def compute_integral(\n",
    "    nodes_cf,\n",
    "    left,\n",
    "    right,\n",
    "    func\n",
    "    ) -> float:\n",
    "    integral = 0\n",
    "    for node, cf in nodes_cf:\n",
    "        integral += cf * func((left + right)/2 + (right - left)/2 * node)\n",
    "    integral *= (right - left)/2\n",
    "    return integral"
   ]
  },
  {
   "cell_type": "markdown",
   "id": "13e09623",
   "metadata": {},
   "source": [
    "## N = 4"
   ]
  },
  {
   "cell_type": "code",
   "execution_count": 27,
   "id": "c3ed77e1",
   "metadata": {},
   "outputs": [],
   "source": [
    "nodes_cf = get_coefficient(N[0], -1, 1)"
   ]
  },
  {
   "cell_type": "code",
   "execution_count": 28,
   "id": "0083a2f8",
   "metadata": {},
   "outputs": [
    {
     "data": {
      "text/plain": [
       "0.04100818127840956"
      ]
     },
     "execution_count": 28,
     "metadata": {},
     "output_type": "execute_result"
    }
   ],
   "source": [
    "value1 = compute_integral(nodes_cf, left, right, func1)\n",
    "comp_int.append(value1)\n",
    "value1"
   ]
  },
  {
   "cell_type": "markdown",
   "id": "ebf4ac8b",
   "metadata": {},
   "source": [
    "## N = 6"
   ]
  },
  {
   "cell_type": "code",
   "execution_count": 29,
   "id": "9cfe7e96",
   "metadata": {},
   "outputs": [],
   "source": [
    "nodes_cf = get_coefficient(N[1], -1, 1)\n",
    "comp_int.append(compute_integral(nodes_cf, left, right, func1))"
   ]
  },
  {
   "cell_type": "code",
   "execution_count": 30,
   "id": "0f7bc462",
   "metadata": {},
   "outputs": [
    {
     "data": {
      "text/plain": [
       "0.04432915022211627"
      ]
     },
     "execution_count": 30,
     "metadata": {},
     "output_type": "execute_result"
    }
   ],
   "source": [
    "comp_int[1]"
   ]
  },
  {
   "cell_type": "markdown",
   "id": "cdbabe06",
   "metadata": {},
   "source": [
    "## N = 7"
   ]
  },
  {
   "cell_type": "code",
   "execution_count": 31,
   "id": "d3405552",
   "metadata": {},
   "outputs": [],
   "source": [
    "nodes_cf = get_coefficient(N[2], -1, 1)\n",
    "comp_int.append(compute_integral(nodes_cf, left, right, func1))"
   ]
  },
  {
   "cell_type": "code",
   "execution_count": 32,
   "id": "0dc88284",
   "metadata": {},
   "outputs": [
    {
     "data": {
      "text/plain": [
       "0.04022415385192088"
      ]
     },
     "execution_count": 32,
     "metadata": {},
     "output_type": "execute_result"
    }
   ],
   "source": [
    "comp_int[2]"
   ]
  },
  {
   "cell_type": "markdown",
   "id": "99c45c19",
   "metadata": {},
   "source": [
    "## N = 8"
   ]
  },
  {
   "cell_type": "code",
   "execution_count": 33,
   "id": "7e1644ac",
   "metadata": {},
   "outputs": [],
   "source": [
    "nodes_cf = get_coefficient(N[3], -1, 1)\n",
    "comp_int.append(compute_integral(nodes_cf, left, right, func1))"
   ]
  },
  {
   "cell_type": "code",
   "execution_count": 34,
   "id": "400b8bab",
   "metadata": {},
   "outputs": [
    {
     "data": {
      "text/plain": [
       "0.04402355001884226"
      ]
     },
     "execution_count": 34,
     "metadata": {},
     "output_type": "execute_result"
    }
   ],
   "source": [
    "comp_int[3]"
   ]
  },
  {
   "cell_type": "code",
   "execution_count": 35,
   "id": "56c53f49",
   "metadata": {},
   "outputs": [],
   "source": [
    "comp_int = np.array(comp_int)"
   ]
  },
  {
   "cell_type": "code",
   "execution_count": 36,
   "id": "b1f418bc",
   "metadata": {},
   "outputs": [
    {
     "data": {
      "text/plain": [
       "array([0.04100818, 0.04432915, 0.04022415, 0.04402355])"
      ]
     },
     "execution_count": 36,
     "metadata": {},
     "output_type": "execute_result"
    }
   ],
   "source": [
    "comp_int"
   ]
  },
  {
   "cell_type": "code",
   "execution_count": 37,
   "id": "24d5fcea",
   "metadata": {},
   "outputs": [
    {
     "data": {
      "text/html": [
       "<div>\n",
       "<style scoped>\n",
       "    .dataframe tbody tr th:only-of-type {\n",
       "        vertical-align: middle;\n",
       "    }\n",
       "\n",
       "    .dataframe tbody tr th {\n",
       "        vertical-align: top;\n",
       "    }\n",
       "\n",
       "    .dataframe thead th {\n",
       "        text-align: right;\n",
       "    }\n",
       "</style>\n",
       "<table border=\"1\" class=\"dataframe\">\n",
       "  <thead>\n",
       "    <tr style=\"text-align: right;\">\n",
       "      <th></th>\n",
       "      <th>4</th>\n",
       "      <th>6</th>\n",
       "      <th>7</th>\n",
       "      <th>8</th>\n",
       "    </tr>\n",
       "  </thead>\n",
       "  <tbody>\n",
       "    <tr>\n",
       "      <th>Value</th>\n",
       "      <td>0.041008</td>\n",
       "      <td>0.044329</td>\n",
       "      <td>0.040224</td>\n",
       "      <td>0.044024</td>\n",
       "    </tr>\n",
       "    <tr>\n",
       "      <th>Error</th>\n",
       "      <td>-0.002034</td>\n",
       "      <td>0.001287</td>\n",
       "      <td>-0.002818</td>\n",
       "      <td>0.000981</td>\n",
       "    </tr>\n",
       "  </tbody>\n",
       "</table>\n",
       "</div>"
      ],
      "text/plain": [
       "              4         6         7         8\n",
       "Value  0.041008  0.044329  0.040224  0.044024\n",
       "Error -0.002034  0.001287 -0.002818  0.000981"
      ]
     },
     "execution_count": 37,
     "metadata": {},
     "output_type": "execute_result"
    }
   ],
   "source": [
    "error = np.array(comp_int - I)\n",
    "df = pd.DataFrame(np.array([comp_int, error]),\n",
    "                  columns=N,\n",
    "                  index=np.array(['Value', 'Error']))\n",
    "df"
   ]
  },
  {
   "cell_type": "markdown",
   "id": "2cb2362d",
   "metadata": {},
   "source": [
    "## КФ Мелера"
   ]
  },
  {
   "cell_type": "markdown",
   "id": "e64782e3",
   "metadata": {},
   "source": [
    "### $f(x) = e^{2x}$"
   ]
  },
  {
   "cell_type": "code",
   "execution_count": 38,
   "id": "a7e86924",
   "metadata": {},
   "outputs": [],
   "source": [
    "def func2(\n",
    "    arg: float\n",
    "    ) -> float:\n",
    "    \n",
    "    return np.exp(2*arg)"
   ]
  },
  {
   "cell_type": "code",
   "execution_count": 39,
   "id": "40022c2c",
   "metadata": {},
   "outputs": [],
   "source": [
    "def p(\n",
    "    arg: float\n",
    "    ) -> float:\n",
    "    \n",
    "    return 1 / np.sqrt(1-arg*arg)"
   ]
  },
  {
   "cell_type": "markdown",
   "id": "6b156841",
   "metadata": {},
   "source": [
    "## Интеграл"
   ]
  },
  {
   "cell_type": "code",
   "execution_count": 40,
   "id": "4768bfad",
   "metadata": {},
   "outputs": [],
   "source": [
    "I = 7.161_528_439_050_256_662"
   ]
  },
  {
   "cell_type": "code",
   "execution_count": 59,
   "id": "41a2ea42",
   "metadata": {},
   "outputs": [
    {
     "name": "stdout",
     "output_type": "stream",
     "text": [
      "4 6 8\n"
     ]
    }
   ],
   "source": [
    "N = list(map(int, input().split()))"
   ]
  },
  {
   "cell_type": "markdown",
   "id": "1fa6301e",
   "metadata": {},
   "source": [
    "## Многочлен Чебышева первого рода"
   ]
  },
  {
   "cell_type": "code",
   "execution_count": 60,
   "id": "24624a7a",
   "metadata": {},
   "outputs": [],
   "source": [
    "@functools.lru_cache(maxsize=None)\n",
    "def chebishev_polynom(\n",
    "    arg: float,\n",
    "    n: int\n",
    "    ) -> float:\n",
    "    \n",
    "    if n == 0:\n",
    "        return 1\n",
    "    if n == 1:\n",
    "        return arg\n",
    "    return 2 * arg * chebishev_polynom(arg, n - 1) - chebishev_polynom(arg, n - 2) "
   ]
  },
  {
   "cell_type": "code",
   "execution_count": 61,
   "id": "0919acb1",
   "metadata": {},
   "outputs": [],
   "source": [
    "n1_cf = np.pi / N[0]\n",
    "n1_nodes = [np.cos(np.pi*(i - 1/2)/N[0]) for i in range(1, N[0] + 1)]"
   ]
  },
  {
   "cell_type": "code",
   "execution_count": 62,
   "id": "fa757c32",
   "metadata": {},
   "outputs": [
    {
     "name": "stdout",
     "output_type": "stream",
     "text": [
      "N1\n",
      "coef=0.7853981633974483\n",
      "nodes=[0.9238795325112867, 0.38268343236508984, -0.3826834323650897, -0.9238795325112867]\n"
     ]
    }
   ],
   "source": [
    "print(\"N1\")\n",
    "print(f\"coef={n1_cf}\")\n",
    "print(f\"nodes={n1_nodes}\")"
   ]
  },
  {
   "cell_type": "code",
   "execution_count": 63,
   "id": "2f5a1b0f",
   "metadata": {},
   "outputs": [],
   "source": [
    "n2_cf = np.pi / N[1]\n",
    "n2_nodes = [np.cos(np.pi*(i - 1/2)/N[1]) for i in range(1, N[1] + 1)]"
   ]
  },
  {
   "cell_type": "code",
   "execution_count": 64,
   "id": "b28502fb",
   "metadata": {},
   "outputs": [
    {
     "name": "stdout",
     "output_type": "stream",
     "text": [
      "N2\n",
      "coef=0.5235987755982988\n",
      "nodes=[0.9659258262890683, 0.7071067811865476, 0.25881904510252074, -0.25881904510252063, -0.7071067811865475, -0.9659258262890682]\n"
     ]
    }
   ],
   "source": [
    "print(\"N2\")\n",
    "print(f\"coef={n2_cf}\")\n",
    "print(f\"nodes={n2_nodes}\")"
   ]
  },
  {
   "cell_type": "code",
   "execution_count": 65,
   "id": "505bcb30",
   "metadata": {},
   "outputs": [],
   "source": [
    "n3_cf = np.pi / N[2]\n",
    "n3_nodes = [np.cos(np.pi*(i - 1/2)/N[2]) for i in range(1, N[2] + 1)]"
   ]
  },
  {
   "cell_type": "code",
   "execution_count": 66,
   "id": "30444a8e",
   "metadata": {},
   "outputs": [
    {
     "name": "stdout",
     "output_type": "stream",
     "text": [
      "N3\n",
      "coef=0.39269908169872414\n",
      "nodes=[0.9807852804032304, 0.8314696123025452, 0.5555702330196023, 0.19509032201612833, -0.1950903220161282, -0.555570233019602, -0.8314696123025453, -0.9807852804032304]\n"
     ]
    }
   ],
   "source": [
    "print(\"N3\")\n",
    "print(f\"coef={n3_cf}\")\n",
    "print(f\"nodes={n3_nodes}\")"
   ]
  },
  {
   "cell_type": "code",
   "execution_count": 67,
   "id": "c741e7f4",
   "metadata": {},
   "outputs": [],
   "source": [
    "integral1 = 0\n",
    "for i in n1_nodes:\n",
    "    integral1 += func2(i)\n",
    "integral1 *= n1_cf\n",
    "error1 = integral1 - I"
   ]
  },
  {
   "cell_type": "code",
   "execution_count": 68,
   "id": "0fc861f3",
   "metadata": {},
   "outputs": [],
   "source": [
    "integral2= 0\n",
    "for i in n2_nodes:\n",
    "    integral2 += func2(i)\n",
    "integral2 *= n2_cf\n",
    "error2 = integral2 - I"
   ]
  },
  {
   "cell_type": "code",
   "execution_count": 69,
   "id": "e2e6a1da",
   "metadata": {},
   "outputs": [],
   "source": [
    "integral3= 0\n",
    "for i in n3_nodes:\n",
    "    integral3 += func2(i)\n",
    "integral3 *= n3_cf\n",
    "error3 = integral3 - I"
   ]
  },
  {
   "cell_type": "code",
   "execution_count": 70,
   "id": "30e6bd8c",
   "metadata": {},
   "outputs": [],
   "source": [
    "df = pd.DataFrame(np.array([np.array([integral1, integral2, integral3]),\n",
    "                           np.array([error1, error2, error3])]),\n",
    "                  columns=[f'N1={N[0]}', f'N2={N[1]}', f'N3={N[2]}'],\n",
    "                  index=['Value', 'Error'])\n",
    "                  "
   ]
  },
  {
   "cell_type": "code",
   "execution_count": 71,
   "id": "01827d12",
   "metadata": {},
   "outputs": [
    {
     "data": {
      "text/html": [
       "<div>\n",
       "<style scoped>\n",
       "    .dataframe tbody tr th:only-of-type {\n",
       "        vertical-align: middle;\n",
       "    }\n",
       "\n",
       "    .dataframe tbody tr th {\n",
       "        vertical-align: top;\n",
       "    }\n",
       "\n",
       "    .dataframe thead th {\n",
       "        text-align: right;\n",
       "    }\n",
       "</style>\n",
       "<table border=\"1\" class=\"dataframe\">\n",
       "  <thead>\n",
       "    <tr style=\"text-align: right;\">\n",
       "      <th></th>\n",
       "      <th>N1=4</th>\n",
       "      <th>N2=6</th>\n",
       "      <th>N3=8</th>\n",
       "    </tr>\n",
       "  </thead>\n",
       "  <tbody>\n",
       "    <tr>\n",
       "      <th>Value</th>\n",
       "      <td>7.161354</td>\n",
       "      <td>7.161528e+00</td>\n",
       "      <td>7.161528e+00</td>\n",
       "    </tr>\n",
       "    <tr>\n",
       "      <th>Error</th>\n",
       "      <td>-0.000174</td>\n",
       "      <td>-1.416312e-08</td>\n",
       "      <td>-3.179679e-13</td>\n",
       "    </tr>\n",
       "  </tbody>\n",
       "</table>\n",
       "</div>"
      ],
      "text/plain": [
       "           N1=4          N2=6          N3=8\n",
       "Value  7.161354  7.161528e+00  7.161528e+00\n",
       "Error -0.000174 -1.416312e-08 -3.179679e-13"
      ]
     },
     "execution_count": 71,
     "metadata": {},
     "output_type": "execute_result"
    }
   ],
   "source": [
    "df"
   ]
  }
 ],
 "metadata": {
  "kernelspec": {
   "display_name": "Python 3 (ipykernel)",
   "language": "python",
   "name": "python3"
  },
  "language_info": {
   "codemirror_mode": {
    "name": "ipython",
    "version": 3
   },
   "file_extension": ".py",
   "mimetype": "text/x-python",
   "name": "python",
   "nbconvert_exporter": "python",
   "pygments_lexer": "ipython3",
   "version": "3.10.4"
  }
 },
 "nbformat": 4,
 "nbformat_minor": 5
}
