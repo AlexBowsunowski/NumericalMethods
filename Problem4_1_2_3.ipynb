{
 "cells": [
  {
   "cell_type": "code",
   "execution_count": 1,
   "id": "58753988",
   "metadata": {},
   "outputs": [],
   "source": [
    "import numpy as np\n",
    "import pandas as pd\n",
    "from scipy.misc import derivative\n",
    "np.random.seed(1)"
   ]
  },
  {
   "cell_type": "markdown",
   "id": "51c98ea6",
   "metadata": {},
   "source": [
    "## Задание 4.1"
   ]
  },
  {
   "cell_type": "markdown",
   "id": "a0413cc5",
   "metadata": {},
   "source": [
    "Написать программу для вычисления определенного интеграла при помощи предложенных квадратурных формул (КФ)."
   ]
  },
  {
   "cell_type": "code",
   "execution_count": 2,
   "id": "bb051da9",
   "metadata": {},
   "outputs": [
    {
     "name": "stdout",
     "output_type": "stream",
     "text": [
      "-5 5\n"
     ]
    }
   ],
   "source": [
    "(left, right) = map(float, input().split()) "
   ]
  },
  {
   "cell_type": "code",
   "execution_count": 3,
   "id": "2b6c2b34",
   "metadata": {},
   "outputs": [],
   "source": [
    "def p(arg: float) ->float:\n",
    "    return 1;"
   ]
  },
  {
   "cell_type": "markdown",
   "id": "1b0b9e98",
   "metadata": {},
   "source": [
    "### Определим функции"
   ]
  },
  {
   "cell_type": "markdown",
   "id": "1a34478a",
   "metadata": {},
   "source": [
    "$f(x) = 2$"
   ]
  },
  {
   "cell_type": "code",
   "execution_count": 4,
   "id": "ba4da211",
   "metadata": {},
   "outputs": [],
   "source": [
    "def polynom0(arg: float) -> float:\n",
    "    return 2;"
   ]
  },
  {
   "cell_type": "code",
   "execution_count": 5,
   "id": "23795d00",
   "metadata": {},
   "outputs": [],
   "source": [
    "def deriv0_1(arg:float) -> float:\n",
    "    return 0;"
   ]
  },
  {
   "cell_type": "code",
   "execution_count": 6,
   "id": "26f03430",
   "metadata": {},
   "outputs": [],
   "source": [
    "max_d1_p0 = np.max(derivative(polynom0, np.linspace(left, right), dx = 1e-6, n = 1))"
   ]
  },
  {
   "cell_type": "code",
   "execution_count": 7,
   "id": "07aa66fb",
   "metadata": {},
   "outputs": [],
   "source": [
    "max_d2_p0 = np.max(derivative(deriv0_1, np.linspace(left, right), dx = 1e-6, n = 1))"
   ]
  },
  {
   "cell_type": "code",
   "execution_count": 8,
   "id": "6c8c7c76",
   "metadata": {},
   "outputs": [],
   "source": [
    "max_d4_p0 = np.max(derivative(deriv0_1, np.linspace(left, right), dx = 1e-6, n = 1))"
   ]
  },
  {
   "cell_type": "markdown",
   "id": "bee863e3",
   "metadata": {},
   "source": [
    "### Значение интеграла"
   ]
  },
  {
   "cell_type": "code",
   "execution_count": 9,
   "id": "b4bcc62b",
   "metadata": {},
   "outputs": [
    {
     "data": {
      "text/plain": [
       "20.0"
      ]
     },
     "execution_count": 9,
     "metadata": {},
     "output_type": "execute_result"
    }
   ],
   "source": [
    "J0 = 2 * (right - left)\n",
    "J0"
   ]
  },
  {
   "cell_type": "markdown",
   "id": "63daff2f",
   "metadata": {},
   "source": [
    "$f(x) = 3x + 1$"
   ]
  },
  {
   "cell_type": "code",
   "execution_count": 10,
   "id": "1f4d42df",
   "metadata": {},
   "outputs": [],
   "source": [
    "def polynom1(arg: float) -> float:\n",
    "    return 3*arg + 1;"
   ]
  },
  {
   "cell_type": "code",
   "execution_count": 11,
   "id": "361b088b",
   "metadata": {},
   "outputs": [],
   "source": [
    "def deriv1_1(arg: float) ->float:\n",
    "    return 3;"
   ]
  },
  {
   "cell_type": "code",
   "execution_count": 12,
   "id": "eb54811a",
   "metadata": {},
   "outputs": [],
   "source": [
    "def deriv1_2(arg: float) ->float:\n",
    "    return 0;"
   ]
  },
  {
   "cell_type": "code",
   "execution_count": 13,
   "id": "54f8550e",
   "metadata": {},
   "outputs": [],
   "source": [
    "max_d1_p1 = 3"
   ]
  },
  {
   "cell_type": "code",
   "execution_count": 14,
   "id": "467b230b",
   "metadata": {},
   "outputs": [],
   "source": [
    "max_d2_p1 = 0"
   ]
  },
  {
   "cell_type": "code",
   "execution_count": 15,
   "id": "d4a16f35",
   "metadata": {},
   "outputs": [],
   "source": [
    "max_d4_p1 = 0"
   ]
  },
  {
   "cell_type": "markdown",
   "id": "4103c3f7",
   "metadata": {},
   "source": [
    "### Значение интеграла"
   ]
  },
  {
   "cell_type": "code",
   "execution_count": 16,
   "id": "cb27031b",
   "metadata": {},
   "outputs": [
    {
     "data": {
      "text/plain": [
       "10.0"
      ]
     },
     "execution_count": 16,
     "metadata": {},
     "output_type": "execute_result"
    }
   ],
   "source": [
    "J1 = 3/2 * ((right)**2 - (left)**2) + (right - left)\n",
    "J1"
   ]
  },
  {
   "cell_type": "markdown",
   "id": "464e4618",
   "metadata": {},
   "source": [
    "$f(x) = x^2 + 2x + 4$"
   ]
  },
  {
   "cell_type": "code",
   "execution_count": 17,
   "id": "aaaf90f8",
   "metadata": {},
   "outputs": [],
   "source": [
    "def polynom2(arg: float) -> float:\n",
    "    return arg**2 + 2*arg + 4;"
   ]
  },
  {
   "cell_type": "code",
   "execution_count": 18,
   "id": "3273dc43",
   "metadata": {},
   "outputs": [],
   "source": [
    "def deriv2_1(arg: float) ->float:\n",
    "    return 2 * arg + 2;"
   ]
  },
  {
   "cell_type": "code",
   "execution_count": 19,
   "id": "743431f5",
   "metadata": {},
   "outputs": [],
   "source": [
    "def deriv2_2(arg: float) ->float:\n",
    "    return 2;"
   ]
  },
  {
   "cell_type": "code",
   "execution_count": 20,
   "id": "e37dbc4e",
   "metadata": {},
   "outputs": [],
   "source": [
    "def deriv2_3(arg: float) ->float:\n",
    "    return 0;"
   ]
  },
  {
   "cell_type": "code",
   "execution_count": 21,
   "id": "9682cc4b",
   "metadata": {},
   "outputs": [],
   "source": [
    "max_d1_p2 = deriv2_1(right)"
   ]
  },
  {
   "cell_type": "code",
   "execution_count": 22,
   "id": "640846c1",
   "metadata": {},
   "outputs": [],
   "source": [
    "max_d2_p2 = 2"
   ]
  },
  {
   "cell_type": "code",
   "execution_count": 23,
   "id": "f0b2f484",
   "metadata": {},
   "outputs": [],
   "source": [
    "max_d4_p2 = 0"
   ]
  },
  {
   "cell_type": "markdown",
   "id": "17885e5a",
   "metadata": {},
   "source": [
    "### Значение интеграла"
   ]
  },
  {
   "cell_type": "code",
   "execution_count": 24,
   "id": "65a059d2",
   "metadata": {},
   "outputs": [
    {
     "data": {
      "text/plain": [
       "123.33333333333331"
      ]
     },
     "execution_count": 24,
     "metadata": {},
     "output_type": "execute_result"
    }
   ],
   "source": [
    "J2 = ((right)**3) / 3 + (right)**2 + 4 * (right) - (((left)**3) / 3 + (left)**2 + 4*(left))\n",
    "J2"
   ]
  },
  {
   "cell_type": "markdown",
   "id": "d76f47e8",
   "metadata": {},
   "source": [
    "$f(x) = x^3 + 3x^2 - 3x + 5$"
   ]
  },
  {
   "cell_type": "code",
   "execution_count": 25,
   "id": "eca51d82",
   "metadata": {},
   "outputs": [],
   "source": [
    "def polynom3(arg: float) -> float:\n",
    "    return arg**3 + 3 * arg ** 2 - 3 * arg + 5;"
   ]
  },
  {
   "cell_type": "code",
   "execution_count": 26,
   "id": "4da29a62",
   "metadata": {},
   "outputs": [],
   "source": [
    "def deriv3_1(arg: float) ->float:\n",
    "    return 3 * arg**2 + 6 * arg - 3;"
   ]
  },
  {
   "cell_type": "code",
   "execution_count": 27,
   "id": "8c4e0bf6",
   "metadata": {},
   "outputs": [],
   "source": [
    "def deriv3_2(arg: float) ->float:\n",
    "    return 6 * arg + 6;"
   ]
  },
  {
   "cell_type": "code",
   "execution_count": 28,
   "id": "48b09be0",
   "metadata": {},
   "outputs": [],
   "source": [
    "def deriv3_3(arg: float) ->float:\n",
    "    return 6;"
   ]
  },
  {
   "cell_type": "code",
   "execution_count": 29,
   "id": "090b3ba5",
   "metadata": {},
   "outputs": [],
   "source": [
    "def deriv3_4(arg: float) ->float:\n",
    "    return 0;"
   ]
  },
  {
   "cell_type": "code",
   "execution_count": 30,
   "id": "4b436a60",
   "metadata": {},
   "outputs": [],
   "source": [
    "max_d1_p3 = np.max(derivative(polynom3, np.linspace(left, right), dx = 1e-6, n = 1))"
   ]
  },
  {
   "cell_type": "code",
   "execution_count": 31,
   "id": "23da1ece",
   "metadata": {},
   "outputs": [],
   "source": [
    "max_d2_p3 = np.max(derivative(deriv3_1, np.linspace(left, right), dx = 1e-6, n = 1))"
   ]
  },
  {
   "cell_type": "code",
   "execution_count": 32,
   "id": "ddc288a0",
   "metadata": {},
   "outputs": [],
   "source": [
    "max_d4_p3 = np.max(derivative(deriv3_3, np.linspace(left, right), dx = 1e-6, n = 1))"
   ]
  },
  {
   "cell_type": "markdown",
   "id": "6d5a0fa2",
   "metadata": {},
   "source": [
    "### Значение интеграла"
   ]
  },
  {
   "cell_type": "code",
   "execution_count": 33,
   "id": "5beaacdf",
   "metadata": {},
   "outputs": [
    {
     "data": {
      "text/plain": [
       "300.0"
      ]
     },
     "execution_count": 33,
     "metadata": {},
     "output_type": "execute_result"
    }
   ],
   "source": [
    "J3 = ((right)**4) / 4 + ((right)**3) - 3 * (right)**2 / 2 + 5*(right) - (((left)**4) / 4 + ((left)**3) - 3 * (left)**2/2 + 5*(left))\n",
    "J3"
   ]
  },
  {
   "cell_type": "markdown",
   "id": "a2b7015d",
   "metadata": {},
   "source": [
    "$f(x) = sin(3x) + cos(2x)$"
   ]
  },
  {
   "cell_type": "code",
   "execution_count": 34,
   "id": "4ffe9e0d",
   "metadata": {},
   "outputs": [],
   "source": [
    "def func(arg: float) -> float:\n",
    "    return np.sin(3 * arg) + np.cos(2 * arg)"
   ]
  },
  {
   "cell_type": "code",
   "execution_count": 35,
   "id": "cc94edb0",
   "metadata": {},
   "outputs": [],
   "source": [
    "def derivf_1(arg: float) -> float:\n",
    "    return -2 * np.sin(2*arg) + 3 * np.cos(3 * arg)"
   ]
  },
  {
   "cell_type": "code",
   "execution_count": 36,
   "id": "33f3fbd8",
   "metadata": {},
   "outputs": [],
   "source": [
    "def derivf_2(arg: float) -> float:\n",
    "    return -4 * np.cos(2 * arg) - 9 * np.sin(3 * arg)"
   ]
  },
  {
   "cell_type": "code",
   "execution_count": 37,
   "id": "f728d12e",
   "metadata": {},
   "outputs": [],
   "source": [
    "def derivf_3(arg: float) -> float:\n",
    "    return 8 * np.sin(2 * arg) - 27 * np.cos(3* arg)"
   ]
  },
  {
   "cell_type": "code",
   "execution_count": 38,
   "id": "fcc5f739",
   "metadata": {},
   "outputs": [],
   "source": [
    "def derivf_4(arg: float) -> float:\n",
    "    return 16 * np.cos(2 * arg) + 81 * np.sin(arg)"
   ]
  },
  {
   "cell_type": "code",
   "execution_count": 39,
   "id": "8c3c6018",
   "metadata": {},
   "outputs": [],
   "source": [
    "max_d1_f = np.max(derivative(func, np.linspace(left, right), dx = 1e-6, n = 1))"
   ]
  },
  {
   "cell_type": "code",
   "execution_count": 40,
   "id": "675ac2a8",
   "metadata": {},
   "outputs": [],
   "source": [
    "max_d2_f = np.max(derivative(derivf_1, np.linspace(left, right), dx = 1e-6, n = 1))"
   ]
  },
  {
   "cell_type": "code",
   "execution_count": 41,
   "id": "c5561541",
   "metadata": {},
   "outputs": [],
   "source": [
    "max_d4_f = np.max(derivative(derivf_3, np.linspace(left, right), dx = 1e-6, n = 1))"
   ]
  },
  {
   "cell_type": "code",
   "execution_count": 42,
   "id": "f941b8f1",
   "metadata": {},
   "outputs": [
    {
     "data": {
      "text/plain": [
       "89.3029007369428"
      ]
     },
     "execution_count": 42,
     "metadata": {},
     "output_type": "execute_result"
    }
   ],
   "source": [
    "max_d4_f"
   ]
  },
  {
   "cell_type": "markdown",
   "id": "bfc6fca8",
   "metadata": {},
   "source": [
    "### Значение интеграла"
   ]
  },
  {
   "cell_type": "code",
   "execution_count": 43,
   "id": "d06d7f68",
   "metadata": {},
   "outputs": [
    {
     "data": {
      "text/plain": [
       "-0.5440211108893698"
      ]
     },
     "execution_count": 43,
     "metadata": {},
     "output_type": "execute_result"
    }
   ],
   "source": [
    "J4 = 1/6 *(3 * np.sin(2 * right) - 2 * np.cos(3 * right)) - 1/6 *(3 * np.sin(2 * left) - 2 * np.cos(3 * left))\n",
    "J4"
   ]
  },
  {
   "cell_type": "markdown",
   "id": "eecdb992",
   "metadata": {},
   "source": [
    "$f(x) = e^{x}$"
   ]
  },
  {
   "cell_type": "code",
   "execution_count": 44,
   "id": "7cf8a027",
   "metadata": {},
   "outputs": [],
   "source": [
    "def func2(arg: float) -> float:\n",
    "    return np.exp(arg)"
   ]
  },
  {
   "cell_type": "code",
   "execution_count": 45,
   "id": "5df16b42",
   "metadata": {},
   "outputs": [],
   "source": [
    "def derivf2_1(arg: float) -> float:\n",
    "    return np.exp(arg)"
   ]
  },
  {
   "cell_type": "code",
   "execution_count": 46,
   "id": "934fcb71",
   "metadata": {},
   "outputs": [],
   "source": [
    "def derivf2_2(arg: float) -> float:\n",
    "    return np.exp(arg)"
   ]
  },
  {
   "cell_type": "code",
   "execution_count": 47,
   "id": "50e8ca9d",
   "metadata": {},
   "outputs": [],
   "source": [
    "def derivf2_3(arg: float) -> float:\n",
    "    return np.exp(arg)"
   ]
  },
  {
   "cell_type": "code",
   "execution_count": 48,
   "id": "c9e8f78f",
   "metadata": {},
   "outputs": [],
   "source": [
    "def derivf2_4(arg: float) -> float:\n",
    "    return np.exp(arg)"
   ]
  },
  {
   "cell_type": "code",
   "execution_count": 49,
   "id": "c5acf0d7",
   "metadata": {},
   "outputs": [],
   "source": [
    "max_d1_f2 = np.max(derivative(func2, np.linspace(left, right), dx = 1e-6, n = 1))"
   ]
  },
  {
   "cell_type": "code",
   "execution_count": 50,
   "id": "c3cb9fcc",
   "metadata": {},
   "outputs": [],
   "source": [
    "max_d2_f2 = np.max(derivative(derivf2_1, np.linspace(left, right), dx = 1e-6, n = 1))"
   ]
  },
  {
   "cell_type": "code",
   "execution_count": 51,
   "id": "2523a5d0",
   "metadata": {},
   "outputs": [],
   "source": [
    "max_d4_f2 = np.max(derivative(derivf2_3, np.linspace(left, right), dx = 1e-6, n = 1))"
   ]
  },
  {
   "cell_type": "markdown",
   "id": "c86ad80a",
   "metadata": {},
   "source": [
    "### Значение интеграла"
   ]
  },
  {
   "cell_type": "code",
   "execution_count": 52,
   "id": "7d368c7d",
   "metadata": {},
   "outputs": [
    {
     "data": {
      "text/plain": [
       "148.4064211555775"
      ]
     },
     "execution_count": 52,
     "metadata": {},
     "output_type": "execute_result"
    }
   ],
   "source": [
    "J6 = (np.exp(right) - np.exp(left)) \n",
    "J6"
   ]
  },
  {
   "cell_type": "markdown",
   "id": "436aca67",
   "metadata": {},
   "source": [
    "$f(x) = 2x^5 + 3x$"
   ]
  },
  {
   "cell_type": "code",
   "execution_count": 53,
   "id": "e975aa28",
   "metadata": {},
   "outputs": [],
   "source": [
    "def polynom5(arg: float) -> float:\n",
    "    return 2 * arg**5 + 3 * arg"
   ]
  },
  {
   "cell_type": "code",
   "execution_count": 54,
   "id": "9262bf3b",
   "metadata": {},
   "outputs": [],
   "source": [
    "def derivp5_1(arg: float) -> float:\n",
    "    return 10 * arg**4 + 3"
   ]
  },
  {
   "cell_type": "code",
   "execution_count": 55,
   "id": "f6eb39a0",
   "metadata": {},
   "outputs": [],
   "source": [
    "def derivp5_2(arg: float) -> float:\n",
    "    return 40 * arg**3"
   ]
  },
  {
   "cell_type": "code",
   "execution_count": 56,
   "id": "d5da1626",
   "metadata": {},
   "outputs": [],
   "source": [
    "def derivp5_3(arg: float) -> float:\n",
    "    return 120 * arg**2"
   ]
  },
  {
   "cell_type": "code",
   "execution_count": 57,
   "id": "42da02e8",
   "metadata": {},
   "outputs": [],
   "source": [
    "def derivp5_4(arg: float) -> float:\n",
    "    return 240 *arg"
   ]
  },
  {
   "cell_type": "markdown",
   "id": "b1f8e45c",
   "metadata": {},
   "source": [
    "### Значение интеграла"
   ]
  },
  {
   "cell_type": "code",
   "execution_count": 58,
   "id": "ea593e53",
   "metadata": {},
   "outputs": [
    {
     "data": {
      "text/plain": [
       "0.0"
      ]
     },
     "execution_count": 58,
     "metadata": {},
     "output_type": "execute_result"
    }
   ],
   "source": [
    "J7 = (1/3 * right**6 + 3/2 * right**2) - (1/3 * left**6 + 3/2 * left**2)\n",
    "J7"
   ]
  },
  {
   "cell_type": "code",
   "execution_count": 59,
   "id": "b7c7eade",
   "metadata": {},
   "outputs": [],
   "source": [
    "max_d1_p5 = np.max(derivative(polynom5, np.linspace(left, right), dx = 1e-6, n = 1))"
   ]
  },
  {
   "cell_type": "code",
   "execution_count": 60,
   "id": "fa23505a",
   "metadata": {},
   "outputs": [],
   "source": [
    "max_d2_p5 = np.max(derivative(derivp5_1, np.linspace(left, right), dx = 1e-6, n = 1))"
   ]
  },
  {
   "cell_type": "code",
   "execution_count": 61,
   "id": "9ba72bcf",
   "metadata": {},
   "outputs": [],
   "source": [
    "max_d4_p5 = np.max(derivative(derivp5_3, np.linspace(left, right), dx = 1e-6, n = 1))"
   ]
  },
  {
   "cell_type": "code",
   "execution_count": 62,
   "id": "739707a5",
   "metadata": {},
   "outputs": [],
   "source": [
    "correctAnswer = np.array([J0, J1, J2, J3, J4, J6, J7])"
   ]
  },
  {
   "cell_type": "code",
   "execution_count": 63,
   "id": "b291fc36",
   "metadata": {},
   "outputs": [],
   "source": [
    "function = np.array(['2', '3x + 1', 'x^2 + 2x + 4', \n",
    "                    'x^3 + 3x^2 - 3x + 5', 'sin3x + cos2x',  'exp^(x)', '2*x^5 + 3 * x'])"
   ]
  },
  {
   "cell_type": "markdown",
   "id": "064d382c",
   "metadata": {},
   "source": [
    "### Получим таблицу функция - интеграл"
   ]
  },
  {
   "cell_type": "code",
   "execution_count": 64,
   "id": "85940c31",
   "metadata": {},
   "outputs": [
    {
     "data": {
      "text/html": [
       "<div>\n",
       "<style scoped>\n",
       "    .dataframe tbody tr th:only-of-type {\n",
       "        vertical-align: middle;\n",
       "    }\n",
       "\n",
       "    .dataframe tbody tr th {\n",
       "        vertical-align: top;\n",
       "    }\n",
       "\n",
       "    .dataframe thead th {\n",
       "        text-align: right;\n",
       "    }\n",
       "</style>\n",
       "<table border=\"1\" class=\"dataframe\">\n",
       "  <thead>\n",
       "    <tr style=\"text-align: right;\">\n",
       "      <th></th>\n",
       "      <th>function</th>\n",
       "      <th>Integral</th>\n",
       "    </tr>\n",
       "  </thead>\n",
       "  <tbody>\n",
       "    <tr>\n",
       "      <th>0</th>\n",
       "      <td>2</td>\n",
       "      <td>20.000000</td>\n",
       "    </tr>\n",
       "    <tr>\n",
       "      <th>1</th>\n",
       "      <td>3x + 1</td>\n",
       "      <td>10.000000</td>\n",
       "    </tr>\n",
       "    <tr>\n",
       "      <th>2</th>\n",
       "      <td>x^2 + 2x + 4</td>\n",
       "      <td>123.333333</td>\n",
       "    </tr>\n",
       "    <tr>\n",
       "      <th>3</th>\n",
       "      <td>x^3 + 3x^2 - 3x + 5</td>\n",
       "      <td>300.000000</td>\n",
       "    </tr>\n",
       "    <tr>\n",
       "      <th>4</th>\n",
       "      <td>sin3x + cos2x</td>\n",
       "      <td>-0.544021</td>\n",
       "    </tr>\n",
       "    <tr>\n",
       "      <th>5</th>\n",
       "      <td>exp^(x)</td>\n",
       "      <td>148.406421</td>\n",
       "    </tr>\n",
       "    <tr>\n",
       "      <th>6</th>\n",
       "      <td>2*x^5 + 3 * x</td>\n",
       "      <td>0.000000</td>\n",
       "    </tr>\n",
       "  </tbody>\n",
       "</table>\n",
       "</div>"
      ],
      "text/plain": [
       "              function    Integral\n",
       "0                    2   20.000000\n",
       "1               3x + 1   10.000000\n",
       "2         x^2 + 2x + 4  123.333333\n",
       "3  x^3 + 3x^2 - 3x + 5  300.000000\n",
       "4        sin3x + cos2x   -0.544021\n",
       "5              exp^(x)  148.406421\n",
       "6        2*x^5 + 3 * x    0.000000"
      ]
     },
     "execution_count": 64,
     "metadata": {},
     "output_type": "execute_result"
    }
   ],
   "source": [
    "data0 = {'function': function,\n",
    "         'Integral': correctAnswer}\n",
    "Jf = pd.DataFrame(data0)\n",
    "Jf"
   ]
  },
  {
   "cell_type": "markdown",
   "id": "ace6fbef",
   "metadata": {},
   "source": [
    "### Квадратурная формула левого прямоугольника"
   ]
  },
  {
   "cell_type": "markdown",
   "id": "58e44151",
   "metadata": {},
   "source": [
    "$\\int\\limits_a^b f(x) dx = (b - a) f(a) \\\\$\n",
    "$R_{\\Lambda}(f) = \\frac{1}{2}(b - a)^2 f'(\\chi)$"
   ]
  },
  {
   "cell_type": "code",
   "execution_count": 65,
   "id": "7872ed6a",
   "metadata": {},
   "outputs": [],
   "source": [
    "def qvLeftRectangle(left: float, right: float, f) -> float:\n",
    "    return (right - left) * f(left)"
   ]
  },
  {
   "cell_type": "code",
   "execution_count": 66,
   "id": "2d8a130c",
   "metadata": {},
   "outputs": [
    {
     "data": {
      "text/html": [
       "<div>\n",
       "<style scoped>\n",
       "    .dataframe tbody tr th:only-of-type {\n",
       "        vertical-align: middle;\n",
       "    }\n",
       "\n",
       "    .dataframe tbody tr th {\n",
       "        vertical-align: top;\n",
       "    }\n",
       "\n",
       "    .dataframe thead th {\n",
       "        text-align: right;\n",
       "    }\n",
       "</style>\n",
       "<table border=\"1\" class=\"dataframe\">\n",
       "  <thead>\n",
       "    <tr style=\"text-align: right;\">\n",
       "      <th></th>\n",
       "      <th>2</th>\n",
       "      <th>3x + 1</th>\n",
       "      <th>x^2 + 2x + 4</th>\n",
       "      <th>x^3 + 3x^2 - 3x + 5</th>\n",
       "      <th>sin3x + cos2x</th>\n",
       "      <th>exp^(x)</th>\n",
       "      <th>2*x^5 + 3 * x</th>\n",
       "    </tr>\n",
       "  </thead>\n",
       "  <tbody>\n",
       "    <tr>\n",
       "      <th>LeftRectangle</th>\n",
       "      <td>20.0</td>\n",
       "      <td>-140.0</td>\n",
       "      <td>190.000000</td>\n",
       "      <td>-300.0</td>\n",
       "      <td>-14.893594</td>\n",
       "      <td>0.067379</td>\n",
       "      <td>-62650.0</td>\n",
       "    </tr>\n",
       "    <tr>\n",
       "      <th>Error0</th>\n",
       "      <td>0.0</td>\n",
       "      <td>150.0</td>\n",
       "      <td>66.666667</td>\n",
       "      <td>600.0</td>\n",
       "      <td>14.349573</td>\n",
       "      <td>148.339042</td>\n",
       "      <td>62650.0</td>\n",
       "    </tr>\n",
       "  </tbody>\n",
       "</table>\n",
       "</div>"
      ],
      "text/plain": [
       "                  2  3x + 1  x^2 + 2x + 4  x^3 + 3x^2 - 3x + 5  sin3x + cos2x  \\\n",
       "LeftRectangle  20.0  -140.0    190.000000               -300.0     -14.893594   \n",
       "Error0          0.0   150.0     66.666667                600.0      14.349573   \n",
       "\n",
       "                  exp^(x)  2*x^5 + 3 * x  \n",
       "LeftRectangle    0.067379       -62650.0  \n",
       "Error0         148.339042        62650.0  "
      ]
     },
     "execution_count": 66,
     "metadata": {},
     "output_type": "execute_result"
    }
   ],
   "source": [
    "value0 = qvLeftRectangle(left, right, polynom0)\n",
    "value1 = qvLeftRectangle(left, right, polynom1)\n",
    "value2 = qvLeftRectangle(left, right, polynom2)\n",
    "value3 = qvLeftRectangle(left, right, polynom3)\n",
    "value4 = qvLeftRectangle(left, right, func)\n",
    "value6 = qvLeftRectangle(left, right, func2)\n",
    "value7 = qvLeftRectangle(left, right, polynom5)\n",
    "answer0 = np.array([value0, value1, value2, value3, value4, value6, value7])\n",
    "\n",
    "df0 = pd.DataFrame(np.array([answer0, np.abs(answer0 - correctAnswer)]),\n",
    "                   columns = function,\n",
    "                   index = ['LeftRectangle', 'Error0'])\n",
    "df0"
   ]
  },
  {
   "cell_type": "markdown",
   "id": "8db65309",
   "metadata": {},
   "source": [
    "### Квадратурная формула правого прямоугольника"
   ]
  },
  {
   "cell_type": "markdown",
   "id": "1de6047d",
   "metadata": {},
   "source": [
    "$\\int\\limits_a^b f(x) dx = (b - a) f(b) \\\\$\n",
    "$R_{П}(f) = -\\frac{1}{2}(b - a)^2 f'(\\chi)$"
   ]
  },
  {
   "cell_type": "code",
   "execution_count": 67,
   "id": "50846af0",
   "metadata": {},
   "outputs": [],
   "source": [
    "def qvRightRectangle(left: float, right: float, f) -> float:\n",
    "    return (right - left) * f(right)"
   ]
  },
  {
   "cell_type": "code",
   "execution_count": 68,
   "id": "c3ade0c8",
   "metadata": {},
   "outputs": [
    {
     "data": {
      "text/html": [
       "<div>\n",
       "<style scoped>\n",
       "    .dataframe tbody tr th:only-of-type {\n",
       "        vertical-align: middle;\n",
       "    }\n",
       "\n",
       "    .dataframe tbody tr th {\n",
       "        vertical-align: top;\n",
       "    }\n",
       "\n",
       "    .dataframe thead th {\n",
       "        text-align: right;\n",
       "    }\n",
       "</style>\n",
       "<table border=\"1\" class=\"dataframe\">\n",
       "  <thead>\n",
       "    <tr style=\"text-align: right;\">\n",
       "      <th></th>\n",
       "      <th>2</th>\n",
       "      <th>3x + 1</th>\n",
       "      <th>x^2 + 2x + 4</th>\n",
       "      <th>x^3 + 3x^2 - 3x + 5</th>\n",
       "      <th>sin3x + cos2x</th>\n",
       "      <th>exp^(x)</th>\n",
       "      <th>2*x^5 + 3 * x</th>\n",
       "    </tr>\n",
       "  </thead>\n",
       "  <tbody>\n",
       "    <tr>\n",
       "      <th>RightRectangle</th>\n",
       "      <td>20.0</td>\n",
       "      <td>160.0</td>\n",
       "      <td>390.000000</td>\n",
       "      <td>1900.0</td>\n",
       "      <td>-1.887837</td>\n",
       "      <td>1484.131591</td>\n",
       "      <td>62650.0</td>\n",
       "    </tr>\n",
       "    <tr>\n",
       "      <th>Error1</th>\n",
       "      <td>0.0</td>\n",
       "      <td>150.0</td>\n",
       "      <td>266.666667</td>\n",
       "      <td>1600.0</td>\n",
       "      <td>1.343816</td>\n",
       "      <td>1335.725170</td>\n",
       "      <td>62650.0</td>\n",
       "    </tr>\n",
       "  </tbody>\n",
       "</table>\n",
       "</div>"
      ],
      "text/plain": [
       "                   2  3x + 1  x^2 + 2x + 4  x^3 + 3x^2 - 3x + 5  \\\n",
       "RightRectangle  20.0   160.0    390.000000               1900.0   \n",
       "Error1           0.0   150.0    266.666667               1600.0   \n",
       "\n",
       "                sin3x + cos2x      exp^(x)  2*x^5 + 3 * x  \n",
       "RightRectangle      -1.887837  1484.131591        62650.0  \n",
       "Error1               1.343816  1335.725170        62650.0  "
      ]
     },
     "execution_count": 68,
     "metadata": {},
     "output_type": "execute_result"
    }
   ],
   "source": [
    "value0_1 = qvRightRectangle(left, right, polynom0)\n",
    "value1_1 = qvRightRectangle(left, right, polynom1)\n",
    "value2_1 = qvRightRectangle(left, right, polynom2)\n",
    "value3_1 = qvRightRectangle(left, right, polynom3)\n",
    "value4_1 = qvRightRectangle(left, right, func)\n",
    "value6_1 = qvRightRectangle(left, right, func2)\n",
    "value7_1 = qvRightRectangle(left, right, polynom5)\n",
    "answer1 = np.array([value0_1, value1_1, value2_1, value3_1, value4_1, value6_1, value7_1])\n",
    "\n",
    "df1 = pd.DataFrame(np.array([answer1, np.abs(answer1 - correctAnswer)]),\n",
    "                   columns = function,\n",
    "                   index = ['RightRectangle', 'Error1'])\n",
    "df1"
   ]
  },
  {
   "cell_type": "markdown",
   "id": "5b63376c",
   "metadata": {},
   "source": [
    "### Квадратурная формула среднего прямоугольника"
   ]
  },
  {
   "cell_type": "markdown",
   "id": "9df0c8e2",
   "metadata": {},
   "source": [
    "$\\int\\limits_a^b f(x) dx = (b - a) f(\\frac{a + b}{2}) \\\\$\n",
    "$R_{mid}(f) = \\frac{1}{24}(b - a)^3 f''(\\chi)$"
   ]
  },
  {
   "cell_type": "code",
   "execution_count": 69,
   "id": "57e79f27",
   "metadata": {},
   "outputs": [],
   "source": [
    "def qvMiddleRectangle(left: float, right: float, f) -> float:\n",
    "    return (right - left) * f((left + right) / 2)"
   ]
  },
  {
   "cell_type": "code",
   "execution_count": 70,
   "id": "5948ce49",
   "metadata": {},
   "outputs": [
    {
     "data": {
      "text/html": [
       "<div>\n",
       "<style scoped>\n",
       "    .dataframe tbody tr th:only-of-type {\n",
       "        vertical-align: middle;\n",
       "    }\n",
       "\n",
       "    .dataframe tbody tr th {\n",
       "        vertical-align: top;\n",
       "    }\n",
       "\n",
       "    .dataframe thead th {\n",
       "        text-align: right;\n",
       "    }\n",
       "</style>\n",
       "<table border=\"1\" class=\"dataframe\">\n",
       "  <thead>\n",
       "    <tr style=\"text-align: right;\">\n",
       "      <th></th>\n",
       "      <th>2</th>\n",
       "      <th>3x + 1</th>\n",
       "      <th>x^2 + 2x + 4</th>\n",
       "      <th>x^3 + 3x^2 - 3x + 5</th>\n",
       "      <th>sin3x + cos2x</th>\n",
       "      <th>exp^(x)</th>\n",
       "      <th>2*x^5 + 3 * x</th>\n",
       "    </tr>\n",
       "  </thead>\n",
       "  <tbody>\n",
       "    <tr>\n",
       "      <th>MiddleRectangle</th>\n",
       "      <td>20.0</td>\n",
       "      <td>10.0</td>\n",
       "      <td>40.000000</td>\n",
       "      <td>50.0</td>\n",
       "      <td>10.000000</td>\n",
       "      <td>10.000000</td>\n",
       "      <td>0.0</td>\n",
       "    </tr>\n",
       "    <tr>\n",
       "      <th>Error2</th>\n",
       "      <td>0.0</td>\n",
       "      <td>0.0</td>\n",
       "      <td>83.333333</td>\n",
       "      <td>250.0</td>\n",
       "      <td>10.544021</td>\n",
       "      <td>138.406421</td>\n",
       "      <td>0.0</td>\n",
       "    </tr>\n",
       "  </tbody>\n",
       "</table>\n",
       "</div>"
      ],
      "text/plain": [
       "                    2  3x + 1  x^2 + 2x + 4  x^3 + 3x^2 - 3x + 5  \\\n",
       "MiddleRectangle  20.0    10.0     40.000000                 50.0   \n",
       "Error2            0.0     0.0     83.333333                250.0   \n",
       "\n",
       "                 sin3x + cos2x     exp^(x)  2*x^5 + 3 * x  \n",
       "MiddleRectangle      10.000000   10.000000            0.0  \n",
       "Error2               10.544021  138.406421            0.0  "
      ]
     },
     "execution_count": 70,
     "metadata": {},
     "output_type": "execute_result"
    }
   ],
   "source": [
    "value0_2 = qvMiddleRectangle(left, right, polynom0)\n",
    "value1_2 = qvMiddleRectangle(left, right, polynom1)\n",
    "value2_2 = qvMiddleRectangle(left, right, polynom2)\n",
    "value3_2 = qvMiddleRectangle(left, right, polynom3)\n",
    "value4_2 = qvMiddleRectangle(left, right, func)\n",
    "value6_2 = qvMiddleRectangle(left, right, func2)\n",
    "value7_2 = qvMiddleRectangle(left, right, polynom5)\n",
    "answer2 = np.array([value0_2, value1_2, value2_2, value3_2, value4_2, value6_2, value7_2])\n",
    "\n",
    "df2 = pd.DataFrame(np.array([answer2, np.abs(answer2 - correctAnswer)]),\n",
    "                   columns = function,\n",
    "                   index = ['MiddleRectangle', 'Error2'])\n",
    "df2"
   ]
  },
  {
   "cell_type": "markdown",
   "id": "94d149e1",
   "metadata": {},
   "source": [
    "### Квадратурная формула трапеции"
   ]
  },
  {
   "cell_type": "markdown",
   "id": "3f4892d4",
   "metadata": {},
   "source": [
    "$\\int\\limits_a^b f(x) dx = \\frac{(b - a)}{2}(f(b) + f(a)) \\\\$\n",
    "$R_{tr}(f) = -\\frac{1}{12}(b - a)^3 f''(\\chi)$"
   ]
  },
  {
   "cell_type": "code",
   "execution_count": 71,
   "id": "2b9fb8ed",
   "metadata": {},
   "outputs": [],
   "source": [
    "def qvTrapeze(left: float, right: float, f) -> float:\n",
    "    return (right - left) / 2 * (f(left) + f(right))"
   ]
  },
  {
   "cell_type": "code",
   "execution_count": 72,
   "id": "1043cad8",
   "metadata": {},
   "outputs": [
    {
     "data": {
      "text/html": [
       "<div>\n",
       "<style scoped>\n",
       "    .dataframe tbody tr th:only-of-type {\n",
       "        vertical-align: middle;\n",
       "    }\n",
       "\n",
       "    .dataframe tbody tr th {\n",
       "        vertical-align: top;\n",
       "    }\n",
       "\n",
       "    .dataframe thead th {\n",
       "        text-align: right;\n",
       "    }\n",
       "</style>\n",
       "<table border=\"1\" class=\"dataframe\">\n",
       "  <thead>\n",
       "    <tr style=\"text-align: right;\">\n",
       "      <th></th>\n",
       "      <th>2</th>\n",
       "      <th>3x + 1</th>\n",
       "      <th>x^2 + 2x + 4</th>\n",
       "      <th>x^3 + 3x^2 - 3x + 5</th>\n",
       "      <th>sin3x + cos2x</th>\n",
       "      <th>exp^(x)</th>\n",
       "      <th>2*x^5 + 3 * x</th>\n",
       "    </tr>\n",
       "  </thead>\n",
       "  <tbody>\n",
       "    <tr>\n",
       "      <th>Trapeze</th>\n",
       "      <td>20.0</td>\n",
       "      <td>10.0</td>\n",
       "      <td>290.000000</td>\n",
       "      <td>800.0</td>\n",
       "      <td>-8.390715</td>\n",
       "      <td>742.099485</td>\n",
       "      <td>0.0</td>\n",
       "    </tr>\n",
       "    <tr>\n",
       "      <th>Error3</th>\n",
       "      <td>0.0</td>\n",
       "      <td>0.0</td>\n",
       "      <td>166.666667</td>\n",
       "      <td>500.0</td>\n",
       "      <td>7.846694</td>\n",
       "      <td>593.693064</td>\n",
       "      <td>0.0</td>\n",
       "    </tr>\n",
       "  </tbody>\n",
       "</table>\n",
       "</div>"
      ],
      "text/plain": [
       "            2  3x + 1  x^2 + 2x + 4  x^3 + 3x^2 - 3x + 5  sin3x + cos2x  \\\n",
       "Trapeze  20.0    10.0    290.000000                800.0      -8.390715   \n",
       "Error3    0.0     0.0    166.666667                500.0       7.846694   \n",
       "\n",
       "            exp^(x)  2*x^5 + 3 * x  \n",
       "Trapeze  742.099485            0.0  \n",
       "Error3   593.693064            0.0  "
      ]
     },
     "execution_count": 72,
     "metadata": {},
     "output_type": "execute_result"
    }
   ],
   "source": [
    "value0_3 = qvTrapeze(left, right, polynom0)\n",
    "value1_3 = qvTrapeze(left, right, polynom1)\n",
    "value2_3 = qvTrapeze(left, right, polynom2)\n",
    "value3_3 = qvTrapeze(left, right, polynom3)\n",
    "value4_3 = qvTrapeze(left, right, func)\n",
    "value6_3 = qvTrapeze(left, right, func2)\n",
    "value7_3 = qvTrapeze(left, right, polynom5)\n",
    "answer3 = np.array([value0_3, value1_3, value2_3, value3_3, value4_3, value6_3, value7_3])\n",
    "\n",
    "df3 = pd.DataFrame(np.array([answer3, np.abs(answer3 - correctAnswer)]),\n",
    "                   columns = function,\n",
    "                   index = ['Trapeze', 'Error3'])\n",
    "df3"
   ]
  },
  {
   "cell_type": "markdown",
   "id": "5b286c36",
   "metadata": {},
   "source": [
    "### Квадратурная формула Симпсона"
   ]
  },
  {
   "cell_type": "markdown",
   "id": "94217d75",
   "metadata": {},
   "source": [
    "$\\int\\limits_a^b f(x) dx = \\frac{(b - a)}{6}(f(a) + 4f(\\frac{a+b}{2}) + f(b)) \\\\$\n",
    "$R_{Simpson}(f) = -\\frac{1}{2880}(b - a)^5 f^{(4)}(\\chi)$"
   ]
  },
  {
   "cell_type": "code",
   "execution_count": 73,
   "id": "fbe4c958",
   "metadata": {},
   "outputs": [],
   "source": [
    "def qvSimpson(left: float, right: float, f) -> float:\n",
    "    return (right - left) / 6 * (f(left) + 4 * f((left + right) / 2) +  f(right))"
   ]
  },
  {
   "cell_type": "code",
   "execution_count": 74,
   "id": "13b65b3a",
   "metadata": {},
   "outputs": [
    {
     "data": {
      "text/html": [
       "<div>\n",
       "<style scoped>\n",
       "    .dataframe tbody tr th:only-of-type {\n",
       "        vertical-align: middle;\n",
       "    }\n",
       "\n",
       "    .dataframe tbody tr th {\n",
       "        vertical-align: top;\n",
       "    }\n",
       "\n",
       "    .dataframe thead th {\n",
       "        text-align: right;\n",
       "    }\n",
       "</style>\n",
       "<table border=\"1\" class=\"dataframe\">\n",
       "  <thead>\n",
       "    <tr style=\"text-align: right;\">\n",
       "      <th></th>\n",
       "      <th>2</th>\n",
       "      <th>3x + 1</th>\n",
       "      <th>x^2 + 2x + 4</th>\n",
       "      <th>x^3 + 3x^2 - 3x + 5</th>\n",
       "      <th>sin3x + cos2x</th>\n",
       "      <th>exp^(x)</th>\n",
       "      <th>2*x^5 + 3 * x</th>\n",
       "    </tr>\n",
       "  </thead>\n",
       "  <tbody>\n",
       "    <tr>\n",
       "      <th>Simpson</th>\n",
       "      <td>20.0</td>\n",
       "      <td>10.0</td>\n",
       "      <td>1.233333e+02</td>\n",
       "      <td>300.0</td>\n",
       "      <td>3.869762</td>\n",
       "      <td>254.033162</td>\n",
       "      <td>0.0</td>\n",
       "    </tr>\n",
       "    <tr>\n",
       "      <th>Error4</th>\n",
       "      <td>0.0</td>\n",
       "      <td>0.0</td>\n",
       "      <td>2.842171e-14</td>\n",
       "      <td>0.0</td>\n",
       "      <td>4.413783</td>\n",
       "      <td>105.626741</td>\n",
       "      <td>0.0</td>\n",
       "    </tr>\n",
       "  </tbody>\n",
       "</table>\n",
       "</div>"
      ],
      "text/plain": [
       "            2  3x + 1  x^2 + 2x + 4  x^3 + 3x^2 - 3x + 5  sin3x + cos2x  \\\n",
       "Simpson  20.0    10.0  1.233333e+02                300.0       3.869762   \n",
       "Error4    0.0     0.0  2.842171e-14                  0.0       4.413783   \n",
       "\n",
       "            exp^(x)  2*x^5 + 3 * x  \n",
       "Simpson  254.033162            0.0  \n",
       "Error4   105.626741            0.0  "
      ]
     },
     "execution_count": 74,
     "metadata": {},
     "output_type": "execute_result"
    }
   ],
   "source": [
    "value0_4 = qvSimpson(left, right, polynom0)\n",
    "value1_4 = qvSimpson(left, right, polynom1)\n",
    "value2_4 = qvSimpson(left, right, polynom2)\n",
    "value3_4 = qvSimpson(left, right, polynom3)\n",
    "value4_4 = qvSimpson(left, right, func)\n",
    "value6_4 = qvSimpson(left, right, func2)\n",
    "value7_4 = qvSimpson(left, right, polynom5)\n",
    "answer4 = np.array([value0_4, value1_4, value2_4, value3_4, value4_4, value6_4, value7_4])\n",
    "\n",
    "df4 = pd.DataFrame(np.array([answer4, np.abs(answer4 - correctAnswer)]),\n",
    "                   columns = function,\n",
    "                   index = ['Simpson', 'Error4'])\n",
    "df4"
   ]
  },
  {
   "cell_type": "markdown",
   "id": "f6dc752c",
   "metadata": {},
   "source": [
    "### Формула 3/8"
   ]
  },
  {
   "cell_type": "markdown",
   "id": "139c9bc4",
   "metadata": {},
   "source": [
    "$\\int\\limits_a^b f(x) dx = (b - a)(\\frac{1}{8}f(a) + \\frac{3}{8}f(a + h) + \\frac{3}{8}f(a + 2h) + \\frac{1}{8}f(b))$, где $h = \\frac{b - a}{3}$"
   ]
  },
  {
   "cell_type": "code",
   "execution_count": 75,
   "id": "b4432f48",
   "metadata": {},
   "outputs": [],
   "source": [
    "def method3_8(left: float, right: float, f) -> float:\n",
    "    h = (right - left) / 3\n",
    "    return (right - left) * (f(left)/8 + 3 * f(left + h) / 8 +  3 * f(left + 2 * h) / 8 +  f(right) / 8)"
   ]
  },
  {
   "cell_type": "code",
   "execution_count": 76,
   "id": "80ef7c27",
   "metadata": {},
   "outputs": [
    {
     "data": {
      "text/html": [
       "<div>\n",
       "<style scoped>\n",
       "    .dataframe tbody tr th:only-of-type {\n",
       "        vertical-align: middle;\n",
       "    }\n",
       "\n",
       "    .dataframe tbody tr th {\n",
       "        vertical-align: top;\n",
       "    }\n",
       "\n",
       "    .dataframe thead th {\n",
       "        text-align: right;\n",
       "    }\n",
       "</style>\n",
       "<table border=\"1\" class=\"dataframe\">\n",
       "  <thead>\n",
       "    <tr style=\"text-align: right;\">\n",
       "      <th></th>\n",
       "      <th>2</th>\n",
       "      <th>3x + 1</th>\n",
       "      <th>x^2 + 2x + 4</th>\n",
       "      <th>x^3 + 3x^2 - 3x + 5</th>\n",
       "      <th>sin3x + cos2x</th>\n",
       "      <th>exp^(x)</th>\n",
       "      <th>2*x^5 + 3 * x</th>\n",
       "    </tr>\n",
       "  </thead>\n",
       "  <tbody>\n",
       "    <tr>\n",
       "      <th>method3/8</th>\n",
       "      <td>20.0</td>\n",
       "      <td>1.000000e+01</td>\n",
       "      <td>1.233333e+02</td>\n",
       "      <td>3.000000e+02</td>\n",
       "      <td>-9.460234</td>\n",
       "      <td>206.087493</td>\n",
       "      <td>0.0</td>\n",
       "    </tr>\n",
       "    <tr>\n",
       "      <th>Error5</th>\n",
       "      <td>0.0</td>\n",
       "      <td>3.552714e-15</td>\n",
       "      <td>2.842171e-14</td>\n",
       "      <td>5.684342e-14</td>\n",
       "      <td>8.916213</td>\n",
       "      <td>57.681071</td>\n",
       "      <td>0.0</td>\n",
       "    </tr>\n",
       "  </tbody>\n",
       "</table>\n",
       "</div>"
      ],
      "text/plain": [
       "              2        3x + 1  x^2 + 2x + 4  x^3 + 3x^2 - 3x + 5  \\\n",
       "method3/8  20.0  1.000000e+01  1.233333e+02         3.000000e+02   \n",
       "Error5      0.0  3.552714e-15  2.842171e-14         5.684342e-14   \n",
       "\n",
       "           sin3x + cos2x     exp^(x)  2*x^5 + 3 * x  \n",
       "method3/8      -9.460234  206.087493            0.0  \n",
       "Error5          8.916213   57.681071            0.0  "
      ]
     },
     "execution_count": 76,
     "metadata": {},
     "output_type": "execute_result"
    }
   ],
   "source": [
    "value0_5 = method3_8(left, right, polynom0)\n",
    "value1_5 = method3_8(left, right, polynom1)\n",
    "value2_5 = method3_8(left, right, polynom2)\n",
    "value3_5 = method3_8(left, right, polynom3)\n",
    "value4_5 = method3_8(left, right, func)\n",
    "value6_5 = method3_8(left, right, func2)\n",
    "value7_5 = method3_8(left, right, polynom5)\n",
    "answer5 = np.array([value0_5, value1_5, value2_5, value3_5, value4_5, value6_5, value7_5])\n",
    "df5 = pd.DataFrame(np.array([answer5, np.abs(answer5 - correctAnswer)]),\n",
    "                   columns = function,\n",
    "                   index = ['method3/8', 'Error5'])\n",
    "df5"
   ]
  },
  {
   "cell_type": "code",
   "execution_count": 77,
   "id": "eed1853d",
   "metadata": {},
   "outputs": [
    {
     "data": {
      "text/html": [
       "<div>\n",
       "<style scoped>\n",
       "    .dataframe tbody tr th:only-of-type {\n",
       "        vertical-align: middle;\n",
       "    }\n",
       "\n",
       "    .dataframe tbody tr th {\n",
       "        vertical-align: top;\n",
       "    }\n",
       "\n",
       "    .dataframe thead th {\n",
       "        text-align: right;\n",
       "    }\n",
       "</style>\n",
       "<table border=\"1\" class=\"dataframe\">\n",
       "  <thead>\n",
       "    <tr style=\"text-align: right;\">\n",
       "      <th></th>\n",
       "      <th>2</th>\n",
       "      <th>3x + 1</th>\n",
       "      <th>x^2 + 2x + 4</th>\n",
       "      <th>x^3 + 3x^2 - 3x + 5</th>\n",
       "      <th>sin3x + cos2x</th>\n",
       "      <th>exp^(x)</th>\n",
       "      <th>2*x^5 + 3 * x</th>\n",
       "    </tr>\n",
       "  </thead>\n",
       "  <tbody>\n",
       "    <tr>\n",
       "      <th>LeftRectangle</th>\n",
       "      <td>20.0</td>\n",
       "      <td>-1.400000e+02</td>\n",
       "      <td>1.900000e+02</td>\n",
       "      <td>-3.000000e+02</td>\n",
       "      <td>-14.893594</td>\n",
       "      <td>0.067379</td>\n",
       "      <td>-62650.0</td>\n",
       "    </tr>\n",
       "    <tr>\n",
       "      <th>Error0</th>\n",
       "      <td>0.0</td>\n",
       "      <td>1.500000e+02</td>\n",
       "      <td>6.666667e+01</td>\n",
       "      <td>6.000000e+02</td>\n",
       "      <td>14.349573</td>\n",
       "      <td>148.339042</td>\n",
       "      <td>62650.0</td>\n",
       "    </tr>\n",
       "    <tr>\n",
       "      <th>RightRectangle</th>\n",
       "      <td>20.0</td>\n",
       "      <td>1.600000e+02</td>\n",
       "      <td>3.900000e+02</td>\n",
       "      <td>1.900000e+03</td>\n",
       "      <td>-1.887837</td>\n",
       "      <td>1484.131591</td>\n",
       "      <td>62650.0</td>\n",
       "    </tr>\n",
       "    <tr>\n",
       "      <th>Error1</th>\n",
       "      <td>0.0</td>\n",
       "      <td>1.500000e+02</td>\n",
       "      <td>2.666667e+02</td>\n",
       "      <td>1.600000e+03</td>\n",
       "      <td>1.343816</td>\n",
       "      <td>1335.725170</td>\n",
       "      <td>62650.0</td>\n",
       "    </tr>\n",
       "    <tr>\n",
       "      <th>MiddleRectangle</th>\n",
       "      <td>20.0</td>\n",
       "      <td>1.000000e+01</td>\n",
       "      <td>4.000000e+01</td>\n",
       "      <td>5.000000e+01</td>\n",
       "      <td>10.000000</td>\n",
       "      <td>10.000000</td>\n",
       "      <td>0.0</td>\n",
       "    </tr>\n",
       "    <tr>\n",
       "      <th>Error2</th>\n",
       "      <td>0.0</td>\n",
       "      <td>0.000000e+00</td>\n",
       "      <td>8.333333e+01</td>\n",
       "      <td>2.500000e+02</td>\n",
       "      <td>10.544021</td>\n",
       "      <td>138.406421</td>\n",
       "      <td>0.0</td>\n",
       "    </tr>\n",
       "    <tr>\n",
       "      <th>Trapeze</th>\n",
       "      <td>20.0</td>\n",
       "      <td>1.000000e+01</td>\n",
       "      <td>2.900000e+02</td>\n",
       "      <td>8.000000e+02</td>\n",
       "      <td>-8.390715</td>\n",
       "      <td>742.099485</td>\n",
       "      <td>0.0</td>\n",
       "    </tr>\n",
       "    <tr>\n",
       "      <th>Error3</th>\n",
       "      <td>0.0</td>\n",
       "      <td>0.000000e+00</td>\n",
       "      <td>1.666667e+02</td>\n",
       "      <td>5.000000e+02</td>\n",
       "      <td>7.846694</td>\n",
       "      <td>593.693064</td>\n",
       "      <td>0.0</td>\n",
       "    </tr>\n",
       "    <tr>\n",
       "      <th>Simpson</th>\n",
       "      <td>20.0</td>\n",
       "      <td>1.000000e+01</td>\n",
       "      <td>1.233333e+02</td>\n",
       "      <td>3.000000e+02</td>\n",
       "      <td>3.869762</td>\n",
       "      <td>254.033162</td>\n",
       "      <td>0.0</td>\n",
       "    </tr>\n",
       "    <tr>\n",
       "      <th>Error4</th>\n",
       "      <td>0.0</td>\n",
       "      <td>0.000000e+00</td>\n",
       "      <td>2.842171e-14</td>\n",
       "      <td>0.000000e+00</td>\n",
       "      <td>4.413783</td>\n",
       "      <td>105.626741</td>\n",
       "      <td>0.0</td>\n",
       "    </tr>\n",
       "    <tr>\n",
       "      <th>method3/8</th>\n",
       "      <td>20.0</td>\n",
       "      <td>1.000000e+01</td>\n",
       "      <td>1.233333e+02</td>\n",
       "      <td>3.000000e+02</td>\n",
       "      <td>-9.460234</td>\n",
       "      <td>206.087493</td>\n",
       "      <td>0.0</td>\n",
       "    </tr>\n",
       "    <tr>\n",
       "      <th>Error5</th>\n",
       "      <td>0.0</td>\n",
       "      <td>3.552714e-15</td>\n",
       "      <td>2.842171e-14</td>\n",
       "      <td>5.684342e-14</td>\n",
       "      <td>8.916213</td>\n",
       "      <td>57.681071</td>\n",
       "      <td>0.0</td>\n",
       "    </tr>\n",
       "  </tbody>\n",
       "</table>\n",
       "</div>"
      ],
      "text/plain": [
       "                    2        3x + 1  x^2 + 2x + 4  x^3 + 3x^2 - 3x + 5  \\\n",
       "LeftRectangle    20.0 -1.400000e+02  1.900000e+02        -3.000000e+02   \n",
       "Error0            0.0  1.500000e+02  6.666667e+01         6.000000e+02   \n",
       "RightRectangle   20.0  1.600000e+02  3.900000e+02         1.900000e+03   \n",
       "Error1            0.0  1.500000e+02  2.666667e+02         1.600000e+03   \n",
       "MiddleRectangle  20.0  1.000000e+01  4.000000e+01         5.000000e+01   \n",
       "Error2            0.0  0.000000e+00  8.333333e+01         2.500000e+02   \n",
       "Trapeze          20.0  1.000000e+01  2.900000e+02         8.000000e+02   \n",
       "Error3            0.0  0.000000e+00  1.666667e+02         5.000000e+02   \n",
       "Simpson          20.0  1.000000e+01  1.233333e+02         3.000000e+02   \n",
       "Error4            0.0  0.000000e+00  2.842171e-14         0.000000e+00   \n",
       "method3/8        20.0  1.000000e+01  1.233333e+02         3.000000e+02   \n",
       "Error5            0.0  3.552714e-15  2.842171e-14         5.684342e-14   \n",
       "\n",
       "                 sin3x + cos2x      exp^(x)  2*x^5 + 3 * x  \n",
       "LeftRectangle       -14.893594     0.067379       -62650.0  \n",
       "Error0               14.349573   148.339042        62650.0  \n",
       "RightRectangle       -1.887837  1484.131591        62650.0  \n",
       "Error1                1.343816  1335.725170        62650.0  \n",
       "MiddleRectangle      10.000000    10.000000            0.0  \n",
       "Error2               10.544021   138.406421            0.0  \n",
       "Trapeze              -8.390715   742.099485            0.0  \n",
       "Error3                7.846694   593.693064            0.0  \n",
       "Simpson               3.869762   254.033162            0.0  \n",
       "Error4                4.413783   105.626741            0.0  \n",
       "method3/8            -9.460234   206.087493            0.0  \n",
       "Error5                8.916213    57.681071            0.0  "
      ]
     },
     "execution_count": 77,
     "metadata": {},
     "output_type": "execute_result"
    }
   ],
   "source": [
    "dfr = pd.concat([df0, df1, df2, df3, df4, df5])\n",
    "dfr"
   ]
  },
  {
   "cell_type": "markdown",
   "id": "ea847617",
   "metadata": {},
   "source": [
    "## Задание 4.2"
   ]
  },
  {
   "cell_type": "markdown",
   "id": "e55bca98",
   "metadata": {},
   "source": [
    "Написать программу для вычисления определенного интеграла при помощи составных\n",
    "квадратурных формул (СКФ)."
   ]
  },
  {
   "cell_type": "code",
   "execution_count": 78,
   "id": "82e3adfa",
   "metadata": {},
   "outputs": [
    {
     "name": "stdout",
     "output_type": "stream",
     "text": [
      "10000\n"
     ]
    }
   ],
   "source": [
    "m = int(input())"
   ]
  },
  {
   "cell_type": "markdown",
   "id": "cd8507f1",
   "metadata": {},
   "source": [
    "### Шаг"
   ]
  },
  {
   "cell_type": "code",
   "execution_count": 79,
   "id": "2976fccb",
   "metadata": {},
   "outputs": [
    {
     "data": {
      "text/plain": [
       "0.001"
      ]
     },
     "execution_count": 79,
     "metadata": {},
     "output_type": "execute_result"
    }
   ],
   "source": [
    "h = (right - left) / m\n",
    "h"
   ]
  },
  {
   "cell_type": "markdown",
   "id": "c5bfa271",
   "metadata": {},
   "source": [
    "### Отрезки"
   ]
  },
  {
   "cell_type": "code",
   "execution_count": 80,
   "id": "9ee05f3f",
   "metadata": {},
   "outputs": [],
   "source": [
    "segments = [] \n",
    "for n in range(m):\n",
    "    segments.append((left + n*h, left + (n + 1)*h))"
   ]
  },
  {
   "cell_type": "markdown",
   "id": "4262082a",
   "metadata": {},
   "source": [
    "### Функция для вычисление составной квадратурной формулы"
   ]
  },
  {
   "cell_type": "code",
   "execution_count": 81,
   "id": "4b7b4d49",
   "metadata": {},
   "outputs": [],
   "source": [
    "def compoud(func, segments, qv):\n",
    "    value = 0\n",
    "    for l, r in segments:\n",
    "        value += qv(l, r, func)\n",
    "    return value"
   ]
  },
  {
   "cell_type": "markdown",
   "id": "2b254cf7",
   "metadata": {},
   "source": [
    "### Составная квадратурная формула левого прямоугольника"
   ]
  },
  {
   "cell_type": "code",
   "execution_count": 82,
   "id": "9ec3c425",
   "metadata": {},
   "outputs": [
    {
     "data": {
      "text/html": [
       "<div>\n",
       "<style scoped>\n",
       "    .dataframe tbody tr th:only-of-type {\n",
       "        vertical-align: middle;\n",
       "    }\n",
       "\n",
       "    .dataframe tbody tr th {\n",
       "        vertical-align: top;\n",
       "    }\n",
       "\n",
       "    .dataframe thead th {\n",
       "        text-align: right;\n",
       "    }\n",
       "</style>\n",
       "<table border=\"1\" class=\"dataframe\">\n",
       "  <thead>\n",
       "    <tr style=\"text-align: right;\">\n",
       "      <th></th>\n",
       "      <th>2</th>\n",
       "      <th>3x + 1</th>\n",
       "      <th>x^2 + 2x + 4</th>\n",
       "      <th>x^3 + 3x^2 - 3x + 5</th>\n",
       "      <th>sin3x + cos2x</th>\n",
       "      <th>exp^(x)</th>\n",
       "      <th>2*x^5 + 3 * x</th>\n",
       "    </tr>\n",
       "  </thead>\n",
       "  <tbody>\n",
       "    <tr>\n",
       "      <th>LeftRectangle</th>\n",
       "      <td>20.0</td>\n",
       "      <td>9.985</td>\n",
       "      <td>123.323335</td>\n",
       "      <td>299.890005</td>\n",
       "      <td>-0.544671</td>\n",
       "      <td>148.332230</td>\n",
       "      <td>-6.265</td>\n",
       "    </tr>\n",
       "    <tr>\n",
       "      <th>Error0</th>\n",
       "      <td>0.0</td>\n",
       "      <td>0.015</td>\n",
       "      <td>0.009998</td>\n",
       "      <td>0.109995</td>\n",
       "      <td>0.000650</td>\n",
       "      <td>0.074191</td>\n",
       "      <td>6.265</td>\n",
       "    </tr>\n",
       "    <tr>\n",
       "      <th>Theoretical_error0</th>\n",
       "      <td>0.0</td>\n",
       "      <td>0.015</td>\n",
       "      <td>0.060000</td>\n",
       "      <td>0.510000</td>\n",
       "      <td>0.023945</td>\n",
       "      <td>0.742066</td>\n",
       "      <td>31.265</td>\n",
       "    </tr>\n",
       "  </tbody>\n",
       "</table>\n",
       "</div>"
      ],
      "text/plain": [
       "                       2  3x + 1  x^2 + 2x + 4  x^3 + 3x^2 - 3x + 5  \\\n",
       "LeftRectangle       20.0   9.985    123.323335           299.890005   \n",
       "Error0               0.0   0.015      0.009998             0.109995   \n",
       "Theoretical_error0   0.0   0.015      0.060000             0.510000   \n",
       "\n",
       "                    sin3x + cos2x     exp^(x)  2*x^5 + 3 * x  \n",
       "LeftRectangle           -0.544671  148.332230         -6.265  \n",
       "Error0                   0.000650    0.074191          6.265  \n",
       "Theoretical_error0       0.023945    0.742066         31.265  "
      ]
     },
     "execution_count": 82,
     "metadata": {},
     "output_type": "execute_result"
    }
   ],
   "source": [
    "value0 = compoud(polynom0, segments, qvLeftRectangle)\n",
    "value1 = compoud(polynom1, segments, qvLeftRectangle)\n",
    "value2 = compoud(polynom2, segments, qvLeftRectangle)\n",
    "value3 = compoud(polynom3, segments, qvLeftRectangle)\n",
    "value4 = compoud(func, segments, qvLeftRectangle)\n",
    "value6 = compoud(func2, segments, qvLeftRectangle)\n",
    "value7 = compoud(polynom5, segments, qvLeftRectangle)\n",
    "answer0 = np.array([value0, value1, value2, value3, value4, value6, value7])\n",
    "theoretical_error = [(right - left)**2 / (2 * m) * max_d1_p0,\n",
    "                     (right - left)**2 / (2 * m) * max_d1_p1,\n",
    "                     (right - left)**2 / (2 * m) * max_d1_p2,\n",
    "                     (right - left)**2 / (2 * m) * max_d1_p3,\n",
    "                     (right - left)**2 / (2 * m) * max_d1_f,\n",
    "                     (right - left)**2 / (2 * m) * max_d1_f2,\n",
    "                     (right - left)**2 / (2 * m) * max_d1_p5,]\n",
    "\n",
    "df0 = pd.DataFrame(np.array([answer0, np.abs(answer0 - correctAnswer), theoretical_error]),\n",
    "                   columns = function,\n",
    "                   index = ['LeftRectangle', 'Error0', 'Theoretical_error0'])\n",
    "df0"
   ]
  },
  {
   "cell_type": "markdown",
   "id": "9f674784",
   "metadata": {},
   "source": [
    "### Составная квадратурная формула правого прямоугольника"
   ]
  },
  {
   "cell_type": "code",
   "execution_count": 83,
   "id": "9f7750fc",
   "metadata": {},
   "outputs": [
    {
     "data": {
      "text/html": [
       "<div>\n",
       "<style scoped>\n",
       "    .dataframe tbody tr th:only-of-type {\n",
       "        vertical-align: middle;\n",
       "    }\n",
       "\n",
       "    .dataframe tbody tr th {\n",
       "        vertical-align: top;\n",
       "    }\n",
       "\n",
       "    .dataframe thead th {\n",
       "        text-align: right;\n",
       "    }\n",
       "</style>\n",
       "<table border=\"1\" class=\"dataframe\">\n",
       "  <thead>\n",
       "    <tr style=\"text-align: right;\">\n",
       "      <th></th>\n",
       "      <th>2</th>\n",
       "      <th>3x + 1</th>\n",
       "      <th>x^2 + 2x + 4</th>\n",
       "      <th>x^3 + 3x^2 - 3x + 5</th>\n",
       "      <th>sin3x + cos2x</th>\n",
       "      <th>exp^(x)</th>\n",
       "      <th>2*x^5 + 3 * x</th>\n",
       "    </tr>\n",
       "  </thead>\n",
       "  <tbody>\n",
       "    <tr>\n",
       "      <th>RightRectangle</th>\n",
       "      <td>20.0</td>\n",
       "      <td>10.015</td>\n",
       "      <td>123.343335</td>\n",
       "      <td>300.110005</td>\n",
       "      <td>-0.543371</td>\n",
       "      <td>148.480637</td>\n",
       "      <td>6.265</td>\n",
       "    </tr>\n",
       "    <tr>\n",
       "      <th>Error1</th>\n",
       "      <td>0.0</td>\n",
       "      <td>0.015</td>\n",
       "      <td>0.010002</td>\n",
       "      <td>0.110005</td>\n",
       "      <td>0.000650</td>\n",
       "      <td>0.074216</td>\n",
       "      <td>6.265</td>\n",
       "    </tr>\n",
       "    <tr>\n",
       "      <th>Theoretical_error1</th>\n",
       "      <td>0.0</td>\n",
       "      <td>0.015</td>\n",
       "      <td>0.060000</td>\n",
       "      <td>0.510000</td>\n",
       "      <td>0.023945</td>\n",
       "      <td>0.742066</td>\n",
       "      <td>31.265</td>\n",
       "    </tr>\n",
       "  </tbody>\n",
       "</table>\n",
       "</div>"
      ],
      "text/plain": [
       "                       2  3x + 1  x^2 + 2x + 4  x^3 + 3x^2 - 3x + 5  \\\n",
       "RightRectangle      20.0  10.015    123.343335           300.110005   \n",
       "Error1               0.0   0.015      0.010002             0.110005   \n",
       "Theoretical_error1   0.0   0.015      0.060000             0.510000   \n",
       "\n",
       "                    sin3x + cos2x     exp^(x)  2*x^5 + 3 * x  \n",
       "RightRectangle          -0.543371  148.480637          6.265  \n",
       "Error1                   0.000650    0.074216          6.265  \n",
       "Theoretical_error1       0.023945    0.742066         31.265  "
      ]
     },
     "execution_count": 83,
     "metadata": {},
     "output_type": "execute_result"
    }
   ],
   "source": [
    "value0_1 = compoud(polynom0, segments, qvRightRectangle)\n",
    "value1_1 = compoud(polynom1, segments, qvRightRectangle)\n",
    "value2_1 = compoud(polynom2, segments, qvRightRectangle)\n",
    "value3_1 = compoud(polynom3, segments, qvRightRectangle)\n",
    "value4_1 = compoud(func, segments, qvRightRectangle)\n",
    "value6_1 = compoud(func2, segments, qvRightRectangle)\n",
    "value7_1 = compoud(polynom5, segments, qvRightRectangle)\n",
    "answer0 = np.array([value0_1, value1_1, value2_1, value3_1, value4_1, value6_1, value7_1])\n",
    "theoretical_error = [(right - left)**2 / (2 * m) * max_d1_p0,\n",
    "                     (right - left)**2 / (2 * m) * max_d1_p1,\n",
    "                     (right - left)**2 / (2 * m) * max_d1_p2,\n",
    "                     (right - left)**2 / (2 * m) * max_d1_p3,\n",
    "                     (right - left)**2 / (2 * m) * max_d1_f,\n",
    "                     (right - left)**2 / (2 * m) * max_d1_f2,\n",
    "                     (right - left)**2 / (2 * m) * max_d1_p5,\n",
    "                    ]\n",
    "\n",
    "df1 = pd.DataFrame(np.array([answer0, np.abs(answer0 - correctAnswer), theoretical_error]),\n",
    "                   columns = function,\n",
    "                   index = ['RightRectangle', 'Error1', 'Theoretical_error1'])\n",
    "df1"
   ]
  },
  {
   "cell_type": "markdown",
   "id": "14d6a478",
   "metadata": {},
   "source": [
    "### Составная квадратурная формула среднего прямоугольника"
   ]
  },
  {
   "cell_type": "code",
   "execution_count": 84,
   "id": "5f2cf9a2",
   "metadata": {},
   "outputs": [
    {
     "name": "stdout",
     "output_type": "stream",
     "text": [
      "-2.780886632081092e-12\n"
     ]
    },
    {
     "data": {
      "text/html": [
       "<div>\n",
       "<style scoped>\n",
       "    .dataframe tbody tr th:only-of-type {\n",
       "        vertical-align: middle;\n",
       "    }\n",
       "\n",
       "    .dataframe tbody tr th {\n",
       "        vertical-align: top;\n",
       "    }\n",
       "\n",
       "    .dataframe thead th {\n",
       "        text-align: right;\n",
       "    }\n",
       "</style>\n",
       "<table border=\"1\" class=\"dataframe\">\n",
       "  <thead>\n",
       "    <tr style=\"text-align: right;\">\n",
       "      <th></th>\n",
       "      <th>2</th>\n",
       "      <th>3x + 1</th>\n",
       "      <th>x^2 + 2x + 4</th>\n",
       "      <th>x^3 + 3x^2 - 3x + 5</th>\n",
       "      <th>sin3x + cos2x</th>\n",
       "      <th>exp^(x)</th>\n",
       "      <th>2*x^5 + 3 * x</th>\n",
       "    </tr>\n",
       "  </thead>\n",
       "  <tbody>\n",
       "    <tr>\n",
       "      <th>MiddleRectangle</th>\n",
       "      <td>20.0</td>\n",
       "      <td>1.000000e+01</td>\n",
       "      <td>1.233333e+02</td>\n",
       "      <td>299.999998</td>\n",
       "      <td>-5.440212e-01</td>\n",
       "      <td>148.406415</td>\n",
       "      <td>-2.780887e-12</td>\n",
       "    </tr>\n",
       "    <tr>\n",
       "      <th>Error2</th>\n",
       "      <td>0.0</td>\n",
       "      <td>1.776357e-14</td>\n",
       "      <td>8.333334e-07</td>\n",
       "      <td>0.000002</td>\n",
       "      <td>9.067020e-08</td>\n",
       "      <td>0.000006</td>\n",
       "      <td>2.780887e-12</td>\n",
       "    </tr>\n",
       "    <tr>\n",
       "      <th>Theoretical_error2</th>\n",
       "      <td>0.0</td>\n",
       "      <td>0.000000e+00</td>\n",
       "      <td>8.333333e-07</td>\n",
       "      <td>0.000015</td>\n",
       "      <td>5.384071e-06</td>\n",
       "      <td>0.000062</td>\n",
       "      <td>2.083333e-03</td>\n",
       "    </tr>\n",
       "  </tbody>\n",
       "</table>\n",
       "</div>"
      ],
      "text/plain": [
       "                       2        3x + 1  x^2 + 2x + 4  x^3 + 3x^2 - 3x + 5  \\\n",
       "MiddleRectangle     20.0  1.000000e+01  1.233333e+02           299.999998   \n",
       "Error2               0.0  1.776357e-14  8.333334e-07             0.000002   \n",
       "Theoretical_error2   0.0  0.000000e+00  8.333333e-07             0.000015   \n",
       "\n",
       "                    sin3x + cos2x     exp^(x)  2*x^5 + 3 * x  \n",
       "MiddleRectangle     -5.440212e-01  148.406415  -2.780887e-12  \n",
       "Error2               9.067020e-08    0.000006   2.780887e-12  \n",
       "Theoretical_error2   5.384071e-06    0.000062   2.083333e-03  "
      ]
     },
     "execution_count": 84,
     "metadata": {},
     "output_type": "execute_result"
    }
   ],
   "source": [
    "value0_2 = compoud(polynom0, segments, qvMiddleRectangle)\n",
    "value1_2 = compoud(polynom1, segments, qvMiddleRectangle)\n",
    "value2_2 = compoud(polynom2, segments, qvMiddleRectangle)\n",
    "value3_2 = compoud(polynom3, segments, qvMiddleRectangle)\n",
    "value4_2 = compoud(func, segments, qvMiddleRectangle)\n",
    "value6_2 = compoud(func2, segments, qvMiddleRectangle)\n",
    "value7_2 = compoud(polynom5, segments, qvMiddleRectangle)\n",
    "answer0 = np.array([value0_2, value1_2, value2_2, value3_2, value4_2, value6_2, value7_2])\n",
    "theoretical_error = [(right - left)**3 / (24 * m**2) * max_d2_p0,\n",
    "                     (right - left)**3 / (24 * m**2) * max_d2_p1,\n",
    "                     (right - left)**3 / (24 * m**2) * max_d2_p2,\n",
    "                     (right - left)**3 / (24 * m**2) * max_d2_p3,\n",
    "                     (right - left)**3 / (24 * m**2) * max_d2_f,\n",
    "                     (right - left)**3 / (24 * m**2) * max_d2_f2,\n",
    "                     (right - left)**3 / (24 * m**2) * max_d2_p5]\n",
    "print(value7_2)\n",
    "df2 = pd.DataFrame(np.array([answer0, np.abs(answer0 - correctAnswer), theoretical_error]),\n",
    "                   columns = function,\n",
    "                   index = ['MiddleRectangle', 'Error2', 'Theoretical_error2'])\n",
    "df2"
   ]
  },
  {
   "cell_type": "markdown",
   "id": "06c28222",
   "metadata": {},
   "source": [
    "### Составная квадратурная формула трапеции"
   ]
  },
  {
   "cell_type": "code",
   "execution_count": 85,
   "id": "bead402a",
   "metadata": {},
   "outputs": [
    {
     "data": {
      "text/html": [
       "<div>\n",
       "<style scoped>\n",
       "    .dataframe tbody tr th:only-of-type {\n",
       "        vertical-align: middle;\n",
       "    }\n",
       "\n",
       "    .dataframe tbody tr th {\n",
       "        vertical-align: top;\n",
       "    }\n",
       "\n",
       "    .dataframe thead th {\n",
       "        text-align: right;\n",
       "    }\n",
       "</style>\n",
       "<table border=\"1\" class=\"dataframe\">\n",
       "  <thead>\n",
       "    <tr style=\"text-align: right;\">\n",
       "      <th></th>\n",
       "      <th>2</th>\n",
       "      <th>3x + 1</th>\n",
       "      <th>x^2 + 2x + 4</th>\n",
       "      <th>x^3 + 3x^2 - 3x + 5</th>\n",
       "      <th>sin3x + cos2x</th>\n",
       "      <th>exp^(x)</th>\n",
       "      <th>2*x^5 + 3 * x</th>\n",
       "    </tr>\n",
       "  </thead>\n",
       "  <tbody>\n",
       "    <tr>\n",
       "      <th>Trapeze</th>\n",
       "      <td>20.0</td>\n",
       "      <td>1.000000e+01</td>\n",
       "      <td>123.333335</td>\n",
       "      <td>300.000005</td>\n",
       "      <td>-5.440209e-01</td>\n",
       "      <td>148.406434</td>\n",
       "      <td>-2.138734e-12</td>\n",
       "    </tr>\n",
       "    <tr>\n",
       "      <th>Error3</th>\n",
       "      <td>0.0</td>\n",
       "      <td>1.776357e-14</td>\n",
       "      <td>0.000002</td>\n",
       "      <td>0.000005</td>\n",
       "      <td>1.813404e-07</td>\n",
       "      <td>0.000012</td>\n",
       "      <td>2.138734e-12</td>\n",
       "    </tr>\n",
       "    <tr>\n",
       "      <th>Theoretical_error3</th>\n",
       "      <td>0.0</td>\n",
       "      <td>0.000000e+00</td>\n",
       "      <td>0.000002</td>\n",
       "      <td>0.000030</td>\n",
       "      <td>1.076814e-05</td>\n",
       "      <td>0.000124</td>\n",
       "      <td>4.166667e-03</td>\n",
       "    </tr>\n",
       "  </tbody>\n",
       "</table>\n",
       "</div>"
      ],
      "text/plain": [
       "                       2        3x + 1  x^2 + 2x + 4  x^3 + 3x^2 - 3x + 5  \\\n",
       "Trapeze             20.0  1.000000e+01    123.333335           300.000005   \n",
       "Error3               0.0  1.776357e-14      0.000002             0.000005   \n",
       "Theoretical_error3   0.0  0.000000e+00      0.000002             0.000030   \n",
       "\n",
       "                    sin3x + cos2x     exp^(x)  2*x^5 + 3 * x  \n",
       "Trapeze             -5.440209e-01  148.406434  -2.138734e-12  \n",
       "Error3               1.813404e-07    0.000012   2.138734e-12  \n",
       "Theoretical_error3   1.076814e-05    0.000124   4.166667e-03  "
      ]
     },
     "execution_count": 85,
     "metadata": {},
     "output_type": "execute_result"
    }
   ],
   "source": [
    "value0_3 = compoud(polynom0, segments, qvTrapeze)\n",
    "value1_3 = compoud(polynom1, segments, qvTrapeze)\n",
    "value2_3 = compoud(polynom2, segments, qvTrapeze)\n",
    "value3_3 = compoud(polynom3, segments, qvTrapeze)\n",
    "value4_3 = compoud(func, segments, qvTrapeze)\n",
    "value6_3 = compoud(func2, segments, qvTrapeze)\n",
    "value7_3 = compoud(polynom5, segments, qvTrapeze)\n",
    "answer0 = np.array([value0_3, value1_3, value2_3, value3_3, value4_3, value6_3, value7_3])\n",
    "theoretical_error = [(right - left)**3 / (12 * m**2) * max_d2_p0,\n",
    "                     (right - left)**3 / (12 * m**2) * max_d2_p1,\n",
    "                     (right - left)**3 / (12 * m**2) * max_d2_p2,\n",
    "                     (right - left)**3 / (12 * m**2) * max_d2_p3,\n",
    "                     (right - left)**3 / (12 * m**2) * max_d2_f,\n",
    "                     (right - left)**3 / (12 * m**2) * max_d2_f2,\n",
    "                     (right - left)**3 / (12 * m**2) * max_d2_p5]\n",
    "df3 = pd.DataFrame(np.array([answer0, np.abs(answer0 - correctAnswer), theoretical_error]),\n",
    "                   columns = function,\n",
    "                   index = ['Trapeze', 'Error3', 'Theoretical_error3'])\n",
    "df3"
   ]
  },
  {
   "cell_type": "markdown",
   "id": "34780db9",
   "metadata": {},
   "source": [
    "### Составная квадратурная формула Симпсона"
   ]
  },
  {
   "cell_type": "code",
   "execution_count": 86,
   "id": "0d3414b7",
   "metadata": {},
   "outputs": [
    {
     "data": {
      "text/html": [
       "<div>\n",
       "<style scoped>\n",
       "    .dataframe tbody tr th:only-of-type {\n",
       "        vertical-align: middle;\n",
       "    }\n",
       "\n",
       "    .dataframe tbody tr th {\n",
       "        vertical-align: top;\n",
       "    }\n",
       "\n",
       "    .dataframe thead th {\n",
       "        text-align: right;\n",
       "    }\n",
       "</style>\n",
       "<table border=\"1\" class=\"dataframe\">\n",
       "  <thead>\n",
       "    <tr style=\"text-align: right;\">\n",
       "      <th></th>\n",
       "      <th>2</th>\n",
       "      <th>3x + 1</th>\n",
       "      <th>x^2 + 2x + 4</th>\n",
       "      <th>x^3 + 3x^2 - 3x + 5</th>\n",
       "      <th>sin3x + cos2x</th>\n",
       "      <th>exp^(x)</th>\n",
       "      <th>2*x^5 + 3 * x</th>\n",
       "    </tr>\n",
       "  </thead>\n",
       "  <tbody>\n",
       "    <tr>\n",
       "      <th>Simpson</th>\n",
       "      <td>20.0</td>\n",
       "      <td>1.000000e+01</td>\n",
       "      <td>1.233333e+02</td>\n",
       "      <td>3.000000e+02</td>\n",
       "      <td>-5.440211e-01</td>\n",
       "      <td>1.484064e+02</td>\n",
       "      <td>-1.478906e-11</td>\n",
       "    </tr>\n",
       "    <tr>\n",
       "      <th>Error4</th>\n",
       "      <td>0.0</td>\n",
       "      <td>1.421085e-14</td>\n",
       "      <td>2.273737e-13</td>\n",
       "      <td>3.410605e-13</td>\n",
       "      <td>7.660539e-15</td>\n",
       "      <td>5.684342e-14</td>\n",
       "      <td>1.478906e-11</td>\n",
       "    </tr>\n",
       "    <tr>\n",
       "      <th>Theoretical_error4</th>\n",
       "      <td>0.0</td>\n",
       "      <td>0.000000e+00</td>\n",
       "      <td>0.000000e+00</td>\n",
       "      <td>0.000000e+00</td>\n",
       "      <td>3.100795e-13</td>\n",
       "      <td>5.153235e-13</td>\n",
       "      <td>4.166667e-12</td>\n",
       "    </tr>\n",
       "  </tbody>\n",
       "</table>\n",
       "</div>"
      ],
      "text/plain": [
       "                       2        3x + 1  x^2 + 2x + 4  x^3 + 3x^2 - 3x + 5  \\\n",
       "Simpson             20.0  1.000000e+01  1.233333e+02         3.000000e+02   \n",
       "Error4               0.0  1.421085e-14  2.273737e-13         3.410605e-13   \n",
       "Theoretical_error4   0.0  0.000000e+00  0.000000e+00         0.000000e+00   \n",
       "\n",
       "                    sin3x + cos2x       exp^(x)  2*x^5 + 3 * x  \n",
       "Simpson             -5.440211e-01  1.484064e+02  -1.478906e-11  \n",
       "Error4               7.660539e-15  5.684342e-14   1.478906e-11  \n",
       "Theoretical_error4   3.100795e-13  5.153235e-13   4.166667e-12  "
      ]
     },
     "execution_count": 86,
     "metadata": {},
     "output_type": "execute_result"
    }
   ],
   "source": [
    "value0_4 = compoud(polynom0, segments, qvSimpson)\n",
    "value1_4 = compoud(polynom1, segments, qvSimpson)\n",
    "value2_4 = compoud(polynom2, segments, qvSimpson)\n",
    "value3_4 = compoud(polynom3, segments, qvSimpson)\n",
    "value4_4 = compoud(func, segments, qvSimpson)\n",
    "value6_4 = compoud(func2, segments, qvSimpson)\n",
    "value7_4 = compoud(polynom5, segments, qvSimpson)\n",
    "answer0 = np.array([value0_4, value1_4, value2_4, value3_4, value4_4, value6_4, value7_4])\n",
    "theoretical_error = [(right - left)**5 / (2880 * m**4) * max_d4_p0,\n",
    "                     (right - left)**5 / (2880 * m**4) * max_d4_p1,\n",
    "                     (right - left)**5 / (2880 * m**4) * max_d4_p2,\n",
    "                     (right - left)**5 / (2880 * m**4) * max_d4_p3,\n",
    "                     (right - left)**5 / (2880 * m**4) * max_d4_f,\n",
    "                     (right - left)**5 / (2880 * m**4) * max_d4_f2, \n",
    "                     (right - left)**5 / (2880 * m**4) * max_d4_p5]\n",
    "df4 = pd.DataFrame(np.array([answer0, np.abs(answer0 - correctAnswer), theoretical_error]),\n",
    "                   columns = function,\n",
    "                   index = ['Simpson', 'Error4', 'Theoretical_error4'])\n",
    "df4"
   ]
  },
  {
   "cell_type": "code",
   "execution_count": 87,
   "id": "eefd2792",
   "metadata": {},
   "outputs": [
    {
     "data": {
      "text/html": [
       "<div>\n",
       "<style scoped>\n",
       "    .dataframe tbody tr th:only-of-type {\n",
       "        vertical-align: middle;\n",
       "    }\n",
       "\n",
       "    .dataframe tbody tr th {\n",
       "        vertical-align: top;\n",
       "    }\n",
       "\n",
       "    .dataframe thead th {\n",
       "        text-align: right;\n",
       "    }\n",
       "</style>\n",
       "<table border=\"1\" class=\"dataframe\">\n",
       "  <thead>\n",
       "    <tr style=\"text-align: right;\">\n",
       "      <th></th>\n",
       "      <th>2</th>\n",
       "      <th>3x + 1</th>\n",
       "      <th>x^2 + 2x + 4</th>\n",
       "      <th>x^3 + 3x^2 - 3x + 5</th>\n",
       "      <th>sin3x + cos2x</th>\n",
       "      <th>exp^(x)</th>\n",
       "      <th>2*x^5 + 3 * x</th>\n",
       "    </tr>\n",
       "  </thead>\n",
       "  <tbody>\n",
       "    <tr>\n",
       "      <th>LeftRectangle</th>\n",
       "      <td>20.0</td>\n",
       "      <td>9.985000e+00</td>\n",
       "      <td>1.233233e+02</td>\n",
       "      <td>2.998900e+02</td>\n",
       "      <td>-5.446712e-01</td>\n",
       "      <td>1.483322e+02</td>\n",
       "      <td>-6.265000e+00</td>\n",
       "    </tr>\n",
       "    <tr>\n",
       "      <th>Error0</th>\n",
       "      <td>0.0</td>\n",
       "      <td>1.500000e-02</td>\n",
       "      <td>9.998333e-03</td>\n",
       "      <td>1.099950e-01</td>\n",
       "      <td>6.501065e-04</td>\n",
       "      <td>7.419084e-02</td>\n",
       "      <td>6.265000e+00</td>\n",
       "    </tr>\n",
       "    <tr>\n",
       "      <th>Theoretical_error0</th>\n",
       "      <td>0.0</td>\n",
       "      <td>1.500000e-02</td>\n",
       "      <td>6.000000e-02</td>\n",
       "      <td>5.100000e-01</td>\n",
       "      <td>2.394522e-02</td>\n",
       "      <td>7.420658e-01</td>\n",
       "      <td>3.126500e+01</td>\n",
       "    </tr>\n",
       "    <tr>\n",
       "      <th>RightRectangle</th>\n",
       "      <td>20.0</td>\n",
       "      <td>1.001500e+01</td>\n",
       "      <td>1.233433e+02</td>\n",
       "      <td>3.001100e+02</td>\n",
       "      <td>-5.433706e-01</td>\n",
       "      <td>1.484806e+02</td>\n",
       "      <td>6.265000e+00</td>\n",
       "    </tr>\n",
       "    <tr>\n",
       "      <th>Error1</th>\n",
       "      <td>0.0</td>\n",
       "      <td>1.500000e-02</td>\n",
       "      <td>1.000167e-02</td>\n",
       "      <td>1.100050e-01</td>\n",
       "      <td>6.504692e-04</td>\n",
       "      <td>7.421558e-02</td>\n",
       "      <td>6.265000e+00</td>\n",
       "    </tr>\n",
       "    <tr>\n",
       "      <th>Theoretical_error1</th>\n",
       "      <td>0.0</td>\n",
       "      <td>1.500000e-02</td>\n",
       "      <td>6.000000e-02</td>\n",
       "      <td>5.100000e-01</td>\n",
       "      <td>2.394522e-02</td>\n",
       "      <td>7.420658e-01</td>\n",
       "      <td>3.126500e+01</td>\n",
       "    </tr>\n",
       "    <tr>\n",
       "      <th>MiddleRectangle</th>\n",
       "      <td>20.0</td>\n",
       "      <td>1.000000e+01</td>\n",
       "      <td>1.233333e+02</td>\n",
       "      <td>3.000000e+02</td>\n",
       "      <td>-5.440212e-01</td>\n",
       "      <td>1.484064e+02</td>\n",
       "      <td>-2.780887e-12</td>\n",
       "    </tr>\n",
       "    <tr>\n",
       "      <th>Error2</th>\n",
       "      <td>0.0</td>\n",
       "      <td>1.776357e-14</td>\n",
       "      <td>8.333334e-07</td>\n",
       "      <td>2.500000e-06</td>\n",
       "      <td>9.067020e-08</td>\n",
       "      <td>6.183601e-06</td>\n",
       "      <td>2.780887e-12</td>\n",
       "    </tr>\n",
       "    <tr>\n",
       "      <th>Theoretical_error2</th>\n",
       "      <td>0.0</td>\n",
       "      <td>0.000000e+00</td>\n",
       "      <td>8.333333e-07</td>\n",
       "      <td>1.500000e-05</td>\n",
       "      <td>5.384071e-06</td>\n",
       "      <td>6.183882e-05</td>\n",
       "      <td>2.083333e-03</td>\n",
       "    </tr>\n",
       "    <tr>\n",
       "      <th>Trapeze</th>\n",
       "      <td>20.0</td>\n",
       "      <td>1.000000e+01</td>\n",
       "      <td>1.233333e+02</td>\n",
       "      <td>3.000000e+02</td>\n",
       "      <td>-5.440209e-01</td>\n",
       "      <td>1.484064e+02</td>\n",
       "      <td>-2.138734e-12</td>\n",
       "    </tr>\n",
       "    <tr>\n",
       "      <th>Error3</th>\n",
       "      <td>0.0</td>\n",
       "      <td>1.776357e-14</td>\n",
       "      <td>1.666667e-06</td>\n",
       "      <td>5.000000e-06</td>\n",
       "      <td>1.813404e-07</td>\n",
       "      <td>1.236720e-05</td>\n",
       "      <td>2.138734e-12</td>\n",
       "    </tr>\n",
       "    <tr>\n",
       "      <th>Theoretical_error3</th>\n",
       "      <td>0.0</td>\n",
       "      <td>0.000000e+00</td>\n",
       "      <td>1.666667e-06</td>\n",
       "      <td>3.000000e-05</td>\n",
       "      <td>1.076814e-05</td>\n",
       "      <td>1.236776e-04</td>\n",
       "      <td>4.166667e-03</td>\n",
       "    </tr>\n",
       "    <tr>\n",
       "      <th>Simpson</th>\n",
       "      <td>20.0</td>\n",
       "      <td>1.000000e+01</td>\n",
       "      <td>1.233333e+02</td>\n",
       "      <td>3.000000e+02</td>\n",
       "      <td>-5.440211e-01</td>\n",
       "      <td>1.484064e+02</td>\n",
       "      <td>-1.478906e-11</td>\n",
       "    </tr>\n",
       "    <tr>\n",
       "      <th>Error4</th>\n",
       "      <td>0.0</td>\n",
       "      <td>1.421085e-14</td>\n",
       "      <td>2.273737e-13</td>\n",
       "      <td>3.410605e-13</td>\n",
       "      <td>7.660539e-15</td>\n",
       "      <td>5.684342e-14</td>\n",
       "      <td>1.478906e-11</td>\n",
       "    </tr>\n",
       "    <tr>\n",
       "      <th>Theoretical_error4</th>\n",
       "      <td>0.0</td>\n",
       "      <td>0.000000e+00</td>\n",
       "      <td>0.000000e+00</td>\n",
       "      <td>0.000000e+00</td>\n",
       "      <td>3.100795e-13</td>\n",
       "      <td>5.153235e-13</td>\n",
       "      <td>4.166667e-12</td>\n",
       "    </tr>\n",
       "  </tbody>\n",
       "</table>\n",
       "</div>"
      ],
      "text/plain": [
       "                       2        3x + 1  x^2 + 2x + 4  x^3 + 3x^2 - 3x + 5  \\\n",
       "LeftRectangle       20.0  9.985000e+00  1.233233e+02         2.998900e+02   \n",
       "Error0               0.0  1.500000e-02  9.998333e-03         1.099950e-01   \n",
       "Theoretical_error0   0.0  1.500000e-02  6.000000e-02         5.100000e-01   \n",
       "RightRectangle      20.0  1.001500e+01  1.233433e+02         3.001100e+02   \n",
       "Error1               0.0  1.500000e-02  1.000167e-02         1.100050e-01   \n",
       "Theoretical_error1   0.0  1.500000e-02  6.000000e-02         5.100000e-01   \n",
       "MiddleRectangle     20.0  1.000000e+01  1.233333e+02         3.000000e+02   \n",
       "Error2               0.0  1.776357e-14  8.333334e-07         2.500000e-06   \n",
       "Theoretical_error2   0.0  0.000000e+00  8.333333e-07         1.500000e-05   \n",
       "Trapeze             20.0  1.000000e+01  1.233333e+02         3.000000e+02   \n",
       "Error3               0.0  1.776357e-14  1.666667e-06         5.000000e-06   \n",
       "Theoretical_error3   0.0  0.000000e+00  1.666667e-06         3.000000e-05   \n",
       "Simpson             20.0  1.000000e+01  1.233333e+02         3.000000e+02   \n",
       "Error4               0.0  1.421085e-14  2.273737e-13         3.410605e-13   \n",
       "Theoretical_error4   0.0  0.000000e+00  0.000000e+00         0.000000e+00   \n",
       "\n",
       "                    sin3x + cos2x       exp^(x)  2*x^5 + 3 * x  \n",
       "LeftRectangle       -5.446712e-01  1.483322e+02  -6.265000e+00  \n",
       "Error0               6.501065e-04  7.419084e-02   6.265000e+00  \n",
       "Theoretical_error0   2.394522e-02  7.420658e-01   3.126500e+01  \n",
       "RightRectangle      -5.433706e-01  1.484806e+02   6.265000e+00  \n",
       "Error1               6.504692e-04  7.421558e-02   6.265000e+00  \n",
       "Theoretical_error1   2.394522e-02  7.420658e-01   3.126500e+01  \n",
       "MiddleRectangle     -5.440212e-01  1.484064e+02  -2.780887e-12  \n",
       "Error2               9.067020e-08  6.183601e-06   2.780887e-12  \n",
       "Theoretical_error2   5.384071e-06  6.183882e-05   2.083333e-03  \n",
       "Trapeze             -5.440209e-01  1.484064e+02  -2.138734e-12  \n",
       "Error3               1.813404e-07  1.236720e-05   2.138734e-12  \n",
       "Theoretical_error3   1.076814e-05  1.236776e-04   4.166667e-03  \n",
       "Simpson             -5.440211e-01  1.484064e+02  -1.478906e-11  \n",
       "Error4               7.660539e-15  5.684342e-14   1.478906e-11  \n",
       "Theoretical_error4   3.100795e-13  5.153235e-13   4.166667e-12  "
      ]
     },
     "execution_count": 87,
     "metadata": {},
     "output_type": "execute_result"
    }
   ],
   "source": [
    "dfr1 = pd.concat([df0, df1, df2, df3, df4])\n",
    "dfr1"
   ]
  },
  {
   "cell_type": "markdown",
   "id": "410895b9",
   "metadata": {},
   "source": [
    "## Задание 4.3"
   ]
  },
  {
   "cell_type": "code",
   "execution_count": 88,
   "id": "cfb307e9",
   "metadata": {},
   "outputs": [
    {
     "name": "stdout",
     "output_type": "stream",
     "text": [
      "10000\n"
     ]
    }
   ],
   "source": [
    "m = int(input())"
   ]
  },
  {
   "cell_type": "code",
   "execution_count": 89,
   "id": "618cfbe3",
   "metadata": {},
   "outputs": [
    {
     "name": "stdout",
     "output_type": "stream",
     "text": [
      "2\n"
     ]
    }
   ],
   "source": [
    "l = int(input())"
   ]
  },
  {
   "cell_type": "markdown",
   "id": "dd0c1aca",
   "metadata": {},
   "source": [
    "### Формула Рунге"
   ]
  },
  {
   "cell_type": "markdown",
   "id": "694a3ca7",
   "metadata": {},
   "source": [
    "$\\overline{J} = \\frac{l^r J(\\frac{h}{l}) - J(h)}{l^r - 1}$"
   ]
  },
  {
   "cell_type": "markdown",
   "id": "d632bc53",
   "metadata": {},
   "source": [
    "### Функция для вычисления составной квадратурной формулы с формулой Рунге"
   ]
  },
  {
   "cell_type": "code",
   "execution_count": 90,
   "id": "150c35c0",
   "metadata": {},
   "outputs": [],
   "source": [
    "def compoud_with_runge(func, m, l, qv, r):\n",
    "    global left, right\n",
    "    h = (right - left) / m\n",
    "    segments = [] \n",
    "    for n in range(m):\n",
    "        segments.append((left + n*h, left + (n + 1)*h))\n",
    "    j = compoud(func, segments, qv) # J(h)\n",
    "    h1 = (right - left) / (m*l)\n",
    "    segments1 = [] \n",
    "    for n in range(int(m * l)):\n",
    "        segments1.append((left + n*h1, left + (n + 1)*h1))\n",
    "    jl = compoud(func, segments1, qv) # J(h / l)\n",
    "    j1 = (np.power(l, r) * jl - j) / (np.power(l, r) - 1)\n",
    "    return j1"
   ]
  },
  {
   "cell_type": "markdown",
   "id": "cc66a8ae",
   "metadata": {},
   "source": [
    "### Составная квадратурная формула левого прямоугольника с использованием формулы Рунге"
   ]
  },
  {
   "cell_type": "code",
   "execution_count": 91,
   "id": "edd93a6a",
   "metadata": {},
   "outputs": [
    {
     "data": {
      "text/html": [
       "<div>\n",
       "<style scoped>\n",
       "    .dataframe tbody tr th:only-of-type {\n",
       "        vertical-align: middle;\n",
       "    }\n",
       "\n",
       "    .dataframe tbody tr th {\n",
       "        vertical-align: top;\n",
       "    }\n",
       "\n",
       "    .dataframe thead th {\n",
       "        text-align: right;\n",
       "    }\n",
       "</style>\n",
       "<table border=\"1\" class=\"dataframe\">\n",
       "  <thead>\n",
       "    <tr style=\"text-align: right;\">\n",
       "      <th></th>\n",
       "      <th>2</th>\n",
       "      <th>3x + 1</th>\n",
       "      <th>x^2 + 2x + 4</th>\n",
       "      <th>x^3 + 3x^2 - 3x + 5</th>\n",
       "      <th>sin3x + cos2x</th>\n",
       "      <th>exp^(x)</th>\n",
       "      <th>2*x^5 + 3 * x</th>\n",
       "    </tr>\n",
       "  </thead>\n",
       "  <tbody>\n",
       "    <tr>\n",
       "      <th>LeftRectangle</th>\n",
       "      <td>20.0</td>\n",
       "      <td>1.000000e+01</td>\n",
       "      <td>1.233333e+02</td>\n",
       "      <td>299.999997</td>\n",
       "      <td>-5.440212e-01</td>\n",
       "      <td>148.406415</td>\n",
       "      <td>4.614975e-11</td>\n",
       "    </tr>\n",
       "    <tr>\n",
       "      <th>Error0</th>\n",
       "      <td>0.0</td>\n",
       "      <td>5.861978e-14</td>\n",
       "      <td>8.333337e-07</td>\n",
       "      <td>0.000003</td>\n",
       "      <td>9.067020e-08</td>\n",
       "      <td>0.000006</td>\n",
       "      <td>4.614975e-11</td>\n",
       "    </tr>\n",
       "    <tr>\n",
       "      <th>Theoretical_error0</th>\n",
       "      <td>0.0</td>\n",
       "      <td>7.500000e-03</td>\n",
       "      <td>3.000000e-02</td>\n",
       "      <td>0.255000</td>\n",
       "      <td>1.197261e-02</td>\n",
       "      <td>0.371033</td>\n",
       "      <td>1.563250e+01</td>\n",
       "    </tr>\n",
       "  </tbody>\n",
       "</table>\n",
       "</div>"
      ],
      "text/plain": [
       "                       2        3x + 1  x^2 + 2x + 4  x^3 + 3x^2 - 3x + 5  \\\n",
       "LeftRectangle       20.0  1.000000e+01  1.233333e+02           299.999997   \n",
       "Error0               0.0  5.861978e-14  8.333337e-07             0.000003   \n",
       "Theoretical_error0   0.0  7.500000e-03  3.000000e-02             0.255000   \n",
       "\n",
       "                    sin3x + cos2x     exp^(x)  2*x^5 + 3 * x  \n",
       "LeftRectangle       -5.440212e-01  148.406415   4.614975e-11  \n",
       "Error0               9.067020e-08    0.000006   4.614975e-11  \n",
       "Theoretical_error0   1.197261e-02    0.371033   1.563250e+01  "
      ]
     },
     "execution_count": 91,
     "metadata": {},
     "output_type": "execute_result"
    }
   ],
   "source": [
    "value0 = compoud_with_runge(polynom0, m, l, qvLeftRectangle, 1)\n",
    "value1 = compoud_with_runge(polynom1, m, l, qvLeftRectangle, 1)\n",
    "value2 = compoud_with_runge(polynom2, m, l, qvLeftRectangle, 1)\n",
    "value3 = compoud_with_runge(polynom3, m, l, qvLeftRectangle, 1)\n",
    "value4 = compoud_with_runge(func, m, l, qvLeftRectangle, 1)\n",
    "value6 = compoud_with_runge(func2, m, l, qvLeftRectangle, 1)\n",
    "value7 = compoud_with_runge(polynom5, m, l, qvLeftRectangle, 1)\n",
    "answer0 = np.array([value0, value1, value2, value3, value4, value6, value7])\n",
    "theoretical_error = [(right - left)**2 / (2 * m * l)* max_d1_p0,\n",
    "                     (right - left)**2 / (2 * m * l) * max_d1_p1,\n",
    "                     (right - left)**2 / (2 * m * l) * max_d1_p2,\n",
    "                     (right - left)**2 / (2 * m * l) * max_d1_p3,\n",
    "                     (right - left)**2 / (2 * m * l) * max_d1_f,\n",
    "                     (right - left)**2 / (2 * m * l) * max_d1_f2,\n",
    "                     (right - left)**2 / (2 * m * l) * max_d1_p5,]\n",
    "\n",
    "df0 = pd.DataFrame(np.array([answer0, np.abs(answer0 - correctAnswer), theoretical_error]),\n",
    "                   columns = function,\n",
    "                   index = ['LeftRectangle', 'Error0', 'Theoretical_error0'])\n",
    "df0"
   ]
  },
  {
   "cell_type": "markdown",
   "id": "1f950395",
   "metadata": {},
   "source": [
    "### Составная квадратурная формула правого прямоугольника с использованием формулы Рунге"
   ]
  },
  {
   "cell_type": "code",
   "execution_count": 92,
   "id": "c55446fb",
   "metadata": {},
   "outputs": [
    {
     "data": {
      "text/html": [
       "<div>\n",
       "<style scoped>\n",
       "    .dataframe tbody tr th:only-of-type {\n",
       "        vertical-align: middle;\n",
       "    }\n",
       "\n",
       "    .dataframe tbody tr th {\n",
       "        vertical-align: top;\n",
       "    }\n",
       "\n",
       "    .dataframe thead th {\n",
       "        text-align: right;\n",
       "    }\n",
       "</style>\n",
       "<table border=\"1\" class=\"dataframe\">\n",
       "  <thead>\n",
       "    <tr style=\"text-align: right;\">\n",
       "      <th></th>\n",
       "      <th>2</th>\n",
       "      <th>3x + 1</th>\n",
       "      <th>x^2 + 2x + 4</th>\n",
       "      <th>x^3 + 3x^2 - 3x + 5</th>\n",
       "      <th>sin3x + cos2x</th>\n",
       "      <th>exp^(x)</th>\n",
       "      <th>2*x^5 + 3 * x</th>\n",
       "    </tr>\n",
       "  </thead>\n",
       "  <tbody>\n",
       "    <tr>\n",
       "      <th>RightRectangle</th>\n",
       "      <td>20.0</td>\n",
       "      <td>1.000000e+01</td>\n",
       "      <td>1.233333e+02</td>\n",
       "      <td>299.999997</td>\n",
       "      <td>-5.440212e-01</td>\n",
       "      <td>148.406415</td>\n",
       "      <td>2.962519e-11</td>\n",
       "    </tr>\n",
       "    <tr>\n",
       "      <th>Error1</th>\n",
       "      <td>0.0</td>\n",
       "      <td>8.171241e-14</td>\n",
       "      <td>8.333337e-07</td>\n",
       "      <td>0.000003</td>\n",
       "      <td>9.067020e-08</td>\n",
       "      <td>0.000006</td>\n",
       "      <td>2.962519e-11</td>\n",
       "    </tr>\n",
       "    <tr>\n",
       "      <th>Theoretical_error1</th>\n",
       "      <td>0.0</td>\n",
       "      <td>7.500000e-03</td>\n",
       "      <td>3.000000e-02</td>\n",
       "      <td>0.255000</td>\n",
       "      <td>1.197261e-02</td>\n",
       "      <td>0.371033</td>\n",
       "      <td>1.563250e+01</td>\n",
       "    </tr>\n",
       "  </tbody>\n",
       "</table>\n",
       "</div>"
      ],
      "text/plain": [
       "                       2        3x + 1  x^2 + 2x + 4  x^3 + 3x^2 - 3x + 5  \\\n",
       "RightRectangle      20.0  1.000000e+01  1.233333e+02           299.999997   \n",
       "Error1               0.0  8.171241e-14  8.333337e-07             0.000003   \n",
       "Theoretical_error1   0.0  7.500000e-03  3.000000e-02             0.255000   \n",
       "\n",
       "                    sin3x + cos2x     exp^(x)  2*x^5 + 3 * x  \n",
       "RightRectangle      -5.440212e-01  148.406415   2.962519e-11  \n",
       "Error1               9.067020e-08    0.000006   2.962519e-11  \n",
       "Theoretical_error1   1.197261e-02    0.371033   1.563250e+01  "
      ]
     },
     "execution_count": 92,
     "metadata": {},
     "output_type": "execute_result"
    }
   ],
   "source": [
    "value0_1 = compoud_with_runge(polynom0, m, l, qvRightRectangle, 1)\n",
    "value1_1 = compoud_with_runge(polynom1, m, l, qvRightRectangle, 1)\n",
    "value2_1 = compoud_with_runge(polynom2, m, l, qvRightRectangle, 1)\n",
    "value3_1 = compoud_with_runge(polynom3, m, l, qvRightRectangle, 1)\n",
    "value4_1 = compoud_with_runge(func, m, l, qvRightRectangle, 1)\n",
    "value6_1 = compoud_with_runge(func2, m, l, qvRightRectangle, 1)\n",
    "value7_1 = compoud_with_runge(polynom5, m, l, qvRightRectangle, 1)\n",
    "answer0 = np.array([value0_1, value1_1, value2_1, value3_1, value4_1, value6_1, value7_1])\n",
    "theoretical_error = [(right - left)**2 / (2 * m * l) * max_d1_p0,\n",
    "                     (right - left)**2 / (2 * m * l) * max_d1_p1,\n",
    "                     (right - left)**2 / (2 * m * l) * max_d1_p2,\n",
    "                     (right - left)**2 / (2 * m * l) * max_d1_p3,\n",
    "                     (right - left)**2 / (2 * m * l) * max_d1_f,\n",
    "                     (right - left)**2 / (2 * m * l) * max_d1_f2,\n",
    "                     (right - left)**2 / (2 * m * l) * max_d1_p5,\n",
    "                    ]\n",
    "\n",
    "df1 = pd.DataFrame(np.array([answer0, np.abs(answer0 - correctAnswer), theoretical_error]),\n",
    "                   columns = function,\n",
    "                   index = ['RightRectangle', 'Error1', 'Theoretical_error1'])\n",
    "df1"
   ]
  },
  {
   "cell_type": "markdown",
   "id": "3f5b03e3",
   "metadata": {},
   "source": [
    "### Составная квадратурная формула среднего прямоугольника с использованием формулы Рунге"
   ]
  },
  {
   "cell_type": "code",
   "execution_count": 93,
   "id": "60f0e111",
   "metadata": {},
   "outputs": [
    {
     "data": {
      "text/html": [
       "<div>\n",
       "<style scoped>\n",
       "    .dataframe tbody tr th:only-of-type {\n",
       "        vertical-align: middle;\n",
       "    }\n",
       "\n",
       "    .dataframe tbody tr th {\n",
       "        vertical-align: top;\n",
       "    }\n",
       "\n",
       "    .dataframe thead th {\n",
       "        text-align: right;\n",
       "    }\n",
       "</style>\n",
       "<table border=\"1\" class=\"dataframe\">\n",
       "  <thead>\n",
       "    <tr style=\"text-align: right;\">\n",
       "      <th></th>\n",
       "      <th>2</th>\n",
       "      <th>3x + 1</th>\n",
       "      <th>x^2 + 2x + 4</th>\n",
       "      <th>x^3 + 3x^2 - 3x + 5</th>\n",
       "      <th>sin3x + cos2x</th>\n",
       "      <th>exp^(x)</th>\n",
       "      <th>2*x^5 + 3 * x</th>\n",
       "    </tr>\n",
       "  </thead>\n",
       "  <tbody>\n",
       "    <tr>\n",
       "      <th>MiddleRectangle</th>\n",
       "      <td>20.0</td>\n",
       "      <td>1.000000e+01</td>\n",
       "      <td>1.233333e+02</td>\n",
       "      <td>3.000000e+02</td>\n",
       "      <td>-5.440211e-01</td>\n",
       "      <td>1.484064e+02</td>\n",
       "      <td>-2.977737e-11</td>\n",
       "    </tr>\n",
       "    <tr>\n",
       "      <th>Error2</th>\n",
       "      <td>0.0</td>\n",
       "      <td>5.329071e-14</td>\n",
       "      <td>5.542233e-13</td>\n",
       "      <td>8.526513e-13</td>\n",
       "      <td>1.498801e-14</td>\n",
       "      <td>2.273737e-13</td>\n",
       "      <td>2.977737e-11</td>\n",
       "    </tr>\n",
       "    <tr>\n",
       "      <th>Theoretical_error2</th>\n",
       "      <td>0.0</td>\n",
       "      <td>0.000000e+00</td>\n",
       "      <td>2.083333e-07</td>\n",
       "      <td>3.750000e-06</td>\n",
       "      <td>1.346018e-06</td>\n",
       "      <td>1.545970e-05</td>\n",
       "      <td>5.208333e-04</td>\n",
       "    </tr>\n",
       "  </tbody>\n",
       "</table>\n",
       "</div>"
      ],
      "text/plain": [
       "                       2        3x + 1  x^2 + 2x + 4  x^3 + 3x^2 - 3x + 5  \\\n",
       "MiddleRectangle     20.0  1.000000e+01  1.233333e+02         3.000000e+02   \n",
       "Error2               0.0  5.329071e-14  5.542233e-13         8.526513e-13   \n",
       "Theoretical_error2   0.0  0.000000e+00  2.083333e-07         3.750000e-06   \n",
       "\n",
       "                    sin3x + cos2x       exp^(x)  2*x^5 + 3 * x  \n",
       "MiddleRectangle     -5.440211e-01  1.484064e+02  -2.977737e-11  \n",
       "Error2               1.498801e-14  2.273737e-13   2.977737e-11  \n",
       "Theoretical_error2   1.346018e-06  1.545970e-05   5.208333e-04  "
      ]
     },
     "execution_count": 93,
     "metadata": {},
     "output_type": "execute_result"
    }
   ],
   "source": [
    "value0_2 = compoud_with_runge(polynom0, m, l, qvMiddleRectangle, 2)\n",
    "value1_2 = compoud_with_runge(polynom1, m, l, qvMiddleRectangle, 2)\n",
    "value2_2 = compoud_with_runge(polynom2, m, l, qvMiddleRectangle, 2)\n",
    "value3_2 = compoud_with_runge(polynom3, m, l, qvMiddleRectangle, 2)\n",
    "value4_2 = compoud_with_runge(func, m, l, qvMiddleRectangle, 2)\n",
    "value6_2 = compoud_with_runge(func2, m, l, qvMiddleRectangle, 2)\n",
    "value7_2 = compoud_with_runge(polynom5, m, l, qvMiddleRectangle, 2)\n",
    "answer0 = np.array([value0_2, value1_2, value2_2, value3_2, value4_2, value6_2, value7_2])\n",
    "theoretical_error = [(right - left)**3 / (24 * (m*l)**2) * max_d2_p0,\n",
    "                     (right - left)**3 / (24 * (m*l)**2) * max_d2_p1,\n",
    "                     (right - left)**3 / (24 * (m*l)**2) * max_d2_p2,\n",
    "                     (right - left)**3 / (24 * (m*l)**2) * max_d2_p3,\n",
    "                     (right - left)**3 / (24 * (m*l)**2) * max_d2_f,\n",
    "                     (right - left)**3 / (24 * (m*l)**2) * max_d2_f2,\n",
    "                     (right - left)**3 / (24 * (m*l)**2) * max_d2_p5]\n",
    "df2 = pd.DataFrame(np.array([answer0, np.abs(answer0 - correctAnswer), theoretical_error]),\n",
    "                   columns = function,\n",
    "                   index = ['MiddleRectangle', 'Error2', 'Theoretical_error2'])\n",
    "df2"
   ]
  },
  {
   "cell_type": "markdown",
   "id": "2986ddde",
   "metadata": {},
   "source": [
    "### Составная квадратурная формула трапеции с использованием формулы Рунге"
   ]
  },
  {
   "cell_type": "code",
   "execution_count": 94,
   "id": "b6ba37f5",
   "metadata": {},
   "outputs": [
    {
     "data": {
      "text/html": [
       "<div>\n",
       "<style scoped>\n",
       "    .dataframe tbody tr th:only-of-type {\n",
       "        vertical-align: middle;\n",
       "    }\n",
       "\n",
       "    .dataframe tbody tr th {\n",
       "        vertical-align: top;\n",
       "    }\n",
       "\n",
       "    .dataframe thead th {\n",
       "        text-align: right;\n",
       "    }\n",
       "</style>\n",
       "<table border=\"1\" class=\"dataframe\">\n",
       "  <thead>\n",
       "    <tr style=\"text-align: right;\">\n",
       "      <th></th>\n",
       "      <th>2</th>\n",
       "      <th>3x + 1</th>\n",
       "      <th>x^2 + 2x + 4</th>\n",
       "      <th>x^3 + 3x^2 - 3x + 5</th>\n",
       "      <th>sin3x + cos2x</th>\n",
       "      <th>exp^(x)</th>\n",
       "      <th>2*x^5 + 3 * x</th>\n",
       "    </tr>\n",
       "  </thead>\n",
       "  <tbody>\n",
       "    <tr>\n",
       "      <th>Trapeze</th>\n",
       "      <td>20.0</td>\n",
       "      <td>1.000000e+01</td>\n",
       "      <td>1.233333e+02</td>\n",
       "      <td>3.000000e+02</td>\n",
       "      <td>-5.440211e-01</td>\n",
       "      <td>1.484064e+02</td>\n",
       "      <td>7.753265e-11</td>\n",
       "    </tr>\n",
       "    <tr>\n",
       "      <th>Error3</th>\n",
       "      <td>0.0</td>\n",
       "      <td>5.861978e-14</td>\n",
       "      <td>7.815970e-13</td>\n",
       "      <td>6.252776e-13</td>\n",
       "      <td>1.021405e-14</td>\n",
       "      <td>2.842171e-14</td>\n",
       "      <td>7.753265e-11</td>\n",
       "    </tr>\n",
       "    <tr>\n",
       "      <th>Theoretical_error3</th>\n",
       "      <td>0.0</td>\n",
       "      <td>0.000000e+00</td>\n",
       "      <td>4.166667e-07</td>\n",
       "      <td>7.500000e-06</td>\n",
       "      <td>2.692035e-06</td>\n",
       "      <td>3.091941e-05</td>\n",
       "      <td>1.041667e-03</td>\n",
       "    </tr>\n",
       "  </tbody>\n",
       "</table>\n",
       "</div>"
      ],
      "text/plain": [
       "                       2        3x + 1  x^2 + 2x + 4  x^3 + 3x^2 - 3x + 5  \\\n",
       "Trapeze             20.0  1.000000e+01  1.233333e+02         3.000000e+02   \n",
       "Error3               0.0  5.861978e-14  7.815970e-13         6.252776e-13   \n",
       "Theoretical_error3   0.0  0.000000e+00  4.166667e-07         7.500000e-06   \n",
       "\n",
       "                    sin3x + cos2x       exp^(x)  2*x^5 + 3 * x  \n",
       "Trapeze             -5.440211e-01  1.484064e+02   7.753265e-11  \n",
       "Error3               1.021405e-14  2.842171e-14   7.753265e-11  \n",
       "Theoretical_error3   2.692035e-06  3.091941e-05   1.041667e-03  "
      ]
     },
     "execution_count": 94,
     "metadata": {},
     "output_type": "execute_result"
    }
   ],
   "source": [
    "value0_3 = compoud_with_runge(polynom0, m, l, qvTrapeze, 2)\n",
    "value1_3 = compoud_with_runge(polynom1, m, l, qvTrapeze, 2)\n",
    "value2_3 = compoud_with_runge(polynom2, m, l, qvTrapeze, 2)\n",
    "value3_3 = compoud_with_runge(polynom3, m, l, qvTrapeze, 2)\n",
    "value4_3 = compoud_with_runge(func, m, l, qvTrapeze, 2)\n",
    "value6_3 = compoud_with_runge(func2, m, l, qvTrapeze, 2)\n",
    "value7_3 = compoud_with_runge(polynom5, m, l, qvTrapeze, 2)\n",
    "answer0 = np.array([value0_3, value1_3, value2_3, value3_3, value4_3, value6_3, value7_3])\n",
    "theoretical_error = [(right - left)**3 / (12 * (m*l)**2) * max_d2_p0,\n",
    "                     (right - left)**3 / (12 * (m*l)**2) * max_d2_p1,\n",
    "                     (right - left)**3 / (12 * (m*l)**2) * max_d2_p2,\n",
    "                     (right - left)**3 / (12 * (m*l)**2) * max_d2_p3,\n",
    "                     (right - left)**3 / (12 * (m*l)**2) * max_d2_f,\n",
    "                     (right - left)**3 / (12 * (m*l)**2) * max_d2_f2,\n",
    "                     (right - left)**3 / (12 * (m*l)**2) * max_d2_p5]\n",
    "df3 = pd.DataFrame(np.array([answer0, np.abs(answer0 - correctAnswer), theoretical_error]),\n",
    "                   columns = function,\n",
    "                   index = ['Trapeze', 'Error3', 'Theoretical_error3'])\n",
    "df3"
   ]
  },
  {
   "cell_type": "markdown",
   "id": "43707ba8",
   "metadata": {},
   "source": [
    "### Составная квадратурная формула Симпсона с использованием формулы Рунге"
   ]
  },
  {
   "cell_type": "code",
   "execution_count": 95,
   "id": "3eeef54a",
   "metadata": {},
   "outputs": [
    {
     "data": {
      "text/html": [
       "<div>\n",
       "<style scoped>\n",
       "    .dataframe tbody tr th:only-of-type {\n",
       "        vertical-align: middle;\n",
       "    }\n",
       "\n",
       "    .dataframe tbody tr th {\n",
       "        vertical-align: top;\n",
       "    }\n",
       "\n",
       "    .dataframe thead th {\n",
       "        text-align: right;\n",
       "    }\n",
       "</style>\n",
       "<table border=\"1\" class=\"dataframe\">\n",
       "  <thead>\n",
       "    <tr style=\"text-align: right;\">\n",
       "      <th></th>\n",
       "      <th>2</th>\n",
       "      <th>3x + 1</th>\n",
       "      <th>x^2 + 2x + 4</th>\n",
       "      <th>x^3 + 3x^2 - 3x + 5</th>\n",
       "      <th>sin3x + cos2x</th>\n",
       "      <th>exp^(x)</th>\n",
       "      <th>2*x^5 + 3 * x</th>\n",
       "    </tr>\n",
       "  </thead>\n",
       "  <tbody>\n",
       "    <tr>\n",
       "      <th>Simpson</th>\n",
       "      <td>20.0</td>\n",
       "      <td>1.000000e+01</td>\n",
       "      <td>1.233333e+02</td>\n",
       "      <td>3.000000e+02</td>\n",
       "      <td>-5.440211e-01</td>\n",
       "      <td>1.484064e+02</td>\n",
       "      <td>-3.266898e-12</td>\n",
       "    </tr>\n",
       "    <tr>\n",
       "      <th>Error4</th>\n",
       "      <td>0.0</td>\n",
       "      <td>3.730349e-14</td>\n",
       "      <td>6.536993e-13</td>\n",
       "      <td>1.136868e-12</td>\n",
       "      <td>3.774758e-15</td>\n",
       "      <td>0.000000e+00</td>\n",
       "      <td>3.266898e-12</td>\n",
       "    </tr>\n",
       "    <tr>\n",
       "      <th>Theoretical_error4</th>\n",
       "      <td>0.0</td>\n",
       "      <td>0.000000e+00</td>\n",
       "      <td>0.000000e+00</td>\n",
       "      <td>0.000000e+00</td>\n",
       "      <td>1.937997e-14</td>\n",
       "      <td>3.220772e-14</td>\n",
       "      <td>2.604167e-13</td>\n",
       "    </tr>\n",
       "  </tbody>\n",
       "</table>\n",
       "</div>"
      ],
      "text/plain": [
       "                       2        3x + 1  x^2 + 2x + 4  x^3 + 3x^2 - 3x + 5  \\\n",
       "Simpson             20.0  1.000000e+01  1.233333e+02         3.000000e+02   \n",
       "Error4               0.0  3.730349e-14  6.536993e-13         1.136868e-12   \n",
       "Theoretical_error4   0.0  0.000000e+00  0.000000e+00         0.000000e+00   \n",
       "\n",
       "                    sin3x + cos2x       exp^(x)  2*x^5 + 3 * x  \n",
       "Simpson             -5.440211e-01  1.484064e+02  -3.266898e-12  \n",
       "Error4               3.774758e-15  0.000000e+00   3.266898e-12  \n",
       "Theoretical_error4   1.937997e-14  3.220772e-14   2.604167e-13  "
      ]
     },
     "execution_count": 95,
     "metadata": {},
     "output_type": "execute_result"
    }
   ],
   "source": [
    "value0_4 = compoud_with_runge(polynom0, m, l, qvSimpson, 4)\n",
    "value1_4 = compoud_with_runge(polynom1, m, l, qvSimpson, 4)\n",
    "value2_4 = compoud_with_runge(polynom2, m, l, qvSimpson, 4)\n",
    "value3_4 = compoud_with_runge(polynom3, m, l, qvSimpson, 4)\n",
    "value4_4 = compoud_with_runge(func, m, l, qvSimpson, 4)\n",
    "value6_4 = compoud_with_runge(func2, m, l, qvSimpson, 4)\n",
    "value7_4 = compoud_with_runge(polynom5, m, l, qvSimpson, 4)\n",
    "answer0 = np.array([value0_4, value1_4, value2_4, value3_4, value4_4, value6_4, value7_4])\n",
    "theoretical_error = [(right - left)**5 / (2880 * (m*l)**4) * max_d4_p0,\n",
    "                     (right - left)**5 / (2880 * (m*l)**4) * max_d4_p1,\n",
    "                     (right - left)**5 / (2880 * (m*l)**4) * max_d4_p2,\n",
    "                     (right - left)**5 / (2880 * (m*l)**4) * max_d4_p3,\n",
    "                     (right - left)**5 / (2880 * (m*l)**4) * max_d4_f,\n",
    "                     (right - left)**5 / (2880 * (m*l)**4) * max_d4_f2, \n",
    "                     (right - left)**5 / (2880 * (m*l)**4) * max_d4_p5]\n",
    "df4 = pd.DataFrame(np.array([answer0, np.abs(answer0 - correctAnswer), theoretical_error]),\n",
    "                   columns = function,\n",
    "                   index = ['Simpson', 'Error4', 'Theoretical_error4'])\n",
    "df4"
   ]
  },
  {
   "cell_type": "code",
   "execution_count": 96,
   "id": "ceb2689f",
   "metadata": {},
   "outputs": [
    {
     "data": {
      "text/html": [
       "<div>\n",
       "<style scoped>\n",
       "    .dataframe tbody tr th:only-of-type {\n",
       "        vertical-align: middle;\n",
       "    }\n",
       "\n",
       "    .dataframe tbody tr th {\n",
       "        vertical-align: top;\n",
       "    }\n",
       "\n",
       "    .dataframe thead th {\n",
       "        text-align: right;\n",
       "    }\n",
       "</style>\n",
       "<table border=\"1\" class=\"dataframe\">\n",
       "  <thead>\n",
       "    <tr style=\"text-align: right;\">\n",
       "      <th></th>\n",
       "      <th>2</th>\n",
       "      <th>3x + 1</th>\n",
       "      <th>x^2 + 2x + 4</th>\n",
       "      <th>x^3 + 3x^2 - 3x + 5</th>\n",
       "      <th>sin3x + cos2x</th>\n",
       "      <th>exp^(x)</th>\n",
       "      <th>2*x^5 + 3 * x</th>\n",
       "    </tr>\n",
       "  </thead>\n",
       "  <tbody>\n",
       "    <tr>\n",
       "      <th>LeftRectangle</th>\n",
       "      <td>20.0</td>\n",
       "      <td>1.000000e+01</td>\n",
       "      <td>1.233333e+02</td>\n",
       "      <td>3.000000e+02</td>\n",
       "      <td>-5.440212e-01</td>\n",
       "      <td>1.484064e+02</td>\n",
       "      <td>4.614975e-11</td>\n",
       "    </tr>\n",
       "    <tr>\n",
       "      <th>Error0</th>\n",
       "      <td>0.0</td>\n",
       "      <td>5.861978e-14</td>\n",
       "      <td>8.333337e-07</td>\n",
       "      <td>2.500002e-06</td>\n",
       "      <td>9.067020e-08</td>\n",
       "      <td>6.183601e-06</td>\n",
       "      <td>4.614975e-11</td>\n",
       "    </tr>\n",
       "    <tr>\n",
       "      <th>Theoretical_error0</th>\n",
       "      <td>0.0</td>\n",
       "      <td>7.500000e-03</td>\n",
       "      <td>3.000000e-02</td>\n",
       "      <td>2.550000e-01</td>\n",
       "      <td>1.197261e-02</td>\n",
       "      <td>3.710329e-01</td>\n",
       "      <td>1.563250e+01</td>\n",
       "    </tr>\n",
       "    <tr>\n",
       "      <th>RightRectangle</th>\n",
       "      <td>20.0</td>\n",
       "      <td>1.000000e+01</td>\n",
       "      <td>1.233333e+02</td>\n",
       "      <td>3.000000e+02</td>\n",
       "      <td>-5.440212e-01</td>\n",
       "      <td>1.484064e+02</td>\n",
       "      <td>2.962519e-11</td>\n",
       "    </tr>\n",
       "    <tr>\n",
       "      <th>Error1</th>\n",
       "      <td>0.0</td>\n",
       "      <td>8.171241e-14</td>\n",
       "      <td>8.333337e-07</td>\n",
       "      <td>2.500002e-06</td>\n",
       "      <td>9.067020e-08</td>\n",
       "      <td>6.183601e-06</td>\n",
       "      <td>2.962519e-11</td>\n",
       "    </tr>\n",
       "    <tr>\n",
       "      <th>Theoretical_error1</th>\n",
       "      <td>0.0</td>\n",
       "      <td>7.500000e-03</td>\n",
       "      <td>3.000000e-02</td>\n",
       "      <td>2.550000e-01</td>\n",
       "      <td>1.197261e-02</td>\n",
       "      <td>3.710329e-01</td>\n",
       "      <td>1.563250e+01</td>\n",
       "    </tr>\n",
       "    <tr>\n",
       "      <th>MiddleRectangle</th>\n",
       "      <td>20.0</td>\n",
       "      <td>1.000000e+01</td>\n",
       "      <td>1.233333e+02</td>\n",
       "      <td>3.000000e+02</td>\n",
       "      <td>-5.440211e-01</td>\n",
       "      <td>1.484064e+02</td>\n",
       "      <td>-2.977737e-11</td>\n",
       "    </tr>\n",
       "    <tr>\n",
       "      <th>Error2</th>\n",
       "      <td>0.0</td>\n",
       "      <td>5.329071e-14</td>\n",
       "      <td>5.542233e-13</td>\n",
       "      <td>8.526513e-13</td>\n",
       "      <td>1.498801e-14</td>\n",
       "      <td>2.273737e-13</td>\n",
       "      <td>2.977737e-11</td>\n",
       "    </tr>\n",
       "    <tr>\n",
       "      <th>Theoretical_error2</th>\n",
       "      <td>0.0</td>\n",
       "      <td>0.000000e+00</td>\n",
       "      <td>2.083333e-07</td>\n",
       "      <td>3.750000e-06</td>\n",
       "      <td>1.346018e-06</td>\n",
       "      <td>1.545970e-05</td>\n",
       "      <td>5.208333e-04</td>\n",
       "    </tr>\n",
       "    <tr>\n",
       "      <th>Trapeze</th>\n",
       "      <td>20.0</td>\n",
       "      <td>1.000000e+01</td>\n",
       "      <td>1.233333e+02</td>\n",
       "      <td>3.000000e+02</td>\n",
       "      <td>-5.440211e-01</td>\n",
       "      <td>1.484064e+02</td>\n",
       "      <td>7.753265e-11</td>\n",
       "    </tr>\n",
       "    <tr>\n",
       "      <th>Error3</th>\n",
       "      <td>0.0</td>\n",
       "      <td>5.861978e-14</td>\n",
       "      <td>7.815970e-13</td>\n",
       "      <td>6.252776e-13</td>\n",
       "      <td>1.021405e-14</td>\n",
       "      <td>2.842171e-14</td>\n",
       "      <td>7.753265e-11</td>\n",
       "    </tr>\n",
       "    <tr>\n",
       "      <th>Theoretical_error3</th>\n",
       "      <td>0.0</td>\n",
       "      <td>0.000000e+00</td>\n",
       "      <td>4.166667e-07</td>\n",
       "      <td>7.500000e-06</td>\n",
       "      <td>2.692035e-06</td>\n",
       "      <td>3.091941e-05</td>\n",
       "      <td>1.041667e-03</td>\n",
       "    </tr>\n",
       "    <tr>\n",
       "      <th>Simpson</th>\n",
       "      <td>20.0</td>\n",
       "      <td>1.000000e+01</td>\n",
       "      <td>1.233333e+02</td>\n",
       "      <td>3.000000e+02</td>\n",
       "      <td>-5.440211e-01</td>\n",
       "      <td>1.484064e+02</td>\n",
       "      <td>-3.266898e-12</td>\n",
       "    </tr>\n",
       "    <tr>\n",
       "      <th>Error4</th>\n",
       "      <td>0.0</td>\n",
       "      <td>3.730349e-14</td>\n",
       "      <td>6.536993e-13</td>\n",
       "      <td>1.136868e-12</td>\n",
       "      <td>3.774758e-15</td>\n",
       "      <td>0.000000e+00</td>\n",
       "      <td>3.266898e-12</td>\n",
       "    </tr>\n",
       "    <tr>\n",
       "      <th>Theoretical_error4</th>\n",
       "      <td>0.0</td>\n",
       "      <td>0.000000e+00</td>\n",
       "      <td>0.000000e+00</td>\n",
       "      <td>0.000000e+00</td>\n",
       "      <td>1.937997e-14</td>\n",
       "      <td>3.220772e-14</td>\n",
       "      <td>2.604167e-13</td>\n",
       "    </tr>\n",
       "  </tbody>\n",
       "</table>\n",
       "</div>"
      ],
      "text/plain": [
       "                       2        3x + 1  x^2 + 2x + 4  x^3 + 3x^2 - 3x + 5  \\\n",
       "LeftRectangle       20.0  1.000000e+01  1.233333e+02         3.000000e+02   \n",
       "Error0               0.0  5.861978e-14  8.333337e-07         2.500002e-06   \n",
       "Theoretical_error0   0.0  7.500000e-03  3.000000e-02         2.550000e-01   \n",
       "RightRectangle      20.0  1.000000e+01  1.233333e+02         3.000000e+02   \n",
       "Error1               0.0  8.171241e-14  8.333337e-07         2.500002e-06   \n",
       "Theoretical_error1   0.0  7.500000e-03  3.000000e-02         2.550000e-01   \n",
       "MiddleRectangle     20.0  1.000000e+01  1.233333e+02         3.000000e+02   \n",
       "Error2               0.0  5.329071e-14  5.542233e-13         8.526513e-13   \n",
       "Theoretical_error2   0.0  0.000000e+00  2.083333e-07         3.750000e-06   \n",
       "Trapeze             20.0  1.000000e+01  1.233333e+02         3.000000e+02   \n",
       "Error3               0.0  5.861978e-14  7.815970e-13         6.252776e-13   \n",
       "Theoretical_error3   0.0  0.000000e+00  4.166667e-07         7.500000e-06   \n",
       "Simpson             20.0  1.000000e+01  1.233333e+02         3.000000e+02   \n",
       "Error4               0.0  3.730349e-14  6.536993e-13         1.136868e-12   \n",
       "Theoretical_error4   0.0  0.000000e+00  0.000000e+00         0.000000e+00   \n",
       "\n",
       "                    sin3x + cos2x       exp^(x)  2*x^5 + 3 * x  \n",
       "LeftRectangle       -5.440212e-01  1.484064e+02   4.614975e-11  \n",
       "Error0               9.067020e-08  6.183601e-06   4.614975e-11  \n",
       "Theoretical_error0   1.197261e-02  3.710329e-01   1.563250e+01  \n",
       "RightRectangle      -5.440212e-01  1.484064e+02   2.962519e-11  \n",
       "Error1               9.067020e-08  6.183601e-06   2.962519e-11  \n",
       "Theoretical_error1   1.197261e-02  3.710329e-01   1.563250e+01  \n",
       "MiddleRectangle     -5.440211e-01  1.484064e+02  -2.977737e-11  \n",
       "Error2               1.498801e-14  2.273737e-13   2.977737e-11  \n",
       "Theoretical_error2   1.346018e-06  1.545970e-05   5.208333e-04  \n",
       "Trapeze             -5.440211e-01  1.484064e+02   7.753265e-11  \n",
       "Error3               1.021405e-14  2.842171e-14   7.753265e-11  \n",
       "Theoretical_error3   2.692035e-06  3.091941e-05   1.041667e-03  \n",
       "Simpson             -5.440211e-01  1.484064e+02  -3.266898e-12  \n",
       "Error4               3.774758e-15  0.000000e+00   3.266898e-12  \n",
       "Theoretical_error4   1.937997e-14  3.220772e-14   2.604167e-13  "
      ]
     },
     "execution_count": 96,
     "metadata": {},
     "output_type": "execute_result"
    }
   ],
   "source": [
    "dfr2 = pd.concat([df0, df1, df2, df3, df4])\n",
    "dfr2"
   ]
  },
  {
   "cell_type": "markdown",
   "id": "f2d080e8",
   "metadata": {},
   "source": [
    "## Итого"
   ]
  },
  {
   "cell_type": "markdown",
   "id": "aceac475",
   "metadata": {},
   "source": [
    "##  КФ"
   ]
  },
  {
   "cell_type": "code",
   "execution_count": 97,
   "id": "1f2189e6",
   "metadata": {},
   "outputs": [
    {
     "data": {
      "text/html": [
       "<div>\n",
       "<style scoped>\n",
       "    .dataframe tbody tr th:only-of-type {\n",
       "        vertical-align: middle;\n",
       "    }\n",
       "\n",
       "    .dataframe tbody tr th {\n",
       "        vertical-align: top;\n",
       "    }\n",
       "\n",
       "    .dataframe thead th {\n",
       "        text-align: right;\n",
       "    }\n",
       "</style>\n",
       "<table border=\"1\" class=\"dataframe\">\n",
       "  <thead>\n",
       "    <tr style=\"text-align: right;\">\n",
       "      <th></th>\n",
       "      <th>2</th>\n",
       "      <th>3x + 1</th>\n",
       "      <th>x^2 + 2x + 4</th>\n",
       "      <th>x^3 + 3x^2 - 3x + 5</th>\n",
       "      <th>sin3x + cos2x</th>\n",
       "      <th>exp^(x)</th>\n",
       "      <th>2*x^5 + 3 * x</th>\n",
       "    </tr>\n",
       "  </thead>\n",
       "  <tbody>\n",
       "    <tr>\n",
       "      <th>LeftRectangle</th>\n",
       "      <td>20.0</td>\n",
       "      <td>-1.400000e+02</td>\n",
       "      <td>1.900000e+02</td>\n",
       "      <td>-3.000000e+02</td>\n",
       "      <td>-14.893594</td>\n",
       "      <td>0.067379</td>\n",
       "      <td>-62650.0</td>\n",
       "    </tr>\n",
       "    <tr>\n",
       "      <th>Error0</th>\n",
       "      <td>0.0</td>\n",
       "      <td>1.500000e+02</td>\n",
       "      <td>6.666667e+01</td>\n",
       "      <td>6.000000e+02</td>\n",
       "      <td>14.349573</td>\n",
       "      <td>148.339042</td>\n",
       "      <td>62650.0</td>\n",
       "    </tr>\n",
       "    <tr>\n",
       "      <th>RightRectangle</th>\n",
       "      <td>20.0</td>\n",
       "      <td>1.600000e+02</td>\n",
       "      <td>3.900000e+02</td>\n",
       "      <td>1.900000e+03</td>\n",
       "      <td>-1.887837</td>\n",
       "      <td>1484.131591</td>\n",
       "      <td>62650.0</td>\n",
       "    </tr>\n",
       "    <tr>\n",
       "      <th>Error1</th>\n",
       "      <td>0.0</td>\n",
       "      <td>1.500000e+02</td>\n",
       "      <td>2.666667e+02</td>\n",
       "      <td>1.600000e+03</td>\n",
       "      <td>1.343816</td>\n",
       "      <td>1335.725170</td>\n",
       "      <td>62650.0</td>\n",
       "    </tr>\n",
       "    <tr>\n",
       "      <th>MiddleRectangle</th>\n",
       "      <td>20.0</td>\n",
       "      <td>1.000000e+01</td>\n",
       "      <td>4.000000e+01</td>\n",
       "      <td>5.000000e+01</td>\n",
       "      <td>10.000000</td>\n",
       "      <td>10.000000</td>\n",
       "      <td>0.0</td>\n",
       "    </tr>\n",
       "    <tr>\n",
       "      <th>Error2</th>\n",
       "      <td>0.0</td>\n",
       "      <td>0.000000e+00</td>\n",
       "      <td>8.333333e+01</td>\n",
       "      <td>2.500000e+02</td>\n",
       "      <td>10.544021</td>\n",
       "      <td>138.406421</td>\n",
       "      <td>0.0</td>\n",
       "    </tr>\n",
       "    <tr>\n",
       "      <th>Trapeze</th>\n",
       "      <td>20.0</td>\n",
       "      <td>1.000000e+01</td>\n",
       "      <td>2.900000e+02</td>\n",
       "      <td>8.000000e+02</td>\n",
       "      <td>-8.390715</td>\n",
       "      <td>742.099485</td>\n",
       "      <td>0.0</td>\n",
       "    </tr>\n",
       "    <tr>\n",
       "      <th>Error3</th>\n",
       "      <td>0.0</td>\n",
       "      <td>0.000000e+00</td>\n",
       "      <td>1.666667e+02</td>\n",
       "      <td>5.000000e+02</td>\n",
       "      <td>7.846694</td>\n",
       "      <td>593.693064</td>\n",
       "      <td>0.0</td>\n",
       "    </tr>\n",
       "    <tr>\n",
       "      <th>Simpson</th>\n",
       "      <td>20.0</td>\n",
       "      <td>1.000000e+01</td>\n",
       "      <td>1.233333e+02</td>\n",
       "      <td>3.000000e+02</td>\n",
       "      <td>3.869762</td>\n",
       "      <td>254.033162</td>\n",
       "      <td>0.0</td>\n",
       "    </tr>\n",
       "    <tr>\n",
       "      <th>Error4</th>\n",
       "      <td>0.0</td>\n",
       "      <td>0.000000e+00</td>\n",
       "      <td>2.842171e-14</td>\n",
       "      <td>0.000000e+00</td>\n",
       "      <td>4.413783</td>\n",
       "      <td>105.626741</td>\n",
       "      <td>0.0</td>\n",
       "    </tr>\n",
       "    <tr>\n",
       "      <th>method3/8</th>\n",
       "      <td>20.0</td>\n",
       "      <td>1.000000e+01</td>\n",
       "      <td>1.233333e+02</td>\n",
       "      <td>3.000000e+02</td>\n",
       "      <td>-9.460234</td>\n",
       "      <td>206.087493</td>\n",
       "      <td>0.0</td>\n",
       "    </tr>\n",
       "    <tr>\n",
       "      <th>Error5</th>\n",
       "      <td>0.0</td>\n",
       "      <td>3.552714e-15</td>\n",
       "      <td>2.842171e-14</td>\n",
       "      <td>5.684342e-14</td>\n",
       "      <td>8.916213</td>\n",
       "      <td>57.681071</td>\n",
       "      <td>0.0</td>\n",
       "    </tr>\n",
       "  </tbody>\n",
       "</table>\n",
       "</div>"
      ],
      "text/plain": [
       "                    2        3x + 1  x^2 + 2x + 4  x^3 + 3x^2 - 3x + 5  \\\n",
       "LeftRectangle    20.0 -1.400000e+02  1.900000e+02        -3.000000e+02   \n",
       "Error0            0.0  1.500000e+02  6.666667e+01         6.000000e+02   \n",
       "RightRectangle   20.0  1.600000e+02  3.900000e+02         1.900000e+03   \n",
       "Error1            0.0  1.500000e+02  2.666667e+02         1.600000e+03   \n",
       "MiddleRectangle  20.0  1.000000e+01  4.000000e+01         5.000000e+01   \n",
       "Error2            0.0  0.000000e+00  8.333333e+01         2.500000e+02   \n",
       "Trapeze          20.0  1.000000e+01  2.900000e+02         8.000000e+02   \n",
       "Error3            0.0  0.000000e+00  1.666667e+02         5.000000e+02   \n",
       "Simpson          20.0  1.000000e+01  1.233333e+02         3.000000e+02   \n",
       "Error4            0.0  0.000000e+00  2.842171e-14         0.000000e+00   \n",
       "method3/8        20.0  1.000000e+01  1.233333e+02         3.000000e+02   \n",
       "Error5            0.0  3.552714e-15  2.842171e-14         5.684342e-14   \n",
       "\n",
       "                 sin3x + cos2x      exp^(x)  2*x^5 + 3 * x  \n",
       "LeftRectangle       -14.893594     0.067379       -62650.0  \n",
       "Error0               14.349573   148.339042        62650.0  \n",
       "RightRectangle       -1.887837  1484.131591        62650.0  \n",
       "Error1                1.343816  1335.725170        62650.0  \n",
       "MiddleRectangle      10.000000    10.000000            0.0  \n",
       "Error2               10.544021   138.406421            0.0  \n",
       "Trapeze              -8.390715   742.099485            0.0  \n",
       "Error3                7.846694   593.693064            0.0  \n",
       "Simpson               3.869762   254.033162            0.0  \n",
       "Error4                4.413783   105.626741            0.0  \n",
       "method3/8            -9.460234   206.087493            0.0  \n",
       "Error5                8.916213    57.681071            0.0  "
      ]
     },
     "execution_count": 97,
     "metadata": {},
     "output_type": "execute_result"
    }
   ],
   "source": [
    "dfr"
   ]
  },
  {
   "cell_type": "markdown",
   "id": "4613bd03",
   "metadata": {},
   "source": [
    "## СКФ"
   ]
  },
  {
   "cell_type": "code",
   "execution_count": 98,
   "id": "f11e6def",
   "metadata": {},
   "outputs": [
    {
     "data": {
      "text/html": [
       "<div>\n",
       "<style scoped>\n",
       "    .dataframe tbody tr th:only-of-type {\n",
       "        vertical-align: middle;\n",
       "    }\n",
       "\n",
       "    .dataframe tbody tr th {\n",
       "        vertical-align: top;\n",
       "    }\n",
       "\n",
       "    .dataframe thead th {\n",
       "        text-align: right;\n",
       "    }\n",
       "</style>\n",
       "<table border=\"1\" class=\"dataframe\">\n",
       "  <thead>\n",
       "    <tr style=\"text-align: right;\">\n",
       "      <th></th>\n",
       "      <th>2</th>\n",
       "      <th>3x + 1</th>\n",
       "      <th>x^2 + 2x + 4</th>\n",
       "      <th>x^3 + 3x^2 - 3x + 5</th>\n",
       "      <th>sin3x + cos2x</th>\n",
       "      <th>exp^(x)</th>\n",
       "      <th>2*x^5 + 3 * x</th>\n",
       "    </tr>\n",
       "  </thead>\n",
       "  <tbody>\n",
       "    <tr>\n",
       "      <th>LeftRectangle</th>\n",
       "      <td>20.0</td>\n",
       "      <td>9.985000e+00</td>\n",
       "      <td>1.233233e+02</td>\n",
       "      <td>2.998900e+02</td>\n",
       "      <td>-5.446712e-01</td>\n",
       "      <td>1.483322e+02</td>\n",
       "      <td>-6.265000e+00</td>\n",
       "    </tr>\n",
       "    <tr>\n",
       "      <th>Error0</th>\n",
       "      <td>0.0</td>\n",
       "      <td>1.500000e-02</td>\n",
       "      <td>9.998333e-03</td>\n",
       "      <td>1.099950e-01</td>\n",
       "      <td>6.501065e-04</td>\n",
       "      <td>7.419084e-02</td>\n",
       "      <td>6.265000e+00</td>\n",
       "    </tr>\n",
       "    <tr>\n",
       "      <th>Theoretical_error0</th>\n",
       "      <td>0.0</td>\n",
       "      <td>1.500000e-02</td>\n",
       "      <td>6.000000e-02</td>\n",
       "      <td>5.100000e-01</td>\n",
       "      <td>2.394522e-02</td>\n",
       "      <td>7.420658e-01</td>\n",
       "      <td>3.126500e+01</td>\n",
       "    </tr>\n",
       "    <tr>\n",
       "      <th>RightRectangle</th>\n",
       "      <td>20.0</td>\n",
       "      <td>1.001500e+01</td>\n",
       "      <td>1.233433e+02</td>\n",
       "      <td>3.001100e+02</td>\n",
       "      <td>-5.433706e-01</td>\n",
       "      <td>1.484806e+02</td>\n",
       "      <td>6.265000e+00</td>\n",
       "    </tr>\n",
       "    <tr>\n",
       "      <th>Error1</th>\n",
       "      <td>0.0</td>\n",
       "      <td>1.500000e-02</td>\n",
       "      <td>1.000167e-02</td>\n",
       "      <td>1.100050e-01</td>\n",
       "      <td>6.504692e-04</td>\n",
       "      <td>7.421558e-02</td>\n",
       "      <td>6.265000e+00</td>\n",
       "    </tr>\n",
       "    <tr>\n",
       "      <th>Theoretical_error1</th>\n",
       "      <td>0.0</td>\n",
       "      <td>1.500000e-02</td>\n",
       "      <td>6.000000e-02</td>\n",
       "      <td>5.100000e-01</td>\n",
       "      <td>2.394522e-02</td>\n",
       "      <td>7.420658e-01</td>\n",
       "      <td>3.126500e+01</td>\n",
       "    </tr>\n",
       "    <tr>\n",
       "      <th>MiddleRectangle</th>\n",
       "      <td>20.0</td>\n",
       "      <td>1.000000e+01</td>\n",
       "      <td>1.233333e+02</td>\n",
       "      <td>3.000000e+02</td>\n",
       "      <td>-5.440212e-01</td>\n",
       "      <td>1.484064e+02</td>\n",
       "      <td>-2.780887e-12</td>\n",
       "    </tr>\n",
       "    <tr>\n",
       "      <th>Error2</th>\n",
       "      <td>0.0</td>\n",
       "      <td>1.776357e-14</td>\n",
       "      <td>8.333334e-07</td>\n",
       "      <td>2.500000e-06</td>\n",
       "      <td>9.067020e-08</td>\n",
       "      <td>6.183601e-06</td>\n",
       "      <td>2.780887e-12</td>\n",
       "    </tr>\n",
       "    <tr>\n",
       "      <th>Theoretical_error2</th>\n",
       "      <td>0.0</td>\n",
       "      <td>0.000000e+00</td>\n",
       "      <td>8.333333e-07</td>\n",
       "      <td>1.500000e-05</td>\n",
       "      <td>5.384071e-06</td>\n",
       "      <td>6.183882e-05</td>\n",
       "      <td>2.083333e-03</td>\n",
       "    </tr>\n",
       "    <tr>\n",
       "      <th>Trapeze</th>\n",
       "      <td>20.0</td>\n",
       "      <td>1.000000e+01</td>\n",
       "      <td>1.233333e+02</td>\n",
       "      <td>3.000000e+02</td>\n",
       "      <td>-5.440209e-01</td>\n",
       "      <td>1.484064e+02</td>\n",
       "      <td>-2.138734e-12</td>\n",
       "    </tr>\n",
       "    <tr>\n",
       "      <th>Error3</th>\n",
       "      <td>0.0</td>\n",
       "      <td>1.776357e-14</td>\n",
       "      <td>1.666667e-06</td>\n",
       "      <td>5.000000e-06</td>\n",
       "      <td>1.813404e-07</td>\n",
       "      <td>1.236720e-05</td>\n",
       "      <td>2.138734e-12</td>\n",
       "    </tr>\n",
       "    <tr>\n",
       "      <th>Theoretical_error3</th>\n",
       "      <td>0.0</td>\n",
       "      <td>0.000000e+00</td>\n",
       "      <td>1.666667e-06</td>\n",
       "      <td>3.000000e-05</td>\n",
       "      <td>1.076814e-05</td>\n",
       "      <td>1.236776e-04</td>\n",
       "      <td>4.166667e-03</td>\n",
       "    </tr>\n",
       "    <tr>\n",
       "      <th>Simpson</th>\n",
       "      <td>20.0</td>\n",
       "      <td>1.000000e+01</td>\n",
       "      <td>1.233333e+02</td>\n",
       "      <td>3.000000e+02</td>\n",
       "      <td>-5.440211e-01</td>\n",
       "      <td>1.484064e+02</td>\n",
       "      <td>-1.478906e-11</td>\n",
       "    </tr>\n",
       "    <tr>\n",
       "      <th>Error4</th>\n",
       "      <td>0.0</td>\n",
       "      <td>1.421085e-14</td>\n",
       "      <td>2.273737e-13</td>\n",
       "      <td>3.410605e-13</td>\n",
       "      <td>7.660539e-15</td>\n",
       "      <td>5.684342e-14</td>\n",
       "      <td>1.478906e-11</td>\n",
       "    </tr>\n",
       "    <tr>\n",
       "      <th>Theoretical_error4</th>\n",
       "      <td>0.0</td>\n",
       "      <td>0.000000e+00</td>\n",
       "      <td>0.000000e+00</td>\n",
       "      <td>0.000000e+00</td>\n",
       "      <td>3.100795e-13</td>\n",
       "      <td>5.153235e-13</td>\n",
       "      <td>4.166667e-12</td>\n",
       "    </tr>\n",
       "  </tbody>\n",
       "</table>\n",
       "</div>"
      ],
      "text/plain": [
       "                       2        3x + 1  x^2 + 2x + 4  x^3 + 3x^2 - 3x + 5  \\\n",
       "LeftRectangle       20.0  9.985000e+00  1.233233e+02         2.998900e+02   \n",
       "Error0               0.0  1.500000e-02  9.998333e-03         1.099950e-01   \n",
       "Theoretical_error0   0.0  1.500000e-02  6.000000e-02         5.100000e-01   \n",
       "RightRectangle      20.0  1.001500e+01  1.233433e+02         3.001100e+02   \n",
       "Error1               0.0  1.500000e-02  1.000167e-02         1.100050e-01   \n",
       "Theoretical_error1   0.0  1.500000e-02  6.000000e-02         5.100000e-01   \n",
       "MiddleRectangle     20.0  1.000000e+01  1.233333e+02         3.000000e+02   \n",
       "Error2               0.0  1.776357e-14  8.333334e-07         2.500000e-06   \n",
       "Theoretical_error2   0.0  0.000000e+00  8.333333e-07         1.500000e-05   \n",
       "Trapeze             20.0  1.000000e+01  1.233333e+02         3.000000e+02   \n",
       "Error3               0.0  1.776357e-14  1.666667e-06         5.000000e-06   \n",
       "Theoretical_error3   0.0  0.000000e+00  1.666667e-06         3.000000e-05   \n",
       "Simpson             20.0  1.000000e+01  1.233333e+02         3.000000e+02   \n",
       "Error4               0.0  1.421085e-14  2.273737e-13         3.410605e-13   \n",
       "Theoretical_error4   0.0  0.000000e+00  0.000000e+00         0.000000e+00   \n",
       "\n",
       "                    sin3x + cos2x       exp^(x)  2*x^5 + 3 * x  \n",
       "LeftRectangle       -5.446712e-01  1.483322e+02  -6.265000e+00  \n",
       "Error0               6.501065e-04  7.419084e-02   6.265000e+00  \n",
       "Theoretical_error0   2.394522e-02  7.420658e-01   3.126500e+01  \n",
       "RightRectangle      -5.433706e-01  1.484806e+02   6.265000e+00  \n",
       "Error1               6.504692e-04  7.421558e-02   6.265000e+00  \n",
       "Theoretical_error1   2.394522e-02  7.420658e-01   3.126500e+01  \n",
       "MiddleRectangle     -5.440212e-01  1.484064e+02  -2.780887e-12  \n",
       "Error2               9.067020e-08  6.183601e-06   2.780887e-12  \n",
       "Theoretical_error2   5.384071e-06  6.183882e-05   2.083333e-03  \n",
       "Trapeze             -5.440209e-01  1.484064e+02  -2.138734e-12  \n",
       "Error3               1.813404e-07  1.236720e-05   2.138734e-12  \n",
       "Theoretical_error3   1.076814e-05  1.236776e-04   4.166667e-03  \n",
       "Simpson             -5.440211e-01  1.484064e+02  -1.478906e-11  \n",
       "Error4               7.660539e-15  5.684342e-14   1.478906e-11  \n",
       "Theoretical_error4   3.100795e-13  5.153235e-13   4.166667e-12  "
      ]
     },
     "execution_count": 98,
     "metadata": {},
     "output_type": "execute_result"
    }
   ],
   "source": [
    "dfr1"
   ]
  },
  {
   "cell_type": "markdown",
   "id": "bb0b57cd",
   "metadata": {},
   "source": [
    "## СКФ с методом Рунге"
   ]
  },
  {
   "cell_type": "code",
   "execution_count": 99,
   "id": "0573bdf1",
   "metadata": {},
   "outputs": [
    {
     "data": {
      "text/html": [
       "<div>\n",
       "<style scoped>\n",
       "    .dataframe tbody tr th:only-of-type {\n",
       "        vertical-align: middle;\n",
       "    }\n",
       "\n",
       "    .dataframe tbody tr th {\n",
       "        vertical-align: top;\n",
       "    }\n",
       "\n",
       "    .dataframe thead th {\n",
       "        text-align: right;\n",
       "    }\n",
       "</style>\n",
       "<table border=\"1\" class=\"dataframe\">\n",
       "  <thead>\n",
       "    <tr style=\"text-align: right;\">\n",
       "      <th></th>\n",
       "      <th>2</th>\n",
       "      <th>3x + 1</th>\n",
       "      <th>x^2 + 2x + 4</th>\n",
       "      <th>x^3 + 3x^2 - 3x + 5</th>\n",
       "      <th>sin3x + cos2x</th>\n",
       "      <th>exp^(x)</th>\n",
       "      <th>2*x^5 + 3 * x</th>\n",
       "    </tr>\n",
       "  </thead>\n",
       "  <tbody>\n",
       "    <tr>\n",
       "      <th>LeftRectangle</th>\n",
       "      <td>20.0</td>\n",
       "      <td>1.000000e+01</td>\n",
       "      <td>1.233333e+02</td>\n",
       "      <td>3.000000e+02</td>\n",
       "      <td>-5.440212e-01</td>\n",
       "      <td>1.484064e+02</td>\n",
       "      <td>4.614975e-11</td>\n",
       "    </tr>\n",
       "    <tr>\n",
       "      <th>Error0</th>\n",
       "      <td>0.0</td>\n",
       "      <td>5.861978e-14</td>\n",
       "      <td>8.333337e-07</td>\n",
       "      <td>2.500002e-06</td>\n",
       "      <td>9.067020e-08</td>\n",
       "      <td>6.183601e-06</td>\n",
       "      <td>4.614975e-11</td>\n",
       "    </tr>\n",
       "    <tr>\n",
       "      <th>Theoretical_error0</th>\n",
       "      <td>0.0</td>\n",
       "      <td>7.500000e-03</td>\n",
       "      <td>3.000000e-02</td>\n",
       "      <td>2.550000e-01</td>\n",
       "      <td>1.197261e-02</td>\n",
       "      <td>3.710329e-01</td>\n",
       "      <td>1.563250e+01</td>\n",
       "    </tr>\n",
       "    <tr>\n",
       "      <th>RightRectangle</th>\n",
       "      <td>20.0</td>\n",
       "      <td>1.000000e+01</td>\n",
       "      <td>1.233333e+02</td>\n",
       "      <td>3.000000e+02</td>\n",
       "      <td>-5.440212e-01</td>\n",
       "      <td>1.484064e+02</td>\n",
       "      <td>2.962519e-11</td>\n",
       "    </tr>\n",
       "    <tr>\n",
       "      <th>Error1</th>\n",
       "      <td>0.0</td>\n",
       "      <td>8.171241e-14</td>\n",
       "      <td>8.333337e-07</td>\n",
       "      <td>2.500002e-06</td>\n",
       "      <td>9.067020e-08</td>\n",
       "      <td>6.183601e-06</td>\n",
       "      <td>2.962519e-11</td>\n",
       "    </tr>\n",
       "    <tr>\n",
       "      <th>Theoretical_error1</th>\n",
       "      <td>0.0</td>\n",
       "      <td>7.500000e-03</td>\n",
       "      <td>3.000000e-02</td>\n",
       "      <td>2.550000e-01</td>\n",
       "      <td>1.197261e-02</td>\n",
       "      <td>3.710329e-01</td>\n",
       "      <td>1.563250e+01</td>\n",
       "    </tr>\n",
       "    <tr>\n",
       "      <th>MiddleRectangle</th>\n",
       "      <td>20.0</td>\n",
       "      <td>1.000000e+01</td>\n",
       "      <td>1.233333e+02</td>\n",
       "      <td>3.000000e+02</td>\n",
       "      <td>-5.440211e-01</td>\n",
       "      <td>1.484064e+02</td>\n",
       "      <td>-2.977737e-11</td>\n",
       "    </tr>\n",
       "    <tr>\n",
       "      <th>Error2</th>\n",
       "      <td>0.0</td>\n",
       "      <td>5.329071e-14</td>\n",
       "      <td>5.542233e-13</td>\n",
       "      <td>8.526513e-13</td>\n",
       "      <td>1.498801e-14</td>\n",
       "      <td>2.273737e-13</td>\n",
       "      <td>2.977737e-11</td>\n",
       "    </tr>\n",
       "    <tr>\n",
       "      <th>Theoretical_error2</th>\n",
       "      <td>0.0</td>\n",
       "      <td>0.000000e+00</td>\n",
       "      <td>2.083333e-07</td>\n",
       "      <td>3.750000e-06</td>\n",
       "      <td>1.346018e-06</td>\n",
       "      <td>1.545970e-05</td>\n",
       "      <td>5.208333e-04</td>\n",
       "    </tr>\n",
       "    <tr>\n",
       "      <th>Trapeze</th>\n",
       "      <td>20.0</td>\n",
       "      <td>1.000000e+01</td>\n",
       "      <td>1.233333e+02</td>\n",
       "      <td>3.000000e+02</td>\n",
       "      <td>-5.440211e-01</td>\n",
       "      <td>1.484064e+02</td>\n",
       "      <td>7.753265e-11</td>\n",
       "    </tr>\n",
       "    <tr>\n",
       "      <th>Error3</th>\n",
       "      <td>0.0</td>\n",
       "      <td>5.861978e-14</td>\n",
       "      <td>7.815970e-13</td>\n",
       "      <td>6.252776e-13</td>\n",
       "      <td>1.021405e-14</td>\n",
       "      <td>2.842171e-14</td>\n",
       "      <td>7.753265e-11</td>\n",
       "    </tr>\n",
       "    <tr>\n",
       "      <th>Theoretical_error3</th>\n",
       "      <td>0.0</td>\n",
       "      <td>0.000000e+00</td>\n",
       "      <td>4.166667e-07</td>\n",
       "      <td>7.500000e-06</td>\n",
       "      <td>2.692035e-06</td>\n",
       "      <td>3.091941e-05</td>\n",
       "      <td>1.041667e-03</td>\n",
       "    </tr>\n",
       "    <tr>\n",
       "      <th>Simpson</th>\n",
       "      <td>20.0</td>\n",
       "      <td>1.000000e+01</td>\n",
       "      <td>1.233333e+02</td>\n",
       "      <td>3.000000e+02</td>\n",
       "      <td>-5.440211e-01</td>\n",
       "      <td>1.484064e+02</td>\n",
       "      <td>-3.266898e-12</td>\n",
       "    </tr>\n",
       "    <tr>\n",
       "      <th>Error4</th>\n",
       "      <td>0.0</td>\n",
       "      <td>3.730349e-14</td>\n",
       "      <td>6.536993e-13</td>\n",
       "      <td>1.136868e-12</td>\n",
       "      <td>3.774758e-15</td>\n",
       "      <td>0.000000e+00</td>\n",
       "      <td>3.266898e-12</td>\n",
       "    </tr>\n",
       "    <tr>\n",
       "      <th>Theoretical_error4</th>\n",
       "      <td>0.0</td>\n",
       "      <td>0.000000e+00</td>\n",
       "      <td>0.000000e+00</td>\n",
       "      <td>0.000000e+00</td>\n",
       "      <td>1.937997e-14</td>\n",
       "      <td>3.220772e-14</td>\n",
       "      <td>2.604167e-13</td>\n",
       "    </tr>\n",
       "  </tbody>\n",
       "</table>\n",
       "</div>"
      ],
      "text/plain": [
       "                       2        3x + 1  x^2 + 2x + 4  x^3 + 3x^2 - 3x + 5  \\\n",
       "LeftRectangle       20.0  1.000000e+01  1.233333e+02         3.000000e+02   \n",
       "Error0               0.0  5.861978e-14  8.333337e-07         2.500002e-06   \n",
       "Theoretical_error0   0.0  7.500000e-03  3.000000e-02         2.550000e-01   \n",
       "RightRectangle      20.0  1.000000e+01  1.233333e+02         3.000000e+02   \n",
       "Error1               0.0  8.171241e-14  8.333337e-07         2.500002e-06   \n",
       "Theoretical_error1   0.0  7.500000e-03  3.000000e-02         2.550000e-01   \n",
       "MiddleRectangle     20.0  1.000000e+01  1.233333e+02         3.000000e+02   \n",
       "Error2               0.0  5.329071e-14  5.542233e-13         8.526513e-13   \n",
       "Theoretical_error2   0.0  0.000000e+00  2.083333e-07         3.750000e-06   \n",
       "Trapeze             20.0  1.000000e+01  1.233333e+02         3.000000e+02   \n",
       "Error3               0.0  5.861978e-14  7.815970e-13         6.252776e-13   \n",
       "Theoretical_error3   0.0  0.000000e+00  4.166667e-07         7.500000e-06   \n",
       "Simpson             20.0  1.000000e+01  1.233333e+02         3.000000e+02   \n",
       "Error4               0.0  3.730349e-14  6.536993e-13         1.136868e-12   \n",
       "Theoretical_error4   0.0  0.000000e+00  0.000000e+00         0.000000e+00   \n",
       "\n",
       "                    sin3x + cos2x       exp^(x)  2*x^5 + 3 * x  \n",
       "LeftRectangle       -5.440212e-01  1.484064e+02   4.614975e-11  \n",
       "Error0               9.067020e-08  6.183601e-06   4.614975e-11  \n",
       "Theoretical_error0   1.197261e-02  3.710329e-01   1.563250e+01  \n",
       "RightRectangle      -5.440212e-01  1.484064e+02   2.962519e-11  \n",
       "Error1               9.067020e-08  6.183601e-06   2.962519e-11  \n",
       "Theoretical_error1   1.197261e-02  3.710329e-01   1.563250e+01  \n",
       "MiddleRectangle     -5.440211e-01  1.484064e+02  -2.977737e-11  \n",
       "Error2               1.498801e-14  2.273737e-13   2.977737e-11  \n",
       "Theoretical_error2   1.346018e-06  1.545970e-05   5.208333e-04  \n",
       "Trapeze             -5.440211e-01  1.484064e+02   7.753265e-11  \n",
       "Error3               1.021405e-14  2.842171e-14   7.753265e-11  \n",
       "Theoretical_error3   2.692035e-06  3.091941e-05   1.041667e-03  \n",
       "Simpson             -5.440211e-01  1.484064e+02  -3.266898e-12  \n",
       "Error4               3.774758e-15  0.000000e+00   3.266898e-12  \n",
       "Theoretical_error4   1.937997e-14  3.220772e-14   2.604167e-13  "
      ]
     },
     "execution_count": 99,
     "metadata": {},
     "output_type": "execute_result"
    }
   ],
   "source": [
    "dfr2"
   ]
  }
 ],
 "metadata": {
  "kernelspec": {
   "display_name": "Python 3 (ipykernel)",
   "language": "python",
   "name": "python3"
  },
  "language_info": {
   "codemirror_mode": {
    "name": "ipython",
    "version": 3
   },
   "file_extension": ".py",
   "mimetype": "text/x-python",
   "name": "python",
   "nbconvert_exporter": "python",
   "pygments_lexer": "ipython3",
   "version": "3.10.4"
  }
 },
 "nbformat": 4,
 "nbformat_minor": 5
}
